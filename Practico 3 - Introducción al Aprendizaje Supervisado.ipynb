{
 "cells": [
  {
   "cell_type": "markdown",
   "metadata": {
    "colab_type": "text",
    "id": "LFsxMdtMauwY"
   },
   "source": [
    "### Universidad Nacional de Córdoba - Facultad de Matemática, Astronomía, Física y Computación\n",
    "\n",
    "#### Diplomatura en Ciencia de Datos, Aprendizaje Automático y sus Aplicaciones 2020\n",
    "\n",
    "Búsqueda y Recomendación de Textos Legales - Análisis y Curación de Datos\n",
    "\n",
    "Mentor: Claudio Sarate"
   ]
  },
  {
   "cell_type": "markdown",
   "metadata": {
    "colab_type": "text",
    "id": "6tndFHvOJWOn"
   },
   "source": [
    "Integrantes:\n",
    "* Clara Quintana\n",
    "* Ezequiel Juarez\n",
    "* David Veisaga\n",
    "* Jorge Pérez "
   ]
  },
  {
   "cell_type": "markdown",
   "metadata": {
    "colab_type": "text",
    "id": "Z6DUCN4Cauwc"
   },
   "source": [
    "### Práctico de Introducción al Aprendizaje Automático"
   ]
  },
  {
   "cell_type": "markdown",
   "metadata": {
    "colab_type": "text",
    "id": "TjUT2z-eauwd"
   },
   "source": [
    "El objetivo de este práctico es desarrollar distintos modelos de clasificación para poder evaluar la performance y la exactitud de predicción de cada modelo."
   ]
  },
  {
   "cell_type": "markdown",
   "metadata": {
    "colab_type": "text",
    "id": "sE6B3U3Iauwe"
   },
   "source": [
    "### Requisitos iniciales"
   ]
  },
  {
   "cell_type": "markdown",
   "metadata": {
    "colab_type": "text",
    "id": "F07cHbOcauwg"
   },
   "source": [
    "El corpus debe estar ya depurado y debe poseer una columna con clases definidas previamente.\n",
    "\n",
    "Nota: es importante que la cantidad de las distintas clases sea medianamente balanceada para que el entrenamiento sea lo mas eficiente posible."
   ]
  },
  {
   "cell_type": "code",
   "execution_count": 1,
   "metadata": {
    "colab": {},
    "colab_type": "code",
    "executionInfo": {
     "elapsed": 1144,
     "status": "ok",
     "timestamp": 1597359868160,
     "user": {
      "displayName": "Jorge Pérez Villella",
      "photoUrl": "",
      "userId": "05752208885034813709"
     },
     "user_tz": 180
    },
    "id": "-tfU92ikiqqI"
   },
   "outputs": [],
   "source": [
    "import sys\n",
    "import pandas\n",
    "import matplotlib.pyplot as plt\n",
    "\n",
    "from sklearn.feature_extraction.text import CountVectorizer, TfidfVectorizer, HashingVectorizer\n",
    "from sklearn.model_selection import train_test_split, GridSearchCV\n",
    "from sklearn.pipeline import Pipeline\n",
    "from sklearn.linear_model import LogisticRegression\n",
    "from sklearn.naive_bayes import MultinomialNB\n",
    "from sklearn import ensemble\n",
    "from sklearn import svm\n",
    "from sklearn.metrics import classification_report, confusion_matrix, plot_confusion_matrix, precision_score, recall_score, accuracy_score, f1_score"
   ]
  },
  {
   "cell_type": "code",
   "execution_count": 2,
   "metadata": {
    "colab": {
     "base_uri": "https://localhost:8080/",
     "height": 120
    },
    "colab_type": "code",
    "executionInfo": {
     "elapsed": 21347,
     "status": "ok",
     "timestamp": 1597359899237,
     "user": {
      "displayName": "Jorge Pérez Villella",
      "photoUrl": "",
      "userId": "05752208885034813709"
     },
     "user_tz": 180
    },
    "id": "jRcDtV9siuxE",
    "outputId": "35d1579e-0725-4e42-a7ce-d3512cd0fe6b"
   },
   "outputs": [],
   "source": [
    "# Se verfica entorno de ejecución\n",
    "in_colab = \"google.colab\" in sys.modules\n",
    "\n",
    "if in_colab:\n",
    "    from google.colab import drive\n",
    "\n",
    "    drive.mount(\"/content/drive\")\n",
    "    BASE_DIR = \"/content/drive/My Drive/Diplo2020 Mentoria/\"\n",
    "else:\n",
    "    BASE_DIR = \"../\""
   ]
  },
  {
   "cell_type": "code",
   "execution_count": 3,
   "metadata": {
    "colab": {
     "base_uri": "https://localhost:8080/",
     "height": 197
    },
    "colab_type": "code",
    "executionInfo": {
     "elapsed": 1070,
     "status": "ok",
     "timestamp": 1597359902674,
     "user": {
      "displayName": "Jorge Pérez Villella",
      "photoUrl": "",
      "userId": "05752208885034813709"
     },
     "user_tz": 180
    },
    "id": "Ach9-FtsjKmv",
    "outputId": "93869852-ea4d-40e2-c532-59b0e927a4f6"
   },
   "outputs": [
    {
     "data": {
      "text/html": [
       "<div>\n",
       "<style scoped>\n",
       "    .dataframe tbody tr th:only-of-type {\n",
       "        vertical-align: middle;\n",
       "    }\n",
       "\n",
       "    .dataframe tbody tr th {\n",
       "        vertical-align: top;\n",
       "    }\n",
       "\n",
       "    .dataframe thead th {\n",
       "        text-align: right;\n",
       "    }\n",
       "</style>\n",
       "<table border=\"1\" class=\"dataframe\">\n",
       "  <thead>\n",
       "    <tr style=\"text-align: right;\">\n",
       "      <th></th>\n",
       "      <th>Unnamed: 0</th>\n",
       "      <th>TEXTO</th>\n",
       "      <th>DOCUMENTO</th>\n",
       "      <th>TIPO</th>\n",
       "    </tr>\n",
       "  </thead>\n",
       "  <tbody>\n",
       "    <tr>\n",
       "      <th>0</th>\n",
       "      <td>0</td>\n",
       "      <td>sala electoral comp.originaria tribunal superi...</td>\n",
       "      <td>../Datos/Electoral//A 001-2018 COOPI C MUN CAR...</td>\n",
       "      <td>AUTO</td>\n",
       "    </tr>\n",
       "    <tr>\n",
       "      <th>1</th>\n",
       "      <td>1</td>\n",
       "      <td>sala electoral comp.originaria tribunal superi...</td>\n",
       "      <td>../Datos/Electoral//A 002-2018 Denuncia R R RA...</td>\n",
       "      <td>AUTO</td>\n",
       "    </tr>\n",
       "    <tr>\n",
       "      <th>2</th>\n",
       "      <td>2</td>\n",
       "      <td>sala electoral comp.originaria tribunal superi...</td>\n",
       "      <td>../Datos/Electoral//A 003-2018 VEDIA FLORES Cr...</td>\n",
       "      <td>AUTO</td>\n",
       "    </tr>\n",
       "    <tr>\n",
       "      <th>3</th>\n",
       "      <td>3</td>\n",
       "      <td>sala electoral comp.originaria tribunal superi...</td>\n",
       "      <td>../Datos/Electoral//A 004-2018 FERNANDEZ Favio...</td>\n",
       "      <td>AUTO</td>\n",
       "    </tr>\n",
       "    <tr>\n",
       "      <th>4</th>\n",
       "      <td>4</td>\n",
       "      <td>sala electoral comp.originaria tribunal superi...</td>\n",
       "      <td>../Datos/Electoral//A 005-2018 ATANOR ADI ref.pdf</td>\n",
       "      <td>AUTO</td>\n",
       "    </tr>\n",
       "  </tbody>\n",
       "</table>\n",
       "</div>"
      ],
      "text/plain": [
       "   Unnamed: 0                                              TEXTO  \\\n",
       "0           0  sala electoral comp.originaria tribunal superi...   \n",
       "1           1  sala electoral comp.originaria tribunal superi...   \n",
       "2           2  sala electoral comp.originaria tribunal superi...   \n",
       "3           3  sala electoral comp.originaria tribunal superi...   \n",
       "4           4  sala electoral comp.originaria tribunal superi...   \n",
       "\n",
       "                                           DOCUMENTO  TIPO  \n",
       "0  ../Datos/Electoral//A 001-2018 COOPI C MUN CAR...  AUTO  \n",
       "1  ../Datos/Electoral//A 002-2018 Denuncia R R RA...  AUTO  \n",
       "2  ../Datos/Electoral//A 003-2018 VEDIA FLORES Cr...  AUTO  \n",
       "3  ../Datos/Electoral//A 004-2018 FERNANDEZ Favio...  AUTO  \n",
       "4  ../Datos/Electoral//A 005-2018 ATANOR ADI ref.pdf  AUTO  "
      ]
     },
     "execution_count": 3,
     "metadata": {},
     "output_type": "execute_result"
    }
   ],
   "source": [
    "train_data = BASE_DIR + \"corpus3.csv\"\n",
    "dataset = pandas.read_csv(train_data)\n",
    "dataset.head()"
   ]
  },
  {
   "cell_type": "code",
   "execution_count": 4,
   "metadata": {
    "colab": {
     "base_uri": "https://localhost:8080/",
     "height": 67
    },
    "colab_type": "code",
    "executionInfo": {
     "elapsed": 714,
     "status": "ok",
     "timestamp": 1597359905013,
     "user": {
      "displayName": "Jorge Pérez Villella",
      "photoUrl": "",
      "userId": "05752208885034813709"
     },
     "user_tz": 180
    },
    "id": "ZxmTeqLH4Bw2",
    "outputId": "9fbf5682-e3d3-4d44-9c4a-dce3b07a16c4"
   },
   "outputs": [
    {
     "data": {
      "text/plain": [
       "AUTO         125\n",
       "SENTENCIA     25\n",
       "Name: TIPO, dtype: int64"
      ]
     },
     "execution_count": 4,
     "metadata": {},
     "output_type": "execute_result"
    }
   ],
   "source": [
    "dataset['TIPO'].value_counts()"
   ]
  },
  {
   "cell_type": "markdown",
   "metadata": {
    "colab_type": "text",
    "id": "oKPdix9Xauwh"
   },
   "source": [
    "### Enunciado del práctico"
   ]
  },
  {
   "cell_type": "markdown",
   "metadata": {
    "colab_type": "text",
    "id": "likRo76Yauwj"
   },
   "source": [
    " ----------------------------------------------------------------------------------------------------------"
   ]
  },
  {
   "cell_type": "markdown",
   "metadata": {
    "colab_type": "text",
    "id": "i1u9Iwv3auwk"
   },
   "source": [
    "Transformar el texto en vectores numéricos utilizando scikit-learn. Los procesos de vectorización, clasificación y evaluación de performance pueden ser hechos paso a paso o mediante el uso de pipelines para mayor eficiencia."
   ]
  },
  {
   "cell_type": "markdown",
   "metadata": {
    "colab_type": "text",
    "id": "8G0hZ1UHy7x4"
   },
   "source": [
    "Scikit-learn ofrece 3 modelos de vectorización:\n",
    "\n",
    "* *CountVectorizer*: Convert a collection of text documents to a matrix of token counts\n",
    "* *TfidfVectorizer*: Convert a collection of raw documents to a matrix of TF-IDF features.\n",
    "*  *HashingVectorizer*: Convert a collection of text documents to a matrix of token occurrences\n",
    "\n",
    "Comparamos los 3 modelos usando el primer documento del corpus."
   ]
  },
  {
   "cell_type": "code",
   "execution_count": 5,
   "metadata": {
    "colab": {},
    "colab_type": "code",
    "id": "m-gUnniLz4DR"
   },
   "outputs": [],
   "source": [
    "# Texto del primer documento\n",
    "texto = dataset[0:1].TEXTO"
   ]
  },
  {
   "cell_type": "markdown",
   "metadata": {
    "colab_type": "text",
    "id": "Wp4Cs3EdyViK"
   },
   "source": [
    "*CountVectorizer*\n",
    "\n",
    "El recuento de palabras es un buen punto de partida, pero es muy básico. Un problema con los recuentos simples es que algunas palabras como “testamento” aparecerán muchas veces y sus recuentos grandes no serán muy significativos en los vectores codificados."
   ]
  },
  {
   "cell_type": "code",
   "execution_count": 6,
   "metadata": {
    "colab": {},
    "colab_type": "code",
    "id": "gW5UDhi_nCxp"
   },
   "outputs": [],
   "source": [
    "vectorizer_1 = CountVectorizer()"
   ]
  },
  {
   "cell_type": "code",
   "execution_count": 7,
   "metadata": {
    "colab": {
     "base_uri": "https://localhost:8080/",
     "height": 117
    },
    "colab_type": "code",
    "executionInfo": {
     "elapsed": 993,
     "status": "ok",
     "timestamp": 1597186415950,
     "user": {
      "displayName": "Jorge Pérez Villella",
      "photoUrl": "",
      "userId": "05752208885034813709"
     },
     "user_tz": 180
    },
    "id": "b-nNY2yonQC_",
    "outputId": "82ef2795-020a-4438-bd59-d68ca9c253d5"
   },
   "outputs": [
    {
     "data": {
      "text/plain": [
       "CountVectorizer()"
      ]
     },
     "execution_count": 7,
     "metadata": {},
     "output_type": "execute_result"
    }
   ],
   "source": [
    "# tokenizar y construir el vocabulario\n",
    "vectorizer_1.fit(texto)"
   ]
  },
  {
   "cell_type": "code",
   "execution_count": 8,
   "metadata": {
    "colab": {
     "base_uri": "https://localhost:8080/",
     "height": 53
    },
    "colab_type": "code",
    "executionInfo": {
     "elapsed": 1128,
     "status": "ok",
     "timestamp": 1597186443930,
     "user": {
      "displayName": "Jorge Pérez Villella",
      "photoUrl": "",
      "userId": "05752208885034813709"
     },
     "user_tz": 180
    },
    "id": "AozY8ICVnQ9E",
    "outputId": "6870aba9-740e-4221-beba-f651bfdbeb7c"
   },
   "outputs": [
    {
     "name": "stdout",
     "output_type": "stream",
     "text": [
      "{'sala': 663, 'electoral': 321, 'comp': 171, 'originaria': 555, 'tribunal': 741, 'superior': 705, 'protocolo': 598, 'auto': 127, 'nro': 534, 'resolución': 643, 'año': 132, '2018': 21, 'tomo': 728, 'folio': 381, 'directo': 300, 'expediente': 358, '5897764': 49, 'cooperativa': 216, 'integral': 449, 'provisión': 602, 'servicios': 678, 'públicos': 612, 'vivienda': 760, 'consumo': 203, 'villa': 755, 'carlos': 149, 'paz': 566, 'ltda': 483, 'municipalidad': 518, 'recurso': 625, 'numero': 536, 'cordoba': 219, 'vistos': 758, 'caratulados': 148, 'expte': 364, 'sac': 662, 'fs': 384, '145': 7, '155vta': 8, 'comparecen': 172, 'doctores': 308, 'julio': 470, 'isidro': 464, 'altamira': 91, 'gigena': 396, 'carolina': 150, 'representación': 638, 'actora': 67, 'interponen': 453, 'extraordinario': 366, 'federal': 374, 'términos': 744, 'artículo': 116, '14': 6, 'ley': 479, '48': 41, '197': 16, 'emanado': 325, 'fecha': 373, '16': 10, 'septiembre': 675, '2016': 20, 'resolvió': 646, 'declarar': 261, 'inadmisible': 424, 'interpuesto': 455, 'parte': 560, 'número': 537, 'doscientos': 314, 'noventa': 533, 'seis': 673, 'veintinueve': 748, 'agosto': 82, 'do': 307, 'mil': 511, 'catorce': 153, 'dictado': 294, 'cámara': 240, 'apelaciones': 100, 'civil': 165, 'comercial': 169, 'novena': 532, 'nominación': 529, 'ciudad': 164, 'cfr': 158, '131': 4, '137vta': 5, 'solicitan': 692, 'conceda': 177, 'excma': 353, 'corte': 224, 'suprema': 706, 'justicia': 475, 'nación': 521, 'dejando': 268, 'efecto': 315, 'impugnada': 419, 'consecuencia': 191, 'revoque': 655, 'sentencia': 674, '9na': 55, 'córdoba': 242, 'ratificó': 615, 'primera': 586, 'instancia': 445, 'juzgado': 476, 'conciliación': 180, 'familia': 371, 'calos': 143, 'afirman': 81, 'representada': 639, 'inició': 440, 'acción': 62, 'amparo': 93, 'medida': 504, 'cautelar': 156, 'innovar': 443, '484': 42, 'subsidiariamente': 702, 'innovativa': 444, 'objeto': 539, 'declare': 262, 'existencia': 356, 'lesión': 478, 'arbitraria': 108, 'manifiestamente': 492, 'ilegal': 411, 'derechos': 275, 'trabajar': 729, 'ejercer': 319, 'industria': 437, 'lícita': 488, 'comerciar': 170, 'asociarse': 121, 'propiedad': 596, '17': 11, 'debido': 251, 'proceso': 593, 'hace': 402, 'derecho': 274, 'defensa': 265, '18': 13, 'garantía': 391, 'innominada': 442, 'arbitrariedad': 109, 'arts': 115, '28': 30, '33': 39, 'declarando': 260, 'invalidez': 459, 'inconstitucionalidad': 428, 'ordenanza': 551, '5590': 48, 'decreto': 264, '543': 46, '02': 0, 'octubre': 544, '2012': 18, 'declara': 258, 'interés': 458, 'público': 611, 'sujeto': 704, 'expropiación': 360, 'acciones': 61, 'clase': 166, 'pertenecientes': 571, 'coopi': 217, 'consecuentemente': 192, 'condenar': 184, 'abstenerse': 57, 'tomar': 727, 'cualquier': 233, 'signifique': 684, 'ejecución': 318, 'dicha': 289, 'aducen': 77, 'integra': 448, 'cincuenta': 160, 'ciento': 159, '50': 45, 'sociedad': 688, 'gas': 392, 'siendo': 682, 'titular': 725, 'restante': 648, 'corresponden': 223, 'mencionada': 505, 'prestadora': 581, 'servicio': 677, 'natural': 522, 'partir': 563, 'me': 502, 'marzo': 499, '2003': 17, 'actividad': 66, 'regulada': 630, 'nacional': 520, '24': 23, '076': 1, 'controlada': 212, 'enargas': 327, 'luego': 485, 'repasar': 636, 'antecedentes': 96, 'causa': 154, 'detallar': 285, 'cumplimiento': 238, 'requisitos': 642, 'formales': 382, 'requeridos': 641, 'procedencia': 589, 'remedio': 635, 'desarrollan': 277, 'agravios': 84, 'sustanciales': 712, 'ocasiona': 543, 'impugnan': 421, 'entienden': 334, 'definitiva': 266, 'impide': 413, 'continuación': 207, 'debate': 246, 'relativo': 634, 'impugnación': 418, 'municipal': 517, 'promulgación': 595, 'dispuso': 305, 'permitiendo': 570, 'prosecución': 597, 'trámite': 743, 'expropiatorio': 363, 'socios': 691, 'anónima': 98, 'modificando': 514, 'resuelto': 649, 'otorgó': 557, 'concesión': 179, 'distribución': 306, 'domiciliaria': 311, 'zona': 764, 'aledañas': 88, 'orden': 549, 'admisibilidad': 72, 'sustancial': 711, 'ensayada': 332, 'acusan': 68, 'fallo': 368, 'incurre': 432, 'exceso': 351, 'ritual': 658, 'manifiesto': 494, 'ello': 323, 'atento': 125, 'máximo': 519, 'provincial': 601, 'declaró': 263, 'considerar': 198, 'tiempo': 724, 'interposición': 454, 'omitió': 546, 'adjuntar': 71, 'copia': 218, 'escrito': 338, 'contestación': 205, 'casación': 151, 'oportunamente': 547, 'articulada': 114, 'incumpliéndose': 431, 'dispuesto': 304, '402': 40, 'inc': 426, 'citan': 163, 'doctrina': 309, 'jurisprudencia': 473, 'apoyo': 106, 'postura': 577, 'denuncian': 273, 'caso': 152, 'gravedad': 397, 'institucional': 446, 'manifiestan': 493, 'resuelve': 650, 'incumplimiento': 430, 'norma': 530, 'adjetiva': 70, 'vigente': 754, 'si': 680, 'tratase': 739, 'particulares': 562, 'sólo': 716, 'afecta': 78, 'intereses': 452, 'desconociendo': 279, 'conflicto': 188, 'repercute': 637, 'habitantes': 400, 'abono': 56, 'dichos': 292, 'asimismo': 119, 'invocan': 461, 'agravio': 83, 'declaración': 259, 'improcedencia': 416, 'vía': 763, 'encontrarse': 328, 'discusión': 302, 'competencia': 173, 'comuna': 176, 'expropiar': 361, 'subrayan': 701, 'discuten': 303, 'acierto': 64, 'conveniencia': 214, 'sino': 685, 'control': 211, 'judicial': 467, 'violado': 756, 'mediante': 503, 'sociedades': 689, '19': 14, '550': 47, 'además': 69, 'añaden': 131, 'procedido': 590, 'irrazonabilidad': 463, 'ilegalidad': 412, 'habiéndose': 401, 'refieren': 629, 'considerandos': 197, 'recurrido': 623, 'surge': 710, 'lugar': 486, 'aplicarse': 104, '91': 53, '93': 54, 'seguir': 670, 'procedimiento': 591, 'marcado': 495, 'utilizó': 746, 'indebidamente': 434, 'expropiatoria': 362, 'tal': 717, 'destaca': 283, 'sr': 699, 'fiscal': 379, 'cámaras': 241, 'dictamen': 295, 'interviniente': 457, 'marginado': 496, 'dicho': 291, 'argumento': 111, 'dar': 245, 'razón': 617, 'apartamiento': 99, 'avala': 129, 'planteo': 575, 'sostiene': 698, 'pretende': 582, 'cambiar': 146, 'composición': 174, 'accionaria': 60, 'modificación': 513, 'debe': 248, 'establecido': 342, 'motivos': 516, 'cuales': 232, 'debió': 252, 'hacer': 403, 'apelación': 101, 'revocar': 654, 'tan': 720, 'manifiesta': 491, 'escapa': 337, '4915': 43, 'puede': 604, 'violar': 757, 'falta': 370, 'mayor': 501, 'finalmente': 377, 'esgrimen': 339, 'exigir': 354, 'asunto': 122, 'bajo': 133, 'examen': 347, 'amplitud': 94, 'prueba': 603, 'pretensión': 584, 'ejercida': 320, 'cuestión': 237, 'puro': 609, 'respecto': 647, 'reiteran': 633, 'diera': 297, 'inicio': 439, 'origina': 554, 'sanción': 666, 'socio': 690, 'tratándose': 740, 'diferencias': 298, 'existentes': 357, 'debía': 253, 'resolverse': 645, 'conforme': 190, '157': 9, 'imprime': 415, 'ordenándose': 552, 'correr': 221, 'traslado': 734, 'demandada': 269, 'evacuado': 344, 'solicitando': 693, 'costas': 226, 'afirma': 79, 'bien': 135, 'verifican': 750, 'habilitación': 398, 'legitimación': 477, 'temporalidad': 722, 'da': 243, 'atinente': 126, 'autonomía': 128, 'refiere': 628, 'recurrente': 622, 'efectuado': 317, 'crítica': 230, 'concreta': 182, 'razonada': 616, 'argumentos': 112, 'utilizados': 745, 'ingresado': 438, 'excepcional': 350, 'meras': 509, 'discrepancias': 301, 'pretensiones': 583, 'invocando': 462, 'supuestas': 708, 'injusticias': 441, 'ninguna': 526, 'manera': 489, 'ende': 330, 'modo': 515, 'alguno': 90, 'subraya': 700, 'presente': 578, 'resulta': 651, 'sustancialmente': 713, 'improcedente': 417, 'añade': 130, 'revocación': 653, 'debidamente': 250, 'fundada': 386, 'solo': 694, 'hechos': 405, 'referido': 627, 'aplicable': 102, 'cita': 162, 'dogmática': 310, 'insustancial': 447, 'puntualiza': 608, 'tampoco': 719, 'verifica': 749, 'especie': 340, 'denunciada': 272, 'acredita': 65, 'extremo': 367, 'induditable': 436, 'deviniendo': 288, 'queja': 613, 'aduce': 76, 'pueden': 605, 'recibirse': 620, 'demás': 271, 'invocados': 460, 'obviado': 542, 'evidenciar': 346, 'vicios': 753, 'permitan': 569, 'visualizar': 759, 'incorrección': 429, 'viabilidad': 752, 'alterar': 92, 'decidido': 254, 'contraponiendo': 208, 'desvían': 284, 'tratamiento': 737, 'específico': 341, 'brindado': 138, 'planteada': 573, 'mera': 508, 'enunciación': 335, 'rango': 614, 'constitucional': 199, 'suficiente': 703, 'demostrar': 270, 'configuración': 186, 'fojas': 380, '175': 12, 'ordena': 550, 'pasar': 565, 'presentes': 579, 'despacho': 282, 'fine': 378, 'resolver': 644, 'considerando': 196, 'sido': 681, 'capacidad': 147, 'recurrir': 624, 'asimilable': 118, 'dictada': 293, 'órgano': 765, 'erigido': 336, 'supremo': 707, 'constitución': 201, 'provincia': 600, 'cuanto': 234, 'admite': 74, 'revisión': 652, 'alguna': 89, 'local': 481, '256': 27, '257': 28, 'cc': 157, 'cpccn': 227, 'corresponde': 222, 'analizar': 95, 'satisface': 667, 'recaudos': 619, 'necesarios': 525, 'ii': 410, 'trata': 735, 'fin': 376, 'naturaleza': 523, 'traducidos': 730, 'nombre': 528, 'cuya': 239, 'aplicación': 103, 'hacerse': 404, 'tratando': 738, 'desnaturalizar': 281, 'función': 385, 'so': 686, 'riesgo': 657, 'convertirlo': 215, 'nueva': 535, 'ordinaria': 553, 'pleitos': 576, 'tramitan': 731, 'tribunales': 742, 'país': 567, 'cabe': 139, 'mencionar': 507, 'configura': 185, 'correcta': 220, 'fundamentación': 387, 'afirmación': 80, 'determinada': 286, 'solución': 695, 'jurídica': 474, 'constituya': 202, 'concretamente': 183, 'circunstancias': 161, 'contemple': 204, 'deben': 249, 'rebatirse': 618, 'prolija': 594, 'cada': 141, 'apoya': 105, 'dan': 244, 'mismo': 512, 'basta': 134, 'reiteración': 632, 'manifestaciones': 490, 'opuestas': 548, 'anterioridad': 97, 'tratadas': 736, 'decisión': 256, 'cuestionada': 235, 'ocurre': 545, 'pues': 606, 'reedita': 626, 'planteados': 574, 'devenir': 287, 'expresamente': 359, 'desarrollados': 276, 'empero': 326, 'perjuicio': 568, 'asiste': 120, 'inadmisibilidad': 423, 'al': 86, 'procesales': 592, 'regulan': 631, 'intentada': 451, 'seguido': 669, 'encontraría': 329, 'comprometida': 175, 'federales': 375, 'necesaria': 524, 'intervención': 456, 'órganos': 766, 'cuestionado': 236, 'validez': 747, 'ser': 676, 'repugnante': 640, 'favor': 372, 'normativa': 531, 'causal': 155, 'prevista': 585, 'inciso': 427, 'conclusión': 181, 'llega': 480, 'considera': 193, 'sustento': 715, 'obrados': 540, 'impugnado': 420, 'inteligencia': 450, 'artículos': 117, 'principio': 587, 'juridicidad': 471, 'contraria': 209, 'fundan': 388, 'dichas': 290, 'cláusulas': 167, 'recurre': 621, 'argumenta': 110, 'desconocido': 278, 'contrariando': 210, 'mencionadas': 506, 'punto': 607, 'igual': 409, 'entiende': 333, 'existe': 355, 'cn': 168, '13': 3, 'pacto': 559, 'san': 664, 'josé': 465, 'costa': 225, 'rica': 656, 'sustentar': 714, 'ellos': 324, 'contexto': 206, 'controvertido': 213, 'alcance': 87, 'accionante': 59, 'fundó': 389, 'consideramos': 195, '296': 32, '29': 31, '2014': 19, 'nom': 527, 'confirmando': 187, 'así': 123, 'decisorio': 257, 'juez': 469, 'constitucionalidad': 200, 'formalmente': 383, 'admisible': 73, 'supuesto': 709, 'según': 672, 'consideraciones': 194, 'expuestas': 365, 'impugnante': 422, 'incurrido': 433, 'atacado': 124, 'calificación': 142, 'imprecisa': 414, 'aceptación': 63, 'generalmente': 394, 'cambiantes': 145, 'difíciles': 299, 'evaluar': 345, 'criterios': 228, 'exclusivamente': 352, 'objetivos': 538, 'decir': 255, 'abstracción': 58, 'fácticas': 390, 'confluyen': 189, 'definitoriamente': 267, 'arriba': 113, 'obstante': 541, 'pasa': 564, 'inadvertida': 425, 'transcendencia': 732, 'debatida': 247, 'domiciliario': 312, 'toda': 726, 'vez': 751, 'juego': 468, 'prestación': 580, 'idea': 408, 'tale': 718, 'problemática': 588, 'sometida': 696, 'jurisdicción': 472, 'sopesando': 697, 'vulnerado': 762, 'excede': 349, 'individual': 435, 'partes': 561, 'admitiendo': 75, 'social': 687, 'estima': 343, 'ostenta': 556, 'trascendencia': 733, 'habilitar': 399, 'examinar': 348, 'conceder': 178, 'siete': 683, 'dieciséis': 296, 'elevar': 322, 'efectos': 316, 'segundo': 671, 'párrafo': 610, 'protocolícese': 599, 'hágase': 407, 'saber': 661, 'dese': 280, 'csjn': 231, 'fallos': 369, '245': 25, '327': 38, '247': 26, '713': 50, 'otros': 558, '308': 33, '761': 52, '2263': 22, '2421': 24, '310': 34, '722': 51, '311': 35, '499': 44, '2619': 29, '315': 37, '1943': 15, '313': 36, '1242': 2, 'tarditti': 721, 'aida': 85, 'lucia': 484, 'teresa': 723, 'vocal': 761, 'sesin': 679, 'domingo': 313, 'juan': 466, 'rubio': 660, 'luis': 487, 'enrique': 331, 'blanc': 136, 'gerzicich': 395, 'arabel': 107, 'maria': 497, 'mercedes': 510, 'caceres': 140, 'bollati': 137, 'maría': 500, 'marta': 498, 'lopez': 482, 'peña': 572, 'sebastián': 668, 'cruz': 229, 'sanchez': 665, 'gavier': 393, 'humberto': 406, 'rodolfo': 659, 'camara': 144}\n"
     ]
    }
   ],
   "source": [
    "# resumen\n",
    "print(vectorizer_1.vocabulary_)"
   ]
  },
  {
   "cell_type": "code",
   "execution_count": 9,
   "metadata": {
    "colab": {},
    "colab_type": "code",
    "id": "JmRFEx4ku1u6"
   },
   "outputs": [],
   "source": [
    "# codificador de documentos\n",
    "vector_1 = vectorizer_1.transform(texto)"
   ]
  },
  {
   "cell_type": "code",
   "execution_count": 10,
   "metadata": {
    "colab": {
     "base_uri": "https://localhost:8080/",
     "height": 583
    },
    "colab_type": "code",
    "executionInfo": {
     "elapsed": 1710,
     "status": "ok",
     "timestamp": 1597186596972,
     "user": {
      "displayName": "Jorge Pérez Villella",
      "photoUrl": "",
      "userId": "05752208885034813709"
     },
     "user_tz": 180
    },
    "id": "fm9ttUKAvVIY",
    "outputId": "3876f297-c1c0-48f6-891d-c0cfaf598c60"
   },
   "outputs": [
    {
     "name": "stdout",
     "output_type": "stream",
     "text": [
      "(1, 767)\n",
      "<class 'scipy.sparse.csr.csr_matrix'>\n",
      "[[ 1  5  1  1  2  2  7  2  2  1  3  3  1  3  6  1  2  1  1  1  2  1  1  5\n",
      "   1  1  1  1  2  1  3  1  1  3  1  2  1  1  1  3  1  5  1  1  1  2  1  4\n",
      "   5 11  1  1  1  1  1  1  1  1  1  1  1  7  4  1  1  1  2  8  1  3  1  1\n",
      "   1  1  1  1  1  1  1  1  1  2  2  3  3  1  1  1  4  1  1  2  1  7  1  1\n",
      "   1  1  2  1  2  1  1  4  1  1  3  1  1  6  1  1  3  1  1  4 14  2  1  1\n",
      "   1  1  1  1  1  1  1 12  1  1  1  1  1  2  1  1  1  1  1  2  1  1  1  1\n",
      "   1  1  1  1  1 26  1  1  3  1  6  2  2  1  5  3  2  3  2  2 13  5  5  1\n",
      "   1  4  1  1  1  1  1  1  1  1  1  3  1  2  1  1  1  1  1  1  4  1  1  1\n",
      "   1  2  1  1  1  1  1  1  1  4  1  3  1  1  1  1  1  3  1  2  1  1  1  1\n",
      "   3  2  2  1  1  1  2  1  4  1  1  2  1  1  3  4  1  1  1  1  2  7  1  1\n",
      "   4  2  1  1  1  1  3  1  3  1  1  4  1  1  1  1  6  1  2  2  1  2  2  3\n",
      "   5  2  2  1  1  1  1  2  1  2  9  3  1  1  1  1  1  1  1  1  1  1  2  1\n",
      "   1  3  1  1  2  1  3  1  2  1  1  1  8  2  1  1  2  1  3  3  1  2  2  1\n",
      "   1  1  1  3  1  1  1  2  1  1  1  3  1  1  1  3  1  2  1  1  1  1  1  1\n",
      "   1  1  1  1  1  1  1  1  1  1  1  1  1  1  3  1  1  2  1  1  4  1 10  1\n",
      "   5  2  2  1  1  1  6  1  5  4  1  1  1  6  8  2  1  3  1  2  1  1  3  1\n",
      "   6  1  1  1  1  1  1  2 11  1  1  1  1  3  1  1  2  1  3  1  1  1  1  1\n",
      "   1  1  2  2  2  1  1  1  2  1  2  2  1  1  1  1  6  1  1  1  1  1  1  1\n",
      "   1  1  1  1  1  2  1  1  1  1  2  1  1  4  5  1  1  3  2  1  1  1  2  8\n",
      "   1  1  3  1  1  1  1  2  1  1  1  2  1  1  1  1  1  3  1 12  1  1  1 17\n",
      "   1  1  1  2  1  1  3  1  2  2  1  2  1  2  1  1  1  1  1  1  1  2  1  3\n",
      "   4  1  1  2  1  2  1  2  1  1  1  2  1  3  7  1  7  4  3  2  1  1  1  1\n",
      "   1  1  6  1  2  2 25  1  1  2  1  2  1  1  1  1  1  1  1  2  1  6  1 12\n",
      "   1  1  1  1  1  1  1  1 10  1  1  1  1  1 27  1  1  1  1  2  1  2  1  1\n",
      "   1  2  5  3  1  1  3  1  2  1  2  1  1  1  2  3  1  4  1  4  2  1  1  1\n",
      "   1  1  3  2  1  1  2  1  1  1  1  3  3  2  1  1  2  2  1  1  1  1  7  1\n",
      "   1 21  1  2  1  1  2  1  1  1  1  2  1  2  1  3  1  1  2  6  1  1  1  5\n",
      "   1  2  2  1  1  1  1  1  1  1  1  1  1  1  1  1  1  1  1  1  1  1  2  1\n",
      "   1  1  9  3  1  2  3  1  5  3  1  1  1  2  1  1  8  6  1  2  2  1  1  1\n",
      "   1  1  2  2  1  1  1  2  1 12  4  1  1  1  1  1  1  1  1  1  2  6  1  2\n",
      "   1  1  1  1  1  1  1  1  1  1  1  1  1  1  1  1  1  1  1  1  1 19  1  2\n",
      "   4  1  1  2  1  1  2  1  1  1  1 19  3  1  1  1  3  7  1  3  4  1  1]]\n"
     ]
    }
   ],
   "source": [
    "# resumir vector codificado\n",
    "print(vector_1.shape)\n",
    "print(type(vector_1))\n",
    "print(vector_1.toarray())"
   ]
  },
  {
   "cell_type": "markdown",
   "metadata": {
    "colab_type": "text",
    "id": "B7BdpWAxyvaD"
   },
   "source": [
    "*TfidfVectorizer*\n",
    "\n",
    "TF-IDF es un acrónimo que significa Frecuencia de Término – Frecuencia Inversa de Documento que son los componentes de las puntuaciones resultantes asignadas a cada palabra.\n",
    "\n",
    "* **Término Frecuencia**: Esto resume la frecuencia con la que una palabra dada aparece dentro de un documento.\n",
    "* **Frecuencia inversa de documentos**: Esto reduce la escala de las palabras que aparecen mucho en los documentos.\n",
    "\n",
    "El peso que tiene cada palabra ($w_i,_j$) es directamente proporcional a las veces que aparece en el documento ($tf_i,_j$) e inversamente proporcional a las veces que aparece en todos los documentos ($df_i$).\n",
    "\n",
    "$$ w_i,_j = tf_i,_j * log \\frac{N}{df_i} $$\n",
    "\n",
    "$tf_i,_j$ Frecuencia de la palabra $i$ en el documento $j$.\n",
    "\n",
    "$df_i$ Número de documentos que contienen la palabra $i$.\n",
    "\n",
    "$N$ Número total de documentos.\n",
    "\n",
    "\n",
    "TF-IDF son puntuaciones de frecuencia de palabras que tratan de resaltar las palabras que son más interesantes, por ejemplo, frecuentes en un documento pero no en todos los documentos.\n",
    "\n",
    "Los recuentos y las frecuencias pueden ser muy útiles, pero una limitación de estos métodos es que el vocabulario puede llegar a ser muy amplio. Esto, a su vez, requerirá grandes vectores para codificar los documentos e impondrá grandes requisitos a la memoria y a los algoritmos de ralentización. "
   ]
  },
  {
   "cell_type": "code",
   "execution_count": 11,
   "metadata": {
    "colab": {},
    "colab_type": "code",
    "id": "DoI9NSQFy2ME"
   },
   "outputs": [],
   "source": [
    "vectorizer_2 = TfidfVectorizer()"
   ]
  },
  {
   "cell_type": "code",
   "execution_count": 12,
   "metadata": {
    "colab": {
     "base_uri": "https://localhost:8080/",
     "height": 133
    },
    "colab_type": "code",
    "executionInfo": {
     "elapsed": 1239,
     "status": "ok",
     "timestamp": 1597187961749,
     "user": {
      "displayName": "Jorge Pérez Villella",
      "photoUrl": "",
      "userId": "05752208885034813709"
     },
     "user_tz": 180
    },
    "id": "GQ5Ur13N0ibb",
    "outputId": "cdb0c540-4bbd-4159-898f-b5d1b5b218ff"
   },
   "outputs": [
    {
     "data": {
      "text/plain": [
       "TfidfVectorizer()"
      ]
     },
     "execution_count": 12,
     "metadata": {},
     "output_type": "execute_result"
    }
   ],
   "source": [
    "# tokenizar y construir el vocabulario\n",
    "vectorizer_2.fit(texto)"
   ]
  },
  {
   "cell_type": "code",
   "execution_count": 13,
   "metadata": {
    "colab": {
     "base_uri": "https://localhost:8080/",
     "height": 587
    },
    "colab_type": "code",
    "executionInfo": {
     "elapsed": 699,
     "status": "ok",
     "timestamp": 1597187988617,
     "user": {
      "displayName": "Jorge Pérez Villella",
      "photoUrl": "",
      "userId": "05752208885034813709"
     },
     "user_tz": 180
    },
    "id": "j6vqBC_n0pCq",
    "outputId": "c0786461-8435-471b-f81c-3a7d3f5ed67f"
   },
   "outputs": [
    {
     "name": "stdout",
     "output_type": "stream",
     "text": [
      "{'sala': 663, 'electoral': 321, 'comp': 171, 'originaria': 555, 'tribunal': 741, 'superior': 705, 'protocolo': 598, 'auto': 127, 'nro': 534, 'resolución': 643, 'año': 132, '2018': 21, 'tomo': 728, 'folio': 381, 'directo': 300, 'expediente': 358, '5897764': 49, 'cooperativa': 216, 'integral': 449, 'provisión': 602, 'servicios': 678, 'públicos': 612, 'vivienda': 760, 'consumo': 203, 'villa': 755, 'carlos': 149, 'paz': 566, 'ltda': 483, 'municipalidad': 518, 'recurso': 625, 'numero': 536, 'cordoba': 219, 'vistos': 758, 'caratulados': 148, 'expte': 364, 'sac': 662, 'fs': 384, '145': 7, '155vta': 8, 'comparecen': 172, 'doctores': 308, 'julio': 470, 'isidro': 464, 'altamira': 91, 'gigena': 396, 'carolina': 150, 'representación': 638, 'actora': 67, 'interponen': 453, 'extraordinario': 366, 'federal': 374, 'términos': 744, 'artículo': 116, '14': 6, 'ley': 479, '48': 41, '197': 16, 'emanado': 325, 'fecha': 373, '16': 10, 'septiembre': 675, '2016': 20, 'resolvió': 646, 'declarar': 261, 'inadmisible': 424, 'interpuesto': 455, 'parte': 560, 'número': 537, 'doscientos': 314, 'noventa': 533, 'seis': 673, 'veintinueve': 748, 'agosto': 82, 'do': 307, 'mil': 511, 'catorce': 153, 'dictado': 294, 'cámara': 240, 'apelaciones': 100, 'civil': 165, 'comercial': 169, 'novena': 532, 'nominación': 529, 'ciudad': 164, 'cfr': 158, '131': 4, '137vta': 5, 'solicitan': 692, 'conceda': 177, 'excma': 353, 'corte': 224, 'suprema': 706, 'justicia': 475, 'nación': 521, 'dejando': 268, 'efecto': 315, 'impugnada': 419, 'consecuencia': 191, 'revoque': 655, 'sentencia': 674, '9na': 55, 'córdoba': 242, 'ratificó': 615, 'primera': 586, 'instancia': 445, 'juzgado': 476, 'conciliación': 180, 'familia': 371, 'calos': 143, 'afirman': 81, 'representada': 639, 'inició': 440, 'acción': 62, 'amparo': 93, 'medida': 504, 'cautelar': 156, 'innovar': 443, '484': 42, 'subsidiariamente': 702, 'innovativa': 444, 'objeto': 539, 'declare': 262, 'existencia': 356, 'lesión': 478, 'arbitraria': 108, 'manifiestamente': 492, 'ilegal': 411, 'derechos': 275, 'trabajar': 729, 'ejercer': 319, 'industria': 437, 'lícita': 488, 'comerciar': 170, 'asociarse': 121, 'propiedad': 596, '17': 11, 'debido': 251, 'proceso': 593, 'hace': 402, 'derecho': 274, 'defensa': 265, '18': 13, 'garantía': 391, 'innominada': 442, 'arbitrariedad': 109, 'arts': 115, '28': 30, '33': 39, 'declarando': 260, 'invalidez': 459, 'inconstitucionalidad': 428, 'ordenanza': 551, '5590': 48, 'decreto': 264, '543': 46, '02': 0, 'octubre': 544, '2012': 18, 'declara': 258, 'interés': 458, 'público': 611, 'sujeto': 704, 'expropiación': 360, 'acciones': 61, 'clase': 166, 'pertenecientes': 571, 'coopi': 217, 'consecuentemente': 192, 'condenar': 184, 'abstenerse': 57, 'tomar': 727, 'cualquier': 233, 'signifique': 684, 'ejecución': 318, 'dicha': 289, 'aducen': 77, 'integra': 448, 'cincuenta': 160, 'ciento': 159, '50': 45, 'sociedad': 688, 'gas': 392, 'siendo': 682, 'titular': 725, 'restante': 648, 'corresponden': 223, 'mencionada': 505, 'prestadora': 581, 'servicio': 677, 'natural': 522, 'partir': 563, 'me': 502, 'marzo': 499, '2003': 17, 'actividad': 66, 'regulada': 630, 'nacional': 520, '24': 23, '076': 1, 'controlada': 212, 'enargas': 327, 'luego': 485, 'repasar': 636, 'antecedentes': 96, 'causa': 154, 'detallar': 285, 'cumplimiento': 238, 'requisitos': 642, 'formales': 382, 'requeridos': 641, 'procedencia': 589, 'remedio': 635, 'desarrollan': 277, 'agravios': 84, 'sustanciales': 712, 'ocasiona': 543, 'impugnan': 421, 'entienden': 334, 'definitiva': 266, 'impide': 413, 'continuación': 207, 'debate': 246, 'relativo': 634, 'impugnación': 418, 'municipal': 517, 'promulgación': 595, 'dispuso': 305, 'permitiendo': 570, 'prosecución': 597, 'trámite': 743, 'expropiatorio': 363, 'socios': 691, 'anónima': 98, 'modificando': 514, 'resuelto': 649, 'otorgó': 557, 'concesión': 179, 'distribución': 306, 'domiciliaria': 311, 'zona': 764, 'aledañas': 88, 'orden': 549, 'admisibilidad': 72, 'sustancial': 711, 'ensayada': 332, 'acusan': 68, 'fallo': 368, 'incurre': 432, 'exceso': 351, 'ritual': 658, 'manifiesto': 494, 'ello': 323, 'atento': 125, 'máximo': 519, 'provincial': 601, 'declaró': 263, 'considerar': 198, 'tiempo': 724, 'interposición': 454, 'omitió': 546, 'adjuntar': 71, 'copia': 218, 'escrito': 338, 'contestación': 205, 'casación': 151, 'oportunamente': 547, 'articulada': 114, 'incumpliéndose': 431, 'dispuesto': 304, '402': 40, 'inc': 426, 'citan': 163, 'doctrina': 309, 'jurisprudencia': 473, 'apoyo': 106, 'postura': 577, 'denuncian': 273, 'caso': 152, 'gravedad': 397, 'institucional': 446, 'manifiestan': 493, 'resuelve': 650, 'incumplimiento': 430, 'norma': 530, 'adjetiva': 70, 'vigente': 754, 'si': 680, 'tratase': 739, 'particulares': 562, 'sólo': 716, 'afecta': 78, 'intereses': 452, 'desconociendo': 279, 'conflicto': 188, 'repercute': 637, 'habitantes': 400, 'abono': 56, 'dichos': 292, 'asimismo': 119, 'invocan': 461, 'agravio': 83, 'declaración': 259, 'improcedencia': 416, 'vía': 763, 'encontrarse': 328, 'discusión': 302, 'competencia': 173, 'comuna': 176, 'expropiar': 361, 'subrayan': 701, 'discuten': 303, 'acierto': 64, 'conveniencia': 214, 'sino': 685, 'control': 211, 'judicial': 467, 'violado': 756, 'mediante': 503, 'sociedades': 689, '19': 14, '550': 47, 'además': 69, 'añaden': 131, 'procedido': 590, 'irrazonabilidad': 463, 'ilegalidad': 412, 'habiéndose': 401, 'refieren': 629, 'considerandos': 197, 'recurrido': 623, 'surge': 710, 'lugar': 486, 'aplicarse': 104, '91': 53, '93': 54, 'seguir': 670, 'procedimiento': 591, 'marcado': 495, 'utilizó': 746, 'indebidamente': 434, 'expropiatoria': 362, 'tal': 717, 'destaca': 283, 'sr': 699, 'fiscal': 379, 'cámaras': 241, 'dictamen': 295, 'interviniente': 457, 'marginado': 496, 'dicho': 291, 'argumento': 111, 'dar': 245, 'razón': 617, 'apartamiento': 99, 'avala': 129, 'planteo': 575, 'sostiene': 698, 'pretende': 582, 'cambiar': 146, 'composición': 174, 'accionaria': 60, 'modificación': 513, 'debe': 248, 'establecido': 342, 'motivos': 516, 'cuales': 232, 'debió': 252, 'hacer': 403, 'apelación': 101, 'revocar': 654, 'tan': 720, 'manifiesta': 491, 'escapa': 337, '4915': 43, 'puede': 604, 'violar': 757, 'falta': 370, 'mayor': 501, 'finalmente': 377, 'esgrimen': 339, 'exigir': 354, 'asunto': 122, 'bajo': 133, 'examen': 347, 'amplitud': 94, 'prueba': 603, 'pretensión': 584, 'ejercida': 320, 'cuestión': 237, 'puro': 609, 'respecto': 647, 'reiteran': 633, 'diera': 297, 'inicio': 439, 'origina': 554, 'sanción': 666, 'socio': 690, 'tratándose': 740, 'diferencias': 298, 'existentes': 357, 'debía': 253, 'resolverse': 645, 'conforme': 190, '157': 9, 'imprime': 415, 'ordenándose': 552, 'correr': 221, 'traslado': 734, 'demandada': 269, 'evacuado': 344, 'solicitando': 693, 'costas': 226, 'afirma': 79, 'bien': 135, 'verifican': 750, 'habilitación': 398, 'legitimación': 477, 'temporalidad': 722, 'da': 243, 'atinente': 126, 'autonomía': 128, 'refiere': 628, 'recurrente': 622, 'efectuado': 317, 'crítica': 230, 'concreta': 182, 'razonada': 616, 'argumentos': 112, 'utilizados': 745, 'ingresado': 438, 'excepcional': 350, 'meras': 509, 'discrepancias': 301, 'pretensiones': 583, 'invocando': 462, 'supuestas': 708, 'injusticias': 441, 'ninguna': 526, 'manera': 489, 'ende': 330, 'modo': 515, 'alguno': 90, 'subraya': 700, 'presente': 578, 'resulta': 651, 'sustancialmente': 713, 'improcedente': 417, 'añade': 130, 'revocación': 653, 'debidamente': 250, 'fundada': 386, 'solo': 694, 'hechos': 405, 'referido': 627, 'aplicable': 102, 'cita': 162, 'dogmática': 310, 'insustancial': 447, 'puntualiza': 608, 'tampoco': 719, 'verifica': 749, 'especie': 340, 'denunciada': 272, 'acredita': 65, 'extremo': 367, 'induditable': 436, 'deviniendo': 288, 'queja': 613, 'aduce': 76, 'pueden': 605, 'recibirse': 620, 'demás': 271, 'invocados': 460, 'obviado': 542, 'evidenciar': 346, 'vicios': 753, 'permitan': 569, 'visualizar': 759, 'incorrección': 429, 'viabilidad': 752, 'alterar': 92, 'decidido': 254, 'contraponiendo': 208, 'desvían': 284, 'tratamiento': 737, 'específico': 341, 'brindado': 138, 'planteada': 573, 'mera': 508, 'enunciación': 335, 'rango': 614, 'constitucional': 199, 'suficiente': 703, 'demostrar': 270, 'configuración': 186, 'fojas': 380, '175': 12, 'ordena': 550, 'pasar': 565, 'presentes': 579, 'despacho': 282, 'fine': 378, 'resolver': 644, 'considerando': 196, 'sido': 681, 'capacidad': 147, 'recurrir': 624, 'asimilable': 118, 'dictada': 293, 'órgano': 765, 'erigido': 336, 'supremo': 707, 'constitución': 201, 'provincia': 600, 'cuanto': 234, 'admite': 74, 'revisión': 652, 'alguna': 89, 'local': 481, '256': 27, '257': 28, 'cc': 157, 'cpccn': 227, 'corresponde': 222, 'analizar': 95, 'satisface': 667, 'recaudos': 619, 'necesarios': 525, 'ii': 410, 'trata': 735, 'fin': 376, 'naturaleza': 523, 'traducidos': 730, 'nombre': 528, 'cuya': 239, 'aplicación': 103, 'hacerse': 404, 'tratando': 738, 'desnaturalizar': 281, 'función': 385, 'so': 686, 'riesgo': 657, 'convertirlo': 215, 'nueva': 535, 'ordinaria': 553, 'pleitos': 576, 'tramitan': 731, 'tribunales': 742, 'país': 567, 'cabe': 139, 'mencionar': 507, 'configura': 185, 'correcta': 220, 'fundamentación': 387, 'afirmación': 80, 'determinada': 286, 'solución': 695, 'jurídica': 474, 'constituya': 202, 'concretamente': 183, 'circunstancias': 161, 'contemple': 204, 'deben': 249, 'rebatirse': 618, 'prolija': 594, 'cada': 141, 'apoya': 105, 'dan': 244, 'mismo': 512, 'basta': 134, 'reiteración': 632, 'manifestaciones': 490, 'opuestas': 548, 'anterioridad': 97, 'tratadas': 736, 'decisión': 256, 'cuestionada': 235, 'ocurre': 545, 'pues': 606, 'reedita': 626, 'planteados': 574, 'devenir': 287, 'expresamente': 359, 'desarrollados': 276, 'empero': 326, 'perjuicio': 568, 'asiste': 120, 'inadmisibilidad': 423, 'al': 86, 'procesales': 592, 'regulan': 631, 'intentada': 451, 'seguido': 669, 'encontraría': 329, 'comprometida': 175, 'federales': 375, 'necesaria': 524, 'intervención': 456, 'órganos': 766, 'cuestionado': 236, 'validez': 747, 'ser': 676, 'repugnante': 640, 'favor': 372, 'normativa': 531, 'causal': 155, 'prevista': 585, 'inciso': 427, 'conclusión': 181, 'llega': 480, 'considera': 193, 'sustento': 715, 'obrados': 540, 'impugnado': 420, 'inteligencia': 450, 'artículos': 117, 'principio': 587, 'juridicidad': 471, 'contraria': 209, 'fundan': 388, 'dichas': 290, 'cláusulas': 167, 'recurre': 621, 'argumenta': 110, 'desconocido': 278, 'contrariando': 210, 'mencionadas': 506, 'punto': 607, 'igual': 409, 'entiende': 333, 'existe': 355, 'cn': 168, '13': 3, 'pacto': 559, 'san': 664, 'josé': 465, 'costa': 225, 'rica': 656, 'sustentar': 714, 'ellos': 324, 'contexto': 206, 'controvertido': 213, 'alcance': 87, 'accionante': 59, 'fundó': 389, 'consideramos': 195, '296': 32, '29': 31, '2014': 19, 'nom': 527, 'confirmando': 187, 'así': 123, 'decisorio': 257, 'juez': 469, 'constitucionalidad': 200, 'formalmente': 383, 'admisible': 73, 'supuesto': 709, 'según': 672, 'consideraciones': 194, 'expuestas': 365, 'impugnante': 422, 'incurrido': 433, 'atacado': 124, 'calificación': 142, 'imprecisa': 414, 'aceptación': 63, 'generalmente': 394, 'cambiantes': 145, 'difíciles': 299, 'evaluar': 345, 'criterios': 228, 'exclusivamente': 352, 'objetivos': 538, 'decir': 255, 'abstracción': 58, 'fácticas': 390, 'confluyen': 189, 'definitoriamente': 267, 'arriba': 113, 'obstante': 541, 'pasa': 564, 'inadvertida': 425, 'transcendencia': 732, 'debatida': 247, 'domiciliario': 312, 'toda': 726, 'vez': 751, 'juego': 468, 'prestación': 580, 'idea': 408, 'tale': 718, 'problemática': 588, 'sometida': 696, 'jurisdicción': 472, 'sopesando': 697, 'vulnerado': 762, 'excede': 349, 'individual': 435, 'partes': 561, 'admitiendo': 75, 'social': 687, 'estima': 343, 'ostenta': 556, 'trascendencia': 733, 'habilitar': 399, 'examinar': 348, 'conceder': 178, 'siete': 683, 'dieciséis': 296, 'elevar': 322, 'efectos': 316, 'segundo': 671, 'párrafo': 610, 'protocolícese': 599, 'hágase': 407, 'saber': 661, 'dese': 280, 'csjn': 231, 'fallos': 369, '245': 25, '327': 38, '247': 26, '713': 50, 'otros': 558, '308': 33, '761': 52, '2263': 22, '2421': 24, '310': 34, '722': 51, '311': 35, '499': 44, '2619': 29, '315': 37, '1943': 15, '313': 36, '1242': 2, 'tarditti': 721, 'aida': 85, 'lucia': 484, 'teresa': 723, 'vocal': 761, 'sesin': 679, 'domingo': 313, 'juan': 466, 'rubio': 660, 'luis': 487, 'enrique': 331, 'blanc': 136, 'gerzicich': 395, 'arabel': 107, 'maria': 497, 'mercedes': 510, 'caceres': 140, 'bollati': 137, 'maría': 500, 'marta': 498, 'lopez': 482, 'peña': 572, 'sebastián': 668, 'cruz': 229, 'sanchez': 665, 'gavier': 393, 'humberto': 406, 'rodolfo': 659, 'camara': 144}\n",
      "[1. 1. 1. 1. 1. 1. 1. 1. 1. 1. 1. 1. 1. 1. 1. 1. 1. 1. 1. 1. 1. 1. 1. 1.\n",
      " 1. 1. 1. 1. 1. 1. 1. 1. 1. 1. 1. 1. 1. 1. 1. 1. 1. 1. 1. 1. 1. 1. 1. 1.\n",
      " 1. 1. 1. 1. 1. 1. 1. 1. 1. 1. 1. 1. 1. 1. 1. 1. 1. 1. 1. 1. 1. 1. 1. 1.\n",
      " 1. 1. 1. 1. 1. 1. 1. 1. 1. 1. 1. 1. 1. 1. 1. 1. 1. 1. 1. 1. 1. 1. 1. 1.\n",
      " 1. 1. 1. 1. 1. 1. 1. 1. 1. 1. 1. 1. 1. 1. 1. 1. 1. 1. 1. 1. 1. 1. 1. 1.\n",
      " 1. 1. 1. 1. 1. 1. 1. 1. 1. 1. 1. 1. 1. 1. 1. 1. 1. 1. 1. 1. 1. 1. 1. 1.\n",
      " 1. 1. 1. 1. 1. 1. 1. 1. 1. 1. 1. 1. 1. 1. 1. 1. 1. 1. 1. 1. 1. 1. 1. 1.\n",
      " 1. 1. 1. 1. 1. 1. 1. 1. 1. 1. 1. 1. 1. 1. 1. 1. 1. 1. 1. 1. 1. 1. 1. 1.\n",
      " 1. 1. 1. 1. 1. 1. 1. 1. 1. 1. 1. 1. 1. 1. 1. 1. 1. 1. 1. 1. 1. 1. 1. 1.\n",
      " 1. 1. 1. 1. 1. 1. 1. 1. 1. 1. 1. 1. 1. 1. 1. 1. 1. 1. 1. 1. 1. 1. 1. 1.\n",
      " 1. 1. 1. 1. 1. 1. 1. 1. 1. 1. 1. 1. 1. 1. 1. 1. 1. 1. 1. 1. 1. 1. 1. 1.\n",
      " 1. 1. 1. 1. 1. 1. 1. 1. 1. 1. 1. 1. 1. 1. 1. 1. 1. 1. 1. 1. 1. 1. 1. 1.\n",
      " 1. 1. 1. 1. 1. 1. 1. 1. 1. 1. 1. 1. 1. 1. 1. 1. 1. 1. 1. 1. 1. 1. 1. 1.\n",
      " 1. 1. 1. 1. 1. 1. 1. 1. 1. 1. 1. 1. 1. 1. 1. 1. 1. 1. 1. 1. 1. 1. 1. 1.\n",
      " 1. 1. 1. 1. 1. 1. 1. 1. 1. 1. 1. 1. 1. 1. 1. 1. 1. 1. 1. 1. 1. 1. 1. 1.\n",
      " 1. 1. 1. 1. 1. 1. 1. 1. 1. 1. 1. 1. 1. 1. 1. 1. 1. 1. 1. 1. 1. 1. 1. 1.\n",
      " 1. 1. 1. 1. 1. 1. 1. 1. 1. 1. 1. 1. 1. 1. 1. 1. 1. 1. 1. 1. 1. 1. 1. 1.\n",
      " 1. 1. 1. 1. 1. 1. 1. 1. 1. 1. 1. 1. 1. 1. 1. 1. 1. 1. 1. 1. 1. 1. 1. 1.\n",
      " 1. 1. 1. 1. 1. 1. 1. 1. 1. 1. 1. 1. 1. 1. 1. 1. 1. 1. 1. 1. 1. 1. 1. 1.\n",
      " 1. 1. 1. 1. 1. 1. 1. 1. 1. 1. 1. 1. 1. 1. 1. 1. 1. 1. 1. 1. 1. 1. 1. 1.\n",
      " 1. 1. 1. 1. 1. 1. 1. 1. 1. 1. 1. 1. 1. 1. 1. 1. 1. 1. 1. 1. 1. 1. 1. 1.\n",
      " 1. 1. 1. 1. 1. 1. 1. 1. 1. 1. 1. 1. 1. 1. 1. 1. 1. 1. 1. 1. 1. 1. 1. 1.\n",
      " 1. 1. 1. 1. 1. 1. 1. 1. 1. 1. 1. 1. 1. 1. 1. 1. 1. 1. 1. 1. 1. 1. 1. 1.\n",
      " 1. 1. 1. 1. 1. 1. 1. 1. 1. 1. 1. 1. 1. 1. 1. 1. 1. 1. 1. 1. 1. 1. 1. 1.\n",
      " 1. 1. 1. 1. 1. 1. 1. 1. 1. 1. 1. 1. 1. 1. 1. 1. 1. 1. 1. 1. 1. 1. 1. 1.\n",
      " 1. 1. 1. 1. 1. 1. 1. 1. 1. 1. 1. 1. 1. 1. 1. 1. 1. 1. 1. 1. 1. 1. 1. 1.\n",
      " 1. 1. 1. 1. 1. 1. 1. 1. 1. 1. 1. 1. 1. 1. 1. 1. 1. 1. 1. 1. 1. 1. 1. 1.\n",
      " 1. 1. 1. 1. 1. 1. 1. 1. 1. 1. 1. 1. 1. 1. 1. 1. 1. 1. 1. 1. 1. 1. 1. 1.\n",
      " 1. 1. 1. 1. 1. 1. 1. 1. 1. 1. 1. 1. 1. 1. 1. 1. 1. 1. 1. 1. 1. 1. 1. 1.\n",
      " 1. 1. 1. 1. 1. 1. 1. 1. 1. 1. 1. 1. 1. 1. 1. 1. 1. 1. 1. 1. 1. 1. 1. 1.\n",
      " 1. 1. 1. 1. 1. 1. 1. 1. 1. 1. 1. 1. 1. 1. 1. 1. 1. 1. 1. 1. 1. 1. 1. 1.\n",
      " 1. 1. 1. 1. 1. 1. 1. 1. 1. 1. 1. 1. 1. 1. 1. 1. 1. 1. 1. 1. 1. 1. 1.]\n"
     ]
    }
   ],
   "source": [
    "# resumir\n",
    "print(vectorizer_2.vocabulary_)\n",
    "print(vectorizer_2.idf_)"
   ]
  },
  {
   "cell_type": "code",
   "execution_count": 14,
   "metadata": {
    "colab": {},
    "colab_type": "code",
    "id": "hreUwZj601R7"
   },
   "outputs": [],
   "source": [
    "# documento codificado\n",
    "vector_2 = vectorizer_2.transform(texto)"
   ]
  },
  {
   "cell_type": "code",
   "execution_count": 15,
   "metadata": {
    "colab": {
     "base_uri": "https://localhost:8080/",
     "height": 1000
    },
    "colab_type": "code",
    "executionInfo": {
     "elapsed": 1134,
     "status": "ok",
     "timestamp": 1597188113927,
     "user": {
      "displayName": "Jorge Pérez Villella",
      "photoUrl": "",
      "userId": "05752208885034813709"
     },
     "user_tz": 180
    },
    "id": "XhysczUe1Hns",
    "outputId": "ff0fe514-bd8e-4fd9-bc7a-3cb423b6cd87"
   },
   "outputs": [
    {
     "name": "stdout",
     "output_type": "stream",
     "text": [
      "(1, 767)\n",
      "[[0.01092195 0.05460976 0.01092195 0.01092195 0.0218439  0.0218439\n",
      "  0.07645366 0.0218439  0.0218439  0.01092195 0.03276586 0.03276586\n",
      "  0.01092195 0.03276586 0.06553171 0.01092195 0.0218439  0.01092195\n",
      "  0.01092195 0.01092195 0.0218439  0.01092195 0.01092195 0.05460976\n",
      "  0.01092195 0.01092195 0.01092195 0.01092195 0.0218439  0.01092195\n",
      "  0.03276586 0.01092195 0.01092195 0.03276586 0.01092195 0.0218439\n",
      "  0.01092195 0.01092195 0.01092195 0.03276586 0.01092195 0.05460976\n",
      "  0.01092195 0.01092195 0.01092195 0.0218439  0.01092195 0.04368781\n",
      "  0.05460976 0.12014147 0.01092195 0.01092195 0.01092195 0.01092195\n",
      "  0.01092195 0.01092195 0.01092195 0.01092195 0.01092195 0.01092195\n",
      "  0.01092195 0.07645366 0.04368781 0.01092195 0.01092195 0.01092195\n",
      "  0.0218439  0.08737562 0.01092195 0.03276586 0.01092195 0.01092195\n",
      "  0.01092195 0.01092195 0.01092195 0.01092195 0.01092195 0.01092195\n",
      "  0.01092195 0.01092195 0.01092195 0.0218439  0.0218439  0.03276586\n",
      "  0.03276586 0.01092195 0.01092195 0.01092195 0.04368781 0.01092195\n",
      "  0.01092195 0.0218439  0.01092195 0.07645366 0.01092195 0.01092195\n",
      "  0.01092195 0.01092195 0.0218439  0.01092195 0.0218439  0.01092195\n",
      "  0.01092195 0.04368781 0.01092195 0.01092195 0.03276586 0.01092195\n",
      "  0.01092195 0.06553171 0.01092195 0.01092195 0.03276586 0.01092195\n",
      "  0.01092195 0.04368781 0.15290733 0.0218439  0.01092195 0.01092195\n",
      "  0.01092195 0.01092195 0.01092195 0.01092195 0.01092195 0.01092195\n",
      "  0.01092195 0.13106343 0.01092195 0.01092195 0.01092195 0.01092195\n",
      "  0.01092195 0.0218439  0.01092195 0.01092195 0.01092195 0.01092195\n",
      "  0.01092195 0.0218439  0.01092195 0.01092195 0.01092195 0.01092195\n",
      "  0.01092195 0.01092195 0.01092195 0.01092195 0.01092195 0.28397075\n",
      "  0.01092195 0.01092195 0.03276586 0.01092195 0.06553171 0.0218439\n",
      "  0.0218439  0.01092195 0.05460976 0.03276586 0.0218439  0.03276586\n",
      "  0.0218439  0.0218439  0.14198538 0.05460976 0.05460976 0.01092195\n",
      "  0.01092195 0.04368781 0.01092195 0.01092195 0.01092195 0.01092195\n",
      "  0.01092195 0.01092195 0.01092195 0.01092195 0.01092195 0.03276586\n",
      "  0.01092195 0.0218439  0.01092195 0.01092195 0.01092195 0.01092195\n",
      "  0.01092195 0.01092195 0.04368781 0.01092195 0.01092195 0.01092195\n",
      "  0.01092195 0.0218439  0.01092195 0.01092195 0.01092195 0.01092195\n",
      "  0.01092195 0.01092195 0.01092195 0.04368781 0.01092195 0.03276586\n",
      "  0.01092195 0.01092195 0.01092195 0.01092195 0.01092195 0.03276586\n",
      "  0.01092195 0.0218439  0.01092195 0.01092195 0.01092195 0.01092195\n",
      "  0.03276586 0.0218439  0.0218439  0.01092195 0.01092195 0.01092195\n",
      "  0.0218439  0.01092195 0.04368781 0.01092195 0.01092195 0.0218439\n",
      "  0.01092195 0.01092195 0.03276586 0.04368781 0.01092195 0.01092195\n",
      "  0.01092195 0.01092195 0.0218439  0.07645366 0.01092195 0.01092195\n",
      "  0.04368781 0.0218439  0.01092195 0.01092195 0.01092195 0.01092195\n",
      "  0.03276586 0.01092195 0.03276586 0.01092195 0.01092195 0.04368781\n",
      "  0.01092195 0.01092195 0.01092195 0.01092195 0.06553171 0.01092195\n",
      "  0.0218439  0.0218439  0.01092195 0.0218439  0.0218439  0.03276586\n",
      "  0.05460976 0.0218439  0.0218439  0.01092195 0.01092195 0.01092195\n",
      "  0.01092195 0.0218439  0.01092195 0.0218439  0.09829757 0.03276586\n",
      "  0.01092195 0.01092195 0.01092195 0.01092195 0.01092195 0.01092195\n",
      "  0.01092195 0.01092195 0.01092195 0.01092195 0.0218439  0.01092195\n",
      "  0.01092195 0.03276586 0.01092195 0.01092195 0.0218439  0.01092195\n",
      "  0.03276586 0.01092195 0.0218439  0.01092195 0.01092195 0.01092195\n",
      "  0.08737562 0.0218439  0.01092195 0.01092195 0.0218439  0.01092195\n",
      "  0.03276586 0.03276586 0.01092195 0.0218439  0.0218439  0.01092195\n",
      "  0.01092195 0.01092195 0.01092195 0.03276586 0.01092195 0.01092195\n",
      "  0.01092195 0.0218439  0.01092195 0.01092195 0.01092195 0.03276586\n",
      "  0.01092195 0.01092195 0.01092195 0.03276586 0.01092195 0.0218439\n",
      "  0.01092195 0.01092195 0.01092195 0.01092195 0.01092195 0.01092195\n",
      "  0.01092195 0.01092195 0.01092195 0.01092195 0.01092195 0.01092195\n",
      "  0.01092195 0.01092195 0.01092195 0.01092195 0.01092195 0.01092195\n",
      "  0.01092195 0.01092195 0.03276586 0.01092195 0.01092195 0.0218439\n",
      "  0.01092195 0.01092195 0.04368781 0.01092195 0.10921952 0.01092195\n",
      "  0.05460976 0.0218439  0.0218439  0.01092195 0.01092195 0.01092195\n",
      "  0.06553171 0.01092195 0.05460976 0.04368781 0.01092195 0.01092195\n",
      "  0.01092195 0.06553171 0.08737562 0.0218439  0.01092195 0.03276586\n",
      "  0.01092195 0.0218439  0.01092195 0.01092195 0.03276586 0.01092195\n",
      "  0.06553171 0.01092195 0.01092195 0.01092195 0.01092195 0.01092195\n",
      "  0.01092195 0.0218439  0.12014147 0.01092195 0.01092195 0.01092195\n",
      "  0.01092195 0.03276586 0.01092195 0.01092195 0.0218439  0.01092195\n",
      "  0.03276586 0.01092195 0.01092195 0.01092195 0.01092195 0.01092195\n",
      "  0.01092195 0.01092195 0.0218439  0.0218439  0.0218439  0.01092195\n",
      "  0.01092195 0.01092195 0.0218439  0.01092195 0.0218439  0.0218439\n",
      "  0.01092195 0.01092195 0.01092195 0.01092195 0.06553171 0.01092195\n",
      "  0.01092195 0.01092195 0.01092195 0.01092195 0.01092195 0.01092195\n",
      "  0.01092195 0.01092195 0.01092195 0.01092195 0.01092195 0.0218439\n",
      "  0.01092195 0.01092195 0.01092195 0.01092195 0.0218439  0.01092195\n",
      "  0.01092195 0.04368781 0.05460976 0.01092195 0.01092195 0.03276586\n",
      "  0.0218439  0.01092195 0.01092195 0.01092195 0.0218439  0.08737562\n",
      "  0.01092195 0.01092195 0.03276586 0.01092195 0.01092195 0.01092195\n",
      "  0.01092195 0.0218439  0.01092195 0.01092195 0.01092195 0.0218439\n",
      "  0.01092195 0.01092195 0.01092195 0.01092195 0.01092195 0.03276586\n",
      "  0.01092195 0.13106343 0.01092195 0.01092195 0.01092195 0.18567319\n",
      "  0.01092195 0.01092195 0.01092195 0.0218439  0.01092195 0.01092195\n",
      "  0.03276586 0.01092195 0.0218439  0.0218439  0.01092195 0.0218439\n",
      "  0.01092195 0.0218439  0.01092195 0.01092195 0.01092195 0.01092195\n",
      "  0.01092195 0.01092195 0.01092195 0.0218439  0.01092195 0.03276586\n",
      "  0.04368781 0.01092195 0.01092195 0.0218439  0.01092195 0.0218439\n",
      "  0.01092195 0.0218439  0.01092195 0.01092195 0.01092195 0.0218439\n",
      "  0.01092195 0.03276586 0.07645366 0.01092195 0.07645366 0.04368781\n",
      "  0.03276586 0.0218439  0.01092195 0.01092195 0.01092195 0.01092195\n",
      "  0.01092195 0.01092195 0.06553171 0.01092195 0.0218439  0.0218439\n",
      "  0.2730488  0.01092195 0.01092195 0.0218439  0.01092195 0.0218439\n",
      "  0.01092195 0.01092195 0.01092195 0.01092195 0.01092195 0.01092195\n",
      "  0.01092195 0.0218439  0.01092195 0.06553171 0.01092195 0.13106343\n",
      "  0.01092195 0.01092195 0.01092195 0.01092195 0.01092195 0.01092195\n",
      "  0.01092195 0.01092195 0.10921952 0.01092195 0.01092195 0.01092195\n",
      "  0.01092195 0.01092195 0.29489271 0.01092195 0.01092195 0.01092195\n",
      "  0.01092195 0.0218439  0.01092195 0.0218439  0.01092195 0.01092195\n",
      "  0.01092195 0.0218439  0.05460976 0.03276586 0.01092195 0.01092195\n",
      "  0.03276586 0.01092195 0.0218439  0.01092195 0.0218439  0.01092195\n",
      "  0.01092195 0.01092195 0.0218439  0.03276586 0.01092195 0.04368781\n",
      "  0.01092195 0.04368781 0.0218439  0.01092195 0.01092195 0.01092195\n",
      "  0.01092195 0.01092195 0.03276586 0.0218439  0.01092195 0.01092195\n",
      "  0.0218439  0.01092195 0.01092195 0.01092195 0.01092195 0.03276586\n",
      "  0.03276586 0.0218439  0.01092195 0.01092195 0.0218439  0.0218439\n",
      "  0.01092195 0.01092195 0.01092195 0.01092195 0.07645366 0.01092195\n",
      "  0.01092195 0.22936099 0.01092195 0.0218439  0.01092195 0.01092195\n",
      "  0.0218439  0.01092195 0.01092195 0.01092195 0.01092195 0.0218439\n",
      "  0.01092195 0.0218439  0.01092195 0.03276586 0.01092195 0.01092195\n",
      "  0.0218439  0.06553171 0.01092195 0.01092195 0.01092195 0.05460976\n",
      "  0.01092195 0.0218439  0.0218439  0.01092195 0.01092195 0.01092195\n",
      "  0.01092195 0.01092195 0.01092195 0.01092195 0.01092195 0.01092195\n",
      "  0.01092195 0.01092195 0.01092195 0.01092195 0.01092195 0.01092195\n",
      "  0.01092195 0.01092195 0.01092195 0.01092195 0.0218439  0.01092195\n",
      "  0.01092195 0.01092195 0.09829757 0.03276586 0.01092195 0.0218439\n",
      "  0.03276586 0.01092195 0.05460976 0.03276586 0.01092195 0.01092195\n",
      "  0.01092195 0.0218439  0.01092195 0.01092195 0.08737562 0.06553171\n",
      "  0.01092195 0.0218439  0.0218439  0.01092195 0.01092195 0.01092195\n",
      "  0.01092195 0.01092195 0.0218439  0.0218439  0.01092195 0.01092195\n",
      "  0.01092195 0.0218439  0.01092195 0.13106343 0.04368781 0.01092195\n",
      "  0.01092195 0.01092195 0.01092195 0.01092195 0.01092195 0.01092195\n",
      "  0.01092195 0.01092195 0.0218439  0.06553171 0.01092195 0.0218439\n",
      "  0.01092195 0.01092195 0.01092195 0.01092195 0.01092195 0.01092195\n",
      "  0.01092195 0.01092195 0.01092195 0.01092195 0.01092195 0.01092195\n",
      "  0.01092195 0.01092195 0.01092195 0.01092195 0.01092195 0.01092195\n",
      "  0.01092195 0.01092195 0.01092195 0.20751709 0.01092195 0.0218439\n",
      "  0.04368781 0.01092195 0.01092195 0.0218439  0.01092195 0.01092195\n",
      "  0.0218439  0.01092195 0.01092195 0.01092195 0.01092195 0.20751709\n",
      "  0.03276586 0.01092195 0.01092195 0.01092195 0.03276586 0.07645366\n",
      "  0.01092195 0.03276586 0.04368781 0.01092195 0.01092195]]\n"
     ]
    }
   ],
   "source": [
    "# resumir vector codificado\n",
    "print(vector_2.shape)\n",
    "print(vector_2.toarray())"
   ]
  },
  {
   "cell_type": "markdown",
   "metadata": {
    "colab_type": "text",
    "id": "I2V544vPz-7n"
   },
   "source": [
    "*HashingVectorizer*\n",
    "\n",
    "Podemos usar un hash de palabras para convertirlas en números enteros. La ventaja de esto, es que permite no tener vocabulario y poder elegir un vector de longitud fija arbitraria. Una desventaja es que el hash es una función unidireccional, por lo que no hay forma de volver a convertir la codificación en una palabra.\n",
    "\n",
    "La clase HashingVectorizer implementa este enfoque que se puede utilizar para convertir palabras en hash de forma coherente y, a continuación, convertir en token y codificar documentos según sea necesario."
   ]
  },
  {
   "cell_type": "code",
   "execution_count": 16,
   "metadata": {
    "colab": {},
    "colab_type": "code",
    "id": "M5V73PLX7vRg"
   },
   "outputs": [],
   "source": [
    "vectorizer_3 = HashingVectorizer(n_features=300)"
   ]
  },
  {
   "cell_type": "code",
   "execution_count": 17,
   "metadata": {
    "colab": {},
    "colab_type": "code",
    "id": "9Ubu0NgR7sz7"
   },
   "outputs": [],
   "source": [
    "# documento codificado\n",
    "vector_3 = vectorizer_3.transform(texto)"
   ]
  },
  {
   "cell_type": "code",
   "execution_count": 18,
   "metadata": {
    "colab": {
     "base_uri": "https://localhost:8080/",
     "height": 867
    },
    "colab_type": "code",
    "executionInfo": {
     "elapsed": 686,
     "status": "ok",
     "timestamp": 1597190135828,
     "user": {
      "displayName": "Jorge Pérez Villella",
      "photoUrl": "",
      "userId": "05752208885034813709"
     },
     "user_tz": 180
    },
    "id": "Ulib75Eq7pP9",
    "outputId": "8e92b2f5-5592-49bf-8b30-24826a6a9e88"
   },
   "outputs": [
    {
     "name": "stdout",
     "output_type": "stream",
     "text": [
      "(1, 300)\n",
      "[[-0.046321    0.          0.         -0.01158025 -0.05790125  0.\n",
      "   0.046321   -0.01158025  0.231605   -0.01158025 -0.01158025  0.\n",
      "  -0.0231605  -0.0231605  -0.0231605  -0.01158025  0.1621235   0.\n",
      "   0.0694815   0.         -0.01158025 -0.01158025  0.         -0.08106175\n",
      "  -0.05790125  0.01158025 -0.05790125  0.15054325 -0.31266675 -0.046321\n",
      "  -0.01158025  0.          0.01158025  0.0231605   0.         -0.0231605\n",
      "   0.046321   -0.01158025  0.08106175  0.1621235  -0.0231605   0.01158025\n",
      "  -0.01158025 -0.0231605  -0.01158025 -0.03474075  0.046321    0.08106175\n",
      "   0.01158025  0.          0.092642    0.         -0.22002475 -0.03474075\n",
      "  -0.05790125 -0.046321    0.01158025  0.         -0.0231605   0.01158025\n",
      "  -0.0231605   0.01158025  0.          0.0231605  -0.046321    0.01158025\n",
      "  -0.0231605   0.03474075 -0.01158025  0.0231605  -0.046321    0.15054325\n",
      "   0.          0.01158025  0.         -0.03474075 -0.03474075  0.0231605\n",
      "   0.03474075  0.01158025  0.0231605   0.          0.0694815  -0.0231605\n",
      "   0.          0.0231605   0.         -0.03474075  0.          0.\n",
      "   0.08106175 -0.1621235  -0.0231605  -0.01158025 -0.01158025  0.01158025\n",
      "   0.01158025  0.01158025 -0.0231605   0.046321    0.1158025  -0.01158025\n",
      "  -0.05790125 -0.0231605  -0.01158025  0.         -0.0231605   0.0231605\n",
      "  -0.03474075  0.01158025  0.          0.          0.0231605  -0.046321\n",
      "   0.          0.01158025  0.         -0.0694815  -0.35898774 -0.01158025\n",
      "   0.0694815   0.01158025  0.0231605   0.0231605   0.01158025  0.0231605\n",
      "   0.         -0.01158025  0.01158025 -0.0231605   0.1621235   0.0231605\n",
      "   0.01158025  0.03474075 -0.1158025  -0.01158025  0.15054325 -0.046321\n",
      "   0.0231605   0.05790125 -0.046321   -0.0694815   0.08106175 -0.12738275\n",
      "  -0.01158025  0.0231605   0.         -0.03474075  0.01158025  0.01158025\n",
      "  -0.03474075  0.0694815  -0.03474075  0.01158025 -0.08106175  0.\n",
      "  -0.0231605   0.01158025  0.01158025 -0.092642   -0.01158025  0.03474075\n",
      "  -0.03474075  0.0231605  -0.01158025  0.01158025 -0.01158025 -0.092642\n",
      "  -0.08106175  0.01158025  0.         -0.0231605   0.          0.0231605\n",
      "   0.         -0.01158025  0.0694815   0.01158025 -0.01158025 -0.046321\n",
      "   0.01158025 -0.01158025  0.046321    0.03474075 -0.0231605   0.\n",
      "   0.          0.         -0.01158025  0.         -0.01158025  0.\n",
      "   0.         -0.01158025  0.03474075  0.01158025  0.         -0.0231605\n",
      "   0.0231605  -0.01158025  0.01158025  0.0231605  -0.046321    0.0231605\n",
      "   0.0231605  -0.0231605   0.         -0.0231605   0.         -0.03474075\n",
      "   0.03474075  0.046321   -0.0694815  -0.01158025  0.10422225  0.0231605\n",
      "  -0.03474075  0.          0.          0.          0.01158025  0.0231605\n",
      "   0.03474075  0.01158025  0.0231605  -0.046321    0.03474075 -0.01158025\n",
      "   0.2084445  -0.01158025  0.03474075  0.01158025  0.0231605  -0.0231605\n",
      "   0.         -0.03474075 -0.0694815  -0.03474075  0.05790125  0.092642\n",
      "   0.01158025  0.          0.12738275  0.         -0.0231605  -0.01158025\n",
      "   0.01158025 -0.0231605   0.01158025  0.08106175 -0.03474075 -0.185284\n",
      "   0.         -0.0231605  -0.12738275 -0.01158025  0.03474075  0.03474075\n",
      "  -0.1158025  -0.01158025 -0.01158025  0.03474075  0.          0.01158025\n",
      "   0.         -0.03474075  0.05790125  0.          0.10422225  0.\n",
      "  -0.01158025  0.0231605   0.         -0.08106175  0.10422225 -0.01158025\n",
      "  -0.12738275  0.          0.03474075 -0.03474075  0.          0.03474075\n",
      "   0.          0.         -0.01158025 -0.03474075  0.0231605   0.\n",
      "   0.046321    0.          0.0231605  -0.01158025 -0.0231605  -0.0231605\n",
      "  -0.0231605   0.01158025  0.          0.01158025  0.01158025 -0.01158025]]\n"
     ]
    }
   ],
   "source": [
    "# resumir vector codificado\n",
    "print(vector_3.shape)\n",
    "print(vector_3.toarray())"
   ]
  },
  {
   "cell_type": "markdown",
   "metadata": {
    "colab_type": "text",
    "id": "d9RucZ6r_d-F"
   },
   "source": [
    "Al ejecutar el ejemplo se codifica el documento de muestra como una matriz dispersa de 300 elementos. Los valores del documento codificado corresponden a recuentos de palabras normalizados por defecto en el rango de -1 a 1, pero se pueden hacer recuentos enteros simples cambiando la configuración por defecto."
   ]
  },
  {
   "cell_type": "markdown",
   "metadata": {
    "colab_type": "text",
    "id": "4TE8TH-E_17O"
   },
   "source": [
    "De los 3 métodos posibles utilizaremos TfidfVectorizer"
   ]
  },
  {
   "cell_type": "markdown",
   "metadata": {
    "colab_type": "text",
    "id": "NUUyaTF8auwm"
   },
   "source": [
    "### Dividir los datos en entrenamiento y validación con un procentaje de 70% para entrenamiento y 30% para validación con shuffle, seleccionar las features X e Y. "
   ]
  },
  {
   "cell_type": "code",
   "execution_count": 19,
   "metadata": {},
   "outputs": [
    {
     "data": {
      "text/plain": [
       "<150x19220 sparse matrix of type '<class 'numpy.float64'>'\n",
       "\twith 204569 stored elements in Compressed Sparse Row format>"
      ]
     },
     "execution_count": 19,
     "metadata": {},
     "output_type": "execute_result"
    }
   ],
   "source": [
    "vectorizer = TfidfVectorizer()\n",
    "vectorizer.fit_transform(dataset['TEXTO'])"
   ]
  },
  {
   "cell_type": "code",
   "execution_count": 20,
   "metadata": {
    "colab": {},
    "colab_type": "code",
    "executionInfo": {
     "elapsed": 791,
     "status": "ok",
     "timestamp": 1597360224486,
     "user": {
      "displayName": "Jorge Pérez Villella",
      "photoUrl": "",
      "userId": "05752208885034813709"
     },
     "user_tz": 180
    },
    "id": "dEwH0zG2ji9G"
   },
   "outputs": [],
   "source": [
    "# División entre instancias vectorizadas y etiquetas\n",
    "X, y = vectorizer.transform(dataset[\"TEXTO\"]), dataset[\"TIPO\"]"
   ]
  },
  {
   "cell_type": "code",
   "execution_count": 21,
   "metadata": {},
   "outputs": [],
   "source": [
    "# división entre entrenamiento y evaluación\n",
    "X_train, X_test, y_train, y_test = train_test_split(X, y, test_size=0.3, random_state=0, shuffle=True)"
   ]
  },
  {
   "cell_type": "markdown",
   "metadata": {
    "colab_type": "text",
    "id": "4IVpfRDPauwm"
   },
   "source": [
    " ----------------------------------------------------------------------------------------------------------"
   ]
  },
  {
   "cell_type": "markdown",
   "metadata": {
    "colab_type": "text",
    "id": "Gl4z_0dYauwo"
   },
   "source": [
    "### Clasificar utilizando los datos de entrenamiento mediante Logistic Regresion, Naive Bayes, Random Forest y SVM."
   ]
  },
  {
   "cell_type": "code",
   "execution_count": 22,
   "metadata": {},
   "outputs": [],
   "source": [
    "def get_metricas(titulo, y_train, y_train_pred, y_test, y_test_pred):\n",
    "    print(titulo)\n",
    "    print('-' * len(titulo))\n",
    "\n",
    "    # Datos de Entranamiento\n",
    "    tn, fp, fn, tp = confusion_matrix(y_train, y_train_pred).ravel()\n",
    "    accuracy = accuracy_score(y_train, y_train_pred)\n",
    "    precision = precision_score(y_train, y_train_pred, average=\"macro\")\n",
    "    recall = recall_score(y_train, y_train_pred, average=\"macro\")\n",
    "    f1 = f1_score(y_train, y_train_pred, average=\"macro\")\n",
    "\n",
    "    print('\\nEntrenamiento')\n",
    "    print('\\nReporte de Clasificiación:\\n', classification_report(y_train, y_train_pred))\n",
    "    print(f'Accuracy:{accuracy:{0.2}}')\n",
    "    print(f'Precision:{precision:{0.2}}')\n",
    "    print(f'Recall:{recall:{0.2}}')\n",
    "    print(f'F1 score:{f1:{0.2}}')\n",
    "    print(f'\\nMatriz de Confusión \\n\\tTP:{tp:{3}} \\tFP:{fp:{3}} \\n\\tFN:{fn:{3}} \\tTN:{tn:{3}}')\n",
    "\n",
    "    # Datos de Evaluación\n",
    "    tn, fp, fn, tp = confusion_matrix(y_test, y_test_pred).ravel()\n",
    "    accuracy = accuracy_score(y_test, y_test_pred)\n",
    "    precision = precision_score(y_test, y_test_pred, average=\"macro\")\n",
    "    recall = recall_score(y_test, y_test_pred, average=\"macro\")\n",
    "    f1 = f1_score(y_test, y_test_pred, average=\"macro\")\n",
    "\n",
    "    print('\\nEvaluación')\n",
    "    print('\\nReporte de Clasificiación:\\n', classification_report(y_test, y_test_pred))\n",
    "    print(f'Accuracy:{accuracy:{0.2}}')\n",
    "    print(f'Precision:{precision:{0.2}}')\n",
    "    print(f'Recall:{recall:{0.2}}')\n",
    "    print(f'F1 score:{f1:{0.2}}')\n",
    "    print(f'\\nMatriz de Confusión \\n\\tTP:{tp:{3}} \\tFP:{fp:{3}} \\n\\tFN:{fn:{3}} \\tTN:{tn:{3}}')    \n",
    "    \n",
    "    return tp, fp, tn, fn, accuracy, precision, recall, f1"
   ]
  },
  {
   "cell_type": "markdown",
   "metadata": {},
   "source": [
    "Defino una función para entrenar y imprimer metricas de cada uno de los modelos a comparar. \n",
    "\n",
    "* Los parámetros de entrada son los datos de entrenaimiento y evaluación.\n",
    "\n",
    "* Los parámetros de salida son las métricas de los datos de evaluación.\n"
   ]
  },
  {
   "cell_type": "code",
   "execution_count": 23,
   "metadata": {},
   "outputs": [],
   "source": [
    "def entreno_modelo(titulo, model, X_train, y_train, X_test, y_test):\n",
    "    model.fit(X_train, y_train)\n",
    "   \n",
    "    y_train_pred = model.predict(X_train)\n",
    "    y_test_pred = model.predict(X_test)    \n",
    "\n",
    "    tp, fp, tn, fn, accuracy, precision, recall, f1 = get_metricas(titulo, y_train, y_train_pred, y_test, y_test_pred)\n",
    "    \n",
    "    print('\\nMatriz de Confusión')\n",
    "    plot_confusion_matrix(model, X_test, y_test, cmap=plt.cm.Blues)\n",
    "\n",
    "    return tp, fp, tn, fn, accuracy, precision, recall, f1"
   ]
  },
  {
   "cell_type": "markdown",
   "metadata": {
    "colab_type": "text",
    "id": "iZYjYnaXauwp"
   },
   "source": [
    " ----------------------------------------------------------------------------------------------------------"
   ]
  },
  {
   "cell_type": "markdown",
   "metadata": {
    "colab_type": "text",
    "id": "yVwtrj_cauwq"
   },
   "source": [
    "### Realizar las predicciones para cada caso generando la matriz de confusión (plotear) y los reportes de performance con valores para precision, recall, f1-score y support."
   ]
  },
  {
   "cell_type": "markdown",
   "metadata": {},
   "source": [
    "Guardaremos las metrícas en la siguiente variable:"
   ]
  },
  {
   "cell_type": "code",
   "execution_count": 24,
   "metadata": {},
   "outputs": [],
   "source": [
    "model_list = []"
   ]
  },
  {
   "cell_type": "code",
   "execution_count": 25,
   "metadata": {},
   "outputs": [
    {
     "name": "stdout",
     "output_type": "stream",
     "text": [
      "Logistic Regretion\n",
      "------------------\n",
      "\n",
      "Entrenamiento\n",
      "\n",
      "Reporte de Clasificiación:\n",
      "               precision    recall  f1-score   support\n",
      "\n",
      "        AUTO       0.91      0.98      0.94        86\n",
      "   SENTENCIA       0.85      0.58      0.69        19\n",
      "\n",
      "    accuracy                           0.90       105\n",
      "   macro avg       0.88      0.78      0.82       105\n",
      "weighted avg       0.90      0.90      0.90       105\n",
      "\n",
      "Accuracy:0.9\n",
      "Precision:0.88\n",
      "Recall:0.78\n",
      "F1 score:0.82\n",
      "\n",
      "Matriz de Confusión \n",
      "\tTP: 11 \tFP:  2 \n",
      "\tFN:  8 \tTN: 84\n",
      "\n",
      "Evaluación\n",
      "\n",
      "Reporte de Clasificiación:\n",
      "               precision    recall  f1-score   support\n",
      "\n",
      "        AUTO       0.95      1.00      0.97        39\n",
      "   SENTENCIA       1.00      0.67      0.80         6\n",
      "\n",
      "    accuracy                           0.96        45\n",
      "   macro avg       0.98      0.83      0.89        45\n",
      "weighted avg       0.96      0.96      0.95        45\n",
      "\n",
      "Accuracy:0.96\n",
      "Precision:0.98\n",
      "Recall:0.83\n",
      "F1 score:0.89\n",
      "\n",
      "Matriz de Confusión \n",
      "\tTP:  4 \tFP:  0 \n",
      "\tFN:  2 \tTN: 39\n",
      "\n",
      "Matriz de Confusión\n"
     ]
    },
    {
     "data": {
      "image/png": "[encoded data removed]",
      "text/plain": [
       "<Figure size 432x288 with 2 Axes>"
      ]
     },
     "metadata": {
      "needs_background": "light"
     },
     "output_type": "display_data"
    }
   ],
   "source": [
    "# Entreno con Logistic Regretion\n",
    "tp, fp, tn, fn, accuracy, precision, recall, f1 = entreno_modelo('Logistic Regretion', LogisticRegression(solver='lbfgs'), X_train, y_train, X_test, y_test)\n",
    "model_list.append(['Logistic Regretion', tp, fp, tn, fn, accuracy, precision, recall, f1])"
   ]
  },
  {
   "cell_type": "code",
   "execution_count": 26,
   "metadata": {},
   "outputs": [
    {
     "name": "stdout",
     "output_type": "stream",
     "text": [
      "Naive Bayes\n",
      "-----------\n",
      "\n",
      "Entrenamiento\n",
      "\n",
      "Reporte de Clasificiación:\n",
      "               precision    recall  f1-score   support\n",
      "\n",
      "        AUTO       0.82      1.00      0.90        86\n",
      "   SENTENCIA       0.00      0.00      0.00        19\n",
      "\n",
      "    accuracy                           0.82       105\n",
      "   macro avg       0.41      0.50      0.45       105\n",
      "weighted avg       0.67      0.82      0.74       105\n",
      "\n",
      "Accuracy:0.82\n",
      "Precision:0.41\n",
      "Recall:0.5\n",
      "F1 score:0.45\n",
      "\n",
      "Matriz de Confusión \n",
      "\tTP:  0 \tFP:  0 \n",
      "\tFN: 19 \tTN: 86\n",
      "\n",
      "Evaluación\n",
      "\n",
      "Reporte de Clasificiación:\n",
      "               precision    recall  f1-score   support\n",
      "\n",
      "        AUTO       0.87      1.00      0.93        39\n",
      "   SENTENCIA       0.00      0.00      0.00         6\n",
      "\n",
      "    accuracy                           0.87        45\n",
      "   macro avg       0.43      0.50      0.46        45\n",
      "weighted avg       0.75      0.87      0.80        45\n",
      "\n",
      "Accuracy:0.87\n",
      "Precision:0.43\n",
      "Recall:0.5\n",
      "F1 score:0.46\n",
      "\n",
      "Matriz de Confusión \n",
      "\tTP:  0 \tFP:  0 \n",
      "\tFN:  6 \tTN: 39\n",
      "\n",
      "Matriz de Confusión\n"
     ]
    },
    {
     "name": "stderr",
     "output_type": "stream",
     "text": [
      "C:\\Users\\jperezv\\Anaconda3\\envs\\mentoria\\lib\\site-packages\\sklearn\\metrics\\_classification.py:1221: UndefinedMetricWarning: Precision is ill-defined and being set to 0.0 in labels with no predicted samples. Use `zero_division` parameter to control this behavior.\n",
      "  _warn_prf(average, modifier, msg_start, len(result))\n",
      "C:\\Users\\jperezv\\Anaconda3\\envs\\mentoria\\lib\\site-packages\\sklearn\\metrics\\_classification.py:1221: UndefinedMetricWarning: Precision and F-score are ill-defined and being set to 0.0 in labels with no predicted samples. Use `zero_division` parameter to control this behavior.\n",
      "  _warn_prf(average, modifier, msg_start, len(result))\n"
     ]
    },
    {
     "data": {
      "image/png": "[encoded data removed]",
      "text/plain": [
       "<Figure size 432x288 with 2 Axes>"
      ]
     },
     "metadata": {
      "needs_background": "light"
     },
     "output_type": "display_data"
    }
   ],
   "source": [
    "# Entreno con Naive Bayes\n",
    "tp, fp, tn, fn, accuracy, precision, recall, f1 = entreno_modelo('Naive Bayes', MultinomialNB(), X_train, y_train, X_test, y_test)\n",
    "model_list.append(['Naive Bayes', tp, fp, tn, fn, accuracy, precision, recall, f1])"
   ]
  },
  {
   "cell_type": "code",
   "execution_count": 27,
   "metadata": {},
   "outputs": [
    {
     "name": "stdout",
     "output_type": "stream",
     "text": [
      "Random Forest\n",
      "-------------\n",
      "\n",
      "Entrenamiento\n",
      "\n",
      "Reporte de Clasificiación:\n",
      "               precision    recall  f1-score   support\n",
      "\n",
      "        AUTO       1.00      1.00      1.00        86\n",
      "   SENTENCIA       1.00      1.00      1.00        19\n",
      "\n",
      "    accuracy                           1.00       105\n",
      "   macro avg       1.00      1.00      1.00       105\n",
      "weighted avg       1.00      1.00      1.00       105\n",
      "\n",
      "Accuracy:1.0\n",
      "Precision:1.0\n",
      "Recall:1.0\n",
      "F1 score:1.0\n",
      "\n",
      "Matriz de Confusión \n",
      "\tTP: 19 \tFP:  0 \n",
      "\tFN:  0 \tTN: 86\n",
      "\n",
      "Evaluación\n",
      "\n",
      "Reporte de Clasificiación:\n",
      "               precision    recall  f1-score   support\n",
      "\n",
      "        AUTO       0.95      1.00      0.97        39\n",
      "   SENTENCIA       1.00      0.67      0.80         6\n",
      "\n",
      "    accuracy                           0.96        45\n",
      "   macro avg       0.98      0.83      0.89        45\n",
      "weighted avg       0.96      0.96      0.95        45\n",
      "\n",
      "Accuracy:0.96\n",
      "Precision:0.98\n",
      "Recall:0.83\n",
      "F1 score:0.89\n",
      "\n",
      "Matriz de Confusión \n",
      "\tTP:  4 \tFP:  0 \n",
      "\tFN:  2 \tTN: 39\n",
      "\n",
      "Matriz de Confusión\n"
     ]
    },
    {
     "data": {
      "image/png": "[encoded data removed]",
      "text/plain": [
       "<Figure size 432x288 with 2 Axes>"
      ]
     },
     "metadata": {
      "needs_background": "light"
     },
     "output_type": "display_data"
    }
   ],
   "source": [
    "# Entreno con Random Forest\n",
    "tp, fp, tn, fn, accuracy, precision, recall, f1 = entreno_modelo('Random Forest',ensemble.RandomForestClassifier(random_state=0), X_train, y_train, X_test, y_test)\n",
    "model_list.append(['Random Forest', tp, fp, tn, fn, accuracy, precision, recall, f1])"
   ]
  },
  {
   "cell_type": "code",
   "execution_count": 28,
   "metadata": {},
   "outputs": [
    {
     "name": "stdout",
     "output_type": "stream",
     "text": [
      "SVM\n",
      "---\n",
      "\n",
      "Entrenamiento\n",
      "\n",
      "Reporte de Clasificiación:\n",
      "               precision    recall  f1-score   support\n",
      "\n",
      "        AUTO       0.97      0.98      0.97        86\n",
      "   SENTENCIA       0.89      0.84      0.86        19\n",
      "\n",
      "    accuracy                           0.95       105\n",
      "   macro avg       0.93      0.91      0.92       105\n",
      "weighted avg       0.95      0.95      0.95       105\n",
      "\n",
      "Accuracy:0.95\n",
      "Precision:0.93\n",
      "Recall:0.91\n",
      "F1 score:0.92\n",
      "\n",
      "Matriz de Confusión \n",
      "\tTP: 16 \tFP:  2 \n",
      "\tFN:  3 \tTN: 84\n",
      "\n",
      "Evaluación\n",
      "\n",
      "Reporte de Clasificiación:\n",
      "               precision    recall  f1-score   support\n",
      "\n",
      "        AUTO       0.95      1.00      0.97        39\n",
      "   SENTENCIA       1.00      0.67      0.80         6\n",
      "\n",
      "    accuracy                           0.96        45\n",
      "   macro avg       0.98      0.83      0.89        45\n",
      "weighted avg       0.96      0.96      0.95        45\n",
      "\n",
      "Accuracy:0.96\n",
      "Precision:0.98\n",
      "Recall:0.83\n",
      "F1 score:0.89\n",
      "\n",
      "Matriz de Confusión \n",
      "\tTP:  4 \tFP:  0 \n",
      "\tFN:  2 \tTN: 39\n",
      "\n",
      "Matriz de Confusión\n"
     ]
    },
    {
     "data": {
      "image/png": "[encoded data removed]",
      "text/plain": [
       "<Figure size 432x288 with 2 Axes>"
      ]
     },
     "metadata": {
      "needs_background": "light"
     },
     "output_type": "display_data"
    }
   ],
   "source": [
    "# Entreno con SVM\n",
    "tp, fp, tn, fn, accuracy, precision, recall, f1 = entreno_modelo('SVM', svm.SVC(), X_train, y_train, X_test, y_test)\n",
    "model_list.append(['SVM', tp, fp, tn, fn, accuracy, precision, recall, f1])"
   ]
  },
  {
   "cell_type": "markdown",
   "metadata": {
    "colab_type": "text",
    "id": "LKWHC4gTauwr"
   },
   "source": [
    " ----------------------------------------------------------------------------------------------------------"
   ]
  },
  {
   "cell_type": "markdown",
   "metadata": {
    "colab_type": "text",
    "id": "bORD4gTEauwt"
   },
   "source": [
    "### Determinar el modelo con mejor performance."
   ]
  },
  {
   "cell_type": "code",
   "execution_count": 29,
   "metadata": {},
   "outputs": [
    {
     "data": {
      "text/html": [
       "<div>\n",
       "<style scoped>\n",
       "    .dataframe tbody tr th:only-of-type {\n",
       "        vertical-align: middle;\n",
       "    }\n",
       "\n",
       "    .dataframe tbody tr th {\n",
       "        vertical-align: top;\n",
       "    }\n",
       "\n",
       "    .dataframe thead th {\n",
       "        text-align: right;\n",
       "    }\n",
       "</style>\n",
       "<table border=\"1\" class=\"dataframe\">\n",
       "  <thead>\n",
       "    <tr style=\"text-align: right;\">\n",
       "      <th></th>\n",
       "      <th>modelo</th>\n",
       "      <th>tp</th>\n",
       "      <th>fp</th>\n",
       "      <th>tn</th>\n",
       "      <th>fn</th>\n",
       "      <th>accuracy</th>\n",
       "      <th>precision</th>\n",
       "      <th>recall</th>\n",
       "      <th>f1</th>\n",
       "    </tr>\n",
       "  </thead>\n",
       "  <tbody>\n",
       "    <tr>\n",
       "      <th>0</th>\n",
       "      <td>Logistic Regretion</td>\n",
       "      <td>4</td>\n",
       "      <td>0</td>\n",
       "      <td>39</td>\n",
       "      <td>2</td>\n",
       "      <td>0.955556</td>\n",
       "      <td>0.975610</td>\n",
       "      <td>0.833333</td>\n",
       "      <td>0.887500</td>\n",
       "    </tr>\n",
       "    <tr>\n",
       "      <th>2</th>\n",
       "      <td>Random Forest</td>\n",
       "      <td>4</td>\n",
       "      <td>0</td>\n",
       "      <td>39</td>\n",
       "      <td>2</td>\n",
       "      <td>0.955556</td>\n",
       "      <td>0.975610</td>\n",
       "      <td>0.833333</td>\n",
       "      <td>0.887500</td>\n",
       "    </tr>\n",
       "    <tr>\n",
       "      <th>3</th>\n",
       "      <td>SVM</td>\n",
       "      <td>4</td>\n",
       "      <td>0</td>\n",
       "      <td>39</td>\n",
       "      <td>2</td>\n",
       "      <td>0.955556</td>\n",
       "      <td>0.975610</td>\n",
       "      <td>0.833333</td>\n",
       "      <td>0.887500</td>\n",
       "    </tr>\n",
       "    <tr>\n",
       "      <th>1</th>\n",
       "      <td>Naive Bayes</td>\n",
       "      <td>0</td>\n",
       "      <td>0</td>\n",
       "      <td>39</td>\n",
       "      <td>6</td>\n",
       "      <td>0.866667</td>\n",
       "      <td>0.433333</td>\n",
       "      <td>0.500000</td>\n",
       "      <td>0.464286</td>\n",
       "    </tr>\n",
       "  </tbody>\n",
       "</table>\n",
       "</div>"
      ],
      "text/plain": [
       "               modelo  tp  fp  tn  fn  accuracy  precision    recall        f1\n",
       "0  Logistic Regretion   4   0  39   2  0.955556   0.975610  0.833333  0.887500\n",
       "2       Random Forest   4   0  39   2  0.955556   0.975610  0.833333  0.887500\n",
       "3                 SVM   4   0  39   2  0.955556   0.975610  0.833333  0.887500\n",
       "1         Naive Bayes   0   0  39   6  0.866667   0.433333  0.500000  0.464286"
      ]
     },
     "execution_count": 29,
     "metadata": {},
     "output_type": "execute_result"
    }
   ],
   "source": [
    "df = pandas.DataFrame(model_list, columns=['modelo', 'tp', 'fp', 'tn', 'fn', 'accuracy', 'precision', 'recall', 'f1'])\n",
    "df.sort_values(by='accuracy', ascending=False)"
   ]
  },
  {
   "cell_type": "markdown",
   "metadata": {},
   "source": [
    "El modelo Naive Base no predijo ninguna Sentencia.\n",
    "Los otros 3 modelos obtuvieron la misma performance. "
   ]
  },
  {
   "cell_type": "markdown",
   "metadata": {
    "colab_type": "text",
    "id": "2DhFvMC4auwu"
   },
   "source": [
    " ----------------------------------------------------------------------------------------------------------"
   ]
  },
  {
   "cell_type": "markdown",
   "metadata": {
    "colab_type": "text",
    "id": "BG0vrDxuauwv"
   },
   "source": [
    "### Probar con y sin shuffle en la partición de los datos."
   ]
  },
  {
   "cell_type": "code",
   "execution_count": 30,
   "metadata": {},
   "outputs": [],
   "source": [
    "# división entre entrenamiento y evaluación sin mezclar\n",
    "X_train, X_test, y_train, y_test = train_test_split(X, y, test_size=0.3, random_state=0, shuffle=False)"
   ]
  },
  {
   "cell_type": "code",
   "execution_count": 31,
   "metadata": {},
   "outputs": [
    {
     "ename": "ValueError",
     "evalue": "This solver needs samples of at least 2 classes in the data, but the data contains only one class: 'AUTO'",
     "output_type": "error",
     "traceback": [
      "\u001b[1;31m---------------------------------------------------------------------------\u001b[0m",
      "\u001b[1;31mValueError\u001b[0m                                Traceback (most recent call last)",
      "\u001b[1;32m<ipython-input-31-d83c32020192>\u001b[0m in \u001b[0;36m<module>\u001b[1;34m\u001b[0m\n\u001b[1;32m----> 1\u001b[1;33m \u001b[0mentreno_modelo\u001b[0m\u001b[1;33m(\u001b[0m\u001b[1;34m'Logistic Regretion'\u001b[0m\u001b[1;33m,\u001b[0m \u001b[0mLogisticRegression\u001b[0m\u001b[1;33m(\u001b[0m\u001b[0msolver\u001b[0m\u001b[1;33m=\u001b[0m\u001b[1;34m'lbfgs'\u001b[0m\u001b[1;33m)\u001b[0m\u001b[1;33m,\u001b[0m \u001b[0mX_train\u001b[0m\u001b[1;33m,\u001b[0m \u001b[0my_train\u001b[0m\u001b[1;33m,\u001b[0m \u001b[0mX_test\u001b[0m\u001b[1;33m,\u001b[0m \u001b[0my_test\u001b[0m\u001b[1;33m)\u001b[0m\u001b[1;33m\u001b[0m\u001b[1;33m\u001b[0m\u001b[0m\n\u001b[0m",
      "\u001b[1;32m<ipython-input-23-c24dfca0d44a>\u001b[0m in \u001b[0;36mentreno_modelo\u001b[1;34m(titulo, model, X_train, y_train, X_test, y_test)\u001b[0m\n\u001b[0;32m      1\u001b[0m \u001b[1;32mdef\u001b[0m \u001b[0mentreno_modelo\u001b[0m\u001b[1;33m(\u001b[0m\u001b[0mtitulo\u001b[0m\u001b[1;33m,\u001b[0m \u001b[0mmodel\u001b[0m\u001b[1;33m,\u001b[0m \u001b[0mX_train\u001b[0m\u001b[1;33m,\u001b[0m \u001b[0my_train\u001b[0m\u001b[1;33m,\u001b[0m \u001b[0mX_test\u001b[0m\u001b[1;33m,\u001b[0m \u001b[0my_test\u001b[0m\u001b[1;33m)\u001b[0m\u001b[1;33m:\u001b[0m\u001b[1;33m\u001b[0m\u001b[1;33m\u001b[0m\u001b[0m\n\u001b[1;32m----> 2\u001b[1;33m     \u001b[0mmodel\u001b[0m\u001b[1;33m.\u001b[0m\u001b[0mfit\u001b[0m\u001b[1;33m(\u001b[0m\u001b[0mX_train\u001b[0m\u001b[1;33m,\u001b[0m \u001b[0my_train\u001b[0m\u001b[1;33m)\u001b[0m\u001b[1;33m\u001b[0m\u001b[1;33m\u001b[0m\u001b[0m\n\u001b[0m\u001b[0;32m      3\u001b[0m \u001b[1;33m\u001b[0m\u001b[0m\n\u001b[0;32m      4\u001b[0m     \u001b[0my_train_pred\u001b[0m \u001b[1;33m=\u001b[0m \u001b[0mmodel\u001b[0m\u001b[1;33m.\u001b[0m\u001b[0mpredict\u001b[0m\u001b[1;33m(\u001b[0m\u001b[0mX_train\u001b[0m\u001b[1;33m)\u001b[0m\u001b[1;33m\u001b[0m\u001b[1;33m\u001b[0m\u001b[0m\n\u001b[0;32m      5\u001b[0m     \u001b[0my_test_pred\u001b[0m \u001b[1;33m=\u001b[0m \u001b[0mmodel\u001b[0m\u001b[1;33m.\u001b[0m\u001b[0mpredict\u001b[0m\u001b[1;33m(\u001b[0m\u001b[0mX_test\u001b[0m\u001b[1;33m)\u001b[0m\u001b[1;33m\u001b[0m\u001b[1;33m\u001b[0m\u001b[0m\n",
      "\u001b[1;32m~\\Anaconda3\\envs\\mentoria\\lib\\site-packages\\sklearn\\linear_model\\_logistic.py\u001b[0m in \u001b[0;36mfit\u001b[1;34m(self, X, y, sample_weight)\u001b[0m\n\u001b[0;32m   1370\u001b[0m         \u001b[0mclasses_\u001b[0m \u001b[1;33m=\u001b[0m \u001b[0mself\u001b[0m\u001b[1;33m.\u001b[0m\u001b[0mclasses_\u001b[0m\u001b[1;33m\u001b[0m\u001b[1;33m\u001b[0m\u001b[0m\n\u001b[0;32m   1371\u001b[0m         \u001b[1;32mif\u001b[0m \u001b[0mn_classes\u001b[0m \u001b[1;33m<\u001b[0m \u001b[1;36m2\u001b[0m\u001b[1;33m:\u001b[0m\u001b[1;33m\u001b[0m\u001b[1;33m\u001b[0m\u001b[0m\n\u001b[1;32m-> 1372\u001b[1;33m             raise ValueError(\"This solver needs samples of at least 2 classes\"\n\u001b[0m\u001b[0;32m   1373\u001b[0m                              \u001b[1;34m\" in the data, but the data contains only one\"\u001b[0m\u001b[1;33m\u001b[0m\u001b[1;33m\u001b[0m\u001b[0m\n\u001b[0;32m   1374\u001b[0m                              \" class: %r\" % classes_[0])\n",
      "\u001b[1;31mValueError\u001b[0m: This solver needs samples of at least 2 classes in the data, but the data contains only one class: 'AUTO'"
     ]
    }
   ],
   "source": [
    "entreno_modelo('Logistic Regretion', LogisticRegression(solver='lbfgs'), X_train, y_train, X_test, y_test)"
   ]
  },
  {
   "cell_type": "code",
   "execution_count": 32,
   "metadata": {},
   "outputs": [
    {
     "name": "stdout",
     "output_type": "stream",
     "text": [
      "Naive Bayes\n",
      "-----------\n"
     ]
    },
    {
     "ename": "ValueError",
     "evalue": "not enough values to unpack (expected 4, got 1)",
     "output_type": "error",
     "traceback": [
      "\u001b[1;31m---------------------------------------------------------------------------\u001b[0m",
      "\u001b[1;31mValueError\u001b[0m                                Traceback (most recent call last)",
      "\u001b[1;32m<ipython-input-32-c819bd892515>\u001b[0m in \u001b[0;36m<module>\u001b[1;34m\u001b[0m\n\u001b[1;32m----> 1\u001b[1;33m \u001b[0mentreno_modelo\u001b[0m\u001b[1;33m(\u001b[0m\u001b[1;34m'Naive Bayes'\u001b[0m\u001b[1;33m,\u001b[0m \u001b[0mMultinomialNB\u001b[0m\u001b[1;33m(\u001b[0m\u001b[1;33m)\u001b[0m\u001b[1;33m,\u001b[0m \u001b[0mX_train\u001b[0m\u001b[1;33m,\u001b[0m \u001b[0my_train\u001b[0m\u001b[1;33m,\u001b[0m \u001b[0mX_test\u001b[0m\u001b[1;33m,\u001b[0m \u001b[0my_test\u001b[0m\u001b[1;33m)\u001b[0m\u001b[1;33m\u001b[0m\u001b[1;33m\u001b[0m\u001b[0m\n\u001b[0m",
      "\u001b[1;32m<ipython-input-23-c24dfca0d44a>\u001b[0m in \u001b[0;36mentreno_modelo\u001b[1;34m(titulo, model, X_train, y_train, X_test, y_test)\u001b[0m\n\u001b[0;32m      5\u001b[0m     \u001b[0my_test_pred\u001b[0m \u001b[1;33m=\u001b[0m \u001b[0mmodel\u001b[0m\u001b[1;33m.\u001b[0m\u001b[0mpredict\u001b[0m\u001b[1;33m(\u001b[0m\u001b[0mX_test\u001b[0m\u001b[1;33m)\u001b[0m\u001b[1;33m\u001b[0m\u001b[1;33m\u001b[0m\u001b[0m\n\u001b[0;32m      6\u001b[0m \u001b[1;33m\u001b[0m\u001b[0m\n\u001b[1;32m----> 7\u001b[1;33m     \u001b[0mtp\u001b[0m\u001b[1;33m,\u001b[0m \u001b[0mfp\u001b[0m\u001b[1;33m,\u001b[0m \u001b[0mtn\u001b[0m\u001b[1;33m,\u001b[0m \u001b[0mfn\u001b[0m\u001b[1;33m,\u001b[0m \u001b[0maccuracy\u001b[0m\u001b[1;33m,\u001b[0m \u001b[0mprecision\u001b[0m\u001b[1;33m,\u001b[0m \u001b[0mrecall\u001b[0m\u001b[1;33m,\u001b[0m \u001b[0mf1\u001b[0m \u001b[1;33m=\u001b[0m \u001b[0mget_metricas\u001b[0m\u001b[1;33m(\u001b[0m\u001b[0mtitulo\u001b[0m\u001b[1;33m,\u001b[0m \u001b[0my_train\u001b[0m\u001b[1;33m,\u001b[0m \u001b[0my_train_pred\u001b[0m\u001b[1;33m,\u001b[0m \u001b[0my_test\u001b[0m\u001b[1;33m,\u001b[0m \u001b[0my_test_pred\u001b[0m\u001b[1;33m)\u001b[0m\u001b[1;33m\u001b[0m\u001b[1;33m\u001b[0m\u001b[0m\n\u001b[0m\u001b[0;32m      8\u001b[0m \u001b[1;33m\u001b[0m\u001b[0m\n\u001b[0;32m      9\u001b[0m     \u001b[0mprint\u001b[0m\u001b[1;33m(\u001b[0m\u001b[1;34m'\\nMatriz de Confusión'\u001b[0m\u001b[1;33m)\u001b[0m\u001b[1;33m\u001b[0m\u001b[1;33m\u001b[0m\u001b[0m\n",
      "\u001b[1;32m<ipython-input-22-0fd9d4805b6e>\u001b[0m in \u001b[0;36mget_metricas\u001b[1;34m(titulo, y_train, y_train_pred, y_test, y_test_pred)\u001b[0m\n\u001b[0;32m      4\u001b[0m \u001b[1;33m\u001b[0m\u001b[0m\n\u001b[0;32m      5\u001b[0m     \u001b[1;31m# Datos de Entranamiento\u001b[0m\u001b[1;33m\u001b[0m\u001b[1;33m\u001b[0m\u001b[1;33m\u001b[0m\u001b[0m\n\u001b[1;32m----> 6\u001b[1;33m     \u001b[0mtn\u001b[0m\u001b[1;33m,\u001b[0m \u001b[0mfp\u001b[0m\u001b[1;33m,\u001b[0m \u001b[0mfn\u001b[0m\u001b[1;33m,\u001b[0m \u001b[0mtp\u001b[0m \u001b[1;33m=\u001b[0m \u001b[0mconfusion_matrix\u001b[0m\u001b[1;33m(\u001b[0m\u001b[0my_train\u001b[0m\u001b[1;33m,\u001b[0m \u001b[0my_train_pred\u001b[0m\u001b[1;33m)\u001b[0m\u001b[1;33m.\u001b[0m\u001b[0mravel\u001b[0m\u001b[1;33m(\u001b[0m\u001b[1;33m)\u001b[0m\u001b[1;33m\u001b[0m\u001b[1;33m\u001b[0m\u001b[0m\n\u001b[0m\u001b[0;32m      7\u001b[0m     \u001b[0maccuracy\u001b[0m \u001b[1;33m=\u001b[0m \u001b[0maccuracy_score\u001b[0m\u001b[1;33m(\u001b[0m\u001b[0my_train\u001b[0m\u001b[1;33m,\u001b[0m \u001b[0my_train_pred\u001b[0m\u001b[1;33m)\u001b[0m\u001b[1;33m\u001b[0m\u001b[1;33m\u001b[0m\u001b[0m\n\u001b[0;32m      8\u001b[0m     \u001b[0mprecision\u001b[0m \u001b[1;33m=\u001b[0m \u001b[0mprecision_score\u001b[0m\u001b[1;33m(\u001b[0m\u001b[0my_train\u001b[0m\u001b[1;33m,\u001b[0m \u001b[0my_train_pred\u001b[0m\u001b[1;33m,\u001b[0m \u001b[0maverage\u001b[0m\u001b[1;33m=\u001b[0m\u001b[1;34m\"macro\"\u001b[0m\u001b[1;33m)\u001b[0m\u001b[1;33m\u001b[0m\u001b[1;33m\u001b[0m\u001b[0m\n",
      "\u001b[1;31mValueError\u001b[0m: not enough values to unpack (expected 4, got 1)"
     ]
    }
   ],
   "source": [
    "entreno_modelo('Naive Bayes', MultinomialNB(), X_train, y_train, X_test, y_test)"
   ]
  },
  {
   "cell_type": "markdown",
   "metadata": {},
   "source": [
    "Al estar la muestra ordenada, si no se aplica un shuffle en la división de datos entre entrenamiento y evaluación, al entrenar un modelo se produce un error por tener solo datos de una sola clase."
   ]
  },
  {
   "cell_type": "markdown",
   "metadata": {},
   "source": [
    "### Probar con distintos hiperparámetros para ver si los resultados cambian de acuerdo a si los datos se han mezclado al entrenar y validar o no."
   ]
  },
  {
   "cell_type": "code",
   "execution_count": 33,
   "metadata": {},
   "outputs": [],
   "source": [
    "# división entre entrenamiento y evaluación\n",
    "X_train, X_test, y_train, y_test = train_test_split(X, y, test_size=0.3, random_state=0, shuffle=True)"
   ]
  },
  {
   "cell_type": "code",
   "execution_count": 34,
   "metadata": {},
   "outputs": [],
   "source": [
    "param_grid = {\n",
    "    'loss': [\n",
    "        'hinge',        # SVM\n",
    "        'log',          # logistic regression\n",
    "        'perceptron',\n",
    "    ],\n",
    "    'learning_rate': [\n",
    "        'constant',\n",
    "        'optimal',\n",
    "        'invscaling', \n",
    "        'adaptive', \n",
    "    ],\n",
    "    'alpha': [0.0001, 0.001, 0.01, 0.1, 1.0], \n",
    "    'eta0': [0.01, 0.1, 1] \n",
    "}"
   ]
  },
  {
   "cell_type": "code",
   "execution_count": 35,
   "metadata": {},
   "outputs": [],
   "source": [
    "from sklearn.linear_model import SGDClassifier\n",
    "model = SGDClassifier(random_state=0)\n",
    "cv = GridSearchCV(model, param_grid, scoring='accuracy')\n",
    "cv.fit(X_train, y_train);"
   ]
  },
  {
   "cell_type": "code",
   "execution_count": 36,
   "metadata": {},
   "outputs": [],
   "source": [
    "results = cv.cv_results_\n",
    "df = pandas.DataFrame(results)"
   ]
  },
  {
   "cell_type": "code",
   "execution_count": 37,
   "metadata": {},
   "outputs": [
    {
     "data": {
      "text/html": [
       "<div>\n",
       "<style scoped>\n",
       "    .dataframe tbody tr th:only-of-type {\n",
       "        vertical-align: middle;\n",
       "    }\n",
       "\n",
       "    .dataframe tbody tr th {\n",
       "        vertical-align: top;\n",
       "    }\n",
       "\n",
       "    .dataframe thead th {\n",
       "        text-align: right;\n",
       "    }\n",
       "</style>\n",
       "<table border=\"1\" class=\"dataframe\">\n",
       "  <thead>\n",
       "    <tr style=\"text-align: right;\">\n",
       "      <th></th>\n",
       "      <th>params</th>\n",
       "      <th>mean_test_score</th>\n",
       "      <th>std_test_score</th>\n",
       "      <th>rank_test_score</th>\n",
       "    </tr>\n",
       "  </thead>\n",
       "  <tbody>\n",
       "    <tr>\n",
       "      <th>0</th>\n",
       "      <td>{'alpha': 0.01, 'eta0': 0.01, 'learning_rate': 'constant', 'loss': 'hinge'}</td>\n",
       "      <td>0.904762</td>\n",
       "      <td>0.052164</td>\n",
       "      <td>1</td>\n",
       "    </tr>\n",
       "    <tr>\n",
       "      <th>1</th>\n",
       "      <td>{'alpha': 0.01, 'eta0': 0.01, 'learning_rate': 'adaptive', 'loss': 'hinge'}</td>\n",
       "      <td>0.904762</td>\n",
       "      <td>0.052164</td>\n",
       "      <td>1</td>\n",
       "    </tr>\n",
       "    <tr>\n",
       "      <th>2</th>\n",
       "      <td>{'alpha': 0.01, 'eta0': 1, 'learning_rate': 'invscaling', 'loss': 'hinge'}</td>\n",
       "      <td>0.904762</td>\n",
       "      <td>0.052164</td>\n",
       "      <td>1</td>\n",
       "    </tr>\n",
       "    <tr>\n",
       "      <th>3</th>\n",
       "      <td>{'alpha': 0.0001, 'eta0': 0.01, 'learning_rate': 'constant', 'loss': 'log'}</td>\n",
       "      <td>0.895238</td>\n",
       "      <td>0.046657</td>\n",
       "      <td>4</td>\n",
       "    </tr>\n",
       "    <tr>\n",
       "      <th>4</th>\n",
       "      <td>{'alpha': 0.0001, 'eta0': 0.01, 'learning_rate': 'adaptive', 'loss': 'log'}</td>\n",
       "      <td>0.895238</td>\n",
       "      <td>0.046657</td>\n",
       "      <td>4</td>\n",
       "    </tr>\n",
       "    <tr>\n",
       "      <th>5</th>\n",
       "      <td>{'alpha': 0.0001, 'eta0': 1, 'learning_rate': 'invscaling', 'loss': 'log'}</td>\n",
       "      <td>0.895238</td>\n",
       "      <td>0.046657</td>\n",
       "      <td>4</td>\n",
       "    </tr>\n",
       "    <tr>\n",
       "      <th>6</th>\n",
       "      <td>{'alpha': 0.001, 'eta0': 0.01, 'learning_rate': 'constant', 'loss': 'log'}</td>\n",
       "      <td>0.895238</td>\n",
       "      <td>0.046657</td>\n",
       "      <td>4</td>\n",
       "    </tr>\n",
       "    <tr>\n",
       "      <th>7</th>\n",
       "      <td>{'alpha': 0.001, 'eta0': 0.01, 'learning_rate': 'adaptive', 'loss': 'log'}</td>\n",
       "      <td>0.895238</td>\n",
       "      <td>0.046657</td>\n",
       "      <td>4</td>\n",
       "    </tr>\n",
       "    <tr>\n",
       "      <th>8</th>\n",
       "      <td>{'alpha': 0.001, 'eta0': 1, 'learning_rate': 'invscaling', 'loss': 'log'}</td>\n",
       "      <td>0.895238</td>\n",
       "      <td>0.046657</td>\n",
       "      <td>4</td>\n",
       "    </tr>\n",
       "    <tr>\n",
       "      <th>9</th>\n",
       "      <td>{'alpha': 0.01, 'eta0': 0.01, 'learning_rate': 'optimal', 'loss': 'log'}</td>\n",
       "      <td>0.895238</td>\n",
       "      <td>0.046657</td>\n",
       "      <td>4</td>\n",
       "    </tr>\n",
       "    <tr>\n",
       "      <th>10</th>\n",
       "      <td>{'alpha': 0.01, 'eta0': 0.1, 'learning_rate': 'constant', 'loss': 'log'}</td>\n",
       "      <td>0.895238</td>\n",
       "      <td>0.046657</td>\n",
       "      <td>4</td>\n",
       "    </tr>\n",
       "    <tr>\n",
       "      <th>11</th>\n",
       "      <td>{'alpha': 0.01, 'eta0': 0.1, 'learning_rate': 'optimal', 'loss': 'log'}</td>\n",
       "      <td>0.895238</td>\n",
       "      <td>0.046657</td>\n",
       "      <td>4</td>\n",
       "    </tr>\n",
       "    <tr>\n",
       "      <th>12</th>\n",
       "      <td>{'alpha': 0.01, 'eta0': 0.1, 'learning_rate': 'adaptive', 'loss': 'log'}</td>\n",
       "      <td>0.895238</td>\n",
       "      <td>0.046657</td>\n",
       "      <td>4</td>\n",
       "    </tr>\n",
       "    <tr>\n",
       "      <th>13</th>\n",
       "      <td>{'alpha': 0.01, 'eta0': 1, 'learning_rate': 'optimal', 'loss': 'log'}</td>\n",
       "      <td>0.895238</td>\n",
       "      <td>0.046657</td>\n",
       "      <td>4</td>\n",
       "    </tr>\n",
       "    <tr>\n",
       "      <th>14</th>\n",
       "      <td>{'alpha': 0.01, 'eta0': 1, 'learning_rate': 'invscaling', 'loss': 'log'}</td>\n",
       "      <td>0.895238</td>\n",
       "      <td>0.046657</td>\n",
       "      <td>4</td>\n",
       "    </tr>\n",
       "    <tr>\n",
       "      <th>15</th>\n",
       "      <td>{'alpha': 0.01, 'eta0': 1, 'learning_rate': 'adaptive', 'loss': 'log'}</td>\n",
       "      <td>0.895238</td>\n",
       "      <td>0.046657</td>\n",
       "      <td>4</td>\n",
       "    </tr>\n",
       "    <tr>\n",
       "      <th>16</th>\n",
       "      <td>{'alpha': 1.0, 'eta0': 1, 'learning_rate': 'adaptive', 'loss': 'perceptron'}</td>\n",
       "      <td>0.895238</td>\n",
       "      <td>0.046657</td>\n",
       "      <td>4</td>\n",
       "    </tr>\n",
       "    <tr>\n",
       "      <th>17</th>\n",
       "      <td>{'alpha': 0.0001, 'eta0': 0.01, 'learning_rate': 'constant', 'loss': 'hinge'}</td>\n",
       "      <td>0.895238</td>\n",
       "      <td>0.055533</td>\n",
       "      <td>4</td>\n",
       "    </tr>\n",
       "    <tr>\n",
       "      <th>18</th>\n",
       "      <td>{'alpha': 0.0001, 'eta0': 0.01, 'learning_rate': 'adaptive', 'loss': 'hinge'}</td>\n",
       "      <td>0.895238</td>\n",
       "      <td>0.055533</td>\n",
       "      <td>4</td>\n",
       "    </tr>\n",
       "    <tr>\n",
       "      <th>19</th>\n",
       "      <td>{'alpha': 0.0001, 'eta0': 0.1, 'learning_rate': 'constant', 'loss': 'hinge'}</td>\n",
       "      <td>0.895238</td>\n",
       "      <td>0.055533</td>\n",
       "      <td>4</td>\n",
       "    </tr>\n",
       "  </tbody>\n",
       "</table>\n",
       "</div>"
      ],
      "text/plain": [
       "                                                                           params  \\\n",
       "0     {'alpha': 0.01, 'eta0': 0.01, 'learning_rate': 'constant', 'loss': 'hinge'}   \n",
       "1     {'alpha': 0.01, 'eta0': 0.01, 'learning_rate': 'adaptive', 'loss': 'hinge'}   \n",
       "2      {'alpha': 0.01, 'eta0': 1, 'learning_rate': 'invscaling', 'loss': 'hinge'}   \n",
       "3     {'alpha': 0.0001, 'eta0': 0.01, 'learning_rate': 'constant', 'loss': 'log'}   \n",
       "4     {'alpha': 0.0001, 'eta0': 0.01, 'learning_rate': 'adaptive', 'loss': 'log'}   \n",
       "5      {'alpha': 0.0001, 'eta0': 1, 'learning_rate': 'invscaling', 'loss': 'log'}   \n",
       "6      {'alpha': 0.001, 'eta0': 0.01, 'learning_rate': 'constant', 'loss': 'log'}   \n",
       "7      {'alpha': 0.001, 'eta0': 0.01, 'learning_rate': 'adaptive', 'loss': 'log'}   \n",
       "8       {'alpha': 0.001, 'eta0': 1, 'learning_rate': 'invscaling', 'loss': 'log'}   \n",
       "9        {'alpha': 0.01, 'eta0': 0.01, 'learning_rate': 'optimal', 'loss': 'log'}   \n",
       "10       {'alpha': 0.01, 'eta0': 0.1, 'learning_rate': 'constant', 'loss': 'log'}   \n",
       "11        {'alpha': 0.01, 'eta0': 0.1, 'learning_rate': 'optimal', 'loss': 'log'}   \n",
       "12       {'alpha': 0.01, 'eta0': 0.1, 'learning_rate': 'adaptive', 'loss': 'log'}   \n",
       "13          {'alpha': 0.01, 'eta0': 1, 'learning_rate': 'optimal', 'loss': 'log'}   \n",
       "14       {'alpha': 0.01, 'eta0': 1, 'learning_rate': 'invscaling', 'loss': 'log'}   \n",
       "15         {'alpha': 0.01, 'eta0': 1, 'learning_rate': 'adaptive', 'loss': 'log'}   \n",
       "16   {'alpha': 1.0, 'eta0': 1, 'learning_rate': 'adaptive', 'loss': 'perceptron'}   \n",
       "17  {'alpha': 0.0001, 'eta0': 0.01, 'learning_rate': 'constant', 'loss': 'hinge'}   \n",
       "18  {'alpha': 0.0001, 'eta0': 0.01, 'learning_rate': 'adaptive', 'loss': 'hinge'}   \n",
       "19   {'alpha': 0.0001, 'eta0': 0.1, 'learning_rate': 'constant', 'loss': 'hinge'}   \n",
       "\n",
       "    mean_test_score  std_test_score  rank_test_score  \n",
       "0          0.904762        0.052164                1  \n",
       "1          0.904762        0.052164                1  \n",
       "2          0.904762        0.052164                1  \n",
       "3          0.895238        0.046657                4  \n",
       "4          0.895238        0.046657                4  \n",
       "5          0.895238        0.046657                4  \n",
       "6          0.895238        0.046657                4  \n",
       "7          0.895238        0.046657                4  \n",
       "8          0.895238        0.046657                4  \n",
       "9          0.895238        0.046657                4  \n",
       "10         0.895238        0.046657                4  \n",
       "11         0.895238        0.046657                4  \n",
       "12         0.895238        0.046657                4  \n",
       "13         0.895238        0.046657                4  \n",
       "14         0.895238        0.046657                4  \n",
       "15         0.895238        0.046657                4  \n",
       "16         0.895238        0.046657                4  \n",
       "17         0.895238        0.055533                4  \n",
       "18         0.895238        0.055533                4  \n",
       "19         0.895238        0.055533                4  "
      ]
     },
     "execution_count": 37,
     "metadata": {},
     "output_type": "execute_result"
    }
   ],
   "source": [
    "pandas.options.display.max_colwidth = 100\n",
    "df.sort_values(['mean_test_score','std_test_score','rank_test_score'],\n",
    "               ascending = [False,True,True],\n",
    "               inplace=True)\n",
    "df.reset_index(drop=True,inplace=True)\n",
    "df[['params','mean_test_score','std_test_score','rank_test_score']].head(20)"
   ]
  },
  {
   "cell_type": "code",
   "execution_count": 38,
   "metadata": {},
   "outputs": [
    {
     "data": {
      "text/plain": [
       "SGDClassifier(alpha=0.01, eta0=0.01, learning_rate='constant', random_state=0)"
      ]
     },
     "execution_count": 38,
     "metadata": {},
     "output_type": "execute_result"
    }
   ],
   "source": [
    "cv.best_estimator_"
   ]
  },
  {
   "cell_type": "markdown",
   "metadata": {},
   "source": [
    "Seleccionamos la mejor configuración de hyper parámetros."
   ]
  },
  {
   "cell_type": "code",
   "execution_count": 39,
   "metadata": {},
   "outputs": [
    {
     "data": {
      "text/plain": [
       "{'alpha': 0.01, 'eta0': 0.01, 'learning_rate': 'constant', 'loss': 'hinge'}"
      ]
     },
     "execution_count": 39,
     "metadata": {},
     "output_type": "execute_result"
    }
   ],
   "source": [
    "best_model = df.loc[df['rank_test_score'].idxmin()]['params']\n",
    "best_model"
   ]
  },
  {
   "cell_type": "code",
   "execution_count": 40,
   "metadata": {},
   "outputs": [],
   "source": [
    "model = SGDClassifier(**best_model, random_state=0)\n",
    "classifier = model.fit(X_train, y_train)"
   ]
  },
  {
   "cell_type": "code",
   "execution_count": 41,
   "metadata": {},
   "outputs": [],
   "source": [
    "y_train_pred = model.predict(X_train)\n",
    "y_test_pred = model.predict(X_test)"
   ]
  },
  {
   "cell_type": "code",
   "execution_count": 42,
   "metadata": {},
   "outputs": [
    {
     "name": "stdout",
     "output_type": "stream",
     "text": [
      "\n",
      "Evaluación\n",
      "\n",
      "Reporte de Clasificiación:\n",
      "               precision    recall  f1-score   support\n",
      "\n",
      "        AUTO       0.95      1.00      0.97        39\n",
      "   SENTENCIA       1.00      0.67      0.80         6\n",
      "\n",
      "    accuracy                           0.96        45\n",
      "   macro avg       0.98      0.83      0.89        45\n",
      "weighted avg       0.96      0.96      0.95        45\n",
      "\n",
      "Accuracy:0.96\n",
      "Precision:0.98\n",
      "Recall:0.83\n",
      "F1 score:0.89\n",
      "\n",
      "Matriz de Confusión \n",
      "\tTP:  4 \tFP:  0 \n",
      "\tFN:  2 \tTN: 39\n"
     ]
    }
   ],
   "source": [
    "tn, fp, fn, tp = confusion_matrix(y_test, y_test_pred).ravel()\n",
    "accuracy = accuracy_score(y_test, y_test_pred)\n",
    "precision = precision_score(y_test, y_test_pred, average=\"macro\")\n",
    "recall = recall_score(y_test, y_test_pred, average=\"macro\")\n",
    "f1 = f1_score(y_test, y_test_pred, average=\"macro\")\n",
    "\n",
    "print('\\nEvaluación')\n",
    "print('\\nReporte de Clasificiación:\\n', classification_report(y_test, y_test_pred))\n",
    "print(f'Accuracy:{accuracy:{0.2}}')\n",
    "print(f'Precision:{precision:{0.2}}')\n",
    "print(f'Recall:{recall:{0.2}}')\n",
    "print(f'F1 score:{f1:{0.2}}')\n",
    "print(f'\\nMatriz de Confusión \\n\\tTP:{tp:{3}} \\tFP:{fp:{3}} \\n\\tFN:{fn:{3}} \\tTN:{tn:{3}}')    "
   ]
  },
  {
   "cell_type": "code",
   "execution_count": null,
   "metadata": {},
   "outputs": [],
   "source": []
  },
  {
   "cell_type": "markdown",
   "metadata": {
    "colab_type": "text",
    "id": "hN5s2dKtauww"
   },
   "source": [
    " ----------------------------------------------------------------------------------------------------------"
   ]
  },
  {
   "cell_type": "markdown",
   "metadata": {
    "colab_type": "text",
    "id": "i-uk_AAf5MSL"
   },
   "source": [
    "## Conclusiones"
   ]
  },
  {
   "cell_type": "markdown",
   "metadata": {
    "colab_type": "text",
    "id": "A9rpCJO4auwz"
   },
   "source": [
    " ----------------------------------------------------------------------------------------------------------"
   ]
  },
  {
   "cell_type": "markdown",
   "metadata": {
    "colab_type": "text",
    "id": "hXl82yFiauw0"
   },
   "source": [
    "### Entrega"
   ]
  },
  {
   "cell_type": "markdown",
   "metadata": {
    "colab_type": "text",
    "id": "hoAPkGzsauw1"
   },
   "source": [
    "Formato de entrega: Deberán utilizar esta notebook con los códigos con los que hicieron el análisis y los anaálisis y conclusiones despues de cada proceso. \n",
    "\n",
    "Fecha de entrega: 16/8"
   ]
  },
  {
   "cell_type": "markdown",
   "metadata": {
    "colab_type": "text",
    "id": "bGywguiPauw2"
   },
   "source": [
    " ----------------------------------------------------------------------------------------------------------"
   ]
  },
  {
   "cell_type": "code",
   "execution_count": null,
   "metadata": {},
   "outputs": [],
   "source": []
  }
 ],
 "metadata": {
  "colab": {
   "collapsed_sections": [
    "Z6DUCN4Cauwc",
    "oKPdix9Xauwh",
    "hXl82yFiauw0"
   ],
   "name": "Practico 3 - Introducción al Aprendizaje Supervisado.ipynb",
   "provenance": [],
   "toc_visible": true
  },
  "kernelspec": {
   "display_name": "Python [conda env:mentoria] *",
   "language": "python",
   "name": "conda-env-mentoria-py"
  },
  "language_info": {
   "codemirror_mode": {
    "name": "ipython",
    "version": 3
   },
   "file_extension": ".py",
   "mimetype": "text/x-python",
   "name": "python",
   "nbconvert_exporter": "python",
   "pygments_lexer": "ipython3",
   "version": "3.8.5"
  },
  "output_auto_scroll": true
 },
 "nbformat": 4,
 "nbformat_minor": 4
}
