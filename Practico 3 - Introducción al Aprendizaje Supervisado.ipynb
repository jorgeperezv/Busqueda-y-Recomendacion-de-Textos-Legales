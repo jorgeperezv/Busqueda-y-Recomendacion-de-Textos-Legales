{
 "cells": [
  {
   "cell_type": "markdown",
   "metadata": {
    "colab_type": "text",
    "id": "LFsxMdtMauwY"
   },
   "source": [
    "### Universidad Nacional de Córdoba - Facultad de Matemática, Astronomía, Física y Computación\n",
    "\n",
    "#### Diplomatura en Ciencia de Datos, Aprendizaje Automático y sus Aplicaciones 2020\n",
    "\n",
    "Búsqueda y Recomendación de Textos Legales - Análisis y Curación de Datos\n",
    "\n",
    "Mentor: Claudio Sarate"
   ]
  },
  {
   "cell_type": "markdown",
   "metadata": {
    "colab_type": "text",
    "id": "6tndFHvOJWOn"
   },
   "source": [
    "Integrantes:\n",
    "* Clara Quintana\n",
    "* Ezequiel Juarez\n",
    "* David Veisaga\n",
    "* Jorge Pérez "
   ]
  },
  {
   "cell_type": "markdown",
   "metadata": {
    "colab_type": "text",
    "id": "Z6DUCN4Cauwc"
   },
   "source": [
    "### Práctico de Introducción al Aprendizaje Automático"
   ]
  },
  {
   "cell_type": "markdown",
   "metadata": {
    "colab_type": "text",
    "id": "TjUT2z-eauwd"
   },
   "source": [
    "El objetivo de este práctico es desarrollar distintos modelos de clasificación para poder evaluar la performance y la exactitud de predicción de cada modelo."
   ]
  },
  {
   "cell_type": "markdown",
   "metadata": {
    "colab_type": "text",
    "id": "sE6B3U3Iauwe"
   },
   "source": [
    "### Requisitos iniciales"
   ]
  },
  {
   "cell_type": "markdown",
   "metadata": {
    "colab_type": "text",
    "id": "F07cHbOcauwg"
   },
   "source": [
    "El corpus debe estar ya depurado y debe poseer una columna con clases definidas previamente.\n",
    "\n",
    "Nota: es importante que la cantidad de las distintas clases sea medianamente balanceada para que el entrenamiento sea lo mas eficiente posible."
   ]
  },
  {
   "cell_type": "code",
   "execution_count": 52,
   "metadata": {
    "colab": {},
    "colab_type": "code",
    "executionInfo": {
     "elapsed": 1144,
     "status": "ok",
     "timestamp": 1597359868160,
     "user": {
      "displayName": "Jorge Pérez Villella",
      "photoUrl": "",
      "userId": "05752208885034813709"
     },
     "user_tz": 180
    },
    "id": "-tfU92ikiqqI"
   },
   "outputs": [],
   "source": [
    "import sys\n",
    "import pandas\n",
    "import matplotlib.pyplot as plt\n",
    "import numpy as np\n",
    "\n",
    "from sklearn.feature_extraction.text import CountVectorizer, TfidfVectorizer, HashingVectorizer\n",
    "from sklearn.model_selection import train_test_split, GridSearchCV\n",
    "from sklearn.pipeline import Pipeline\n",
    "from sklearn.linear_model import LogisticRegression\n",
    "from sklearn.naive_bayes import MultinomialNB\n",
    "from sklearn import ensemble\n",
    "from sklearn import svm\n",
    "from sklearn import metrics"
   ]
  },
  {
   "cell_type": "code",
   "execution_count": 2,
   "metadata": {
    "colab": {
     "base_uri": "https://localhost:8080/",
     "height": 120
    },
    "colab_type": "code",
    "executionInfo": {
     "elapsed": 21347,
     "status": "ok",
     "timestamp": 1597359899237,
     "user": {
      "displayName": "Jorge Pérez Villella",
      "photoUrl": "",
      "userId": "05752208885034813709"
     },
     "user_tz": 180
    },
    "id": "jRcDtV9siuxE",
    "outputId": "35d1579e-0725-4e42-a7ce-d3512cd0fe6b"
   },
   "outputs": [],
   "source": [
    "# Se verfica entorno de ejecución\n",
    "in_colab = \"google.colab\" in sys.modules\n",
    "\n",
    "if in_colab:\n",
    "    from google.colab import drive\n",
    "\n",
    "    drive.mount(\"/content/drive\")\n",
    "    BASE_DIR = \"/content/drive/My Drive/Diplo2020 Mentoria/\"\n",
    "else:\n",
    "    BASE_DIR = \"../\""
   ]
  },
  {
   "cell_type": "code",
   "execution_count": 3,
   "metadata": {
    "colab": {
     "base_uri": "https://localhost:8080/",
     "height": 197
    },
    "colab_type": "code",
    "executionInfo": {
     "elapsed": 1070,
     "status": "ok",
     "timestamp": 1597359902674,
     "user": {
      "displayName": "Jorge Pérez Villella",
      "photoUrl": "",
      "userId": "05752208885034813709"
     },
     "user_tz": 180
    },
    "id": "Ach9-FtsjKmv",
    "outputId": "93869852-ea4d-40e2-c532-59b0e927a4f6"
   },
   "outputs": [
    {
     "data": {
      "text/html": [
       "<div>\n",
       "<style scoped>\n",
       "    .dataframe tbody tr th:only-of-type {\n",
       "        vertical-align: middle;\n",
       "    }\n",
       "\n",
       "    .dataframe tbody tr th {\n",
       "        vertical-align: top;\n",
       "    }\n",
       "\n",
       "    .dataframe thead th {\n",
       "        text-align: right;\n",
       "    }\n",
       "</style>\n",
       "<table border=\"1\" class=\"dataframe\">\n",
       "  <thead>\n",
       "    <tr style=\"text-align: right;\">\n",
       "      <th></th>\n",
       "      <th>Unnamed: 0</th>\n",
       "      <th>TEXTO</th>\n",
       "      <th>DOCUMENTO</th>\n",
       "      <th>TIPO</th>\n",
       "    </tr>\n",
       "  </thead>\n",
       "  <tbody>\n",
       "    <tr>\n",
       "      <th>0</th>\n",
       "      <td>0</td>\n",
       "      <td>sala electoral comp.originaria tribunal superi...</td>\n",
       "      <td>../Datos/Electoral//A 001-2018 COOPI C MUN CAR...</td>\n",
       "      <td>AUTO</td>\n",
       "    </tr>\n",
       "    <tr>\n",
       "      <th>1</th>\n",
       "      <td>1</td>\n",
       "      <td>sala electoral comp.originaria tribunal superi...</td>\n",
       "      <td>../Datos/Electoral//A 002-2018 Denuncia R R RA...</td>\n",
       "      <td>AUTO</td>\n",
       "    </tr>\n",
       "    <tr>\n",
       "      <th>2</th>\n",
       "      <td>2</td>\n",
       "      <td>sala electoral comp.originaria tribunal superi...</td>\n",
       "      <td>../Datos/Electoral//A 003-2018 VEDIA FLORES Cr...</td>\n",
       "      <td>AUTO</td>\n",
       "    </tr>\n",
       "    <tr>\n",
       "      <th>3</th>\n",
       "      <td>3</td>\n",
       "      <td>sala electoral comp.originaria tribunal superi...</td>\n",
       "      <td>../Datos/Electoral//A 004-2018 FERNANDEZ Favio...</td>\n",
       "      <td>AUTO</td>\n",
       "    </tr>\n",
       "    <tr>\n",
       "      <th>4</th>\n",
       "      <td>4</td>\n",
       "      <td>sala electoral comp.originaria tribunal superi...</td>\n",
       "      <td>../Datos/Electoral//A 005-2018 ATANOR ADI ref.pdf</td>\n",
       "      <td>AUTO</td>\n",
       "    </tr>\n",
       "  </tbody>\n",
       "</table>\n",
       "</div>"
      ],
      "text/plain": [
       "   Unnamed: 0                                              TEXTO  \\\n",
       "0           0  sala electoral comp.originaria tribunal superi...   \n",
       "1           1  sala electoral comp.originaria tribunal superi...   \n",
       "2           2  sala electoral comp.originaria tribunal superi...   \n",
       "3           3  sala electoral comp.originaria tribunal superi...   \n",
       "4           4  sala electoral comp.originaria tribunal superi...   \n",
       "\n",
       "                                           DOCUMENTO  TIPO  \n",
       "0  ../Datos/Electoral//A 001-2018 COOPI C MUN CAR...  AUTO  \n",
       "1  ../Datos/Electoral//A 002-2018 Denuncia R R RA...  AUTO  \n",
       "2  ../Datos/Electoral//A 003-2018 VEDIA FLORES Cr...  AUTO  \n",
       "3  ../Datos/Electoral//A 004-2018 FERNANDEZ Favio...  AUTO  \n",
       "4  ../Datos/Electoral//A 005-2018 ATANOR ADI ref.pdf  AUTO  "
      ]
     },
     "execution_count": 3,
     "metadata": {},
     "output_type": "execute_result"
    }
   ],
   "source": [
    "train_data = BASE_DIR + \"corpus3.csv\"\n",
    "dataset = pandas.read_csv(train_data)\n",
    "dataset.head()"
   ]
  },
  {
   "cell_type": "code",
   "execution_count": 4,
   "metadata": {
    "colab": {
     "base_uri": "https://localhost:8080/",
     "height": 67
    },
    "colab_type": "code",
    "executionInfo": {
     "elapsed": 714,
     "status": "ok",
     "timestamp": 1597359905013,
     "user": {
      "displayName": "Jorge Pérez Villella",
      "photoUrl": "",
      "userId": "05752208885034813709"
     },
     "user_tz": 180
    },
    "id": "ZxmTeqLH4Bw2",
    "outputId": "9fbf5682-e3d3-4d44-9c4a-dce3b07a16c4"
   },
   "outputs": [
    {
     "data": {
      "text/plain": [
       "AUTO         125\n",
       "SENTENCIA     25\n",
       "Name: TIPO, dtype: int64"
      ]
     },
     "execution_count": 4,
     "metadata": {},
     "output_type": "execute_result"
    }
   ],
   "source": [
    "dataset['TIPO'].value_counts()"
   ]
  },
  {
   "cell_type": "markdown",
   "metadata": {
    "colab_type": "text",
    "id": "oKPdix9Xauwh"
   },
   "source": [
    "### Enunciado del práctico"
   ]
  },
  {
   "cell_type": "markdown",
   "metadata": {
    "colab_type": "text",
    "id": "likRo76Yauwj"
   },
   "source": [
    " ----------------------------------------------------------------------------------------------------------"
   ]
  },
  {
   "cell_type": "markdown",
   "metadata": {
    "colab_type": "text",
    "id": "i1u9Iwv3auwk"
   },
   "source": [
    "Transformar el texto en vectores numéricos utilizando scikit-learn. Los procesos de vectorización, clasificación y evaluación de performance pueden ser hechos paso a paso o mediante el uso de pipelines para mayor eficiencia."
   ]
  },
  {
   "cell_type": "markdown",
   "metadata": {
    "colab_type": "text",
    "id": "8G0hZ1UHy7x4"
   },
   "source": [
    "Scikit-learn ofrece 3 modelos de vectorización:\n",
    "\n",
    "* *CountVectorizer*: Convert a collection of text documents to a matrix of token counts\n",
    "* *TfidfVectorizer*: Convert a collection of raw documents to a matrix of TF-IDF features.\n",
    "*  *HashingVectorizer*: Convert a collection of text documents to a matrix of token occurrences\n",
    "\n",
    "Comparamos los 3 modelos usando el primer documento del corpus."
   ]
  },
  {
   "cell_type": "code",
   "execution_count": null,
   "metadata": {
    "colab": {},
    "colab_type": "code",
    "id": "m-gUnniLz4DR"
   },
   "outputs": [],
   "source": [
    "# Texto del primer documento\n",
    "texto = dataset[0:1].TEXTO"
   ]
  },
  {
   "cell_type": "markdown",
   "metadata": {
    "colab_type": "text",
    "id": "Wp4Cs3EdyViK"
   },
   "source": [
    "*CountVectorizer*\n",
    "\n",
    "El recuento de palabras es un buen punto de partida, pero es muy básico. Un problema con los recuentos simples es que algunas palabras como “testamento” aparecerán muchas veces y sus recuentos grandes no serán muy significativos en los vectores codificados."
   ]
  },
  {
   "cell_type": "code",
   "execution_count": null,
   "metadata": {
    "colab": {},
    "colab_type": "code",
    "id": "gW5UDhi_nCxp"
   },
   "outputs": [],
   "source": [
    "vectorizer_1 = CountVectorizer()"
   ]
  },
  {
   "cell_type": "code",
   "execution_count": null,
   "metadata": {
    "colab": {
     "base_uri": "https://localhost:8080/",
     "height": 117
    },
    "colab_type": "code",
    "executionInfo": {
     "elapsed": 993,
     "status": "ok",
     "timestamp": 1597186415950,
     "user": {
      "displayName": "Jorge Pérez Villella",
      "photoUrl": "",
      "userId": "05752208885034813709"
     },
     "user_tz": 180
    },
    "id": "b-nNY2yonQC_",
    "outputId": "82ef2795-020a-4438-bd59-d68ca9c253d5"
   },
   "outputs": [],
   "source": [
    "# tokenizar y construir el vocabulario\n",
    "vectorizer_1.fit(texto)"
   ]
  },
  {
   "cell_type": "code",
   "execution_count": null,
   "metadata": {
    "colab": {
     "base_uri": "https://localhost:8080/",
     "height": 53
    },
    "colab_type": "code",
    "executionInfo": {
     "elapsed": 1128,
     "status": "ok",
     "timestamp": 1597186443930,
     "user": {
      "displayName": "Jorge Pérez Villella",
      "photoUrl": "",
      "userId": "05752208885034813709"
     },
     "user_tz": 180
    },
    "id": "AozY8ICVnQ9E",
    "outputId": "6870aba9-740e-4221-beba-f651bfdbeb7c"
   },
   "outputs": [],
   "source": [
    "# resumen\n",
    "print(vectorizer_1.vocabulary_)"
   ]
  },
  {
   "cell_type": "code",
   "execution_count": null,
   "metadata": {
    "colab": {},
    "colab_type": "code",
    "id": "JmRFEx4ku1u6"
   },
   "outputs": [],
   "source": [
    "# codificador de documentos\n",
    "vector_1 = vectorizer_1.transform(texto)"
   ]
  },
  {
   "cell_type": "code",
   "execution_count": null,
   "metadata": {
    "colab": {
     "base_uri": "https://localhost:8080/",
     "height": 583
    },
    "colab_type": "code",
    "executionInfo": {
     "elapsed": 1710,
     "status": "ok",
     "timestamp": 1597186596972,
     "user": {
      "displayName": "Jorge Pérez Villella",
      "photoUrl": "",
      "userId": "05752208885034813709"
     },
     "user_tz": 180
    },
    "id": "fm9ttUKAvVIY",
    "outputId": "3876f297-c1c0-48f6-891d-c0cfaf598c60"
   },
   "outputs": [],
   "source": [
    "# resumir vector codificado\n",
    "print(vector_1.shape)\n",
    "print(type(vector_1))\n",
    "print(vector_1.toarray())"
   ]
  },
  {
   "cell_type": "markdown",
   "metadata": {
    "colab_type": "text",
    "id": "B7BdpWAxyvaD"
   },
   "source": [
    "*TfidfVectorizer*\n",
    "\n",
    "TF-IDF es un acrónimo que significa Frecuencia de Término – Frecuencia Inversa de Documento que son los componentes de las puntuaciones resultantes asignadas a cada palabra.\n",
    "\n",
    "* **Término Frecuencia**: Esto resume la frecuencia con la que una palabra dada aparece dentro de un documento.\n",
    "* **Frecuencia inversa de documentos**: Esto reduce la escala de las palabras que aparecen mucho en los documentos.\n",
    "\n",
    "El peso que tiene cada palabra ($w_i,_j$) es directamente proporcional a las veces que aparece en el documento ($tf_i,_j$) e inversamente proporcional a las veces que aparece en todos los documentos ($df_i$).\n",
    "\n",
    "$$ w_i,_j = tf_i,_j * log \\frac{N}{df_i} $$\n",
    "\n",
    "$tf_i,_j$ Frecuencia de la palabra $i$ en el documento $j$.\n",
    "\n",
    "$df_i$ Número de documentos que contienen la palabra $i$.\n",
    "\n",
    "$N$ Número total de documentos.\n",
    "\n",
    "\n",
    "TF-IDF son puntuaciones de frecuencia de palabras que tratan de resaltar las palabras que son más interesantes, por ejemplo, frecuentes en un documento pero no en todos los documentos.\n",
    "\n",
    "Los recuentos y las frecuencias pueden ser muy útiles, pero una limitación de estos métodos es que el vocabulario puede llegar a ser muy amplio. Esto, a su vez, requerirá grandes vectores para codificar los documentos e impondrá grandes requisitos a la memoria y a los algoritmos de ralentización. "
   ]
  },
  {
   "cell_type": "code",
   "execution_count": null,
   "metadata": {
    "colab": {},
    "colab_type": "code",
    "id": "DoI9NSQFy2ME"
   },
   "outputs": [],
   "source": [
    "vectorizer_2 = TfidfVectorizer()"
   ]
  },
  {
   "cell_type": "code",
   "execution_count": null,
   "metadata": {
    "colab": {
     "base_uri": "https://localhost:8080/",
     "height": 133
    },
    "colab_type": "code",
    "executionInfo": {
     "elapsed": 1239,
     "status": "ok",
     "timestamp": 1597187961749,
     "user": {
      "displayName": "Jorge Pérez Villella",
      "photoUrl": "",
      "userId": "05752208885034813709"
     },
     "user_tz": 180
    },
    "id": "GQ5Ur13N0ibb",
    "outputId": "cdb0c540-4bbd-4159-898f-b5d1b5b218ff"
   },
   "outputs": [],
   "source": [
    "# tokenizar y construir el vocabulario\n",
    "vectorizer_2.fit(texto)"
   ]
  },
  {
   "cell_type": "code",
   "execution_count": null,
   "metadata": {
    "colab": {
     "base_uri": "https://localhost:8080/",
     "height": 587
    },
    "colab_type": "code",
    "executionInfo": {
     "elapsed": 699,
     "status": "ok",
     "timestamp": 1597187988617,
     "user": {
      "displayName": "Jorge Pérez Villella",
      "photoUrl": "",
      "userId": "05752208885034813709"
     },
     "user_tz": 180
    },
    "id": "j6vqBC_n0pCq",
    "outputId": "c0786461-8435-471b-f81c-3a7d3f5ed67f"
   },
   "outputs": [],
   "source": [
    "# resumir\n",
    "print(vectorizer_2.vocabulary_)\n",
    "print(vectorizer_2.idf_)"
   ]
  },
  {
   "cell_type": "code",
   "execution_count": null,
   "metadata": {
    "colab": {},
    "colab_type": "code",
    "id": "hreUwZj601R7"
   },
   "outputs": [],
   "source": [
    "# documento codificado\n",
    "vector_2 = vectorizer_2.transform(texto)"
   ]
  },
  {
   "cell_type": "code",
   "execution_count": null,
   "metadata": {
    "colab": {
     "base_uri": "https://localhost:8080/",
     "height": 1000
    },
    "colab_type": "code",
    "executionInfo": {
     "elapsed": 1134,
     "status": "ok",
     "timestamp": 1597188113927,
     "user": {
      "displayName": "Jorge Pérez Villella",
      "photoUrl": "",
      "userId": "05752208885034813709"
     },
     "user_tz": 180
    },
    "id": "XhysczUe1Hns",
    "outputId": "ff0fe514-bd8e-4fd9-bc7a-3cb423b6cd87"
   },
   "outputs": [],
   "source": [
    "# resumir vector codificado\n",
    "print(vector_2.shape)\n",
    "print(vector_2.toarray())"
   ]
  },
  {
   "cell_type": "markdown",
   "metadata": {
    "colab_type": "text",
    "id": "I2V544vPz-7n"
   },
   "source": [
    "*HashingVectorizer*\n",
    "\n",
    "Podemos usar un hash de palabras para convertirlas en números enteros. La ventaja de esto, es que permite no tener vocabulario y poder elegir un vector de longitud fija arbitraria. Una desventaja es que el hash es una función unidireccional, por lo que no hay forma de volver a convertir la codificación en una palabra.\n",
    "\n",
    "La clase HashingVectorizer implementa este enfoque que se puede utilizar para convertir palabras en hash de forma coherente y, a continuación, convertir en token y codificar documentos según sea necesario."
   ]
  },
  {
   "cell_type": "code",
   "execution_count": null,
   "metadata": {
    "colab": {},
    "colab_type": "code",
    "id": "M5V73PLX7vRg"
   },
   "outputs": [],
   "source": [
    "vectorizer_3 = HashingVectorizer(n_features=300)"
   ]
  },
  {
   "cell_type": "code",
   "execution_count": null,
   "metadata": {
    "colab": {},
    "colab_type": "code",
    "id": "9Ubu0NgR7sz7"
   },
   "outputs": [],
   "source": [
    "# documento codificado\n",
    "vector_3 = vectorizer_3.transform(texto)"
   ]
  },
  {
   "cell_type": "code",
   "execution_count": null,
   "metadata": {
    "colab": {
     "base_uri": "https://localhost:8080/",
     "height": 867
    },
    "colab_type": "code",
    "executionInfo": {
     "elapsed": 686,
     "status": "ok",
     "timestamp": 1597190135828,
     "user": {
      "displayName": "Jorge Pérez Villella",
      "photoUrl": "",
      "userId": "05752208885034813709"
     },
     "user_tz": 180
    },
    "id": "Ulib75Eq7pP9",
    "outputId": "8e92b2f5-5592-49bf-8b30-24826a6a9e88"
   },
   "outputs": [],
   "source": [
    "# resumir vector codificado\n",
    "print(vector_3.shape)\n",
    "print(vector_3.toarray())"
   ]
  },
  {
   "cell_type": "markdown",
   "metadata": {
    "colab_type": "text",
    "id": "d9RucZ6r_d-F"
   },
   "source": [
    "Al ejecutar el ejemplo se codifica el documento de muestra como una matriz dispersa de 300 elementos. Los valores del documento codificado corresponden a recuentos de palabras normalizados por defecto en el rango de -1 a 1, pero se pueden hacer recuentos enteros simples cambiando la configuración por defecto."
   ]
  },
  {
   "cell_type": "markdown",
   "metadata": {
    "colab_type": "text",
    "id": "4TE8TH-E_17O"
   },
   "source": [
    "De los 3 métodos posibles utilizaremos TfidfVectorizer"
   ]
  },
  {
   "cell_type": "markdown",
   "metadata": {
    "colab_type": "text",
    "id": "NUUyaTF8auwm"
   },
   "source": [
    "### Dividir los datos en entrenamiento y validación con un procentaje de 70% para entrenamiento y 30% para validación con shuffle, seleccionar las features X e Y. "
   ]
  },
  {
   "cell_type": "code",
   "execution_count": 5,
   "metadata": {},
   "outputs": [
    {
     "data": {
      "text/plain": [
       "<150x19220 sparse matrix of type '<class 'numpy.float64'>'\n",
       "\twith 204569 stored elements in Compressed Sparse Row format>"
      ]
     },
     "execution_count": 5,
     "metadata": {},
     "output_type": "execute_result"
    }
   ],
   "source": [
    "vectorizer = TfidfVectorizer()\n",
    "vectorizer.fit_transform(dataset['TEXTO'])"
   ]
  },
  {
   "cell_type": "code",
   "execution_count": 6,
   "metadata": {
    "colab": {},
    "colab_type": "code",
    "executionInfo": {
     "elapsed": 791,
     "status": "ok",
     "timestamp": 1597360224486,
     "user": {
      "displayName": "Jorge Pérez Villella",
      "photoUrl": "",
      "userId": "05752208885034813709"
     },
     "user_tz": 180
    },
    "id": "dEwH0zG2ji9G"
   },
   "outputs": [],
   "source": [
    "# División entre instancias vectorizadas y etiquetas\n",
    "X, y = vectorizer.transform(dataset[\"TEXTO\"]), dataset[\"TIPO\"]"
   ]
  },
  {
   "cell_type": "code",
   "execution_count": 7,
   "metadata": {},
   "outputs": [],
   "source": [
    "# división entre entrenamiento y evaluación\n",
    "X_train, X_test, y_train, y_test = train_test_split(X, y, test_size=0.3, random_state=0, shuffle=True)"
   ]
  },
  {
   "cell_type": "markdown",
   "metadata": {
    "colab_type": "text",
    "id": "4IVpfRDPauwm"
   },
   "source": [
    " ----------------------------------------------------------------------------------------------------------"
   ]
  },
  {
   "cell_type": "markdown",
   "metadata": {
    "colab_type": "text",
    "id": "Gl4z_0dYauwo"
   },
   "source": [
    "### Clasificar utilizando los datos de entrenamiento mediante Logistic Regresion, Naive Bayes, Random Forest y SVM."
   ]
  },
  {
   "cell_type": "code",
   "execution_count": 43,
   "metadata": {},
   "outputs": [],
   "source": [
    "def get_metricas(titulo, y_train, y_train_pred, y_test, y_test_pred):\n",
    "    print(titulo)\n",
    "    print('-' * len(titulo))\n",
    "\n",
    "    # Datos de Evaluación\n",
    "    tn, fp, fn, tp = metrics.confusion_matrix(y_test, y_test_pred).ravel()\n",
    "    accuracy = metrics.accuracy_score(y_test, y_test_pred)\n",
    "    precision = metrics.precision_score(y_test, y_test_pred, average=\"macro\")\n",
    "    recall = metrics.recall_score(y_test, y_test_pred, average=\"macro\")\n",
    "    f1 = metrics.f1_score(y_test, y_test_pred, average=\"macro\")\n",
    "\n",
    "    print('\\nEvaluación')\n",
    "    print('\\nReporte de Clasificiación:\\n', metrics.classification_report(y_test, y_test_pred))\n",
    "    print(f'Accuracy:{accuracy:{0.2}}')\n",
    "    print(f'Precision:{precision:{0.2}}')\n",
    "    print(f'Recall:{recall:{0.2}}')\n",
    "    print(f'F1 score:{f1:{0.2}}')\n",
    "        \n",
    "    return tp, fp, tn, fn, accuracy, precision, recall, f1"
   ]
  },
  {
   "cell_type": "markdown",
   "metadata": {},
   "source": [
    "Defino una función para entrenar e imprimer métricas de cada uno de los modelos a comparar. \n",
    "\n",
    "* Los parámetros de entrada son los datos de entrenaimiento y evaluación.\n",
    "\n",
    "* Los parámetros de salida son las métricas de los datos de evaluación.\n"
   ]
  },
  {
   "cell_type": "code",
   "execution_count": 44,
   "metadata": {},
   "outputs": [],
   "source": [
    "def entreno_modelo(titulo, model, X_train, y_train, X_test, y_test):\n",
    "    model.fit(X_train, y_train)\n",
    "   \n",
    "    y_train_pred = model.predict(X_train)\n",
    "    y_test_pred = model.predict(X_test)    \n",
    "\n",
    "    tp, fp, tn, fn, accuracy, precision, recall, f1 = get_metricas(titulo, y_train, y_train_pred, y_test, y_test_pred)\n",
    "    \n",
    "    print('\\nMatriz de Confusión')\n",
    "    metrics.plot_confusion_matrix(model, X_test, y_test, cmap=plt.cm.Blues)\n",
    "    \n",
    "    metrics.plot_roc_curve(model, X_test, y_test)\n",
    "    plt.show()\n",
    "\n",
    "    return tp, fp, tn, fn, accuracy, precision, recall, f1"
   ]
  },
  {
   "cell_type": "markdown",
   "metadata": {
    "colab_type": "text",
    "id": "iZYjYnaXauwp"
   },
   "source": [
    " ----------------------------------------------------------------------------------------------------------"
   ]
  },
  {
   "cell_type": "markdown",
   "metadata": {
    "colab_type": "text",
    "id": "yVwtrj_cauwq"
   },
   "source": [
    "### Realizar las predicciones para cada caso generando la matriz de confusión (plotear) y los reportes de performance con valores para precision, recall, f1-score y support."
   ]
  },
  {
   "cell_type": "markdown",
   "metadata": {},
   "source": [
    "Guardaremos las metrícas en la siguiente variable:"
   ]
  },
  {
   "cell_type": "code",
   "execution_count": 45,
   "metadata": {},
   "outputs": [],
   "source": [
    "model_list = []"
   ]
  },
  {
   "cell_type": "code",
   "execution_count": 46,
   "metadata": {},
   "outputs": [
    {
     "name": "stdout",
     "output_type": "stream",
     "text": [
      "Logistic Regretion\n",
      "------------------\n",
      "\n",
      "Evaluación\n",
      "\n",
      "Reporte de Clasificiación:\n",
      "               precision    recall  f1-score   support\n",
      "\n",
      "        AUTO       0.95      1.00      0.97        39\n",
      "   SENTENCIA       1.00      0.67      0.80         6\n",
      "\n",
      "    accuracy                           0.96        45\n",
      "   macro avg       0.98      0.83      0.89        45\n",
      "weighted avg       0.96      0.96      0.95        45\n",
      "\n",
      "Accuracy:0.96\n",
      "Precision:0.98\n",
      "Recall:0.83\n",
      "F1 score:0.89\n",
      "\n",
      "Matriz de Confusión\n"
     ]
    },
    {
     "data": {
      "image/png": "[encoded data removed]",
      "text/plain": [
       "<Figure size 432x288 with 2 Axes>"
      ]
     },
     "metadata": {
      "needs_background": "light"
     },
     "output_type": "display_data"
    },
    {
     "data": {
      "image/png": "[encoded data removed]",
      "text/plain": [
       "<Figure size 432x288 with 1 Axes>"
      ]
     },
     "metadata": {
      "needs_background": "light"
     },
     "output_type": "display_data"
    }
   ],
   "source": [
    "# Entreno con Logistic Regretion\n",
    "tp, fp, tn, fn, accuracy, precision, recall, f1 = entreno_modelo('Logistic Regretion', LogisticRegression(solver='lbfgs'), X_train, y_train, X_test, y_test)\n",
    "model_list.append(['Logistic Regretion', tp, fp, tn, fn, accuracy, precision, recall, f1])"
   ]
  },
  {
   "cell_type": "code",
   "execution_count": 47,
   "metadata": {},
   "outputs": [
    {
     "name": "stdout",
     "output_type": "stream",
     "text": [
      "Naive Bayes\n",
      "-----------\n",
      "\n",
      "Evaluación\n",
      "\n",
      "Reporte de Clasificiación:\n",
      "               precision    recall  f1-score   support\n",
      "\n",
      "        AUTO       0.87      1.00      0.93        39\n",
      "   SENTENCIA       0.00      0.00      0.00         6\n",
      "\n",
      "    accuracy                           0.87        45\n",
      "   macro avg       0.43      0.50      0.46        45\n",
      "weighted avg       0.75      0.87      0.80        45\n",
      "\n",
      "Accuracy:0.87\n",
      "Precision:0.43\n",
      "Recall:0.5\n",
      "F1 score:0.46\n",
      "\n",
      "Matriz de Confusión\n"
     ]
    },
    {
     "name": "stderr",
     "output_type": "stream",
     "text": [
      "C:\\Users\\jperezv\\Anaconda3\\envs\\mentoria\\lib\\site-packages\\sklearn\\metrics\\_classification.py:1221: UndefinedMetricWarning: Precision is ill-defined and being set to 0.0 in labels with no predicted samples. Use `zero_division` parameter to control this behavior.\n",
      "  _warn_prf(average, modifier, msg_start, len(result))\n",
      "C:\\Users\\jperezv\\Anaconda3\\envs\\mentoria\\lib\\site-packages\\sklearn\\metrics\\_classification.py:1221: UndefinedMetricWarning: Precision and F-score are ill-defined and being set to 0.0 in labels with no predicted samples. Use `zero_division` parameter to control this behavior.\n",
      "  _warn_prf(average, modifier, msg_start, len(result))\n"
     ]
    },
    {
     "data": {
      "image/png": "[encoded data removed]",
      "text/plain": [
       "<Figure size 432x288 with 2 Axes>"
      ]
     },
     "metadata": {
      "needs_background": "light"
     },
     "output_type": "display_data"
    },
    {
     "data": {
      "image/png": "[encoded data removed]",
      "text/plain": [
       "<Figure size 432x288 with 1 Axes>"
      ]
     },
     "metadata": {
      "needs_background": "light"
     },
     "output_type": "display_data"
    }
   ],
   "source": [
    "# Entreno con Naive Bayes\n",
    "tp, fp, tn, fn, accuracy, precision, recall, f1 = entreno_modelo('Naive Bayes', MultinomialNB(), X_train, y_train, X_test, y_test)\n",
    "model_list.append(['Naive Bayes', tp, fp, tn, fn, accuracy, precision, recall, f1])"
   ]
  },
  {
   "cell_type": "code",
   "execution_count": 48,
   "metadata": {},
   "outputs": [
    {
     "name": "stdout",
     "output_type": "stream",
     "text": [
      "Random Forest\n",
      "-------------\n",
      "\n",
      "Evaluación\n",
      "\n",
      "Reporte de Clasificiación:\n",
      "               precision    recall  f1-score   support\n",
      "\n",
      "        AUTO       0.95      1.00      0.97        39\n",
      "   SENTENCIA       1.00      0.67      0.80         6\n",
      "\n",
      "    accuracy                           0.96        45\n",
      "   macro avg       0.98      0.83      0.89        45\n",
      "weighted avg       0.96      0.96      0.95        45\n",
      "\n",
      "Accuracy:0.96\n",
      "Precision:0.98\n",
      "Recall:0.83\n",
      "F1 score:0.89\n",
      "\n",
      "Matriz de Confusión\n"
     ]
    },
    {
     "data": {
      "image/png": "[encoded data removed]",
      "text/plain": [
       "<Figure size 432x288 with 2 Axes>"
      ]
     },
     "metadata": {
      "needs_background": "light"
     },
     "output_type": "display_data"
    },
    {
     "data": {
      "image/png": "[encoded data removed]",
      "text/plain": [
       "<Figure size 432x288 with 1 Axes>"
      ]
     },
     "metadata": {
      "needs_background": "light"
     },
     "output_type": "display_data"
    }
   ],
   "source": [
    "# Entreno con Random Forest\n",
    "tp, fp, tn, fn, accuracy, precision, recall, f1 = entreno_modelo('Random Forest',ensemble.RandomForestClassifier(random_state=0), X_train, y_train, X_test, y_test)\n",
    "model_list.append(['Random Forest', tp, fp, tn, fn, accuracy, precision, recall, f1])"
   ]
  },
  {
   "cell_type": "code",
   "execution_count": 49,
   "metadata": {},
   "outputs": [
    {
     "name": "stdout",
     "output_type": "stream",
     "text": [
      "SVM\n",
      "---\n",
      "\n",
      "Evaluación\n",
      "\n",
      "Reporte de Clasificiación:\n",
      "               precision    recall  f1-score   support\n",
      "\n",
      "        AUTO       0.95      1.00      0.97        39\n",
      "   SENTENCIA       1.00      0.67      0.80         6\n",
      "\n",
      "    accuracy                           0.96        45\n",
      "   macro avg       0.98      0.83      0.89        45\n",
      "weighted avg       0.96      0.96      0.95        45\n",
      "\n",
      "Accuracy:0.96\n",
      "Precision:0.98\n",
      "Recall:0.83\n",
      "F1 score:0.89\n",
      "\n",
      "Matriz de Confusión\n"
     ]
    },
    {
     "data": {
      "image/png": "[encoded data removed]",
      "text/plain": [
       "<Figure size 432x288 with 2 Axes>"
      ]
     },
     "metadata": {
      "needs_background": "light"
     },
     "output_type": "display_data"
    },
    {
     "data": {
      "image/png": "[encoded data removed]",
      "text/plain": [
       "<Figure size 432x288 with 1 Axes>"
      ]
     },
     "metadata": {
      "needs_background": "light"
     },
     "output_type": "display_data"
    }
   ],
   "source": [
    "# Entreno con SVM\n",
    "tp, fp, tn, fn, accuracy, precision, recall, f1 = entreno_modelo('SVM', svm.SVC(), X_train, y_train, X_test, y_test)\n",
    "model_list.append(['SVM', tp, fp, tn, fn, accuracy, precision, recall, f1])"
   ]
  },
  {
   "cell_type": "markdown",
   "metadata": {
    "colab_type": "text",
    "id": "LKWHC4gTauwr"
   },
   "source": [
    " ----------------------------------------------------------------------------------------------------------"
   ]
  },
  {
   "cell_type": "markdown",
   "metadata": {
    "colab_type": "text",
    "id": "bORD4gTEauwt"
   },
   "source": [
    "### Determinar el modelo con mejor performance."
   ]
  },
  {
   "cell_type": "code",
   "execution_count": 50,
   "metadata": {},
   "outputs": [
    {
     "data": {
      "text/html": [
       "<div>\n",
       "<style scoped>\n",
       "    .dataframe tbody tr th:only-of-type {\n",
       "        vertical-align: middle;\n",
       "    }\n",
       "\n",
       "    .dataframe tbody tr th {\n",
       "        vertical-align: top;\n",
       "    }\n",
       "\n",
       "    .dataframe thead th {\n",
       "        text-align: right;\n",
       "    }\n",
       "</style>\n",
       "<table border=\"1\" class=\"dataframe\">\n",
       "  <thead>\n",
       "    <tr style=\"text-align: right;\">\n",
       "      <th></th>\n",
       "      <th>modelo</th>\n",
       "      <th>tp</th>\n",
       "      <th>fp</th>\n",
       "      <th>tn</th>\n",
       "      <th>fn</th>\n",
       "      <th>accuracy</th>\n",
       "      <th>precision</th>\n",
       "      <th>recall</th>\n",
       "      <th>f1</th>\n",
       "    </tr>\n",
       "  </thead>\n",
       "  <tbody>\n",
       "    <tr>\n",
       "      <th>0</th>\n",
       "      <td>Logistic Regretion</td>\n",
       "      <td>4</td>\n",
       "      <td>0</td>\n",
       "      <td>39</td>\n",
       "      <td>2</td>\n",
       "      <td>0.955556</td>\n",
       "      <td>0.975610</td>\n",
       "      <td>0.833333</td>\n",
       "      <td>0.887500</td>\n",
       "    </tr>\n",
       "    <tr>\n",
       "      <th>2</th>\n",
       "      <td>Random Forest</td>\n",
       "      <td>4</td>\n",
       "      <td>0</td>\n",
       "      <td>39</td>\n",
       "      <td>2</td>\n",
       "      <td>0.955556</td>\n",
       "      <td>0.975610</td>\n",
       "      <td>0.833333</td>\n",
       "      <td>0.887500</td>\n",
       "    </tr>\n",
       "    <tr>\n",
       "      <th>3</th>\n",
       "      <td>SVM</td>\n",
       "      <td>4</td>\n",
       "      <td>0</td>\n",
       "      <td>39</td>\n",
       "      <td>2</td>\n",
       "      <td>0.955556</td>\n",
       "      <td>0.975610</td>\n",
       "      <td>0.833333</td>\n",
       "      <td>0.887500</td>\n",
       "    </tr>\n",
       "    <tr>\n",
       "      <th>1</th>\n",
       "      <td>Naive Bayes</td>\n",
       "      <td>0</td>\n",
       "      <td>0</td>\n",
       "      <td>39</td>\n",
       "      <td>6</td>\n",
       "      <td>0.866667</td>\n",
       "      <td>0.433333</td>\n",
       "      <td>0.500000</td>\n",
       "      <td>0.464286</td>\n",
       "    </tr>\n",
       "  </tbody>\n",
       "</table>\n",
       "</div>"
      ],
      "text/plain": [
       "               modelo  tp  fp  tn  fn  accuracy  precision    recall        f1\n",
       "0  Logistic Regretion   4   0  39   2  0.955556   0.975610  0.833333  0.887500\n",
       "2       Random Forest   4   0  39   2  0.955556   0.975610  0.833333  0.887500\n",
       "3                 SVM   4   0  39   2  0.955556   0.975610  0.833333  0.887500\n",
       "1         Naive Bayes   0   0  39   6  0.866667   0.433333  0.500000  0.464286"
      ]
     },
     "execution_count": 50,
     "metadata": {},
     "output_type": "execute_result"
    }
   ],
   "source": [
    "df = pandas.DataFrame(model_list, columns=['modelo', 'tp', 'fp', 'tn', 'fn', 'accuracy', 'precision', 'recall', 'f1'])\n",
    "df.sort_values(by='accuracy', ascending=False)"
   ]
  },
  {
   "cell_type": "markdown",
   "metadata": {},
   "source": [
    "El modelo Naive Base no predijo ninguna Sentencia.\n",
    "Los otros 3 modelos obtuvieron la misma performance. "
   ]
  },
  {
   "cell_type": "markdown",
   "metadata": {
    "colab_type": "text",
    "id": "2DhFvMC4auwu"
   },
   "source": [
    " ----------------------------------------------------------------------------------------------------------"
   ]
  },
  {
   "cell_type": "markdown",
   "metadata": {
    "colab_type": "text",
    "id": "BG0vrDxuauwv"
   },
   "source": [
    "### Probar con y sin shuffle en la partición de los datos."
   ]
  },
  {
   "cell_type": "code",
   "execution_count": 27,
   "metadata": {},
   "outputs": [],
   "source": [
    "# división entre entrenamiento y evaluación sin mezclar\n",
    "X_train, X_test, y_train, y_test = train_test_split(X, y, test_size=0.3, random_state=0, shuffle=False)"
   ]
  },
  {
   "cell_type": "code",
   "execution_count": 29,
   "metadata": {},
   "outputs": [
    {
     "ename": "ValueError",
     "evalue": "This solver needs samples of at least 2 classes in the data, but the data contains only one class: 'AUTO'",
     "output_type": "error",
     "traceback": [
      "\u001b[1;31m---------------------------------------------------------------------------\u001b[0m",
      "\u001b[1;31mValueError\u001b[0m                                Traceback (most recent call last)",
      "\u001b[1;32m<ipython-input-29-d83c32020192>\u001b[0m in \u001b[0;36m<module>\u001b[1;34m\u001b[0m\n\u001b[1;32m----> 1\u001b[1;33m \u001b[0mentreno_modelo\u001b[0m\u001b[1;33m(\u001b[0m\u001b[1;34m'Logistic Regretion'\u001b[0m\u001b[1;33m,\u001b[0m \u001b[0mLogisticRegression\u001b[0m\u001b[1;33m(\u001b[0m\u001b[0msolver\u001b[0m\u001b[1;33m=\u001b[0m\u001b[1;34m'lbfgs'\u001b[0m\u001b[1;33m)\u001b[0m\u001b[1;33m,\u001b[0m \u001b[0mX_train\u001b[0m\u001b[1;33m,\u001b[0m \u001b[0my_train\u001b[0m\u001b[1;33m,\u001b[0m \u001b[0mX_test\u001b[0m\u001b[1;33m,\u001b[0m \u001b[0my_test\u001b[0m\u001b[1;33m)\u001b[0m\u001b[1;33m\u001b[0m\u001b[1;33m\u001b[0m\u001b[0m\n\u001b[0m",
      "\u001b[1;32m<ipython-input-16-52664c9392d1>\u001b[0m in \u001b[0;36mentreno_modelo\u001b[1;34m(titulo, model, X_train, y_train, X_test, y_test)\u001b[0m\n\u001b[0;32m      1\u001b[0m \u001b[1;32mdef\u001b[0m \u001b[0mentreno_modelo\u001b[0m\u001b[1;33m(\u001b[0m\u001b[0mtitulo\u001b[0m\u001b[1;33m,\u001b[0m \u001b[0mmodel\u001b[0m\u001b[1;33m,\u001b[0m \u001b[0mX_train\u001b[0m\u001b[1;33m,\u001b[0m \u001b[0my_train\u001b[0m\u001b[1;33m,\u001b[0m \u001b[0mX_test\u001b[0m\u001b[1;33m,\u001b[0m \u001b[0my_test\u001b[0m\u001b[1;33m)\u001b[0m\u001b[1;33m:\u001b[0m\u001b[1;33m\u001b[0m\u001b[1;33m\u001b[0m\u001b[0m\n\u001b[1;32m----> 2\u001b[1;33m     \u001b[0mmodel\u001b[0m\u001b[1;33m.\u001b[0m\u001b[0mfit\u001b[0m\u001b[1;33m(\u001b[0m\u001b[0mX_train\u001b[0m\u001b[1;33m,\u001b[0m \u001b[0my_train\u001b[0m\u001b[1;33m)\u001b[0m\u001b[1;33m\u001b[0m\u001b[1;33m\u001b[0m\u001b[0m\n\u001b[0m\u001b[0;32m      3\u001b[0m \u001b[1;33m\u001b[0m\u001b[0m\n\u001b[0;32m      4\u001b[0m     \u001b[0my_train_pred\u001b[0m \u001b[1;33m=\u001b[0m \u001b[0mmodel\u001b[0m\u001b[1;33m.\u001b[0m\u001b[0mpredict\u001b[0m\u001b[1;33m(\u001b[0m\u001b[0mX_train\u001b[0m\u001b[1;33m)\u001b[0m\u001b[1;33m\u001b[0m\u001b[1;33m\u001b[0m\u001b[0m\n\u001b[0;32m      5\u001b[0m     \u001b[0my_test_pred\u001b[0m \u001b[1;33m=\u001b[0m \u001b[0mmodel\u001b[0m\u001b[1;33m.\u001b[0m\u001b[0mpredict\u001b[0m\u001b[1;33m(\u001b[0m\u001b[0mX_test\u001b[0m\u001b[1;33m)\u001b[0m\u001b[1;33m\u001b[0m\u001b[1;33m\u001b[0m\u001b[0m\n",
      "\u001b[1;32m~\\Anaconda3\\envs\\mentoria\\lib\\site-packages\\sklearn\\linear_model\\_logistic.py\u001b[0m in \u001b[0;36mfit\u001b[1;34m(self, X, y, sample_weight)\u001b[0m\n\u001b[0;32m   1370\u001b[0m         \u001b[0mclasses_\u001b[0m \u001b[1;33m=\u001b[0m \u001b[0mself\u001b[0m\u001b[1;33m.\u001b[0m\u001b[0mclasses_\u001b[0m\u001b[1;33m\u001b[0m\u001b[1;33m\u001b[0m\u001b[0m\n\u001b[0;32m   1371\u001b[0m         \u001b[1;32mif\u001b[0m \u001b[0mn_classes\u001b[0m \u001b[1;33m<\u001b[0m \u001b[1;36m2\u001b[0m\u001b[1;33m:\u001b[0m\u001b[1;33m\u001b[0m\u001b[1;33m\u001b[0m\u001b[0m\n\u001b[1;32m-> 1372\u001b[1;33m             raise ValueError(\"This solver needs samples of at least 2 classes\"\n\u001b[0m\u001b[0;32m   1373\u001b[0m                              \u001b[1;34m\" in the data, but the data contains only one\"\u001b[0m\u001b[1;33m\u001b[0m\u001b[1;33m\u001b[0m\u001b[0m\n\u001b[0;32m   1374\u001b[0m                              \" class: %r\" % classes_[0])\n",
      "\u001b[1;31mValueError\u001b[0m: This solver needs samples of at least 2 classes in the data, but the data contains only one class: 'AUTO'"
     ]
    }
   ],
   "source": [
    "entreno_modelo('Logistic Regretion', LogisticRegression(solver='lbfgs'), X_train, y_train, X_test, y_test)"
   ]
  },
  {
   "cell_type": "code",
   "execution_count": 30,
   "metadata": {},
   "outputs": [
    {
     "name": "stdout",
     "output_type": "stream",
     "text": [
      "Naive Bayes\n",
      "-----------\n"
     ]
    },
    {
     "ename": "ValueError",
     "evalue": "not enough values to unpack (expected 4, got 1)",
     "output_type": "error",
     "traceback": [
      "\u001b[1;31m---------------------------------------------------------------------------\u001b[0m",
      "\u001b[1;31mValueError\u001b[0m                                Traceback (most recent call last)",
      "\u001b[1;32m<ipython-input-30-c819bd892515>\u001b[0m in \u001b[0;36m<module>\u001b[1;34m\u001b[0m\n\u001b[1;32m----> 1\u001b[1;33m \u001b[0mentreno_modelo\u001b[0m\u001b[1;33m(\u001b[0m\u001b[1;34m'Naive Bayes'\u001b[0m\u001b[1;33m,\u001b[0m \u001b[0mMultinomialNB\u001b[0m\u001b[1;33m(\u001b[0m\u001b[1;33m)\u001b[0m\u001b[1;33m,\u001b[0m \u001b[0mX_train\u001b[0m\u001b[1;33m,\u001b[0m \u001b[0my_train\u001b[0m\u001b[1;33m,\u001b[0m \u001b[0mX_test\u001b[0m\u001b[1;33m,\u001b[0m \u001b[0my_test\u001b[0m\u001b[1;33m)\u001b[0m\u001b[1;33m\u001b[0m\u001b[1;33m\u001b[0m\u001b[0m\n\u001b[0m",
      "\u001b[1;32m<ipython-input-16-52664c9392d1>\u001b[0m in \u001b[0;36mentreno_modelo\u001b[1;34m(titulo, model, X_train, y_train, X_test, y_test)\u001b[0m\n\u001b[0;32m      5\u001b[0m     \u001b[0my_test_pred\u001b[0m \u001b[1;33m=\u001b[0m \u001b[0mmodel\u001b[0m\u001b[1;33m.\u001b[0m\u001b[0mpredict\u001b[0m\u001b[1;33m(\u001b[0m\u001b[0mX_test\u001b[0m\u001b[1;33m)\u001b[0m\u001b[1;33m\u001b[0m\u001b[1;33m\u001b[0m\u001b[0m\n\u001b[0;32m      6\u001b[0m \u001b[1;33m\u001b[0m\u001b[0m\n\u001b[1;32m----> 7\u001b[1;33m     \u001b[0mtp\u001b[0m\u001b[1;33m,\u001b[0m \u001b[0mfp\u001b[0m\u001b[1;33m,\u001b[0m \u001b[0mtn\u001b[0m\u001b[1;33m,\u001b[0m \u001b[0mfn\u001b[0m\u001b[1;33m,\u001b[0m \u001b[0maccuracy\u001b[0m\u001b[1;33m,\u001b[0m \u001b[0mprecision\u001b[0m\u001b[1;33m,\u001b[0m \u001b[0mrecall\u001b[0m\u001b[1;33m,\u001b[0m \u001b[0mf1\u001b[0m \u001b[1;33m=\u001b[0m \u001b[0mget_metricas\u001b[0m\u001b[1;33m(\u001b[0m\u001b[0mtitulo\u001b[0m\u001b[1;33m,\u001b[0m \u001b[0my_train\u001b[0m\u001b[1;33m,\u001b[0m \u001b[0my_train_pred\u001b[0m\u001b[1;33m,\u001b[0m \u001b[0my_test\u001b[0m\u001b[1;33m,\u001b[0m \u001b[0my_test_pred\u001b[0m\u001b[1;33m)\u001b[0m\u001b[1;33m\u001b[0m\u001b[1;33m\u001b[0m\u001b[0m\n\u001b[0m\u001b[0;32m      8\u001b[0m \u001b[1;33m\u001b[0m\u001b[0m\n\u001b[0;32m      9\u001b[0m     \u001b[0mprint\u001b[0m\u001b[1;33m(\u001b[0m\u001b[1;34m'\\nMatriz de Confusión'\u001b[0m\u001b[1;33m)\u001b[0m\u001b[1;33m\u001b[0m\u001b[1;33m\u001b[0m\u001b[0m\n",
      "\u001b[1;32m<ipython-input-20-2e7bbcf221de>\u001b[0m in \u001b[0;36mget_metricas\u001b[1;34m(titulo, y_train, y_train_pred, y_test, y_test_pred)\u001b[0m\n\u001b[0;32m      4\u001b[0m \u001b[1;33m\u001b[0m\u001b[0m\n\u001b[0;32m      5\u001b[0m     \u001b[1;31m# Datos de Entranamiento\u001b[0m\u001b[1;33m\u001b[0m\u001b[1;33m\u001b[0m\u001b[1;33m\u001b[0m\u001b[0m\n\u001b[1;32m----> 6\u001b[1;33m     \u001b[0mtn\u001b[0m\u001b[1;33m,\u001b[0m \u001b[0mfp\u001b[0m\u001b[1;33m,\u001b[0m \u001b[0mfn\u001b[0m\u001b[1;33m,\u001b[0m \u001b[0mtp\u001b[0m \u001b[1;33m=\u001b[0m \u001b[0mmetrics\u001b[0m\u001b[1;33m.\u001b[0m\u001b[0mconfusion_matrix\u001b[0m\u001b[1;33m(\u001b[0m\u001b[0my_train\u001b[0m\u001b[1;33m,\u001b[0m \u001b[0my_train_pred\u001b[0m\u001b[1;33m)\u001b[0m\u001b[1;33m.\u001b[0m\u001b[0mravel\u001b[0m\u001b[1;33m(\u001b[0m\u001b[1;33m)\u001b[0m\u001b[1;33m\u001b[0m\u001b[1;33m\u001b[0m\u001b[0m\n\u001b[0m\u001b[0;32m      7\u001b[0m     \u001b[0maccuracy\u001b[0m \u001b[1;33m=\u001b[0m \u001b[0mmetrics\u001b[0m\u001b[1;33m.\u001b[0m\u001b[0maccuracy_score\u001b[0m\u001b[1;33m(\u001b[0m\u001b[0my_train\u001b[0m\u001b[1;33m,\u001b[0m \u001b[0my_train_pred\u001b[0m\u001b[1;33m)\u001b[0m\u001b[1;33m\u001b[0m\u001b[1;33m\u001b[0m\u001b[0m\n\u001b[0;32m      8\u001b[0m     \u001b[0mprecision\u001b[0m \u001b[1;33m=\u001b[0m \u001b[0mmetrics\u001b[0m\u001b[1;33m.\u001b[0m\u001b[0mprecision_score\u001b[0m\u001b[1;33m(\u001b[0m\u001b[0my_train\u001b[0m\u001b[1;33m,\u001b[0m \u001b[0my_train_pred\u001b[0m\u001b[1;33m,\u001b[0m \u001b[0maverage\u001b[0m\u001b[1;33m=\u001b[0m\u001b[1;34m\"macro\"\u001b[0m\u001b[1;33m)\u001b[0m\u001b[1;33m\u001b[0m\u001b[1;33m\u001b[0m\u001b[0m\n",
      "\u001b[1;31mValueError\u001b[0m: not enough values to unpack (expected 4, got 1)"
     ]
    }
   ],
   "source": [
    "entreno_modelo('Naive Bayes', MultinomialNB(), X_train, y_train, X_test, y_test)"
   ]
  },
  {
   "cell_type": "markdown",
   "metadata": {},
   "source": [
    "Al estar la muestra ordenada, si no se aplica un shuffle en la división de datos entre entrenamiento y evaluación, al entrenar un modelo se produce un error por tener solo datos de una sola clase."
   ]
  },
  {
   "cell_type": "markdown",
   "metadata": {},
   "source": [
    "### Probar con distintos hiperparámetros para ver si los resultados cambian de acuerdo a si los datos se han mezclado al entrenar y validar o no."
   ]
  },
  {
   "cell_type": "code",
   "execution_count": 31,
   "metadata": {},
   "outputs": [],
   "source": [
    "# división entre entrenamiento y evaluación\n",
    "X_train, X_test, y_train, y_test = train_test_split(X, y, test_size=0.3, random_state=0, shuffle=True)"
   ]
  },
  {
   "cell_type": "code",
   "execution_count": 54,
   "metadata": {},
   "outputs": [],
   "source": [
    "param_grid = [\n",
    "    {'classifier' : [LogisticRegression()],\n",
    "     'classifier__penalty' : ['l1', 'l2', 'elasticnet', 'none'],\n",
    "     'classifier__C' : np.logspace(-4, 4, 50),\n",
    "     'classifier__solver' : ['lbfgs','newton-cg','liblinear','sag','saga'],\n",
    "     'classifier__max_iter' : [10,30,50,100,300,500,1000,2500,5000,10000]\n",
    "    },\n",
    "    {'classifier' : [MultinomialNB()],\n",
    "     'classifier__alpha': np.logspace(-50,50, 500)\n",
    "    },\n",
    "    {'classifier' : [ensemble.RandomForestClassifier()],\n",
    "     'classifier__n_estimators' : [320,330,340],\n",
    "     'classifier__max_depth' : [8, 9, 10, 11, 12]\n",
    "    },\n",
    "    {'classifier' : [svm.SVC()],\n",
    "     'classifier__kernel': ['rbf','linear'], \n",
    "     'classifier__gamma': [1e-3, 1e-4],\n",
    "     'classifier__C': [1, 10, 100, 1000]\n",
    "    },\n",
    "]"
   ]
  },
  {
   "cell_type": "code",
   "execution_count": 70,
   "metadata": {},
   "outputs": [],
   "source": [
    "param_grid = [\n",
    "    {'classifier' : [ensemble.RandomForestClassifier()],\n",
    "     'classifier__n_estimators' : list(range(10,101,10)),\n",
    "     'classifier__max_depth' : [8, 9, 10, 11, 12]\n",
    "    },\n",
    "]"
   ]
  },
  {
   "cell_type": "code",
   "execution_count": 71,
   "metadata": {},
   "outputs": [],
   "source": [
    "# Create first pipeline for base without reducing features.\n",
    "pipe = Pipeline([('classifier' , ensemble.RandomForestClassifier())])"
   ]
  },
  {
   "cell_type": "code",
   "execution_count": 72,
   "metadata": {},
   "outputs": [
    {
     "name": "stdout",
     "output_type": "stream",
     "text": [
      "Fitting 5 folds for each of 50 candidates, totalling 250 fits\n"
     ]
    },
    {
     "name": "stderr",
     "output_type": "stream",
     "text": [
      "[Parallel(n_jobs=-1)]: Using backend LokyBackend with 4 concurrent workers.\n",
      "[Parallel(n_jobs=-1)]: Done  42 tasks      | elapsed:   12.1s\n",
      "[Parallel(n_jobs=-1)]: Done 192 tasks      | elapsed:   23.8s\n",
      "[Parallel(n_jobs=-1)]: Done 250 out of 250 | elapsed:   29.0s finished\n"
     ]
    }
   ],
   "source": [
    "model = SGDClassifier(random_state=0)\n",
    "cv = GridSearchCV(pipe, param_grid = param_grid, cv = 5, verbose=True, n_jobs=-1, scoring='accuracy')\n",
    "cv.fit(X_train, y_train);"
   ]
  },
  {
   "cell_type": "code",
   "execution_count": 73,
   "metadata": {},
   "outputs": [],
   "source": [
    "results = cv.cv_results_\n",
    "df = pandas.DataFrame(results)"
   ]
  },
  {
   "cell_type": "code",
   "execution_count": 74,
   "metadata": {},
   "outputs": [
    {
     "data": {
      "text/html": [
       "<div>\n",
       "<style scoped>\n",
       "    .dataframe tbody tr th:only-of-type {\n",
       "        vertical-align: middle;\n",
       "    }\n",
       "\n",
       "    .dataframe tbody tr th {\n",
       "        vertical-align: top;\n",
       "    }\n",
       "\n",
       "    .dataframe thead th {\n",
       "        text-align: right;\n",
       "    }\n",
       "</style>\n",
       "<table border=\"1\" class=\"dataframe\">\n",
       "  <thead>\n",
       "    <tr style=\"text-align: right;\">\n",
       "      <th></th>\n",
       "      <th>params</th>\n",
       "      <th>mean_test_score</th>\n",
       "      <th>std_test_score</th>\n",
       "      <th>rank_test_score</th>\n",
       "    </tr>\n",
       "  </thead>\n",
       "  <tbody>\n",
       "    <tr>\n",
       "      <th>0</th>\n",
       "      <td>{'classifier': RandomForestClassifier(max_depth=8, n_estimators=40), 'classifier__max_depth': 8, 'classifier__n_estimators': 40}</td>\n",
       "      <td>0.904762</td>\n",
       "      <td>0.052164</td>\n",
       "      <td>1</td>\n",
       "    </tr>\n",
       "    <tr>\n",
       "      <th>1</th>\n",
       "      <td>{'classifier': RandomForestClassifier(max_depth=8, n_estimators=40), 'classifier__max_depth': 8, 'classifier__n_estimators': 60}</td>\n",
       "      <td>0.904762</td>\n",
       "      <td>0.052164</td>\n",
       "      <td>1</td>\n",
       "    </tr>\n",
       "    <tr>\n",
       "      <th>2</th>\n",
       "      <td>{'classifier': RandomForestClassifier(max_depth=8, n_estimators=40), 'classifier__max_depth': 8, 'classifier__n_estimators': 80}</td>\n",
       "      <td>0.904762</td>\n",
       "      <td>0.052164</td>\n",
       "      <td>1</td>\n",
       "    </tr>\n",
       "    <tr>\n",
       "      <th>3</th>\n",
       "      <td>{'classifier': RandomForestClassifier(max_depth=8, n_estimators=40), 'classifier__max_depth': 8, 'classifier__n_estimators': 90}</td>\n",
       "      <td>0.904762</td>\n",
       "      <td>0.052164</td>\n",
       "      <td>1</td>\n",
       "    </tr>\n",
       "    <tr>\n",
       "      <th>4</th>\n",
       "      <td>{'classifier': RandomForestClassifier(max_depth=8, n_estimators=40), 'classifier__max_depth': 8, 'classifier__n_estimators': 100}</td>\n",
       "      <td>0.904762</td>\n",
       "      <td>0.052164</td>\n",
       "      <td>1</td>\n",
       "    </tr>\n",
       "    <tr>\n",
       "      <th>5</th>\n",
       "      <td>{'classifier': RandomForestClassifier(max_depth=8, n_estimators=40), 'classifier__max_depth': 9, 'classifier__n_estimators': 20}</td>\n",
       "      <td>0.904762</td>\n",
       "      <td>0.052164</td>\n",
       "      <td>1</td>\n",
       "    </tr>\n",
       "    <tr>\n",
       "      <th>6</th>\n",
       "      <td>{'classifier': RandomForestClassifier(max_depth=8, n_estimators=40), 'classifier__max_depth': 9, 'classifier__n_estimators': 60}</td>\n",
       "      <td>0.904762</td>\n",
       "      <td>0.052164</td>\n",
       "      <td>1</td>\n",
       "    </tr>\n",
       "    <tr>\n",
       "      <th>7</th>\n",
       "      <td>{'classifier': RandomForestClassifier(max_depth=8, n_estimators=40), 'classifier__max_depth': 9, 'classifier__n_estimators': 90}</td>\n",
       "      <td>0.904762</td>\n",
       "      <td>0.052164</td>\n",
       "      <td>1</td>\n",
       "    </tr>\n",
       "    <tr>\n",
       "      <th>8</th>\n",
       "      <td>{'classifier': RandomForestClassifier(max_depth=8, n_estimators=40), 'classifier__max_depth': 9, 'classifier__n_estimators': 100}</td>\n",
       "      <td>0.904762</td>\n",
       "      <td>0.052164</td>\n",
       "      <td>1</td>\n",
       "    </tr>\n",
       "    <tr>\n",
       "      <th>9</th>\n",
       "      <td>{'classifier': RandomForestClassifier(max_depth=8, n_estimators=40), 'classifier__max_depth': 10, 'classifier__n_estimators': 40}</td>\n",
       "      <td>0.904762</td>\n",
       "      <td>0.052164</td>\n",
       "      <td>1</td>\n",
       "    </tr>\n",
       "    <tr>\n",
       "      <th>10</th>\n",
       "      <td>{'classifier': RandomForestClassifier(max_depth=8, n_estimators=40), 'classifier__max_depth': 10, 'classifier__n_estimators': 50}</td>\n",
       "      <td>0.904762</td>\n",
       "      <td>0.052164</td>\n",
       "      <td>1</td>\n",
       "    </tr>\n",
       "    <tr>\n",
       "      <th>11</th>\n",
       "      <td>{'classifier': RandomForestClassifier(max_depth=8, n_estimators=40), 'classifier__max_depth': 10, 'classifier__n_estimators': 70}</td>\n",
       "      <td>0.904762</td>\n",
       "      <td>0.052164</td>\n",
       "      <td>1</td>\n",
       "    </tr>\n",
       "    <tr>\n",
       "      <th>12</th>\n",
       "      <td>{'classifier': RandomForestClassifier(max_depth=8, n_estimators=40), 'classifier__max_depth': 10, 'classifier__n_estimators': 80}</td>\n",
       "      <td>0.904762</td>\n",
       "      <td>0.052164</td>\n",
       "      <td>1</td>\n",
       "    </tr>\n",
       "    <tr>\n",
       "      <th>13</th>\n",
       "      <td>{'classifier': RandomForestClassifier(max_depth=8, n_estimators=40), 'classifier__max_depth': 10, 'classifier__n_estimators': 90}</td>\n",
       "      <td>0.904762</td>\n",
       "      <td>0.052164</td>\n",
       "      <td>1</td>\n",
       "    </tr>\n",
       "    <tr>\n",
       "      <th>14</th>\n",
       "      <td>{'classifier': RandomForestClassifier(max_depth=8, n_estimators=40), 'classifier__max_depth': 10, 'classifier__n_estimators': 100}</td>\n",
       "      <td>0.904762</td>\n",
       "      <td>0.052164</td>\n",
       "      <td>1</td>\n",
       "    </tr>\n",
       "    <tr>\n",
       "      <th>15</th>\n",
       "      <td>{'classifier': RandomForestClassifier(max_depth=8, n_estimators=40), 'classifier__max_depth': 11, 'classifier__n_estimators': 50}</td>\n",
       "      <td>0.904762</td>\n",
       "      <td>0.052164</td>\n",
       "      <td>1</td>\n",
       "    </tr>\n",
       "    <tr>\n",
       "      <th>16</th>\n",
       "      <td>{'classifier': RandomForestClassifier(max_depth=8, n_estimators=40), 'classifier__max_depth': 11, 'classifier__n_estimators': 60}</td>\n",
       "      <td>0.904762</td>\n",
       "      <td>0.052164</td>\n",
       "      <td>1</td>\n",
       "    </tr>\n",
       "    <tr>\n",
       "      <th>17</th>\n",
       "      <td>{'classifier': RandomForestClassifier(max_depth=8, n_estimators=40), 'classifier__max_depth': 11, 'classifier__n_estimators': 70}</td>\n",
       "      <td>0.904762</td>\n",
       "      <td>0.052164</td>\n",
       "      <td>1</td>\n",
       "    </tr>\n",
       "    <tr>\n",
       "      <th>18</th>\n",
       "      <td>{'classifier': RandomForestClassifier(max_depth=8, n_estimators=40), 'classifier__max_depth': 11, 'classifier__n_estimators': 80}</td>\n",
       "      <td>0.904762</td>\n",
       "      <td>0.052164</td>\n",
       "      <td>1</td>\n",
       "    </tr>\n",
       "    <tr>\n",
       "      <th>19</th>\n",
       "      <td>{'classifier': RandomForestClassifier(max_depth=8, n_estimators=40), 'classifier__max_depth': 11, 'classifier__n_estimators': 100}</td>\n",
       "      <td>0.904762</td>\n",
       "      <td>0.052164</td>\n",
       "      <td>1</td>\n",
       "    </tr>\n",
       "  </tbody>\n",
       "</table>\n",
       "</div>"
      ],
      "text/plain": [
       "                                                                                                                                params  \\\n",
       "0     {'classifier': RandomForestClassifier(max_depth=8, n_estimators=40), 'classifier__max_depth': 8, 'classifier__n_estimators': 40}   \n",
       "1     {'classifier': RandomForestClassifier(max_depth=8, n_estimators=40), 'classifier__max_depth': 8, 'classifier__n_estimators': 60}   \n",
       "2     {'classifier': RandomForestClassifier(max_depth=8, n_estimators=40), 'classifier__max_depth': 8, 'classifier__n_estimators': 80}   \n",
       "3     {'classifier': RandomForestClassifier(max_depth=8, n_estimators=40), 'classifier__max_depth': 8, 'classifier__n_estimators': 90}   \n",
       "4    {'classifier': RandomForestClassifier(max_depth=8, n_estimators=40), 'classifier__max_depth': 8, 'classifier__n_estimators': 100}   \n",
       "5     {'classifier': RandomForestClassifier(max_depth=8, n_estimators=40), 'classifier__max_depth': 9, 'classifier__n_estimators': 20}   \n",
       "6     {'classifier': RandomForestClassifier(max_depth=8, n_estimators=40), 'classifier__max_depth': 9, 'classifier__n_estimators': 60}   \n",
       "7     {'classifier': RandomForestClassifier(max_depth=8, n_estimators=40), 'classifier__max_depth': 9, 'classifier__n_estimators': 90}   \n",
       "8    {'classifier': RandomForestClassifier(max_depth=8, n_estimators=40), 'classifier__max_depth': 9, 'classifier__n_estimators': 100}   \n",
       "9    {'classifier': RandomForestClassifier(max_depth=8, n_estimators=40), 'classifier__max_depth': 10, 'classifier__n_estimators': 40}   \n",
       "10   {'classifier': RandomForestClassifier(max_depth=8, n_estimators=40), 'classifier__max_depth': 10, 'classifier__n_estimators': 50}   \n",
       "11   {'classifier': RandomForestClassifier(max_depth=8, n_estimators=40), 'classifier__max_depth': 10, 'classifier__n_estimators': 70}   \n",
       "12   {'classifier': RandomForestClassifier(max_depth=8, n_estimators=40), 'classifier__max_depth': 10, 'classifier__n_estimators': 80}   \n",
       "13   {'classifier': RandomForestClassifier(max_depth=8, n_estimators=40), 'classifier__max_depth': 10, 'classifier__n_estimators': 90}   \n",
       "14  {'classifier': RandomForestClassifier(max_depth=8, n_estimators=40), 'classifier__max_depth': 10, 'classifier__n_estimators': 100}   \n",
       "15   {'classifier': RandomForestClassifier(max_depth=8, n_estimators=40), 'classifier__max_depth': 11, 'classifier__n_estimators': 50}   \n",
       "16   {'classifier': RandomForestClassifier(max_depth=8, n_estimators=40), 'classifier__max_depth': 11, 'classifier__n_estimators': 60}   \n",
       "17   {'classifier': RandomForestClassifier(max_depth=8, n_estimators=40), 'classifier__max_depth': 11, 'classifier__n_estimators': 70}   \n",
       "18   {'classifier': RandomForestClassifier(max_depth=8, n_estimators=40), 'classifier__max_depth': 11, 'classifier__n_estimators': 80}   \n",
       "19  {'classifier': RandomForestClassifier(max_depth=8, n_estimators=40), 'classifier__max_depth': 11, 'classifier__n_estimators': 100}   \n",
       "\n",
       "    mean_test_score  std_test_score  rank_test_score  \n",
       "0          0.904762        0.052164                1  \n",
       "1          0.904762        0.052164                1  \n",
       "2          0.904762        0.052164                1  \n",
       "3          0.904762        0.052164                1  \n",
       "4          0.904762        0.052164                1  \n",
       "5          0.904762        0.052164                1  \n",
       "6          0.904762        0.052164                1  \n",
       "7          0.904762        0.052164                1  \n",
       "8          0.904762        0.052164                1  \n",
       "9          0.904762        0.052164                1  \n",
       "10         0.904762        0.052164                1  \n",
       "11         0.904762        0.052164                1  \n",
       "12         0.904762        0.052164                1  \n",
       "13         0.904762        0.052164                1  \n",
       "14         0.904762        0.052164                1  \n",
       "15         0.904762        0.052164                1  \n",
       "16         0.904762        0.052164                1  \n",
       "17         0.904762        0.052164                1  \n",
       "18         0.904762        0.052164                1  \n",
       "19         0.904762        0.052164                1  "
      ]
     },
     "execution_count": 74,
     "metadata": {},
     "output_type": "execute_result"
    }
   ],
   "source": [
    "pandas.options.display.max_colwidth = 200\n",
    "df.sort_values(['mean_test_score','std_test_score','rank_test_score'],\n",
    "               ascending = [False,True,True],\n",
    "               inplace=True)\n",
    "df.reset_index(drop=True,inplace=True)\n",
    "df[['params','mean_test_score','std_test_score','rank_test_score']].head(20)"
   ]
  },
  {
   "cell_type": "markdown",
   "metadata": {},
   "source": [
    "Seleccionamos la mejor configuración de hyper parámetros."
   ]
  },
  {
   "cell_type": "code",
   "execution_count": 75,
   "metadata": {},
   "outputs": [
    {
     "data": {
      "text/plain": [
       "{'classifier': RandomForestClassifier(max_depth=8, n_estimators=40),\n",
       " 'classifier__max_depth': 8,\n",
       " 'classifier__n_estimators': 40}"
      ]
     },
     "execution_count": 75,
     "metadata": {},
     "output_type": "execute_result"
    }
   ],
   "source": [
    "best_model = df.loc[df['rank_test_score'].idxmin()]['params']\n",
    "best_model"
   ]
  },
  {
   "cell_type": "code",
   "execution_count": 76,
   "metadata": {},
   "outputs": [],
   "source": [
    "model = ensemble.RandomForestClassifier(max_depth=8, n_estimators=320)\n",
    "classifier = model.fit(X_train, y_train)"
   ]
  },
  {
   "cell_type": "code",
   "execution_count": 77,
   "metadata": {},
   "outputs": [
    {
     "name": "stdout",
     "output_type": "stream",
     "text": [
      "Mejor Modelo\n",
      "------------\n",
      "\n",
      "Evaluación\n",
      "\n",
      "Reporte de Clasificiación:\n",
      "               precision    recall  f1-score   support\n",
      "\n",
      "        AUTO       0.97      1.00      0.99        39\n",
      "   SENTENCIA       1.00      0.83      0.91         6\n",
      "\n",
      "    accuracy                           0.98        45\n",
      "   macro avg       0.99      0.92      0.95        45\n",
      "weighted avg       0.98      0.98      0.98        45\n",
      "\n",
      "Accuracy:0.98\n",
      "Precision:0.99\n",
      "Recall:0.92\n",
      "F1 score:0.95\n",
      "\n",
      "Matriz de Confusión\n"
     ]
    },
    {
     "data": {
      "image/png": "[encoded data removed]",
      "text/plain": [
       "<Figure size 432x288 with 2 Axes>"
      ]
     },
     "metadata": {
      "needs_background": "light"
     },
     "output_type": "display_data"
    },
    {
     "data": {
      "image/png": "[encoded data removed]",
      "text/plain": [
       "<Figure size 432x288 with 1 Axes>"
      ]
     },
     "metadata": {
      "needs_background": "light"
     },
     "output_type": "display_data"
    },
    {
     "data": {
      "text/plain": [
       "(5,\n",
       " 0,\n",
       " 39,\n",
       " 1,\n",
       " 0.9777777777777777,\n",
       " 0.9875,\n",
       " 0.9166666666666667,\n",
       " 0.9482163406214039)"
      ]
     },
     "execution_count": 77,
     "metadata": {},
     "output_type": "execute_result"
    }
   ],
   "source": [
    "entreno_modelo('Mejor Modelo', model, X_train, y_train, X_test, y_test)"
   ]
  },
  {
   "cell_type": "code",
   "execution_count": null,
   "metadata": {},
   "outputs": [],
   "source": []
  },
  {
   "cell_type": "markdown",
   "metadata": {
    "colab_type": "text",
    "id": "hN5s2dKtauww"
   },
   "source": [
    " ----------------------------------------------------------------------------------------------------------"
   ]
  },
  {
   "cell_type": "markdown",
   "metadata": {
    "colab_type": "text",
    "id": "i-uk_AAf5MSL"
   },
   "source": [
    "## Conclusiones"
   ]
  },
  {
   "cell_type": "markdown",
   "metadata": {},
   "source": [
    "Al estar la muestra ordenada, si no se aplica un shuffle en la división de datos entre entrenamiento y evaluación, al entrenar un modelo se produce un error por tener solo datos de una sola clase.\n",
    "\n",
    "Si entrenamos los modelos con los hiperparámetros por defecto, detectamos que el modelo Naive Bayes no reconoció ninguna sentencia. Hubo que cambiar el hiperparámetros alpha para que el modelo prediga sentencias.\n",
    "\n",
    "Al tener pocos datos y modificando hiperparámetros, todos modelos obtuvieron como mejor accuracy un 96 %. A su vez todos obtuvieron las mismas métricas en los valores de test, incluido el F1 (es el que hubiéramos elegido para comparar). Esto no nos permite definir cual es el mejor modelo a utilizar.\n",
    "\n",
    "Las curvas ROC nos dice que tan bueno es el modelo para predecir entre dos clases. Compara la sensibilidad con la especificidad. \n",
    "* La sensibilidad, o Recall, es la proporción de las predicciones positivas sobre el total de los valores reales positivos. \n",
    "    \n",
    "    $$ \\frac{TP}{TP + FN} $$\n",
    "    \n",
    "* La especificidad, es el porcentaje de falsos positivos.\n",
    "\n",
    "    $$ \\frac{TN}{TN + FP} $$\n",
    "\n",
    "\n",
    "El modelo de Random Forest obtuvo un AUC (Area bajo la Curva ROC) de 1, siendo un puntaje perfecto."
   ]
  },
  {
   "cell_type": "markdown",
   "metadata": {
    "colab_type": "text",
    "id": "A9rpCJO4auwz"
   },
   "source": [
    " ----------------------------------------------------------------------------------------------------------"
   ]
  },
  {
   "cell_type": "markdown",
   "metadata": {
    "colab_type": "text",
    "id": "hXl82yFiauw0"
   },
   "source": [
    "### Entrega"
   ]
  },
  {
   "cell_type": "markdown",
   "metadata": {
    "colab_type": "text",
    "id": "hoAPkGzsauw1"
   },
   "source": [
    "Formato de entrega: Deberán utilizar esta notebook con los códigos con los que hicieron el análisis y los anaálisis y conclusiones despues de cada proceso. \n",
    "\n",
    "Fecha de entrega: 16/8"
   ]
  },
  {
   "cell_type": "markdown",
   "metadata": {
    "colab_type": "text",
    "id": "bGywguiPauw2"
   },
   "source": [
    " ----------------------------------------------------------------------------------------------------------"
   ]
  },
  {
   "cell_type": "code",
   "execution_count": null,
   "metadata": {},
   "outputs": [],
   "source": []
  }
 ],
 "metadata": {
  "colab": {
   "collapsed_sections": [
    "Z6DUCN4Cauwc",
    "oKPdix9Xauwh",
    "hXl82yFiauw0"
   ],
   "name": "Practico 3 - Introducción al Aprendizaje Supervisado.ipynb",
   "provenance": [],
   "toc_visible": true
  },
  "kernelspec": {
   "display_name": "Python [conda env:mentoria] *",
   "language": "python",
   "name": "conda-env-mentoria-py"
  },
  "language_info": {
   "codemirror_mode": {
    "name": "ipython",
    "version": 3
   },
   "file_extension": ".py",
   "mimetype": "text/x-python",
   "name": "python",
   "nbconvert_exporter": "python",
   "pygments_lexer": "ipython3",
   "version": "3.8.5"
  },
  "output_auto_scroll": true
 },
 "nbformat": 4,
 "nbformat_minor": 4
}
