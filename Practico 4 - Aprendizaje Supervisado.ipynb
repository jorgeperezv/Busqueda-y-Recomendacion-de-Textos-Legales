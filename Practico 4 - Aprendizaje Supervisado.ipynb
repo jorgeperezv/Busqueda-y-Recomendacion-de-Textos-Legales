{
 "cells": [
  {
   "cell_type": "markdown",
   "metadata": {
    "colab_type": "text",
    "id": "Db2Zjg3-eqcE"
   },
   "source": [
    "# Aprendizaje Automático\n",
    "\n",
    "\n",
    "El objetivo de este práctico es afianzar los conocimientos adquiridos hasta este momento, haciendo un proceso de re-análisis de los datos para encarar desde distintas perspectivas (selección de features, redefinición de clases y subclases) para conseguir nuevos resultados sobre los modelos ya trabajados, añadiendo ensemble learning al análisis.\n",
    "\n",
    "La idea es aprender a iterar en el proceso de ciencia de datos, no quedandonos con los resultados obtenidos del primer proceso realizado.\n",
    "\n",
    "# Enunciado del práctico\n",
    "\n",
    "Se les da la libertad de hacer los análisis que consideren necesarios en base a lo ya aprendido, encarando el problema desde distintos puntos de vista sobre todo en el proceso de los datos. para generar perspectivas diferentes que amplíen desde la investigación los resultados ya obtenidos.\n",
    "\n",
    "Generar un informe del enfoque que se tomó y cuales son las conclusiones a las que se arribó.\n",
    "\n",
    "Se pide también que sumen aquellos algoritmos en la medida de lo posible (por la cantidad de datos) que se aprendieron en esta materia.\n",
    "\n"
   ]
  },
  {
   "cell_type": "code",
   "execution_count": 1,
   "metadata": {
    "colab": {},
    "colab_type": "code",
    "executionInfo": {
     "elapsed": 1644,
     "status": "ok",
     "timestamp": 1600113131858,
     "user": {
      "displayName": "Jorge Pérez Villella",
      "photoUrl": "",
      "userId": "05752208885034813709"
     },
     "user_tz": 180
    },
    "id": "h96AoaF1eF15"
   },
   "outputs": [],
   "source": [
    "import sys\n",
    "import os\n",
    "import pandas\n",
    "import matplotlib.pyplot as plt\n",
    "import seaborn\n",
    "import string\n",
    "import collections\n",
    "import re\n",
    "import nltk\n",
    "from nltk.tokenize.toktok import ToktokTokenizer\n",
    "from sklearn.feature_extraction.text import CountVectorizer, TfidfTransformer, TfidfVectorizer\n",
    "from sklearn.model_selection import train_test_split, GridSearchCV\n",
    "from sklearn.linear_model import LogisticRegression, SGDClassifier\n",
    "from sklearn import metrics\n",
    "from wordcloud import WordCloud"
   ]
  },
  {
   "cell_type": "code",
   "execution_count": 2,
   "metadata": {
    "colab": {
     "base_uri": "https://localhost:8080/",
     "height": 33
    },
    "colab_type": "code",
    "executionInfo": {
     "elapsed": 27643,
     "status": "ok",
     "timestamp": 1600113357388,
     "user": {
      "displayName": "Jorge Pérez Villella",
      "photoUrl": "",
      "userId": "05752208885034813709"
     },
     "user_tz": 180
    },
    "id": "hSMCwx6RjirO",
    "outputId": "af6df88b-6567-475f-cfd2-0cb17f6516af"
   },
   "outputs": [],
   "source": [
    "# Se verfica entorno de ejecución\n",
    "in_colab = \"google.colab\" in sys.modules\n",
    "\n",
    "if in_colab:\n",
    "    from google.colab import drive\n",
    "\n",
    "    drive.mount(\"/content/drive\")\n",
    "    BASE_DIR = \"/content/drive/My Drive/Diplo2020 Mentoria/\"\n",
    "else:\n",
    "    BASE_DIR = \"../\""
   ]
  },
  {
   "cell_type": "markdown",
   "metadata": {
    "colab_type": "text",
    "id": "z9JD3Fncj3a5"
   },
   "source": [
    "# Archivos a importar"
   ]
  },
  {
   "cell_type": "code",
   "execution_count": 3,
   "metadata": {},
   "outputs": [],
   "source": [
    "def txt_to_text(path):\n",
    "    filepath = open(path, encoding='utf-8')\n",
    "    text = filepath.read()\n",
    "    filepath.close()\n",
    "    return text"
   ]
  },
  {
   "cell_type": "code",
   "execution_count": 4,
   "metadata": {
    "colab": {},
    "colab_type": "code",
    "executionInfo": {
     "elapsed": 936,
     "status": "ok",
     "timestamp": 1600113477549,
     "user": {
      "displayName": "Jorge Pérez Villella",
      "photoUrl": "",
      "userId": "05752208885034813709"
     },
     "user_tz": 180
    },
    "id": "6ciNajcXkiz8"
   },
   "outputs": [],
   "source": [
    "def getListOfFiles(dirName):\n",
    "    # create a list of file and sub directories \n",
    "    # names in the given directory \n",
    "    listOfFile = os.listdir(dirName)\n",
    "    allFiles = list()\n",
    "    # Iterate over all the entries\n",
    "    for entry in listOfFile:\n",
    "        # Create full path\n",
    "        fullPath = dirName + '/' + entry\n",
    "        # If entry is a directory then get the list of files in this directory \n",
    "        if os.path.isdir(fullPath):\n",
    "            allFiles = allFiles + getListOfFiles(fullPath)\n",
    "        else:\n",
    "            allFiles.append(fullPath)\n",
    "                \n",
    "    return allFiles"
   ]
  },
  {
   "cell_type": "code",
   "execution_count": 5,
   "metadata": {
    "colab": {},
    "colab_type": "code",
    "executionInfo": {
     "elapsed": 936,
     "status": "ok",
     "timestamp": 1600134734440,
     "user": {
      "displayName": "Jorge Pérez Villella",
      "photoUrl": "",
      "userId": "05752208885034813709"
     },
     "user_tz": 180
    },
    "id": "Ei4aE3CojqsN"
   },
   "outputs": [],
   "source": [
    "train_data_dir = BASE_DIR + \"Datos/Infoleg\""
   ]
  },
  {
   "cell_type": "code",
   "execution_count": 6,
   "metadata": {
    "colab": {
     "base_uri": "https://localhost:8080/",
     "height": 33
    },
    "colab_type": "code",
    "executionInfo": {
     "elapsed": 15260,
     "status": "ok",
     "timestamp": 1600113493787,
     "user": {
      "displayName": "Jorge Pérez Villella",
      "photoUrl": "",
      "userId": "05752208885034813709"
     },
     "user_tz": 180
    },
    "id": "peglHP8kj5WU",
    "outputId": "6d369ea4-1c8b-4d5a-e1bb-1d2081d95516"
   },
   "outputs": [
    {
     "name": "stdout",
     "output_type": "stream",
     "text": [
      "Cantidad de archivos a importar: 2500\n"
     ]
    }
   ],
   "source": [
    "listOfFile = getListOfFiles(train_data_dir)\n",
    "print('Cantidad de archivos a importar:', len(listOfFile))    "
   ]
  },
  {
   "cell_type": "code",
   "execution_count": 7,
   "metadata": {},
   "outputs": [],
   "source": [
    "corpus = []\n",
    "i = 0\n",
    "for file in listOfFile:\n",
    "    if file.endswith(\".txt\"):\n",
    "        corpus.append([i, file, txt_to_text(file)])\n",
    "        i = i+1"
   ]
  },
  {
   "cell_type": "code",
   "execution_count": 8,
   "metadata": {},
   "outputs": [
    {
     "data": {
      "text/html": [
       "<div>\n",
       "<style scoped>\n",
       "    .dataframe tbody tr th:only-of-type {\n",
       "        vertical-align: middle;\n",
       "    }\n",
       "\n",
       "    .dataframe tbody tr th {\n",
       "        vertical-align: top;\n",
       "    }\n",
       "\n",
       "    .dataframe thead th {\n",
       "        text-align: right;\n",
       "    }\n",
       "</style>\n",
       "<table border=\"1\" class=\"dataframe\">\n",
       "  <thead>\n",
       "    <tr style=\"text-align: right;\">\n",
       "      <th></th>\n",
       "      <th>ID</th>\n",
       "      <th>FILE</th>\n",
       "      <th>TEXTO</th>\n",
       "    </tr>\n",
       "  </thead>\n",
       "  <tbody>\n",
       "    <tr>\n",
       "      <th>0</th>\n",
       "      <td>0</td>\n",
       "      <td>../Datos/Infoleg/100016.txt</td>\n",
       "      <td>ACUERDOS\\nLey 25.939\\nApruébase el Acuerdo Sob...</td>\n",
       "    </tr>\n",
       "    <tr>\n",
       "      <th>1</th>\n",
       "      <td>1</td>\n",
       "      <td>../Datos/Infoleg/100025.txt</td>\n",
       "      <td>MINISTERIO DE ECONOMIA Y PRODUCCION\\nDecisión ...</td>\n",
       "    </tr>\n",
       "    <tr>\n",
       "      <th>2</th>\n",
       "      <td>2</td>\n",
       "      <td>../Datos/Infoleg/100026.txt</td>\n",
       "      <td>Secretaría de Hacienda\\nPRESUPUESTO\\nResolució...</td>\n",
       "    </tr>\n",
       "    <tr>\n",
       "      <th>3</th>\n",
       "      <td>3</td>\n",
       "      <td>../Datos/Infoleg/100027.txt</td>\n",
       "      <td>Ministerio de Economía y Producción\\nREGIMEN S...</td>\n",
       "    </tr>\n",
       "    <tr>\n",
       "      <th>4</th>\n",
       "      <td>4</td>\n",
       "      <td>../Datos/Infoleg/100028.txt</td>\n",
       "      <td>Secretaría de Empleo\\nPROGRAMA JEFES DE HOGAR\\...</td>\n",
       "    </tr>\n",
       "  </tbody>\n",
       "</table>\n",
       "</div>"
      ],
      "text/plain": [
       "   ID                         FILE  \\\n",
       "0   0  ../Datos/Infoleg/100016.txt   \n",
       "1   1  ../Datos/Infoleg/100025.txt   \n",
       "2   2  ../Datos/Infoleg/100026.txt   \n",
       "3   3  ../Datos/Infoleg/100027.txt   \n",
       "4   4  ../Datos/Infoleg/100028.txt   \n",
       "\n",
       "                                               TEXTO  \n",
       "0  ACUERDOS\\nLey 25.939\\nApruébase el Acuerdo Sob...  \n",
       "1  MINISTERIO DE ECONOMIA Y PRODUCCION\\nDecisión ...  \n",
       "2  Secretaría de Hacienda\\nPRESUPUESTO\\nResolució...  \n",
       "3  Ministerio de Economía y Producción\\nREGIMEN S...  \n",
       "4  Secretaría de Empleo\\nPROGRAMA JEFES DE HOGAR\\...  "
      ]
     },
     "execution_count": 8,
     "metadata": {},
     "output_type": "execute_result"
    }
   ],
   "source": [
    "df_corpus = pandas.DataFrame(corpus,columns=['ID','FILE','TEXTO'])\n",
    "df_corpus.head()"
   ]
  },
  {
   "cell_type": "markdown",
   "metadata": {},
   "source": [
    "# Analizamos una frase de un documento\n",
    "\n",
    "Analizamos el primer documento para simplificar las pruebas en la limpieza de datos."
   ]
  },
  {
   "cell_type": "code",
   "execution_count": 9,
   "metadata": {},
   "outputs": [
    {
     "name": "stdout",
     "output_type": "stream",
     "text": [
      "../Datos/Infoleg/100016.txt\n",
      "ACUERDOS\n",
      "Ley 25.939\n",
      "Apruébase el Acuerdo Sobre Cooperación Minera suscripto en Caracas el 12 de julio de 2000 con la República Bolivariana de Venezuela. Elaboración de programas de Cooperación Científico-Técnica y de Acción. Solución de controversias.\n",
      "Sancionada: Septiembre 22 de 2004\n",
      "Promulgada de Hecho: Octubre 18 de 2004\n",
      "El Senado y Cámara de Diputados de la Nación Argentina reunidos en Congreso, etc. sancionan con fuerza de Ley:\n",
      "ARTICULO 1º — Apruébase el ACUERDO SOBRE COOPERACION MINERA ENTRE LA REPUBLICA ARGENTINA Y LA REPUBLICA BOLIVARIANA DE VENEZUELA, suscripto en Caracas —REPUBLICA BOLIVARIANA DE VENEZUELA— el 12 de julio de 2000, que consta de TRECE (13) artículos, cuya fotocopia autenticada forma parte de la presente ley.\n",
      "ARTICULO 2º — Comuníquese al Poder Ejecutivo nacional.\n",
      "DADA EN LA SALA DE SESIONES DEL CONGRESO ARGENTINO, EN BUENOS AIRES, A LOS VEINTIDOS DIAS DEL MES DE SEPTIEMBRE DEL AÑO DOS MIL CUATRO.\n",
      "— REGISTRADO BAJO EL Nº 25.939 —\n",
      "EDUARDO O. CAMAÑO. — MARCELO A. GUINLE. — Eduardo D. Rollano. — Juan J. Canals.\n",
      "ACUERDO SOBRE COOPERACION MINERA\n",
      "ENTRE\n",
      "LA REPUBLICA ARGENTINA\n",
      "y\n",
      "LA REPUBLICA BOLIVARIANA DE VENEZUELA\n",
      "La República Argentina y la República Bolivariana de Venezuela denominados en adelante \"las Partes\", con el propósito de consolidar los vínculos entre los dos países y con el fin de apoyar e intensificar la cooperación económica, y\n",
      "Considerando la necesidad de fortalecer el proceso de integración en América Latina, encaminado a promover el desarrollo económico social, armónico y equilibrado de la región,\n",
      "Teniendo presente la coincidencia entre los dos países a favor de la profundización de los mecanismos de colaboración y cooperación en materia económica y la firme convicción de que la integración regional redundará en beneficios para el desarrollo de los pueblos,\n",
      "Reconociendo que un acuerdo en materia minera será de utilidad e interés de ambas Partes permitiendo ampliar las posibilidades de cooperación e intercambio técnico y científico-tecnológico del sector, en un marco de integración regional,\n",
      "Acuerdan lo siguiente:\n",
      "ARTICULO PRIMERO\n",
      "Las Partes convienen en alentar la concreción de programas y proyectos específicos de cooperación en las áreas de minerales metalíferos, no metalíferos, rocas de aplicación y concentrados metalúrgicos tanto en el sector de investigación básica y aplicada, orientada a la promoción de la innovación y al desarrollo de nuevos productos, como para la puesta en marcha de producción y comercialización.\n",
      "Para los efectos de la aplicación del presente Acuerdo se entiende por:\n",
      "1.- Programa, al conjunto de proyectos a través de los cuales se implementa la cooperación e integración minera objeto del presente;\n",
      "2.- Proyecto, al conjunto de actividades interrelacionadas y coordinadas con el fin de alcanzar objetivos específicos.\n",
      "ARTICULO SEGUNDO\n",
      "En ese sentido, las Partes acuerdan poner en marcha un Programa de Cooperación Científico- Técnica, entre la Subsecretaría de Minería de la República Argentina y el Ministerio de Energía y Minas de la República Bolivariana de Venezuela, a fin de impulsar el desarrollo de proyectos relacionados con la actividad minera en ambos países.\n",
      "ARTICULO TERCERO\n",
      "Las Partes se comprometen a establecer un Programa de Acción destinado a materializar y complementar, según sea el caso, lo establecido en los artículos precedentes.\n",
      "ARTICULO CUARTO\n",
      "El Programa de Acción mencionado en el artículo precedente se referirá a los aspectos vinculados con:\n",
      "a) el marco legal de las inversiones del sector,\n",
      "b) el estudio e investigación de los avances legislativos en el derecho comparado,\n",
      "c) el desarrollo de una más eficiente capacidad institucional,\n",
      "d) la implementación de un sistema de protección ambiental-minera,\n",
      "e) el intercambio de información sobre legislación y normas minero-ambientales y de salud y seguridad mineras.\n",
      "f) el intercambio de información sobre los servicios de apoyo, especialmente en materia de infraestructura, de conocimiento geológico, de investigación y tecnología, y,\n",
      "g) la implementación de un adecuado sistema de información.\n",
      "ARTICULO QUINTO\n",
      "Las actividades previstas en el Programa de Acción incluirán las siguientes formas de cooperación:\n",
      "a) asistencia recíproca para la formación y capacitación de personal científico-técnico,\n",
      "b) intercambio de expertos,\n",
      "c) intercambio de profesionales especialistas para cursos y seminarios,\n",
      "d) becas de estudio,\n",
      "e) consultas recíprocas sobre cuestiones legales, científicas y tecnológicas,\n",
      "f) formación de grupos mixtos de trabajo para la realización de estudios y proyectos de investigación legal, científica y desarrollo tecnológico,\n",
      "g) transferencia de tecnología en medio ambiente vinculado a la actividad minera,\n",
      "h) las demás formas de cooperación acordadas por las Partes.\n",
      "ARTICULO SEXTO\n",
      "A fin de complementar la colaboración prevista en el presente Acuerdo, los organismos competentes designados por cada una de las Partes celebrarán convenios de aplicación en los que se establecerán las condiciones y modalidades específicas de la cooperación, incluyendo la realización de reuniones técnicas mixtas para el estudio y evaluación de proyectos.\n",
      "Asimismo, los organismos competentes de cada una de las Partes podrán crear comisiones conjuntas que tengan por objeto la conducción técnica de los proyectos y programas acordados.\n",
      "ARTICULO SEPTIMO\n",
      "Cada una de las Partes otorgará todas las facilidades necesarias para la entrada, permanencia y salida de los participantes que en forma oficial intervengan en los proyectos de cooperación minera objeto del presente. Estos participantes se someterán a las disposiciones nacionales vigentes del país receptor y no podrán dedicarse a ninguna actividad ajena a sus funciones.\n",
      "ARTICULO OCTAVO\n",
      "Los resultados de la cooperación serán compartidos por ambas Partes y se publicarán en forma conjunta con su acuerdo mutuo. Cualquier patente conseguida por la cooperación será compartida por ambas Partes. Si una de las Partes pretendiere publicar o transferir, en forma independiente, los resultados de la cooperación a un tercer país, deberá obtener previamente el consentimiento de la otra arte.\n",
      "ARTICULO NOVENO\n",
      "Las Partes se comprometen a cooperar mutuamente en el desarrollo de los proyectos conjuntos que se realizaren en aplicación del presente Acuerdo, facilitando en todo lo posible, la colaboración de otras instituciones u organismos públicos o privados de los respectivos países.\n",
      "ARTICULO DECIMO\n",
      "Para la ejecución de los proyectos conjuntos, en cada caso, las Partes acordarán el financiamiento, conforme a sus respectivas disponibilidades de recursos y a la posibilidad de obtener financiamiento de organismos internacionales.\n",
      "ARTICULO DECIMOPRIMERO\n",
      "SOLUCION DE CONTROVERSIAS\n",
      "Cualquier modificación al texto del Acuerdo o diferencia derivada de su interpretación o aplicación será resuelta por las Partes de común acuerdo.\n",
      "ARTICULO DECIMOSEGUNDO\n",
      "El presente Acuerdo entrará en vigor en la fecha de la última notificación en que las Partes se comuniquen el cumplimiento de sus requisitos formales internos.\n",
      "ARTICULO DECIMOTERCERO\n",
      "El presente Acuerdo tendrá una duración indefinida. La Parte que deseare desligarse deberá comunicar su denuncia, por la vía diplomática, a la otra Parte, con sesenta (60) días de anticipación, sin perjuicio del cumplimiento de los compromisos asumidos durante la vigencia del mismo.\n",
      "HECHO en Caracas, Venezuela, a los 12 días del mes de julio de dos mil, en dos ejemplares originales en idioma castellano, siendo ambos textos igualmente auténticos.\n",
      "Por la República Argentina,  Por la República Bolivariana de Venezuela,   Adalberto Rodríguez Giavarini Ministro de Relaciones Exteriores, Comercio Internacional y Culto  José Vicente Rangel Vale Ministro de Relaciones Exteriores\n",
      "\n",
      "\n"
     ]
    }
   ],
   "source": [
    "texto = df_corpus[0:1].TEXTO[0]\n",
    "print(df_corpus[0:1].FILE[0])\n",
    "print(texto)"
   ]
  },
  {
   "cell_type": "markdown",
   "metadata": {},
   "source": [
    "Lo primero que tenemos que hacer es dividir el corpus en *tokens*. \n",
    "\n",
    "Si utilizamos la función *split()* no obtendremos una división con sentido lingüístico, ya que por ejemplo, no separa los signos de puntuación que se encuentran al final de cada palabra, como las comas (*castellano,*) ó los puntos (*auténtico.*).\n",
    "\n",
    "Para evitar este inconveniente utilizaremos la librería NLTK. \n",
    "\n",
    "La función por defecto es *nltk.word_tokenize()*, pero existe otra llamada *nltk.tokenize.toktok.ToktokTokenizer()*, la cual obtiene mejores resultados en la lengua española (https://github.com/nltk/nltk/issues/1558).\n",
    "\n",
    "Para observar esto, tomemos como ejemplo una parte del primer doumento:"
   ]
  },
  {
   "cell_type": "code",
   "execution_count": 10,
   "metadata": {
    "scrolled": true
   },
   "outputs": [
    {
     "name": "stdout",
     "output_type": "stream",
     "text": [
      "Caracas —REPUBLICA BOLIVARIANA DE VENEZUELA— el 12 de julio de 2000, — REGISTRADO BAJO EL Nº 25.939 — EDUARDO O. CAMAÑO. — MARCELO A. GUINLE. — Eduardo D. Rollano. — Juan J. Canals.\n"
     ]
    }
   ],
   "source": [
    "texto = \"Caracas —REPUBLICA BOLIVARIANA DE VENEZUELA— el 12 de julio de 2000, — REGISTRADO BAJO EL Nº 25.939 — EDUARDO O. CAMAÑO. — MARCELO A. GUINLE. — Eduardo D. Rollano. — Juan J. Canals.\"\n",
    "print(texto)"
   ]
  },
  {
   "cell_type": "markdown",
   "metadata": {},
   "source": [
    "Utilizando *word_tokenize*"
   ]
  },
  {
   "cell_type": "code",
   "execution_count": 11,
   "metadata": {},
   "outputs": [
    {
     "name": "stdout",
     "output_type": "stream",
     "text": [
      "Cantidad de tokens: 38\n",
      "['Caracas', '—REPUBLICA', 'BOLIVARIANA', 'DE', 'VENEZUELA—', 'el', '12', 'de', 'julio', 'de', '2000', ',', '—', 'REGISTRADO', 'BAJO', 'EL', 'Nº', '25.939', '—', 'EDUARDO', 'O.', 'CAMAÑO', '.', '—', 'MARCELO', 'A.', 'GUINLE', '.', '—', 'Eduardo', 'D.', 'Rollano', '.', '—', 'Juan', 'J.', 'Canals', '.']\n"
     ]
    }
   ],
   "source": [
    "wt_tokens = [word for word in nltk.tokenize.word_tokenize(texto)]\n",
    "print('Cantidad de tokens:', len(wt_tokens))\n",
    "print(wt_tokens)"
   ]
  },
  {
   "cell_type": "markdown",
   "metadata": {},
   "source": [
    "Observamos que no separó correctamente el signo — de REPUBLICA y VENEZUELA. \n",
    "\n",
    "También observamos que distingue el punto final de una oración tomándolo como un token individual, de los puntos correspondiente a abreviatura. Por ejemplo en 'MARCELO A. GUINLE.' separó correctamente en: [MARCELO] [A.] [GUINLE] [.]"
   ]
  },
  {
   "cell_type": "markdown",
   "metadata": {},
   "source": [
    "Utilizando *TokTokTokenizer*"
   ]
  },
  {
   "cell_type": "code",
   "execution_count": 12,
   "metadata": {},
   "outputs": [
    {
     "name": "stdout",
     "output_type": "stream",
     "text": [
      "Cantidad de tokens: 37\n",
      "['Caracas', '—', 'REPUBLICA', 'BOLIVARIANA', 'DE', 'VENEZUELA', '—', 'el', '12', 'de', 'julio', 'de', '2000', ',', '—', 'REGISTRADO', 'BAJO', 'EL', 'Nº', '25.939', '—', 'EDUARDO', 'O.', 'CAMAÑO.', '—', 'MARCELO', 'A.', 'GUINLE.', '—', 'Eduardo', 'D.', 'Rollano.', '—', 'Juan', 'J.', 'Canals', '.']\n"
     ]
    }
   ],
   "source": [
    "tt_tokens = ToktokTokenizer().tokenize(texto)\n",
    "print('Cantidad de tokens:', len(tt_tokens))\n",
    "print(tt_tokens)"
   ]
  },
  {
   "cell_type": "markdown",
   "metadata": {},
   "source": [
    "Vemos que separó correctamente el signo — de REPUBLICA y VENEZUELA. \n",
    "\n",
    "Además separó el punto final de la oración, pero no los puntos correspondientes a abreviaturas. Tomando el mismo ejemplo 'MARCELO A. GUINLE.' separó de la siguiente manera: [MARCELO] [A.] [GUINLE.]\n",
    "\n",
    "Utilizaremos la función *TokTokTokenizer* para generar los tokens."
   ]
  },
  {
   "cell_type": "code",
   "execution_count": 13,
   "metadata": {},
   "outputs": [
    {
     "name": "stdout",
     "output_type": "stream",
     "text": [
      "Cantidad de tokens: 37\n",
      "['caracas', '—', 'republica', 'bolivariana', 'de', 'venezuela', '—', 'el', '12', 'de', 'julio', 'de', '2000', ',', '—', 'registrado', 'bajo', 'el', 'nº', '25.939', '—', 'eduardo', 'o.', 'camaño.', '—', 'marcelo', 'a.', 'guinle.', '—', 'eduardo', 'd.', 'rollano.', '—', 'juan', 'j.', 'canals', '.']\n"
     ]
    }
   ],
   "source": [
    "tokens = ToktokTokenizer().tokenize(texto.lower())\n",
    "print('Cantidad de tokens:', len(tokens))\n",
    "print(tokens)"
   ]
  },
  {
   "cell_type": "markdown",
   "metadata": {},
   "source": [
    "Para eliminar los signos de puntuación habíamos utilizado la función nltk.tokenize.punkt.PunktToken(token).is_non_punct. De acuerdo a la documentación (https://www.nltk.org/_modules/nltk/tokenize/punkt.html) la propiedad is_non_punct devuelve true si el token es un número o caracter alfanumérico.\n",
    "La función utiliza la siguiente expresión regular: *[^\\W\\d]*\n",
    "\n",
    "En lugar de utilizar esa función utilizaremos la cadena *string.punctuation* y agregando el símbolo **—**, para luego seguir aplicando otros filtros."
   ]
  },
  {
   "cell_type": "code",
   "execution_count": 14,
   "metadata": {},
   "outputs": [
    {
     "name": "stdout",
     "output_type": "stream",
     "text": [
      "!\"#$%&'()*+,-./:;<=>?@[\\]^_`{|}~ —\n"
     ]
    }
   ],
   "source": [
    "print(string.punctuation, '—')"
   ]
  },
  {
   "cell_type": "markdown",
   "metadata": {},
   "source": [
    "Pasamos a minúscula y eliminamos los tokens que son signos de puntuación."
   ]
  },
  {
   "cell_type": "code",
   "execution_count": 15,
   "metadata": {},
   "outputs": [
    {
     "name": "stdout",
     "output_type": "stream",
     "text": [
      "Cantidad de tokens: 28\n",
      "['caracas', 'republica', 'bolivariana', 'de', 'venezuela', 'el', '12', 'de', 'julio', 'de', '2000', 'registrado', 'bajo', 'el', 'nº', '25.939', 'eduardo', 'o.', 'camaño.', 'marcelo', 'a.', 'guinle.', 'eduardo', 'd.', 'rollano.', 'juan', 'j.', 'canals']\n"
     ]
    }
   ],
   "source": [
    "signos_puntuacion = string.punctuation + '—'\n",
    "tokens = list(filter(lambda token: token not in signos_puntuacion, tokens))\n",
    "print('Cantidad de tokens:', len(tokens))\n",
    "print(tokens)"
   ]
  },
  {
   "cell_type": "markdown",
   "metadata": {},
   "source": [
    "Observamos que en general se utilizan muchas abreviaturas para una misma palabra. Por ejemplo n°, nro. y nº hacen referencia a número.\n",
    "\n",
    "También existen errores de otografía. Por ejemplo artículo y república sin acento.\n",
    "\n",
    "Esto es un gran inconveniente, ya que serán tomados como tokens distintos siendo que corresponden al mimos término.\n",
    "\n",
    "Por el momento solamente corregiremos las que observamos visualmente, pero queda investigar algún método que lo automatize."
   ]
  },
  {
   "cell_type": "code",
   "execution_count": 16,
   "metadata": {
    "scrolled": false
   },
   "outputs": [
    {
     "name": "stdout",
     "output_type": "stream",
     "text": [
      "Cantidad de tokens: 28\n",
      "['caracas', 'república', 'bolivariana', 'de', 'venezuela', 'el', '12', 'de', 'julio', 'de', '2000', 'registrado', 'bajo', 'el', 'número', '25.939', 'eduardo', 'o.', 'camaño.', 'marcelo', 'a.', 'guinle.', 'eduardo', 'd.', 'rollano.', 'juan', 'j.', 'canals']\n"
     ]
    }
   ],
   "source": [
    "# Reemplazar abreviaturas y corregir errores de ortografía\n",
    "dic_Errores = {'nro':'número', 'nro.':'número', 'n°':'número', 'n.°':'número', 'nº':'número', 'n.º':'número', 'art.':'artículo', 'articulo':'artículo', 'republica':'república'}\n",
    "for i in range(len(tokens)):    \n",
    "    for key in dic_Errores:\n",
    "        if tokens[i] == key:\n",
    "            tokens[i] = dic_Errores[key]\n",
    "print('Cantidad de tokens:', len(tokens))\n",
    "print(tokens)"
   ]
  },
  {
   "cell_type": "markdown",
   "metadata": {},
   "source": [
    "Eliminamos los signos de puntuación que están incluidos en el token."
   ]
  },
  {
   "cell_type": "code",
   "execution_count": 17,
   "metadata": {},
   "outputs": [
    {
     "name": "stdout",
     "output_type": "stream",
     "text": [
      "Cantidad de tokens: 28\n",
      "['caracas', 'república', 'bolivariana', 'de', 'venezuela', 'el', '12', 'de', 'julio', 'de', '2000', 'registrado', 'bajo', 'el', 'número', '25939', 'eduardo', 'o', 'camaño', 'marcelo', 'a', 'guinle', 'eduardo', 'd', 'rollano', 'juan', 'j', 'canals']\n"
     ]
    }
   ],
   "source": [
    "# eliminar la puntuación de cada palabra\n",
    "tokens = [re.sub('[%s]' % re.escape(signos_puntuacion), '', token) for token in tokens]\n",
    "print('Cantidad de tokens:', len(tokens))\n",
    "print(tokens)"
   ]
  },
  {
   "cell_type": "markdown",
   "metadata": {},
   "source": [
    "Eliminamos los tokens que son números."
   ]
  },
  {
   "cell_type": "code",
   "execution_count": 18,
   "metadata": {},
   "outputs": [
    {
     "name": "stdout",
     "output_type": "stream",
     "text": [
      "Cantidad de tokens: 25\n",
      "['caracas', 'república', 'bolivariana', 'de', 'venezuela', 'el', 'de', 'julio', 'de', 'registrado', 'bajo', 'el', 'número', 'eduardo', 'o', 'camaño', 'marcelo', 'a', 'guinle', 'eduardo', 'd', 'rollano', 'juan', 'j', 'canals']\n"
     ]
    }
   ],
   "source": [
    "# eliminar los números\n",
    "tokens = list(filter(lambda token: token.isalpha(), tokens))\n",
    "print('Cantidad de tokens:', len(tokens))\n",
    "print(tokens)"
   ]
  },
  {
   "cell_type": "markdown",
   "metadata": {},
   "source": [
    "Eliminamos los stopwords, usando el de la librería NLTK"
   ]
  },
  {
   "cell_type": "code",
   "execution_count": 19,
   "metadata": {},
   "outputs": [
    {
     "name": "stderr",
     "output_type": "stream",
     "text": [
      "[nltk_data] Downloading package stopwords to\n",
      "[nltk_data]     C:\\Users\\jperezv\\AppData\\Roaming\\nltk_data...\n",
      "[nltk_data]   Package stopwords is already up-to-date!\n"
     ]
    },
    {
     "data": {
      "text/plain": [
       "True"
      ]
     },
     "execution_count": 19,
     "metadata": {},
     "output_type": "execute_result"
    }
   ],
   "source": [
    "nltk.download('stopwords')"
   ]
  },
  {
   "cell_type": "code",
   "execution_count": 20,
   "metadata": {},
   "outputs": [
    {
     "name": "stdout",
     "output_type": "stream",
     "text": [
      "Cantidad de palabras en la lista de stop_words: 313\n"
     ]
    }
   ],
   "source": [
    "print(f'Cantidad de palabras en la lista de stop_words: {len(nltk.corpus.stopwords.words(\"spanish\"))}')"
   ]
  },
  {
   "cell_type": "code",
   "execution_count": 21,
   "metadata": {
    "scrolled": false
   },
   "outputs": [
    {
     "name": "stdout",
     "output_type": "stream",
     "text": [
      "Cantidad de tokens: 18\n",
      "['caracas', 'república', 'bolivariana', 'venezuela', 'julio', 'registrado', 'bajo', 'número', 'eduardo', 'camaño', 'marcelo', 'guinle', 'eduardo', 'd', 'rollano', 'juan', 'j', 'canals']\n"
     ]
    }
   ],
   "source": [
    "tokens = list(filter(lambda token: token not in nltk.corpus.stopwords.words('spanish'), tokens))\n",
    "print('Cantidad de tokens:', len(tokens))\n",
    "print(tokens)"
   ]
  },
  {
   "cell_type": "markdown",
   "metadata": {},
   "source": [
    "Obsevamos que el listado de palabras en la lista de stop_words es insuficiente, por lo que veremos más adelante cómo ampliar éste listado."
   ]
  },
  {
   "cell_type": "markdown",
   "metadata": {},
   "source": [
    "Lemmatizamos"
   ]
  },
  {
   "cell_type": "code",
   "execution_count": 22,
   "metadata": {},
   "outputs": [
    {
     "name": "stderr",
     "output_type": "stream",
     "text": [
      "[nltk_data] Downloading package wordnet to\n",
      "[nltk_data]     C:\\Users\\jperezv\\AppData\\Roaming\\nltk_data...\n",
      "[nltk_data]   Package wordnet is already up-to-date!\n"
     ]
    },
    {
     "data": {
      "text/plain": [
       "True"
      ]
     },
     "execution_count": 22,
     "metadata": {},
     "output_type": "execute_result"
    }
   ],
   "source": [
    "nltk.download('wordnet')"
   ]
  },
  {
   "cell_type": "code",
   "execution_count": 23,
   "metadata": {},
   "outputs": [
    {
     "name": "stdout",
     "output_type": "stream",
     "text": [
      "Cantidad de tokens: 18\n",
      "['caracas', 'república', 'bolivariana', 'venezuela', 'julio', 'registrado', 'bajo', 'número', 'eduardo', 'camaño', 'marcelo', 'guinle', 'eduardo', 'd', 'rollano', 'juan', 'j', 'canal']\n"
     ]
    }
   ],
   "source": [
    "lemmatizer = nltk.stem.WordNetLemmatizer()\n",
    "tokens = list(lemmatizer.lemmatize(token) for token in tokens)\n",
    "print('Cantidad de tokens:', len(tokens))\n",
    "print(tokens)"
   ]
  },
  {
   "cell_type": "markdown",
   "metadata": {},
   "source": [
    "El proceso de lemmatización no generó cambios en este texto, debido que la librería en lengua española no es tan completa.\n",
    "\n",
    "Por último los tokens que tienen menos de 3 caracteres ya que no representan palabras significativas"
   ]
  },
  {
   "cell_type": "code",
   "execution_count": 24,
   "metadata": {},
   "outputs": [
    {
     "name": "stdout",
     "output_type": "stream",
     "text": [
      "Cantidad de tokens: 16\n",
      "['caracas', 'república', 'bolivariana', 'venezuela', 'julio', 'registrado', 'bajo', 'número', 'eduardo', 'camaño', 'marcelo', 'guinle', 'eduardo', 'rollano', 'juan', 'canal']\n"
     ]
    }
   ],
   "source": [
    "# eliminar los tokens de un solo caracter\n",
    "tokens = list(filter(lambda token: len(token) > 3, tokens))\n",
    "print('Cantidad de tokens:', len(tokens))\n",
    "print(tokens)"
   ]
  },
  {
   "cell_type": "markdown",
   "metadata": {},
   "source": [
    "# Función de normalización\n",
    "\n",
    "Para poder normalizar todos los documentos y simplificar esta tarea, unificamos todos los pasos anteriores en una función."
   ]
  },
  {
   "cell_type": "code",
   "execution_count": 25,
   "metadata": {},
   "outputs": [],
   "source": [
    "def normalize_texto(texto, stop_words):\n",
    "    # Tokenización\n",
    "    tokens = ToktokTokenizer().tokenize(texto)\n",
    "\n",
    "    # Paso a minúscula\n",
    "    tokens = [word.lower() for word in tokens]\n",
    "\n",
    "    # Eliminamos símbolos de puntuación\n",
    "    signos_puntuacion = string.punctuation + '—'\n",
    "    tokens = list(filter(lambda token: token not in signos_puntuacion, tokens))\n",
    "\n",
    "    # Reemplazar abreviaturas y corregir errores de ortografía\n",
    "    dic_Errores = {'nro':'número', 'nro.':'número', 'n°':'número', 'n.°':'número', 'nº':'número', 'n.º':'número', 'art.':'artículo', 'articulo':'artículo', 'republica':'república'}\n",
    "    for i in range(len(tokens)):    \n",
    "        for key in dic_Errores:\n",
    "            if tokens[i] == key:\n",
    "                tokens[i] = dic_Errores[key]\n",
    "\n",
    "    # eliminar la puntuación de cada palabra\n",
    "    tokens = [re.sub('[%s]' % re.escape(signos_puntuacion), '', token) for token in tokens]\n",
    "    \n",
    "    # eliminar los números\n",
    "    tokens = list(filter(lambda token: token.isalpha(), tokens))\n",
    "\n",
    "    # Eliminamos stopwords\n",
    "    tokens = list(filter(lambda token: token not in stop_words, tokens)) \n",
    "\n",
    "    # Lemmatización\n",
    "    lemmatizer = nltk.stem.WordNetLemmatizer()\n",
    "    tokens = [lemmatizer.lemmatize(word) for word in tokens]\n",
    "\n",
    "    # eliminar los tokens de menos de 3 caracteres\n",
    "    tokens = list(filter(lambda token: len(token) > 3, tokens))\n",
    "\n",
    "    return ' '.join(tokens)\n"
   ]
  },
  {
   "cell_type": "markdown",
   "metadata": {},
   "source": [
    "# Analizamos el documento completo"
   ]
  },
  {
   "cell_type": "code",
   "execution_count": 26,
   "metadata": {},
   "outputs": [
    {
     "name": "stdout",
     "output_type": "stream",
     "text": [
      "Cantidad de tokens: 606\n",
      "['acuerdos', 'apruébase', 'acuerdo', 'cooperación', 'minera', 'suscripto', 'caracas', 'julio', 'república', 'bolivariana', 'venezuela', 'elaboración', 'programas', 'cooperación', 'científicotécnica', 'acción', 'solución', 'controversias', 'sancionada', 'septiembre', 'promulgada', 'hecho', 'octubre', 'senado', 'cámara', 'diputados', 'nación', 'argentina', 'reunidos', 'congreso', 'sancionan', 'fuerza', 'artículo', 'apruébase', 'acuerdo', 'cooperacion', 'minera', 'república', 'argentina', 'república', 'bolivariana', 'venezuela', 'suscripto', 'caracas', 'república', 'bolivariana', 'venezuela', 'julio', 'consta', 'trece', 'artículos', 'cuya', 'fotocopia', 'autenticada', 'forma', 'parte', 'presente', 'artículo', 'comuníquese', 'poder', 'ejecutivo', 'nacional', 'dada', 'sala', 'sesiones', 'congreso', 'argentino', 'buenos', 'aire', 'veintidos', 'septiembre', 'cuatro', 'registrado', 'bajo', 'número', 'eduardo', 'camaño', 'marcelo', 'guinle', 'eduardo', 'rollano', 'juan', 'canal', 'acuerdo', 'cooperacion', 'minera', 'república', 'argentina', 'república', 'bolivariana', 'venezuela', 'república', 'argentina', 'república', 'bolivariana', 'venezuela', 'denominados', 'adelante', 'partes', 'propósito', 'consolidar', 'vínculos', 'países', 'apoyar', 'intensificar', 'cooperación', 'económica', 'considerando', 'necesidad', 'fortalecer', 'proceso', 'integración', 'américa', 'latina', 'encaminado', 'promover', 'desarrollo', 'económico', 'social', 'armónico', 'equilibrado', 'región', 'presente', 'coincidencia', 'países', 'favor', 'profundización', 'mecanismos', 'colaboración', 'cooperación', 'materia', 'económica', 'firme', 'convicción', 'integración', 'regional', 'redundará', 'beneficios', 'desarrollo', 'pueblo', 'reconociendo', 'acuerdo', 'materia', 'minera', 'utilidad', 'interés', 'ambas', 'partes', 'permitiendo', 'ampliar', 'posibilidades', 'cooperación', 'intercambio', 'técnico', 'científicotecnológico', 'sector', 'marco', 'integración', 'regional', 'acuerdan', 'siguiente', 'artículo', 'primero', 'partes', 'convienen', 'alentar', 'concreción', 'programas', 'proyectos', 'específicos', 'cooperación', 'áreas', 'minerales', 'metalíferos', 'metalíferos', 'rocas', 'aplicación', 'concentrados', 'metalúrgicos', 'sector', 'investigación', 'básica', 'aplicada', 'orientada', 'promoción', 'innovación', 'desarrollo', 'nuevos', 'productos', 'puesta', 'marcha', 'producción', 'comercialización', 'efectos', 'aplicación', 'presente', 'acuerdo', 'entiende', 'programa', 'conjunto', 'proyectos', 'través', 'cuales', 'implementa', 'cooperación', 'integración', 'minera', 'objeto', 'presente', 'proyecto', 'conjunto', 'actividades', 'interrelacionadas', 'coordinadas', 'alcanzar', 'objetivos', 'específicos', 'artículo', 'segundo', 'partes', 'acuerdan', 'poner', 'marcha', 'programa', 'cooperación', 'científico', 'técnica', 'subsecretaría', 'minería', 'república', 'argentina', 'ministerio', 'energía', 'mina', 'república', 'bolivariana', 'venezuela', 'impulsar', 'desarrollo', 'proyectos', 'relacionados', 'actividad', 'minera', 'ambo', 'países', 'artículo', 'tercero', 'partes', 'comprometen', 'establecer', 'programa', 'acción', 'destinado', 'materializar', 'complementar', 'según', 'caso', 'establecido', 'artículos', 'precedentes', 'artículo', 'cuarto', 'programa', 'acción', 'mencionado', 'artículo', 'precedente', 'referirá', 'aspectos', 'vinculados', 'marco', 'legal', 'inversiones', 'sector', 'estudio', 'investigación', 'avances', 'legislativos', 'derecho', 'comparado', 'desarrollo', 'eficiente', 'capacidad', 'institucional', 'implementación', 'sistema', 'protección', 'ambientalminera', 'intercambio', 'información', 'legislación', 'norma', 'mineroambientales', 'salud', 'seguridad', 'mineras', 'intercambio', 'información', 'servicios', 'apoyo', 'especialmente', 'materia', 'infraestructura', 'conocimiento', 'geológico', 'investigación', 'tecnología', 'implementación', 'adecuado', 'sistema', 'información', 'artículo', 'quinto', 'actividades', 'previstas', 'programa', 'acción', 'incluirán', 'siguientes', 'formas', 'cooperación', 'asistencia', 'recíproca', 'formación', 'capacitación', 'personal', 'científicotécnico', 'intercambio', 'expertos', 'intercambio', 'profesionales', 'especialistas', 'cursos', 'seminarios', 'becas', 'estudio', 'consultas', 'recíprocas', 'cuestiones', 'legales', 'científicas', 'tecnológicas', 'formación', 'grupos', 'mixtos', 'trabajo', 'realización', 'estudios', 'proyectos', 'investigación', 'legal', 'científica', 'desarrollo', 'tecnológico', 'transferencia', 'tecnología', 'medio', 'ambiente', 'vinculado', 'actividad', 'minera', 'demás', 'formas', 'cooperación', 'acordadas', 'partes', 'artículo', 'sexto', 'complementar', 'colaboración', 'prevista', 'presente', 'acuerdo', 'organismos', 'competentes', 'designados', 'cada', 'partes', 'celebrarán', 'convenios', 'aplicación', 'establecerán', 'condiciones', 'modalidades', 'específicas', 'cooperación', 'incluyendo', 'realización', 'reuniones', 'técnicas', 'mixtas', 'estudio', 'evaluación', 'proyectos', 'asimismo', 'organismos', 'competentes', 'cada', 'partes', 'podrán', 'crear', 'comisiones', 'conjuntas', 'objeto', 'conducción', 'técnica', 'proyectos', 'programas', 'acordados', 'artículo', 'septimo', 'cada', 'partes', 'otorgará', 'toda', 'facilidades', 'necesarias', 'entrada', 'permanencia', 'salida', 'participantes', 'forma', 'oficial', 'intervengan', 'proyectos', 'cooperación', 'minera', 'objeto', 'presente', 'participantes', 'someterán', 'disposiciones', 'nacionales', 'vigentes', 'país', 'receptor', 'podrán', 'dedicarse', 'ninguna', 'actividad', 'ajena', 'funciones', 'artículo', 'octavo', 'resultados', 'cooperación', 'compartidos', 'ambas', 'partes', 'publicarán', 'forma', 'conjunta', 'acuerdo', 'mutuo', 'cualquier', 'patente', 'conseguida', 'cooperación', 'compartida', 'ambas', 'partes', 'partes', 'pretendiere', 'publicar', 'transferir', 'forma', 'independiente', 'resultados', 'cooperación', 'tercer', 'país', 'deberá', 'obtener', 'previamente', 'consentimiento', 'arte', 'artículo', 'noveno', 'partes', 'comprometen', 'cooperar', 'mutuamente', 'desarrollo', 'proyectos', 'conjuntos', 'realizaren', 'aplicación', 'presente', 'acuerdo', 'facilitando', 'posible', 'colaboración', 'instituciones', 'organismos', 'públicos', 'privados', 'respectivos', 'países', 'artículo', 'decimo', 'ejecución', 'proyectos', 'conjuntos', 'cada', 'caso', 'partes', 'acordarán', 'financiamiento', 'conforme', 'respectivas', 'disponibilidades', 'recursos', 'posibilidad', 'obtener', 'financiamiento', 'organismos', 'internacionales', 'artículo', 'decimoprimero', 'solucion', 'controversias', 'cualquier', 'modificación', 'texto', 'acuerdo', 'diferencia', 'derivada', 'interpretación', 'aplicación', 'resuelta', 'partes', 'común', 'acuerdo', 'artículo', 'decimosegundo', 'presente', 'acuerdo', 'entrará', 'vigor', 'fecha', 'última', 'notificación', 'partes', 'comuniquen', 'cumplimiento', 'requisitos', 'formales', 'internos', 'artículo', 'decimotercero', 'presente', 'acuerdo', 'duración', 'indefinida', 'parte', 'deseare', 'desligarse', 'deberá', 'comunicar', 'denuncia', 'diplomática', 'parte', 'sesenta', 'días', 'anticipación', 'perjuicio', 'cumplimiento', 'compromisos', 'asumidos', 'vigencia', 'mismo', 'hecho', 'caracas', 'venezuela', 'días', 'julio', 'ejemplares', 'originales', 'idioma', 'castellano', 'siendo', 'ambo', 'textos', 'igualmente', 'auténticos', 'república', 'argentina', 'república', 'bolivariana', 'venezuela', 'adalberto', 'rodríguez', 'giavarini', 'ministro', 'relaciones', 'exteriores', 'comercio', 'internacional', 'culto', 'josé', 'vicente', 'rangel', 'vale', 'ministro', 'relaciones', 'exteriores']\n"
     ]
    }
   ],
   "source": [
    "texto = normalize_texto(df_corpus[0:1].TEXTO[0], nltk.corpus.stopwords.words('spanish'))\n",
    "tokens = texto.split()\n",
    "print('Cantidad de tokens:', len(tokens))\n",
    "print(tokens)"
   ]
  },
  {
   "cell_type": "markdown",
   "metadata": {},
   "source": [
    "Vemos las palabras más frecuentesen el documento"
   ]
  },
  {
   "cell_type": "code",
   "execution_count": 27,
   "metadata": {},
   "outputs": [],
   "source": [
    "dic_tokens = collections.Counter(tokens)\n",
    "df_tokens = pandas.DataFrame(dic_tokens.items(), columns=['Token', 'Frecuencia']).sort_values(by=\"Frecuencia\", ascending=False)"
   ]
  },
  {
   "cell_type": "code",
   "execution_count": 28,
   "metadata": {},
   "outputs": [
    {
     "data": {
      "image/png": "[encoded data removed]",
      "text/plain": [
       "<Figure size 1440x720 with 1 Axes>"
      ]
     },
     "metadata": {
      "needs_background": "light"
     },
     "output_type": "display_data"
    }
   ],
   "source": [
    "plt.figure(figsize=(20,10))\n",
    "seaborn.barplot(y=df_tokens[:50].Token, x=df_tokens[:50].Frecuencia, color='steelblue')\n",
    "plt.title('Frecuencia de ocurrrencia de\\n algunas palabras del corpus')\n",
    "plt.xticks(rotation=90)\n",
    "seaborn.despine()"
   ]
  },
  {
   "cell_type": "markdown",
   "metadata": {},
   "source": [
    "Graficamos lo mismo en una nube de palabras"
   ]
  },
  {
   "cell_type": "code",
   "execution_count": 29,
   "metadata": {},
   "outputs": [],
   "source": [
    "wc = WordCloud(background_color=\"white\", colormap=\"Dark2\", max_font_size=150, random_state=42)"
   ]
  },
  {
   "cell_type": "code",
   "execution_count": 30,
   "metadata": {},
   "outputs": [
    {
     "data": {
      "image/png": "[encoded data removed]",
      "text/plain": [
       "<Figure size 432x288 with 1 Axes>"
      ]
     },
     "metadata": {
      "needs_background": "light"
     },
     "output_type": "display_data"
    }
   ],
   "source": [
    "wc.generate(texto)\n",
    "plt.imshow(wc, interpolation=\"bilinear\")\n",
    "plt.axis(\"off\")\n",
    "plt.show()"
   ]
  },
  {
   "cell_type": "markdown",
   "metadata": {},
   "source": [
    "Las palabra que más se repiten, *parte* y *artículo*, no me dicen nada del documento. Pero hay otras con menor frecuencia, *acuerdo, cooperación, minera* que sí le dan sentido al documento, es un **acuerdo de cooperación minera**.\n",
    "\n",
    "También observamos que existen palabras que van juntas, como por ejemplo *república bolivariana* y *república argentina*, por lo que pueden ser tomadas como una sola. Incluso las palabras *república bolivariana venezuela* puede ser tomada como una sola palabra.\n",
    "\n",
    "Esto nos lleva a analizar los N-Gramas para obtener las palabras relevantes."
   ]
  },
  {
   "cell_type": "markdown",
   "metadata": {},
   "source": [
    "# Palabras relevantes\n",
    "\n",
    "Calcularemos TF-IDF (Term Frecuency-Inverse Document Frecuency) para obtener las palabras más relevante de cada documento.\n",
    "\n",
    "El cálculo lo haremos sobre los textos ya normalizados, por lo que agregamos una columna al DataFrame con el texto normalizado de cada documento."
   ]
  },
  {
   "cell_type": "code",
   "execution_count": 31,
   "metadata": {},
   "outputs": [
    {
     "data": {
      "text/html": [
       "<div>\n",
       "<style scoped>\n",
       "    .dataframe tbody tr th:only-of-type {\n",
       "        vertical-align: middle;\n",
       "    }\n",
       "\n",
       "    .dataframe tbody tr th {\n",
       "        vertical-align: top;\n",
       "    }\n",
       "\n",
       "    .dataframe thead th {\n",
       "        text-align: right;\n",
       "    }\n",
       "</style>\n",
       "<table border=\"1\" class=\"dataframe\">\n",
       "  <thead>\n",
       "    <tr style=\"text-align: right;\">\n",
       "      <th></th>\n",
       "      <th>ID</th>\n",
       "      <th>FILE</th>\n",
       "      <th>TEXTO</th>\n",
       "      <th>TEXTO_NORM</th>\n",
       "    </tr>\n",
       "  </thead>\n",
       "  <tbody>\n",
       "    <tr>\n",
       "      <th>0</th>\n",
       "      <td>0</td>\n",
       "      <td>../Datos/Infoleg/100016.txt</td>\n",
       "      <td>ACUERDOS\\nLey 25.939\\nApruébase el Acuerdo Sob...</td>\n",
       "      <td>acuerdos apruébase acuerdo cooperación minera ...</td>\n",
       "    </tr>\n",
       "    <tr>\n",
       "      <th>1</th>\n",
       "      <td>1</td>\n",
       "      <td>../Datos/Infoleg/100025.txt</td>\n",
       "      <td>MINISTERIO DE ECONOMIA Y PRODUCCION\\nDecisión ...</td>\n",
       "      <td>ministerio economia produccion decisión admini...</td>\n",
       "    </tr>\n",
       "    <tr>\n",
       "      <th>2</th>\n",
       "      <td>2</td>\n",
       "      <td>../Datos/Infoleg/100026.txt</td>\n",
       "      <td>Secretaría de Hacienda\\nPRESUPUESTO\\nResolució...</td>\n",
       "      <td>secretaría hacienda presupuesto resolución mod...</td>\n",
       "    </tr>\n",
       "    <tr>\n",
       "      <th>3</th>\n",
       "      <td>3</td>\n",
       "      <td>../Datos/Infoleg/100027.txt</td>\n",
       "      <td>Ministerio de Economía y Producción\\nREGIMEN S...</td>\n",
       "      <td>ministerio economía producción regimen simplif...</td>\n",
       "    </tr>\n",
       "    <tr>\n",
       "      <th>4</th>\n",
       "      <td>4</td>\n",
       "      <td>../Datos/Infoleg/100028.txt</td>\n",
       "      <td>Secretaría de Empleo\\nPROGRAMA JEFES DE HOGAR\\...</td>\n",
       "      <td>secretaría empleo programa jefes hogar resoluc...</td>\n",
       "    </tr>\n",
       "  </tbody>\n",
       "</table>\n",
       "</div>"
      ],
      "text/plain": [
       "   ID                         FILE  \\\n",
       "0   0  ../Datos/Infoleg/100016.txt   \n",
       "1   1  ../Datos/Infoleg/100025.txt   \n",
       "2   2  ../Datos/Infoleg/100026.txt   \n",
       "3   3  ../Datos/Infoleg/100027.txt   \n",
       "4   4  ../Datos/Infoleg/100028.txt   \n",
       "\n",
       "                                               TEXTO  \\\n",
       "0  ACUERDOS\\nLey 25.939\\nApruébase el Acuerdo Sob...   \n",
       "1  MINISTERIO DE ECONOMIA Y PRODUCCION\\nDecisión ...   \n",
       "2  Secretaría de Hacienda\\nPRESUPUESTO\\nResolució...   \n",
       "3  Ministerio de Economía y Producción\\nREGIMEN S...   \n",
       "4  Secretaría de Empleo\\nPROGRAMA JEFES DE HOGAR\\...   \n",
       "\n",
       "                                          TEXTO_NORM  \n",
       "0  acuerdos apruébase acuerdo cooperación minera ...  \n",
       "1  ministerio economia produccion decisión admini...  \n",
       "2  secretaría hacienda presupuesto resolución mod...  \n",
       "3  ministerio economía producción regimen simplif...  \n",
       "4  secretaría empleo programa jefes hogar resoluc...  "
      ]
     },
     "execution_count": 31,
     "metadata": {},
     "output_type": "execute_result"
    }
   ],
   "source": [
    "sw = nltk.corpus.stopwords.words('spanish')\n",
    "df_corpus[\"TEXTO_NORM\"] = df_corpus[\"TEXTO\"].apply(lambda x: normalize_texto(x, sw))\n",
    "df_corpus.head()"
   ]
  },
  {
   "cell_type": "markdown",
   "metadata": {},
   "source": [
    "Agregamos una columna con la cantidad de palabras en cada texto normalizado. Esto nos servirá para luego poder compararla con la cantidad de palabras más relevantes de cada documento"
   ]
  },
  {
   "cell_type": "code",
   "execution_count": 32,
   "metadata": {
    "scrolled": true
   },
   "outputs": [
    {
     "data": {
      "text/html": [
       "<div>\n",
       "<style scoped>\n",
       "    .dataframe tbody tr th:only-of-type {\n",
       "        vertical-align: middle;\n",
       "    }\n",
       "\n",
       "    .dataframe tbody tr th {\n",
       "        vertical-align: top;\n",
       "    }\n",
       "\n",
       "    .dataframe thead th {\n",
       "        text-align: right;\n",
       "    }\n",
       "</style>\n",
       "<table border=\"1\" class=\"dataframe\">\n",
       "  <thead>\n",
       "    <tr style=\"text-align: right;\">\n",
       "      <th></th>\n",
       "      <th>ID</th>\n",
       "      <th>FILE</th>\n",
       "      <th>TEXTO</th>\n",
       "      <th>TEXTO_NORM</th>\n",
       "      <th>CANT_PALABRAS</th>\n",
       "    </tr>\n",
       "  </thead>\n",
       "  <tbody>\n",
       "    <tr>\n",
       "      <th>0</th>\n",
       "      <td>0</td>\n",
       "      <td>../Datos/Infoleg/100016.txt</td>\n",
       "      <td>ACUERDOS\\nLey 25.939\\nApruébase el Acuerdo Sob...</td>\n",
       "      <td>acuerdos apruébase acuerdo cooperación minera ...</td>\n",
       "      <td>5815</td>\n",
       "    </tr>\n",
       "    <tr>\n",
       "      <th>1</th>\n",
       "      <td>1</td>\n",
       "      <td>../Datos/Infoleg/100025.txt</td>\n",
       "      <td>MINISTERIO DE ECONOMIA Y PRODUCCION\\nDecisión ...</td>\n",
       "      <td>ministerio economia produccion decisión admini...</td>\n",
       "      <td>577</td>\n",
       "    </tr>\n",
       "    <tr>\n",
       "      <th>2</th>\n",
       "      <td>2</td>\n",
       "      <td>../Datos/Infoleg/100026.txt</td>\n",
       "      <td>Secretaría de Hacienda\\nPRESUPUESTO\\nResolució...</td>\n",
       "      <td>secretaría hacienda presupuesto resolución mod...</td>\n",
       "      <td>1794</td>\n",
       "    </tr>\n",
       "    <tr>\n",
       "      <th>3</th>\n",
       "      <td>3</td>\n",
       "      <td>../Datos/Infoleg/100027.txt</td>\n",
       "      <td>Ministerio de Economía y Producción\\nREGIMEN S...</td>\n",
       "      <td>ministerio economía producción regimen simplif...</td>\n",
       "      <td>1360</td>\n",
       "    </tr>\n",
       "    <tr>\n",
       "      <th>4</th>\n",
       "      <td>4</td>\n",
       "      <td>../Datos/Infoleg/100028.txt</td>\n",
       "      <td>Secretaría de Empleo\\nPROGRAMA JEFES DE HOGAR\\...</td>\n",
       "      <td>secretaría empleo programa jefes hogar resoluc...</td>\n",
       "      <td>6177</td>\n",
       "    </tr>\n",
       "  </tbody>\n",
       "</table>\n",
       "</div>"
      ],
      "text/plain": [
       "   ID                         FILE  \\\n",
       "0   0  ../Datos/Infoleg/100016.txt   \n",
       "1   1  ../Datos/Infoleg/100025.txt   \n",
       "2   2  ../Datos/Infoleg/100026.txt   \n",
       "3   3  ../Datos/Infoleg/100027.txt   \n",
       "4   4  ../Datos/Infoleg/100028.txt   \n",
       "\n",
       "                                               TEXTO  \\\n",
       "0  ACUERDOS\\nLey 25.939\\nApruébase el Acuerdo Sob...   \n",
       "1  MINISTERIO DE ECONOMIA Y PRODUCCION\\nDecisión ...   \n",
       "2  Secretaría de Hacienda\\nPRESUPUESTO\\nResolució...   \n",
       "3  Ministerio de Economía y Producción\\nREGIMEN S...   \n",
       "4  Secretaría de Empleo\\nPROGRAMA JEFES DE HOGAR\\...   \n",
       "\n",
       "                                          TEXTO_NORM  CANT_PALABRAS  \n",
       "0  acuerdos apruébase acuerdo cooperación minera ...           5815  \n",
       "1  ministerio economia produccion decisión admini...            577  \n",
       "2  secretaría hacienda presupuesto resolución mod...           1794  \n",
       "3  ministerio economía producción regimen simplif...           1360  \n",
       "4  secretaría empleo programa jefes hogar resoluc...           6177  "
      ]
     },
     "execution_count": 32,
     "metadata": {},
     "output_type": "execute_result"
    }
   ],
   "source": [
    "df_corpus[\"CANT_PALABRAS\"] = df_corpus[\"TEXTO_NORM\"].apply(lambda x: len(x))\n",
    "df_corpus.head()"
   ]
  },
  {
   "cell_type": "code",
   "execution_count": 33,
   "metadata": {},
   "outputs": [
    {
     "name": "stdout",
     "output_type": "stream",
     "text": [
      "Los documentos tienen una media de 6316 palabras.\n"
     ]
    }
   ],
   "source": [
    "print(f'Los documentos tienen una media de {int(df_corpus[\"CANT_PALABRAS\"].mean())} palabras.' )"
   ]
  },
  {
   "cell_type": "markdown",
   "metadata": {},
   "source": [
    "Generamos el vocabulario a partir del texto normalizado. En dicho vocabulario incluiremos bi-gramas para mejorar el análisis."
   ]
  },
  {
   "cell_type": "code",
   "execution_count": 34,
   "metadata": {},
   "outputs": [],
   "source": [
    "cv_vectorizer = CountVectorizer(ngram_range=(1,2))\n",
    "word_count_vector = cv_vectorizer.fit_transform(df_corpus['TEXTO_NORM'])"
   ]
  },
  {
   "cell_type": "code",
   "execution_count": 35,
   "metadata": {},
   "outputs": [
    {
     "name": "stdout",
     "output_type": "stream",
     "text": [
      "La cantidad de términos en nuestro vocabulario es de 683250 palabras\n"
     ]
    }
   ],
   "source": [
    "print(f'La cantidad de términos en nuestro vocabulario es de {word_count_vector.shape[1]} palabras')"
   ]
  },
  {
   "cell_type": "markdown",
   "metadata": {},
   "source": [
    "Mostramos 10 palabras de nuestro diccionario"
   ]
  },
  {
   "cell_type": "code",
   "execution_count": 36,
   "metadata": {},
   "outputs": [
    {
     "data": {
      "text/plain": [
       "['acuerdos',\n",
       " 'apruébase',\n",
       " 'acuerdo',\n",
       " 'cooperación',\n",
       " 'minera',\n",
       " 'suscripto',\n",
       " 'caracas',\n",
       " 'julio',\n",
       " 'república',\n",
       " 'bolivariana']"
      ]
     },
     "execution_count": 36,
     "metadata": {},
     "output_type": "execute_result"
    }
   ],
   "source": [
    "list(cv_vectorizer.vocabulary_.keys())[:10]"
   ]
  },
  {
   "cell_type": "markdown",
   "metadata": {},
   "source": [
    "Calculamos la Frecuencia Inversa del Documento (IDF) a partir del la matriz de generada anteriormente."
   ]
  },
  {
   "cell_type": "code",
   "execution_count": 37,
   "metadata": {},
   "outputs": [
    {
     "data": {
      "text/plain": [
       "TfidfTransformer()"
      ]
     },
     "execution_count": 37,
     "metadata": {},
     "output_type": "execute_result"
    }
   ],
   "source": [
    "tfidf_transformer = TfidfTransformer()\n",
    "tfidf_transformer.fit(word_count_vector)"
   ]
  },
  {
   "cell_type": "markdown",
   "metadata": {},
   "source": [
    "Mostramos los valores IDF de nuestro diccionario."
   ]
  },
  {
   "cell_type": "code",
   "execution_count": 38,
   "metadata": {},
   "outputs": [
    {
     "data": {
      "text/html": [
       "<div>\n",
       "<style scoped>\n",
       "    .dataframe tbody tr th:only-of-type {\n",
       "        vertical-align: middle;\n",
       "    }\n",
       "\n",
       "    .dataframe tbody tr th {\n",
       "        vertical-align: top;\n",
       "    }\n",
       "\n",
       "    .dataframe thead th {\n",
       "        text-align: right;\n",
       "    }\n",
       "</style>\n",
       "<table border=\"1\" class=\"dataframe\">\n",
       "  <thead>\n",
       "    <tr style=\"text-align: right;\">\n",
       "      <th></th>\n",
       "      <th>idf_weights</th>\n",
       "    </tr>\n",
       "  </thead>\n",
       "  <tbody>\n",
       "    <tr>\n",
       "      <th>nacional</th>\n",
       "      <td>1.176183</td>\n",
       "    </tr>\n",
       "    <tr>\n",
       "      <th>artículo</th>\n",
       "      <td>1.195928</td>\n",
       "    </tr>\n",
       "    <tr>\n",
       "      <th>oficial</th>\n",
       "      <td>1.243746</td>\n",
       "    </tr>\n",
       "    <tr>\n",
       "      <th>registro</th>\n",
       "      <td>1.263845</td>\n",
       "    </tr>\n",
       "    <tr>\n",
       "      <th>archívese</th>\n",
       "      <td>1.284887</td>\n",
       "    </tr>\n",
       "    <tr>\n",
       "      <th>...</th>\n",
       "      <td>...</td>\n",
       "    </tr>\n",
       "    <tr>\n",
       "      <th>establecimiento instalaciones</th>\n",
       "      <td>8.131299</td>\n",
       "    </tr>\n",
       "    <tr>\n",
       "      <th>establecimiento instituirá</th>\n",
       "      <td>8.131299</td>\n",
       "    </tr>\n",
       "    <tr>\n",
       "      <th>establecimiento instrucciones</th>\n",
       "      <td>8.131299</td>\n",
       "    </tr>\n",
       "    <tr>\n",
       "      <th>establecimiento inferior</th>\n",
       "      <td>8.131299</td>\n",
       "    </tr>\n",
       "    <tr>\n",
       "      <th>útilmente según</th>\n",
       "      <td>8.131299</td>\n",
       "    </tr>\n",
       "  </tbody>\n",
       "</table>\n",
       "<p>683250 rows × 1 columns</p>\n",
       "</div>"
      ],
      "text/plain": [
       "                               idf_weights\n",
       "nacional                          1.176183\n",
       "artículo                          1.195928\n",
       "oficial                           1.243746\n",
       "registro                          1.263845\n",
       "archívese                         1.284887\n",
       "...                                    ...\n",
       "establecimiento instalaciones     8.131299\n",
       "establecimiento instituirá        8.131299\n",
       "establecimiento instrucciones     8.131299\n",
       "establecimiento inferior          8.131299\n",
       "útilmente según                   8.131299\n",
       "\n",
       "[683250 rows x 1 columns]"
      ]
     },
     "execution_count": 38,
     "metadata": {},
     "output_type": "execute_result"
    }
   ],
   "source": [
    "# print idf values \n",
    "df_idf = pandas.DataFrame(tfidf_transformer.idf_, index=cv_vectorizer.get_feature_names(),columns=[\"idf_weights\"]) \n",
    " \n",
    "# sort ascending \n",
    "df_idf.sort_values(by=['idf_weights'])"
   ]
  },
  {
   "cell_type": "markdown",
   "metadata": {},
   "source": [
    "Observamos que las palabras \"nacional\", \"artículo\", \"oficial\", \"registro\", \"archívese\", tienen los valores de IDF más bajos. Esto lógico, ya que estas palabras aparecen en todos y cada uno de los documentos de nuestra colección. Cuanto menor sea el valor IDF de una palabra, menos exclusiva será para un documento en particular.\n",
    "\n",
    "Mas adelante utilizaremos esta matriz para ampliar el listado de stop words.\n",
    "\n",
    "Ahora calculamos el TF-IDF de cada una de las palabras de nuestro diccionario. "
   ]
  },
  {
   "cell_type": "code",
   "execution_count": 39,
   "metadata": {},
   "outputs": [],
   "source": [
    "tf_idf_vector = tfidf_transformer.transform(word_count_vector)"
   ]
  },
  {
   "cell_type": "markdown",
   "metadata": {},
   "source": [
    "Mostramos los valores TF-IDF del primer documento."
   ]
  },
  {
   "cell_type": "code",
   "execution_count": 40,
   "metadata": {
    "scrolled": true
   },
   "outputs": [
    {
     "data": {
      "text/html": [
       "<div>\n",
       "<style scoped>\n",
       "    .dataframe tbody tr th:only-of-type {\n",
       "        vertical-align: middle;\n",
       "    }\n",
       "\n",
       "    .dataframe tbody tr th {\n",
       "        vertical-align: top;\n",
       "    }\n",
       "\n",
       "    .dataframe thead th {\n",
       "        text-align: right;\n",
       "    }\n",
       "</style>\n",
       "<table border=\"1\" class=\"dataframe\">\n",
       "  <thead>\n",
       "    <tr style=\"text-align: right;\">\n",
       "      <th></th>\n",
       "      <th>tfidf</th>\n",
       "    </tr>\n",
       "  </thead>\n",
       "  <tbody>\n",
       "    <tr>\n",
       "      <th>cooperación</th>\n",
       "      <td>0.243878</td>\n",
       "    </tr>\n",
       "    <tr>\n",
       "      <th>venezuela</th>\n",
       "      <td>0.201341</td>\n",
       "    </tr>\n",
       "    <tr>\n",
       "      <th>minera</th>\n",
       "      <td>0.185912</td>\n",
       "    </tr>\n",
       "    <tr>\n",
       "      <th>bolivariana</th>\n",
       "      <td>0.184903</td>\n",
       "    </tr>\n",
       "    <tr>\n",
       "      <th>república bolivariana</th>\n",
       "      <td>0.184903</td>\n",
       "    </tr>\n",
       "    <tr>\n",
       "      <th>bolivariana venezuela</th>\n",
       "      <td>0.184903</td>\n",
       "    </tr>\n",
       "    <tr>\n",
       "      <th>partes</th>\n",
       "      <td>0.146706</td>\n",
       "    </tr>\n",
       "    <tr>\n",
       "      <th>proyectos</th>\n",
       "      <td>0.130848</td>\n",
       "    </tr>\n",
       "    <tr>\n",
       "      <th>república</th>\n",
       "      <td>0.100326</td>\n",
       "    </tr>\n",
       "    <tr>\n",
       "      <th>programa acción</th>\n",
       "      <td>0.090767</td>\n",
       "    </tr>\n",
       "  </tbody>\n",
       "</table>\n",
       "</div>"
      ],
      "text/plain": [
       "                          tfidf\n",
       "cooperación            0.243878\n",
       "venezuela              0.201341\n",
       "minera                 0.185912\n",
       "bolivariana            0.184903\n",
       "república bolivariana  0.184903\n",
       "bolivariana venezuela  0.184903\n",
       "partes                 0.146706\n",
       "proyectos              0.130848\n",
       "república              0.100326\n",
       "programa acción        0.090767"
      ]
     },
     "execution_count": 40,
     "metadata": {},
     "output_type": "execute_result"
    }
   ],
   "source": [
    "feature_names = cv_vectorizer.get_feature_names() \n",
    " \n",
    "#get tfidf vector for first document \n",
    "first_document_vector=tf_idf_vector[0] \n",
    " \n",
    "#print the scores \n",
    "df = pandas.DataFrame(first_document_vector.T.todense(), index=feature_names, columns=[\"tfidf\"]) \n",
    "df.sort_values(by=[\"tfidf\"],ascending=False).head(10)"
   ]
  },
  {
   "cell_type": "markdown",
   "metadata": {},
   "source": [
    "Observamos que las palabras *cooperación*, *venezuela* y *minera* son las más relevantes, lo cual es lo que esperábamos, ya que el documento trata de un *acuerdo de cooperación minera con Venezuela*.\n",
    "\n",
    "También observamos que obtienen el mismo valor TF-IDF [república bolivarioana] y [bolivariana venezuela], lo cual tiene mucho sentido.\n",
    "\n",
    "Generamos una función que nos retorne las 10 palabras mas relevantes de un documento, para luego poder luego agregar una columna al data frame con dichas palabras."
   ]
  },
  {
   "cell_type": "code",
   "execution_count": 41,
   "metadata": {},
   "outputs": [],
   "source": [
    "def sort_coo(coo_matrix):\n",
    "    tuples = zip(coo_matrix.col, coo_matrix.data)\n",
    "    return sorted(tuples, key=lambda x: (x[1], x[0]), reverse=True)"
   ]
  },
  {
   "cell_type": "code",
   "execution_count": 42,
   "metadata": {},
   "outputs": [],
   "source": [
    "def extract_topn_from_vector(feature_names, sorted_items, topn=10):\n",
    "    \"\"\"get the feature names and tf-idf score of top n items\"\"\"\n",
    "    \n",
    "    #use only topn items from vector\n",
    "    sorted_items = sorted_items[:topn]\n",
    "\n",
    "    score_vals = []\n",
    "    feature_vals = []\n",
    "    \n",
    "    # word index and corresponding tf-idf score\n",
    "    for idx, score in sorted_items:\n",
    "        \n",
    "        #keep track of feature name and its corresponding score\n",
    "        score_vals.append(round(score, 6))\n",
    "        feature_vals.append(feature_names[idx])\n",
    "\n",
    "    #create a tuples of feature,score\n",
    "    #results = zip(feature_vals,score_vals)\n",
    "    results= {}\n",
    "    for idx in range(len(feature_vals)):\n",
    "        results[feature_vals[idx]]=score_vals[idx]\n",
    "    \n",
    "    return results"
   ]
  },
  {
   "cell_type": "code",
   "execution_count": 43,
   "metadata": {},
   "outputs": [],
   "source": [
    "def get_top_n(texto_id, top_n):\n",
    "    document_vector = tf_idf_vector[texto_id]\n",
    "    \n",
    "    #sort the tf-idf vectors by descending order of scores\n",
    "    sorted_items=sort_coo(document_vector.tocoo())\n",
    "\n",
    "    #extract only the top n; n here is 10\n",
    "    keywords=extract_topn_from_vector(feature_names,sorted_items, top_n)\n",
    "    \n",
    "    return keywords"
   ]
  },
  {
   "cell_type": "markdown",
   "metadata": {},
   "source": [
    "Probamos la función con el primer documento."
   ]
  },
  {
   "cell_type": "code",
   "execution_count": 44,
   "metadata": {},
   "outputs": [
    {
     "name": "stdout",
     "output_type": "stream",
     "text": [
      "dict_keys(['cooperación', 'venezuela', 'minera', 'república bolivariana', 'bolivariana venezuela', 'bolivariana', 'partes', 'proyectos', 'república', 'programa acción'])\n"
     ]
    }
   ],
   "source": [
    "print(get_top_n(0, 10).keys())"
   ]
  },
  {
   "cell_type": "markdown",
   "metadata": {},
   "source": [
    "# Ampliamos el listado de stop words\n",
    "\n",
    "La frecuencia inversa de documentos (IDF) es un peso que indica la frecuencia con la que se usa una palabra. Cuanto más frecuente sea su uso en documentos, menor será su puntuación. Cuanto menor sea la puntuación, menos importante se vuelve la palabra.\n",
    "\n",
    "Ampliaremos el listado de stop words con palabras que tengan peso menor a 5."
   ]
  },
  {
   "cell_type": "code",
   "execution_count": 45,
   "metadata": {},
   "outputs": [
    {
     "data": {
      "text/plain": [
       "Index(['nacional', 'artículo', 'oficial', 'registro', 'archívese', 'visto',\n",
       "       'comuníquese', 'nacional registro', 'registro oficial', 'presente',\n",
       "       ...\n",
       "       'expte número', 'demás condiciones', 'presentó', 'metro', 'especies',\n",
       "       'siguientes requisitos', 'arbitrar', 'indemnizaciones', 'rendimiento',\n",
       "       'margen'],\n",
       "      dtype='object', length=4539)"
      ]
     },
     "execution_count": 45,
     "metadata": {},
     "output_type": "execute_result"
    }
   ],
   "source": [
    "df_idf_sort = df_idf.sort_values(by=['idf_weights'])\n",
    "df_idf_sort.index[df_idf_sort.idf_weights < 5]"
   ]
  },
  {
   "cell_type": "code",
   "execution_count": 46,
   "metadata": {},
   "outputs": [
    {
     "name": "stdout",
     "output_type": "stream",
     "text": [
      "Cantidad de palabras en la lista de stop_words: 4852\n"
     ]
    }
   ],
   "source": [
    "# Agregamos stopwords\n",
    "stop_words = nltk.corpus.stopwords.words('spanish')\n",
    "for word in df_idf_sort.index[df_idf_sort.idf_weights < 5]:\n",
    "    stop_words.append(word)\n",
    "print(f'Cantidad de palabras en la lista de stop_words: {len(stop_words)}')"
   ]
  },
  {
   "cell_type": "markdown",
   "metadata": {},
   "source": [
    "Volvemos a normalizar el texto del primer documento ulizando el nuevo listado de stop_words."
   ]
  },
  {
   "cell_type": "code",
   "execution_count": 47,
   "metadata": {},
   "outputs": [
    {
     "name": "stdout",
     "output_type": "stream",
     "text": [
      "Cantidad de tokens: 139\n"
     ]
    }
   ],
   "source": [
    "texto = normalize_texto(df_corpus[0:1].TEXTO[0], stop_words)\n",
    "print('Cantidad de tokens:', len(texto.split()))"
   ]
  },
  {
   "cell_type": "code",
   "execution_count": 48,
   "metadata": {},
   "outputs": [
    {
     "data": {
      "image/png": "[encoded data removed]",
      "text/plain": [
       "<Figure size 432x288 with 1 Axes>"
      ]
     },
     "metadata": {
      "needs_background": "light"
     },
     "output_type": "display_data"
    }
   ],
   "source": [
    "wc.generate(texto)\n",
    "plt.imshow(wc, interpolation=\"bilinear\")\n",
    "plt.axis(\"off\")\n",
    "plt.show()"
   ]
  },
  {
   "cell_type": "markdown",
   "metadata": {},
   "source": [
    "Ahora si vemos palabras más relevantes."
   ]
  },
  {
   "cell_type": "markdown",
   "metadata": {},
   "source": [
    "# Unificamos\n",
    "\n",
    "Normalizamos de nuevo todos los documentos, para que aplique el nuevo listado de stop words."
   ]
  },
  {
   "cell_type": "code",
   "execution_count": 49,
   "metadata": {},
   "outputs": [],
   "source": [
    "df_corpus[\"TEXTO_NORM_2\"] = df_corpus[\"TEXTO\"].apply(lambda x: normalize_texto(x, stop_words))"
   ]
  },
  {
   "cell_type": "code",
   "execution_count": 50,
   "metadata": {},
   "outputs": [
    {
     "data": {
      "text/html": [
       "<div>\n",
       "<style scoped>\n",
       "    .dataframe tbody tr th:only-of-type {\n",
       "        vertical-align: middle;\n",
       "    }\n",
       "\n",
       "    .dataframe tbody tr th {\n",
       "        vertical-align: top;\n",
       "    }\n",
       "\n",
       "    .dataframe thead th {\n",
       "        text-align: right;\n",
       "    }\n",
       "</style>\n",
       "<table border=\"1\" class=\"dataframe\">\n",
       "  <thead>\n",
       "    <tr style=\"text-align: right;\">\n",
       "      <th></th>\n",
       "      <th>CANT_PALABRAS</th>\n",
       "      <th>TEXTO_NORM_2</th>\n",
       "      <th>CANT_PALABRAS_2</th>\n",
       "    </tr>\n",
       "  </thead>\n",
       "  <tbody>\n",
       "    <tr>\n",
       "      <th>0</th>\n",
       "      <td>5815</td>\n",
       "      <td>minera caracas bolivariana venezuela científic...</td>\n",
       "      <td>1421</td>\n",
       "    </tr>\n",
       "    <tr>\n",
       "      <th>1</th>\n",
       "      <td>577</td>\n",
       "      <td>suprema generan expropiación lavalle aire aire</td>\n",
       "      <td>46</td>\n",
       "    </tr>\n",
       "    <tr>\n",
       "      <th>2</th>\n",
       "      <td>1794</td>\n",
       "      <td>tesorería remanentes remanentes tesoreria rema...</td>\n",
       "      <td>146</td>\n",
       "    </tr>\n",
       "    <tr>\n",
       "      <th>3</th>\n",
       "      <td>1360</td>\n",
       "      <td>simplificado pequeños reintegros restitución r...</td>\n",
       "      <td>239</td>\n",
       "    </tr>\n",
       "    <tr>\n",
       "      <th>4</th>\n",
       "      <td>6177</td>\n",
       "      <td>hogar circuito componente interinstitucional r...</td>\n",
       "      <td>1193</td>\n",
       "    </tr>\n",
       "  </tbody>\n",
       "</table>\n",
       "</div>"
      ],
      "text/plain": [
       "   CANT_PALABRAS                                       TEXTO_NORM_2  \\\n",
       "0           5815  minera caracas bolivariana venezuela científic...   \n",
       "1            577     suprema generan expropiación lavalle aire aire   \n",
       "2           1794  tesorería remanentes remanentes tesoreria rema...   \n",
       "3           1360  simplificado pequeños reintegros restitución r...   \n",
       "4           6177  hogar circuito componente interinstitucional r...   \n",
       "\n",
       "   CANT_PALABRAS_2  \n",
       "0             1421  \n",
       "1               46  \n",
       "2              146  \n",
       "3              239  \n",
       "4             1193  "
      ]
     },
     "execution_count": 50,
     "metadata": {},
     "output_type": "execute_result"
    }
   ],
   "source": [
    "df_corpus[\"CANT_PALABRAS_2\"] = df_corpus[\"TEXTO_NORM_2\"].apply(lambda x: len(x))\n",
    "df_corpus[['CANT_PALABRAS', 'TEXTO_NORM_2', 'CANT_PALABRAS_2']].head()"
   ]
  },
  {
   "cell_type": "code",
   "execution_count": 51,
   "metadata": {},
   "outputs": [
    {
     "name": "stdout",
     "output_type": "stream",
     "text": [
      "Los documentos tienen una media de 1413 palabras, sustancialmente menor a los 6316 anteriores.\n"
     ]
    }
   ],
   "source": [
    "print(f'Los documentos tienen una media de {int(df_corpus[\"CANT_PALABRAS_2\"].mean())} palabras, sustancialmente menor a los {int(df_corpus[\"CANT_PALABRAS\"].mean())} anteriores.' )"
   ]
  },
  {
   "cell_type": "markdown",
   "metadata": {},
   "source": [
    "Como nuestro diccionario se obtiene a partir del texto normalizado, volvemos a vectorizar utilizando la columna *TEXTO_NORM_2*"
   ]
  },
  {
   "cell_type": "code",
   "execution_count": 52,
   "metadata": {},
   "outputs": [],
   "source": [
    "word_count_vector = cv_vectorizer.fit_transform(df_corpus['TEXTO_NORM_2'])"
   ]
  },
  {
   "cell_type": "markdown",
   "metadata": {},
   "source": [
    "Calculamos la Frecuencia Inversa del Documento (IDF) a partir del la matriz de generada anteriormente."
   ]
  },
  {
   "cell_type": "code",
   "execution_count": 53,
   "metadata": {},
   "outputs": [
    {
     "data": {
      "text/plain": [
       "TfidfTransformer()"
      ]
     },
     "execution_count": 53,
     "metadata": {},
     "output_type": "execute_result"
    }
   ],
   "source": [
    "tfidf_transformer = TfidfTransformer()\n",
    "tfidf_transformer.fit(word_count_vector)"
   ]
  },
  {
   "cell_type": "markdown",
   "metadata": {},
   "source": [
    "Veamos los nuevos valores de IDF:"
   ]
  },
  {
   "cell_type": "code",
   "execution_count": 54,
   "metadata": {},
   "outputs": [
    {
     "data": {
      "text/html": [
       "<div>\n",
       "<style scoped>\n",
       "    .dataframe tbody tr th:only-of-type {\n",
       "        vertical-align: middle;\n",
       "    }\n",
       "\n",
       "    .dataframe tbody tr th {\n",
       "        vertical-align: top;\n",
       "    }\n",
       "\n",
       "    .dataframe thead th {\n",
       "        text-align: right;\n",
       "    }\n",
       "</style>\n",
       "<table border=\"1\" class=\"dataframe\">\n",
       "  <thead>\n",
       "    <tr style=\"text-align: right;\">\n",
       "      <th></th>\n",
       "      <th>idf_weights</th>\n",
       "    </tr>\n",
       "  </thead>\n",
       "  <tbody>\n",
       "    <tr>\n",
       "      <th>norma</th>\n",
       "      <td>1.923715</td>\n",
       "    </tr>\n",
       "    <tr>\n",
       "      <th>dictum</th>\n",
       "      <td>1.944062</td>\n",
       "    </tr>\n",
       "    <tr>\n",
       "      <th>aire</th>\n",
       "      <td>1.963782</td>\n",
       "    </tr>\n",
       "    <tr>\n",
       "      <th>fine</th>\n",
       "      <td>2.555350</td>\n",
       "    </tr>\n",
       "    <tr>\n",
       "      <th>peso</th>\n",
       "      <td>2.636182</td>\n",
       "    </tr>\n",
       "    <tr>\n",
       "      <th>...</th>\n",
       "      <td>...</td>\n",
       "    </tr>\n",
       "    <tr>\n",
       "      <th>encuadrada dada</th>\n",
       "      <td>8.131299</td>\n",
       "    </tr>\n",
       "    <tr>\n",
       "      <th>encuadrada generado</th>\n",
       "      <td>8.131299</td>\n",
       "    </tr>\n",
       "    <tr>\n",
       "      <th>encuadrada informatizada</th>\n",
       "      <td>8.131299</td>\n",
       "    </tr>\n",
       "    <tr>\n",
       "      <th>encuadramiento libros</th>\n",
       "      <td>8.131299</td>\n",
       "    </tr>\n",
       "    <tr>\n",
       "      <th>útilmente experiencias</th>\n",
       "      <td>8.131299</td>\n",
       "    </tr>\n",
       "  </tbody>\n",
       "</table>\n",
       "<p>292729 rows × 1 columns</p>\n",
       "</div>"
      ],
      "text/plain": [
       "                          idf_weights\n",
       "norma                        1.923715\n",
       "dictum                       1.944062\n",
       "aire                         1.963782\n",
       "fine                         2.555350\n",
       "peso                         2.636182\n",
       "...                               ...\n",
       "encuadrada dada              8.131299\n",
       "encuadrada generado          8.131299\n",
       "encuadrada informatizada     8.131299\n",
       "encuadramiento libros        8.131299\n",
       "útilmente experiencias       8.131299\n",
       "\n",
       "[292729 rows x 1 columns]"
      ]
     },
     "execution_count": 54,
     "metadata": {},
     "output_type": "execute_result"
    }
   ],
   "source": [
    "# print idf values \n",
    "df_idf = pandas.DataFrame(tfidf_transformer.idf_, index=cv_vectorizer.get_feature_names(),columns=[\"idf_weights\"]) \n",
    " \n",
    "# sort ascending \n",
    "df_idf.sort_values(by=['idf_weights'])"
   ]
  },
  {
   "cell_type": "markdown",
   "metadata": {},
   "source": [
    "Calculamos TF-IDF de cada una de las palabras del nuevo diccionario."
   ]
  },
  {
   "cell_type": "code",
   "execution_count": 55,
   "metadata": {},
   "outputs": [],
   "source": [
    "tf_idf_vector = tfidf_transformer.transform(word_count_vector)"
   ]
  },
  {
   "cell_type": "markdown",
   "metadata": {},
   "source": [
    "Observamos los valores de TF-IDF del primer documento para ver si hubo alguna modificiación."
   ]
  },
  {
   "cell_type": "code",
   "execution_count": 56,
   "metadata": {},
   "outputs": [
    {
     "data": {
      "text/html": [
       "<div>\n",
       "<style scoped>\n",
       "    .dataframe tbody tr th:only-of-type {\n",
       "        vertical-align: middle;\n",
       "    }\n",
       "\n",
       "    .dataframe tbody tr th {\n",
       "        vertical-align: top;\n",
       "    }\n",
       "\n",
       "    .dataframe thead th {\n",
       "        text-align: right;\n",
       "    }\n",
       "</style>\n",
       "<table border=\"1\" class=\"dataframe\">\n",
       "  <thead>\n",
       "    <tr style=\"text-align: right;\">\n",
       "      <th></th>\n",
       "      <th>tfidf</th>\n",
       "    </tr>\n",
       "  </thead>\n",
       "  <tbody>\n",
       "    <tr>\n",
       "      <th>venezuela</th>\n",
       "      <td>0.337258</td>\n",
       "    </tr>\n",
       "    <tr>\n",
       "      <th>minera</th>\n",
       "      <td>0.311413</td>\n",
       "    </tr>\n",
       "    <tr>\n",
       "      <th>bolivariana venezuela</th>\n",
       "      <td>0.309724</td>\n",
       "    </tr>\n",
       "    <tr>\n",
       "      <th>bolivariana</th>\n",
       "      <td>0.309724</td>\n",
       "    </tr>\n",
       "    <tr>\n",
       "      <th>caracas</th>\n",
       "      <td>0.146379</td>\n",
       "    </tr>\n",
       "    <tr>\n",
       "      <th>metalíferos</th>\n",
       "      <td>0.106680</td>\n",
       "    </tr>\n",
       "    <tr>\n",
       "      <th>minera bolivariana</th>\n",
       "      <td>0.106680</td>\n",
       "    </tr>\n",
       "    <tr>\n",
       "      <th>cooperacion minera</th>\n",
       "      <td>0.106680</td>\n",
       "    </tr>\n",
       "    <tr>\n",
       "      <th>caracas bolivariana</th>\n",
       "      <td>0.101361</td>\n",
       "    </tr>\n",
       "    <tr>\n",
       "      <th>cooperacion</th>\n",
       "      <td>0.073029</td>\n",
       "    </tr>\n",
       "  </tbody>\n",
       "</table>\n",
       "</div>"
      ],
      "text/plain": [
       "                          tfidf\n",
       "venezuela              0.337258\n",
       "minera                 0.311413\n",
       "bolivariana venezuela  0.309724\n",
       "bolivariana            0.309724\n",
       "caracas                0.146379\n",
       "metalíferos            0.106680\n",
       "minera bolivariana     0.106680\n",
       "cooperacion minera     0.106680\n",
       "caracas bolivariana    0.101361\n",
       "cooperacion            0.073029"
      ]
     },
     "execution_count": 56,
     "metadata": {},
     "output_type": "execute_result"
    }
   ],
   "source": [
    "feature_names = cv_vectorizer.get_feature_names() \n",
    " \n",
    "#get tfidf vector for first document \n",
    "first_document_vector=tf_idf_vector[0] \n",
    " \n",
    "#print the scores \n",
    "df = pandas.DataFrame(first_document_vector.T.todense(), index=feature_names, columns=[\"tfidf\"]) \n",
    "df.sort_values(by=[\"tfidf\"],ascending=False).head(10)"
   ]
  },
  {
   "cell_type": "markdown",
   "metadata": {},
   "source": [
    "Como esperamos, las palabras más relevantes son *venezuela* y *minera*."
   ]
  },
  {
   "cell_type": "markdown",
   "metadata": {},
   "source": [
    "# Variable objetivo\n",
    "\n",
    "Propondremos 2 opciones para generar una columna que clasifique los documentos:\n",
    "\n",
    "* La palabra con más peso del documento\n",
    "* El organismo al que hace referencia el texto\n",
    "\n",
    "### Palabra con más peso del documento\n"
   ]
  },
  {
   "cell_type": "markdown",
   "metadata": {},
   "source": [
    "Agrego una columna con las 10 palabras más frecuentes de cada documento."
   ]
  },
  {
   "cell_type": "code",
   "execution_count": 57,
   "metadata": {},
   "outputs": [],
   "source": [
    "df_corpus[\"TOP_10\"] = df_corpus[\"ID\"].apply(lambda x: ' '.join(list(get_top_n(x, 10).keys())))"
   ]
  },
  {
   "cell_type": "code",
   "execution_count": 58,
   "metadata": {},
   "outputs": [
    {
     "data": {
      "text/html": [
       "<div>\n",
       "<style scoped>\n",
       "    .dataframe tbody tr th:only-of-type {\n",
       "        vertical-align: middle;\n",
       "    }\n",
       "\n",
       "    .dataframe tbody tr th {\n",
       "        vertical-align: top;\n",
       "    }\n",
       "\n",
       "    .dataframe thead th {\n",
       "        text-align: right;\n",
       "    }\n",
       "</style>\n",
       "<table border=\"1\" class=\"dataframe\">\n",
       "  <thead>\n",
       "    <tr style=\"text-align: right;\">\n",
       "      <th></th>\n",
       "      <th>CANT_PALABRAS</th>\n",
       "      <th>TEXTO_NORM_2</th>\n",
       "      <th>CANT_PALABRAS_2</th>\n",
       "      <th>TOP_10</th>\n",
       "    </tr>\n",
       "  </thead>\n",
       "  <tbody>\n",
       "    <tr>\n",
       "      <th>0</th>\n",
       "      <td>5815</td>\n",
       "      <td>minera caracas bolivariana venezuela científic...</td>\n",
       "      <td>1421</td>\n",
       "      <td>venezuela minera bolivariana venezuela bolivar...</td>\n",
       "    </tr>\n",
       "    <tr>\n",
       "      <th>1</th>\n",
       "      <td>577</td>\n",
       "      <td>suprema generan expropiación lavalle aire aire</td>\n",
       "      <td>46</td>\n",
       "      <td>suprema generan generan expropiación expropiac...</td>\n",
       "    </tr>\n",
       "    <tr>\n",
       "      <th>2</th>\n",
       "      <td>1794</td>\n",
       "      <td>tesorería remanentes remanentes tesoreria rema...</td>\n",
       "      <td>146</td>\n",
       "      <td>remanentes tesoreria remanentes tesoreria vein...</td>\n",
       "    </tr>\n",
       "    <tr>\n",
       "      <th>3</th>\n",
       "      <td>1360</td>\n",
       "      <td>simplificado pequeños reintegros restitución r...</td>\n",
       "      <td>239</td>\n",
       "      <td>reintegros restitución tarjeta magnética reint...</td>\n",
       "    </tr>\n",
       "    <tr>\n",
       "      <th>4</th>\n",
       "      <td>6177</td>\n",
       "      <td>hogar circuito componente interinstitucional r...</td>\n",
       "      <td>1193</td>\n",
       "      <td>componente hogar uocra componente hogar gecal ...</td>\n",
       "    </tr>\n",
       "  </tbody>\n",
       "</table>\n",
       "</div>"
      ],
      "text/plain": [
       "   CANT_PALABRAS                                       TEXTO_NORM_2  \\\n",
       "0           5815  minera caracas bolivariana venezuela científic...   \n",
       "1            577     suprema generan expropiación lavalle aire aire   \n",
       "2           1794  tesorería remanentes remanentes tesoreria rema...   \n",
       "3           1360  simplificado pequeños reintegros restitución r...   \n",
       "4           6177  hogar circuito componente interinstitucional r...   \n",
       "\n",
       "   CANT_PALABRAS_2                                             TOP_10  \n",
       "0             1421  venezuela minera bolivariana venezuela bolivar...  \n",
       "1               46  suprema generan generan expropiación expropiac...  \n",
       "2              146  remanentes tesoreria remanentes tesoreria vein...  \n",
       "3              239  reintegros restitución tarjeta magnética reint...  \n",
       "4             1193  componente hogar uocra componente hogar gecal ...  "
      ]
     },
     "execution_count": 58,
     "metadata": {},
     "output_type": "execute_result"
    }
   ],
   "source": [
    "df_corpus[['CANT_PALABRAS', 'TEXTO_NORM_2', 'CANT_PALABRAS_2', 'TOP_10']].head()"
   ]
  },
  {
   "cell_type": "markdown",
   "metadata": {},
   "source": [
    "Genero una nube de palabras del documentos normalizados"
   ]
  },
  {
   "cell_type": "code",
   "execution_count": 59,
   "metadata": {},
   "outputs": [
    {
     "data": {
      "image/png": "[encoded data removed]",
      "text/plain": [
       "<Figure size 432x288 with 1 Axes>"
      ]
     },
     "metadata": {
      "needs_background": "light"
     },
     "output_type": "display_data"
    }
   ],
   "source": [
    "wc.generate(' '.join(df_corpus['TEXTO_NORM_2']))\n",
    "plt.imshow(wc, interpolation=\"bilinear\")\n",
    "plt.axis(\"off\")\n",
    "plt.show()"
   ]
  },
  {
   "cell_type": "markdown",
   "metadata": {},
   "source": [
    "Genero una nube de palabras con las incluidas en la columna TOP_10"
   ]
  },
  {
   "cell_type": "code",
   "execution_count": 60,
   "metadata": {},
   "outputs": [
    {
     "data": {
      "image/png": "[encoded data removed]",
      "text/plain": [
       "<Figure size 432x288 with 1 Axes>"
      ]
     },
     "metadata": {
      "needs_background": "light"
     },
     "output_type": "display_data"
    }
   ],
   "source": [
    "wc.generate(' '.join(df_corpus['TOP_10']))\n",
    "plt.imshow(wc, interpolation=\"bilinear\")\n",
    "plt.axis(\"off\")\n",
    "plt.show()"
   ]
  },
  {
   "cell_type": "markdown",
   "metadata": {},
   "source": [
    "No encontramos palabras que representen temas que nos permitan clasificar objetivamente un documento.\n",
    "\n",
    "Agregamos una columna donde almacenaremos una palabra que represente el documento. Sabiendo que es un criterio muy arbitrario y sin fundamento, le colocaremos la palabra más frecuente."
   ]
  },
  {
   "cell_type": "code",
   "execution_count": 61,
   "metadata": {},
   "outputs": [],
   "source": [
    "df_corpus[\"TOP_1\"] = df_corpus[\"ID\"].apply(lambda x: ' '.join(list(get_top_n(x, 1).keys())))"
   ]
  },
  {
   "cell_type": "code",
   "execution_count": 62,
   "metadata": {},
   "outputs": [
    {
     "data": {
      "text/html": [
       "<div>\n",
       "<style scoped>\n",
       "    .dataframe tbody tr th:only-of-type {\n",
       "        vertical-align: middle;\n",
       "    }\n",
       "\n",
       "    .dataframe tbody tr th {\n",
       "        vertical-align: top;\n",
       "    }\n",
       "\n",
       "    .dataframe thead th {\n",
       "        text-align: right;\n",
       "    }\n",
       "</style>\n",
       "<table border=\"1\" class=\"dataframe\">\n",
       "  <thead>\n",
       "    <tr style=\"text-align: right;\">\n",
       "      <th></th>\n",
       "      <th>CANT_PALABRAS</th>\n",
       "      <th>TOP_10</th>\n",
       "      <th>TOP_1</th>\n",
       "    </tr>\n",
       "  </thead>\n",
       "  <tbody>\n",
       "    <tr>\n",
       "      <th>0</th>\n",
       "      <td>5815</td>\n",
       "      <td>venezuela minera bolivariana venezuela bolivar...</td>\n",
       "      <td>venezuela</td>\n",
       "    </tr>\n",
       "    <tr>\n",
       "      <th>1</th>\n",
       "      <td>577</td>\n",
       "      <td>suprema generan generan expropiación expropiac...</td>\n",
       "      <td>suprema generan</td>\n",
       "    </tr>\n",
       "    <tr>\n",
       "      <th>2</th>\n",
       "      <td>1794</td>\n",
       "      <td>remanentes tesoreria remanentes tesoreria vein...</td>\n",
       "      <td>remanentes</td>\n",
       "    </tr>\n",
       "    <tr>\n",
       "      <th>3</th>\n",
       "      <td>1360</td>\n",
       "      <td>reintegros restitución tarjeta magnética reint...</td>\n",
       "      <td>reintegros</td>\n",
       "    </tr>\n",
       "    <tr>\n",
       "      <th>4</th>\n",
       "      <td>6177</td>\n",
       "      <td>componente hogar uocra componente hogar gecal ...</td>\n",
       "      <td>componente</td>\n",
       "    </tr>\n",
       "  </tbody>\n",
       "</table>\n",
       "</div>"
      ],
      "text/plain": [
       "   CANT_PALABRAS                                             TOP_10  \\\n",
       "0           5815  venezuela minera bolivariana venezuela bolivar...   \n",
       "1            577  suprema generan generan expropiación expropiac...   \n",
       "2           1794  remanentes tesoreria remanentes tesoreria vein...   \n",
       "3           1360  reintegros restitución tarjeta magnética reint...   \n",
       "4           6177  componente hogar uocra componente hogar gecal ...   \n",
       "\n",
       "             TOP_1  \n",
       "0        venezuela  \n",
       "1  suprema generan  \n",
       "2       remanentes  \n",
       "3       reintegros  \n",
       "4       componente  "
      ]
     },
     "execution_count": 62,
     "metadata": {},
     "output_type": "execute_result"
    }
   ],
   "source": [
    "df_corpus[['CANT_PALABRAS', 'TOP_10', 'TOP_1']].head()"
   ]
  },
  {
   "cell_type": "markdown",
   "metadata": {},
   "source": [
    "### El organismo al que hace referencia el texto\n",
    "\n",
    "Analizando el comienzo de cada texto se observó que en el primer renglón hacía referencia a un ministerio, secretaría o apareciían algunas expresiones que se repetían.\n",
    "Decidimos intentar usar esas expresiones para definir las clases a utilizar.\n",
    "\n",
    "A continuación se presenta el clasificador:"
   ]
  },
  {
   "cell_type": "code",
   "execution_count": 63,
   "metadata": {},
   "outputs": [],
   "source": [
    "def clasificacion_manual(texto):\n",
    "    \n",
    "    clase = \"Sin clase\"\n",
    "    \n",
    "    if \"MINISTERIO DE ECONOMIA\" in texto or \"COMISION NACIONAL DE VALORES\" in texto or \"Secretaría de Hacienda\" in texto: \n",
    "        clase = \"MINISTERIO DE ECONOMIA\"\n",
    "\n",
    "    if \"BANCO CENTRAL DE LA REPUBLICA ARGENTINA\" in texto or \"ADMINISTRACION FEDERAL DE INGRESOS PUBLICOS\" in texto or \"SUPERINTENDENCIA DE ADMINISTRADORAS DE FONDOS\" in texto or \"nstituto Nacional de Asociativismo y Economía\" in texto: \n",
    "        clase = \"MINISTERIO DE ECONOMIA\"\n",
    "\n",
    "    if \"MINISTERIO DE TRABAJO\" in texto or \"Secretaría de Empleo\" in texto or \"Subsecretaría de la Pequeña y Mediana Empresa\" in texto: \n",
    "        clase = \"MINISTERIO DE TRABAJO\"\n",
    "\n",
    "    if \"SISTEMA INTEGRADO DE JUBILACIONES Y PENSIONES\" in texto or \"Comisión Nacional de Trabajo Agrario\" in texto: \n",
    "        clase = \"MINISTERIO DE TRABAJO\"\n",
    "        \n",
    "    if \"Superintendencia de Riesgos del Trabajo\" in texto or \"Administración de Programas Especiales\" in texto: \n",
    "        clase = \"MINISTERIO DE TRABAJO\"\n",
    "\n",
    "    if \"ADMINISTRACION NACIONAL DE LA SEGURIDAD SOCIAL\" in texto or \"JUBILACIONES\" in texto or \"Secretaría de Seguridad Social\" in texto: \n",
    "        clase = \"MINISTERIO DE TRABAJO\"\n",
    "\n",
    "    if \"MINISTERIO DEL INTERIOR\" in texto or \"Dirección de Tránsito Aéreo\" in texto or \"DIRECCION NACIONAL DE MIGRACIONES\" in texto: \n",
    "        clase = \"MINISTERIO DEL INTERIOR\"\n",
    "\n",
    "    if \"MINISTERIO DE RELACIONES EXTERIORES\" in texto or \"Ministerio de Relaciones Exteriores\" in texto: \n",
    "        clase = \"MINISTERIO DE RELACIONES EXTERIORES\"\n",
    "\n",
    "    if \"Secretaría de Agricultura, Ganadería, Pesca\" in texto: \n",
    "        clase = \"MINISTERIO DE AGRICULTURA, GANADERÍA y PESCA + AMBIENTE\"\n",
    "\n",
    "    if \"ADMINISTRACION DE PARQUES NACIONALES\" in texto: \n",
    "        clase = \"MINISTERIO DE AGRICULTURA, GANADERÍA y PESCA + AMBIENTE\"\n",
    "        \n",
    "    if \"PRESIDENCIA DE LA NACION\" in texto: \n",
    "        clase = \"PRESIDENCIA DE LA NACION\"\n",
    "\n",
    "    if \"MINISTERIO DE PLANIFICACION\" in texto or \"Comité Federal de Radiodifusión\" in texto or \"ENTE NACIONAL REGULADOR DE LA ELECTRICIDAD\" in texto: \n",
    "        clase = \"MINISTERIO DE PLANIFICACION FEDERAL\"\n",
    "\n",
    "    if \"MINISTERIO DE SALUD\" in texto or \" Superintendencia de Servicios de Salud\" in texto or \"Administración Nacional de Medicamentos Alimentos y Tecnología Médica\" in texto: \n",
    "        clase = \"MINISTERIO DE SALUD\"\n",
    "\n",
    "    if \"SUPERINTENDENCIA DE SERVICIOS DE SALUD\" in texto or \"Superintendencia de Servicios de Salud\" in texto or \"Administración Nacional de Medicamentos\" in texto: \n",
    "        clase = \"MINISTERIO DE SALUD\"\n",
    "\n",
    "    if \"Ministerio de Justicia y Derechos Humanos\" in texto or \"MINISTERIO DE JUSTICIA\" in texto or \"DERECHOS DEL NIÑO\" in texto: \n",
    "        clase = \"MINISTERIO DE JUSTICA\"\n",
    "\n",
    "    if \"Ministerio de Defensa\" in texto or \"MINISTERIO DE DEFENSA\" in texto: \n",
    "        clase = \"MINISTERIO DE DEFENSA + SEGURIDAD\"\n",
    "\n",
    "    if \"JUSTICIA MILITAR\" in texto or \"ARMAS QUIMICAS\" in texto or \"REGISTRO NACIONAL DE ARMAS DE FUEGO\" in texto or \"INGRESO DE TROPAS EXTRANJERAS\" in texto: \n",
    "        clase = \"MINISTERIO DE DEFENSA + SEGURIDAD\"\n",
    "\n",
    "    if \"POLICIA FEDERAL ARGENTINA\" in texto or \"Superintendencia de Seguros de la Nación\" in texto: \n",
    "        clase = \"MINISTERIO DE DEFENSA + SEGURIDAD\"\n",
    "\n",
    "    if \"MINISTERIO DE DESARROLLO SOCIAL\" in texto: \n",
    "        clase = \"MINISTERIO DE DESARROLLO SOCIAL\"\n",
    "\n",
    "    if \"Secretaría de Ciencia, Tecnología e Innovación\" in texto or \"AUTORIDAD REGULATORIA NUCLEAR\" in texto: \n",
    "        clase = \"MINISTERIO DE EDUCACIÓN, CIENCIA y TECNOLOGÍA + CULTURA\"\n",
    "\n",
    "    if \"CONSEJO NACIONAL DE INVESTIGACIONES CIENTIFICA\" in texto or \"Ministerio de Educación, Ciencia y Tecnología\" in texto: \n",
    "        clase = \"MINISTERIO DE EDUCACIÓN, CIENCIA y TECNOLOGÍA + CULTURA\"\n",
    "        \n",
    "    if \"Consejo Gremial de Enseñanza Privada\" in texto or \"DEPORTE\" in texto: \n",
    "        clase = \"MINISTERIO DE EDUCACIÓN, CIENCIA y TECNOLOGÍA + CULTURA\"\n",
    "\n",
    "    if \"INSTITUTO NACIONAL DE CINE Y ARTES AUDIOVISUAL\" in texto: \n",
    "        clase = \"MINISTERIO DE EDUCACIÓN, CIENCIA y TECNOLOGÍA + CULTURA\"\n",
    "\n",
    "    if \"COMISION NACIONAL DE COMUNICACIONES\" in texto: \n",
    "        clase = \"MINISTERIO DE COMUNICACIONES\"\n",
    "\n",
    "    if \"Apruébase el Acuerdo\" in texto or \"Apruébase el Convenio\" in texto or \"Apruébase el Tratado\" in texto: \n",
    "        clase = \"ACUERDOS, TRATADOS y CONVENIOS\"\n",
    "\n",
    "    return clase"
   ]
  },
  {
   "cell_type": "markdown",
   "metadata": {},
   "source": [
    "Aplicamos el clasificador al texto original.\n",
    "\n",
    "El clasificador se realizó a mano, analizando la priemra línea de cada documento intenando hacer asociaciones a partir de esto."
   ]
  },
  {
   "cell_type": "code",
   "execution_count": 64,
   "metadata": {},
   "outputs": [],
   "source": [
    "df_corpus[\"ORGANISMO\"] = df_corpus[\"TEXTO\"].apply(lambda x: clasificacion_manual(x))"
   ]
  },
  {
   "cell_type": "code",
   "execution_count": 65,
   "metadata": {},
   "outputs": [
    {
     "data": {
      "text/html": [
       "<div>\n",
       "<style scoped>\n",
       "    .dataframe tbody tr th:only-of-type {\n",
       "        vertical-align: middle;\n",
       "    }\n",
       "\n",
       "    .dataframe tbody tr th {\n",
       "        vertical-align: top;\n",
       "    }\n",
       "\n",
       "    .dataframe thead th {\n",
       "        text-align: right;\n",
       "    }\n",
       "</style>\n",
       "<table border=\"1\" class=\"dataframe\">\n",
       "  <thead>\n",
       "    <tr style=\"text-align: right;\">\n",
       "      <th></th>\n",
       "      <th>TEXTO</th>\n",
       "      <th>ORGANISMO</th>\n",
       "    </tr>\n",
       "  </thead>\n",
       "  <tbody>\n",
       "    <tr>\n",
       "      <th>0</th>\n",
       "      <td>ACUERDOS\\nLey 25.939\\nApruébase el Acuerdo Sob...</td>\n",
       "      <td>ACUERDOS, TRATADOS y CONVENIOS</td>\n",
       "    </tr>\n",
       "    <tr>\n",
       "      <th>1</th>\n",
       "      <td>MINISTERIO DE ECONOMIA Y PRODUCCION\\nDecisión ...</td>\n",
       "      <td>MINISTERIO DE ECONOMIA</td>\n",
       "    </tr>\n",
       "    <tr>\n",
       "      <th>2</th>\n",
       "      <td>Secretaría de Hacienda\\nPRESUPUESTO\\nResolució...</td>\n",
       "      <td>MINISTERIO DE ECONOMIA</td>\n",
       "    </tr>\n",
       "    <tr>\n",
       "      <th>3</th>\n",
       "      <td>Ministerio de Economía y Producción\\nREGIMEN S...</td>\n",
       "      <td>MINISTERIO DE ECONOMIA</td>\n",
       "    </tr>\n",
       "    <tr>\n",
       "      <th>4</th>\n",
       "      <td>Secretaría de Empleo\\nPROGRAMA JEFES DE HOGAR\\...</td>\n",
       "      <td>MINISTERIO DE TRABAJO</td>\n",
       "    </tr>\n",
       "  </tbody>\n",
       "</table>\n",
       "</div>"
      ],
      "text/plain": [
       "                                               TEXTO  \\\n",
       "0  ACUERDOS\\nLey 25.939\\nApruébase el Acuerdo Sob...   \n",
       "1  MINISTERIO DE ECONOMIA Y PRODUCCION\\nDecisión ...   \n",
       "2  Secretaría de Hacienda\\nPRESUPUESTO\\nResolució...   \n",
       "3  Ministerio de Economía y Producción\\nREGIMEN S...   \n",
       "4  Secretaría de Empleo\\nPROGRAMA JEFES DE HOGAR\\...   \n",
       "\n",
       "                        ORGANISMO  \n",
       "0  ACUERDOS, TRATADOS y CONVENIOS  \n",
       "1          MINISTERIO DE ECONOMIA  \n",
       "2          MINISTERIO DE ECONOMIA  \n",
       "3          MINISTERIO DE ECONOMIA  \n",
       "4           MINISTERIO DE TRABAJO  "
      ]
     },
     "execution_count": 65,
     "metadata": {},
     "output_type": "execute_result"
    }
   ],
   "source": [
    "df_corpus[[\"TEXTO\", \"ORGANISMO\"]].head()"
   ]
  },
  {
   "cell_type": "markdown",
   "metadata": {},
   "source": [
    "# Modelos de predicción\n",
    "\n",
    "Para resolver este problema de clasificación entrenaremos el modelo de clasificación lineal Regresion Logística.\n",
    "\n",
    "De la librería scikit-learn utilizaremos las siguientes:\n",
    "* LogisticRegretion\n",
    "* SGDClassifier\n",
    "\n",
    "A partir del documento normalizado TEXTO_NORM_2 trataremos de predecir la clasificación del mismo según las 2 columnas definidas como objetivo por separado.\n",
    "\n",
    "Al tener muchas clases sólo vamos a considerar la Accuracy como medida de evaluación."
   ]
  },
  {
   "cell_type": "code",
   "execution_count": 66,
   "metadata": {},
   "outputs": [],
   "source": [
    "import warnings\n",
    "\n",
    "from sklearn.exceptions import ConvergenceWarning\n",
    "\n",
    "warnings.filterwarnings(\"ignore\", category=ConvergenceWarning, module=\"sklearn\")"
   ]
  },
  {
   "cell_type": "markdown",
   "metadata": {},
   "source": [
    "\n",
    "### Palabra con más peso del documento\n",
    "\n",
    "Observemos que tan desvalanceadas están las clases"
   ]
  },
  {
   "cell_type": "code",
   "execution_count": 67,
   "metadata": {
    "scrolled": true
   },
   "outputs": [
    {
     "data": {
      "text/plain": [
       "peso                         51\n",
       "aire                         20\n",
       "camex                        17\n",
       "                             16\n",
       "peso cupón                   14\n",
       "                             ..\n",
       "deportivas futbol             1\n",
       "modernizacion                 1\n",
       "tucumán                       1\n",
       "prescrito                     1\n",
       "constructores consultoras     1\n",
       "Name: TOP_1, Length: 1719, dtype: int64"
      ]
     },
     "execution_count": 67,
     "metadata": {},
     "output_type": "execute_result"
    }
   ],
   "source": [
    "df_corpus['TOP_1'].value_counts()"
   ]
  },
  {
   "cell_type": "markdown",
   "metadata": {},
   "source": [
    "Tenemos 1719 clases para 2500 documentos. Son demasiadas clases.\n",
    "\n",
    "Vectorizamos el texto"
   ]
  },
  {
   "cell_type": "code",
   "execution_count": 68,
   "metadata": {},
   "outputs": [
    {
     "data": {
      "text/plain": [
       "<2500x39739 sparse matrix of type '<class 'numpy.float64'>'\n",
       "\twith 205589 stored elements in Compressed Sparse Row format>"
      ]
     },
     "execution_count": 68,
     "metadata": {},
     "output_type": "execute_result"
    }
   ],
   "source": [
    "vectorizer = TfidfVectorizer()\n",
    "vectorizer.fit_transform(df_corpus['TEXTO_NORM_2'])"
   ]
  },
  {
   "cell_type": "markdown",
   "metadata": {},
   "source": [
    "Dividimos los datos en entrenamiento y validación con un procentaje de 70% para entrenamiento y 30% para validación con shuffle, seleccionar las features X e Y"
   ]
  },
  {
   "cell_type": "code",
   "execution_count": 69,
   "metadata": {},
   "outputs": [],
   "source": [
    "# División entre instancias vectorizadas y etiquetas\n",
    "X, y = vectorizer.transform(df_corpus[\"TEXTO_NORM_2\"]), df_corpus[\"TOP_1\"]"
   ]
  },
  {
   "cell_type": "code",
   "execution_count": 70,
   "metadata": {},
   "outputs": [],
   "source": [
    "# división entre entrenamiento y evaluación\n",
    "X_train, X_test, y_train, y_test = train_test_split(X, y, test_size=0.3, random_state=0, shuffle=True)"
   ]
  },
  {
   "cell_type": "markdown",
   "metadata": {},
   "source": [
    "#### a) Modelo de Regresión Logística\n",
    "\n",
    "Utilizaremos los siquientes hiperparámetros:\n",
    "* multi_class: one-vs-rest (OVR) y multinomial (la pérdida minimizada es el ajuste de pérdida multinomial en toda la distribución de probabilidad)\n",
    "* penalty: L1. Recorta los pesos de las características no informativas a cero. Nuestro caso es extraer el vocabulario fuertemente discriminativo de cada clase. "
   ]
  },
  {
   "cell_type": "code",
   "execution_count": 71,
   "metadata": {},
   "outputs": [],
   "source": [
    "param_grid = {\n",
    "    'multi_class': ['ovr', 'multinomial'],\n",
    "    'max_iter': [1, 2, 4]\n",
    "}"
   ]
  },
  {
   "cell_type": "code",
   "execution_count": 72,
   "metadata": {},
   "outputs": [],
   "source": [
    "model = LogisticRegression(penalty='l1', solver='saga', random_state=0)"
   ]
  },
  {
   "cell_type": "code",
   "execution_count": 73,
   "metadata": {
    "scrolled": true
   },
   "outputs": [
    {
     "name": "stderr",
     "output_type": "stream",
     "text": [
      "C:\\Users\\jperezv\\Anaconda3\\envs\\mentoria\\lib\\site-packages\\sklearn\\model_selection\\_split.py:670: UserWarning: The least populated class in y has only 1 members, which is less than n_splits=3.\n",
      "  warnings.warn((\"The least populated class in y has only %d\"\n"
     ]
    },
    {
     "data": {
      "text/plain": [
       "GridSearchCV(cv=3,\n",
       "             estimator=LogisticRegression(penalty='l1', random_state=0,\n",
       "                                          solver='saga'),\n",
       "             param_grid={'max_iter': [1, 2, 4],\n",
       "                         'multi_class': ['ovr', 'multinomial']},\n",
       "             scoring='accuracy')"
      ]
     },
     "execution_count": 73,
     "metadata": {},
     "output_type": "execute_result"
    }
   ],
   "source": [
    "cv = GridSearchCV(model, param_grid, scoring='accuracy', cv=3)\n",
    "cv.fit(X_train, y_train)"
   ]
  },
  {
   "cell_type": "markdown",
   "metadata": {},
   "source": [
    "Observamos los resultados ordenados por ranking"
   ]
  },
  {
   "cell_type": "code",
   "execution_count": 74,
   "metadata": {},
   "outputs": [],
   "source": [
    "results = cv.cv_results_"
   ]
  },
  {
   "cell_type": "code",
   "execution_count": 75,
   "metadata": {
    "scrolled": true
   },
   "outputs": [
    {
     "data": {
      "text/html": [
       "<div>\n",
       "<style scoped>\n",
       "    .dataframe tbody tr th:only-of-type {\n",
       "        vertical-align: middle;\n",
       "    }\n",
       "\n",
       "    .dataframe tbody tr th {\n",
       "        vertical-align: top;\n",
       "    }\n",
       "\n",
       "    .dataframe thead th {\n",
       "        text-align: right;\n",
       "    }\n",
       "</style>\n",
       "<table border=\"1\" class=\"dataframe\">\n",
       "  <thead>\n",
       "    <tr style=\"text-align: right;\">\n",
       "      <th></th>\n",
       "      <th>param_multi_class</th>\n",
       "      <th>param_max_iter</th>\n",
       "      <th>mean_test_score</th>\n",
       "      <th>std_test_score</th>\n",
       "      <th>rank_test_score</th>\n",
       "    </tr>\n",
       "  </thead>\n",
       "  <tbody>\n",
       "    <tr>\n",
       "      <th>4</th>\n",
       "      <td>ovr</td>\n",
       "      <td>4</td>\n",
       "      <td>0.197134</td>\n",
       "      <td>0.015026</td>\n",
       "      <td>1</td>\n",
       "    </tr>\n",
       "    <tr>\n",
       "      <th>2</th>\n",
       "      <td>ovr</td>\n",
       "      <td>2</td>\n",
       "      <td>0.190286</td>\n",
       "      <td>0.008404</td>\n",
       "      <td>2</td>\n",
       "    </tr>\n",
       "    <tr>\n",
       "      <th>5</th>\n",
       "      <td>multinomial</td>\n",
       "      <td>4</td>\n",
       "      <td>0.181710</td>\n",
       "      <td>0.006273</td>\n",
       "      <td>3</td>\n",
       "    </tr>\n",
       "    <tr>\n",
       "      <th>3</th>\n",
       "      <td>multinomial</td>\n",
       "      <td>2</td>\n",
       "      <td>0.171998</td>\n",
       "      <td>0.008954</td>\n",
       "      <td>4</td>\n",
       "    </tr>\n",
       "    <tr>\n",
       "      <th>0</th>\n",
       "      <td>ovr</td>\n",
       "      <td>1</td>\n",
       "      <td>0.150281</td>\n",
       "      <td>0.011675</td>\n",
       "      <td>5</td>\n",
       "    </tr>\n",
       "    <tr>\n",
       "      <th>1</th>\n",
       "      <td>multinomial</td>\n",
       "      <td>1</td>\n",
       "      <td>0.127997</td>\n",
       "      <td>0.008032</td>\n",
       "      <td>6</td>\n",
       "    </tr>\n",
       "  </tbody>\n",
       "</table>\n",
       "</div>"
      ],
      "text/plain": [
       "  param_multi_class param_max_iter  mean_test_score  std_test_score  \\\n",
       "4               ovr              4         0.197134        0.015026   \n",
       "2               ovr              2         0.190286        0.008404   \n",
       "5       multinomial              4         0.181710        0.006273   \n",
       "3       multinomial              2         0.171998        0.008954   \n",
       "0               ovr              1         0.150281        0.011675   \n",
       "1       multinomial              1         0.127997        0.008032   \n",
       "\n",
       "   rank_test_score  \n",
       "4                1  \n",
       "2                2  \n",
       "5                3  \n",
       "3                4  \n",
       "0                5  \n",
       "1                6  "
      ]
     },
     "execution_count": 75,
     "metadata": {},
     "output_type": "execute_result"
    }
   ],
   "source": [
    "df_results = pandas.DataFrame(results)\n",
    "df_results[['param_multi_class', 'param_max_iter', 'mean_test_score', 'std_test_score', 'rank_test_score']].sort_values(by=[\"rank_test_score\"])"
   ]
  },
  {
   "cell_type": "markdown",
   "metadata": {},
   "source": [
    "Realizaremos las predicciones con el modelo mejor rankeado."
   ]
  },
  {
   "cell_type": "code",
   "execution_count": 76,
   "metadata": {},
   "outputs": [],
   "source": [
    "best_model = cv.best_estimator_"
   ]
  },
  {
   "cell_type": "code",
   "execution_count": 77,
   "metadata": {},
   "outputs": [],
   "source": [
    "y_train_pred = best_model.predict(X_train)\n",
    "y_test_pred = best_model.predict(X_test)    "
   ]
  },
  {
   "cell_type": "code",
   "execution_count": 78,
   "metadata": {},
   "outputs": [
    {
     "name": "stdout",
     "output_type": "stream",
     "text": [
      "Accuracy:0.21\n"
     ]
    }
   ],
   "source": [
    "accuracy = metrics.accuracy_score(y_test, y_test_pred)\n",
    "print(f'Accuracy:{accuracy:{0.2}}')"
   ]
  },
  {
   "cell_type": "markdown",
   "metadata": {},
   "source": [
    "Vemos que el Accuracy es muy bajo, solo un 21%. Esto significa que no puede clasificar correctamente los documentos. Evidentemente esto es debido a la mala selección de las clases.\n",
    "\n",
    "#### b) Modelo SGDClassifier"
   ]
  },
  {
   "cell_type": "code",
   "execution_count": 79,
   "metadata": {},
   "outputs": [],
   "source": [
    "param_grid = {\n",
    "    'loss': [\n",
    "        'hinge',        # SVM\n",
    "        'log',          # logistic regression\n",
    "    ],\n",
    "    'alpha': [0.0001, 0.001, 0.01, 0.1]\n",
    "}"
   ]
  },
  {
   "cell_type": "code",
   "execution_count": 80,
   "metadata": {},
   "outputs": [],
   "source": [
    "model = SGDClassifier(random_state=0)"
   ]
  },
  {
   "cell_type": "code",
   "execution_count": 81,
   "metadata": {},
   "outputs": [
    {
     "name": "stderr",
     "output_type": "stream",
     "text": [
      "C:\\Users\\jperezv\\Anaconda3\\envs\\mentoria\\lib\\site-packages\\sklearn\\model_selection\\_split.py:670: UserWarning: The least populated class in y has only 1 members, which is less than n_splits=3.\n",
      "  warnings.warn((\"The least populated class in y has only %d\"\n"
     ]
    },
    {
     "data": {
      "text/plain": [
       "GridSearchCV(cv=3, estimator=SGDClassifier(random_state=0),\n",
       "             param_grid={'alpha': [0.0001, 0.001, 0.01, 0.1],\n",
       "                         'loss': ['hinge', 'log']},\n",
       "             scoring='accuracy')"
      ]
     },
     "execution_count": 81,
     "metadata": {},
     "output_type": "execute_result"
    }
   ],
   "source": [
    "cv = GridSearchCV(model, param_grid, scoring='accuracy', cv=3)\n",
    "cv.fit(X_train, y_train)"
   ]
  },
  {
   "cell_type": "code",
   "execution_count": 82,
   "metadata": {},
   "outputs": [],
   "source": [
    "results = cv.cv_results_"
   ]
  },
  {
   "cell_type": "code",
   "execution_count": 83,
   "metadata": {},
   "outputs": [
    {
     "data": {
      "text/html": [
       "<div>\n",
       "<style scoped>\n",
       "    .dataframe tbody tr th:only-of-type {\n",
       "        vertical-align: middle;\n",
       "    }\n",
       "\n",
       "    .dataframe tbody tr th {\n",
       "        vertical-align: top;\n",
       "    }\n",
       "\n",
       "    .dataframe thead th {\n",
       "        text-align: right;\n",
       "    }\n",
       "</style>\n",
       "<table border=\"1\" class=\"dataframe\">\n",
       "  <thead>\n",
       "    <tr style=\"text-align: right;\">\n",
       "      <th></th>\n",
       "      <th>param_loss</th>\n",
       "      <th>param_alpha</th>\n",
       "      <th>mean_test_score</th>\n",
       "      <th>std_test_score</th>\n",
       "      <th>rank_test_score</th>\n",
       "    </tr>\n",
       "  </thead>\n",
       "  <tbody>\n",
       "    <tr>\n",
       "      <th>1</th>\n",
       "      <td>log</td>\n",
       "      <td>0.0001</td>\n",
       "      <td>0.329132</td>\n",
       "      <td>0.015163</td>\n",
       "      <td>1</td>\n",
       "    </tr>\n",
       "    <tr>\n",
       "      <th>0</th>\n",
       "      <td>hinge</td>\n",
       "      <td>0.0001</td>\n",
       "      <td>0.326280</td>\n",
       "      <td>0.006928</td>\n",
       "      <td>2</td>\n",
       "    </tr>\n",
       "    <tr>\n",
       "      <th>4</th>\n",
       "      <td>hinge</td>\n",
       "      <td>0.01</td>\n",
       "      <td>0.321704</td>\n",
       "      <td>0.014478</td>\n",
       "      <td>3</td>\n",
       "    </tr>\n",
       "    <tr>\n",
       "      <th>2</th>\n",
       "      <td>hinge</td>\n",
       "      <td>0.001</td>\n",
       "      <td>0.320564</td>\n",
       "      <td>0.012633</td>\n",
       "      <td>4</td>\n",
       "    </tr>\n",
       "    <tr>\n",
       "      <th>3</th>\n",
       "      <td>log</td>\n",
       "      <td>0.001</td>\n",
       "      <td>0.302276</td>\n",
       "      <td>0.013085</td>\n",
       "      <td>5</td>\n",
       "    </tr>\n",
       "    <tr>\n",
       "      <th>6</th>\n",
       "      <td>hinge</td>\n",
       "      <td>0.1</td>\n",
       "      <td>0.237702</td>\n",
       "      <td>0.015160</td>\n",
       "      <td>6</td>\n",
       "    </tr>\n",
       "    <tr>\n",
       "      <th>5</th>\n",
       "      <td>log</td>\n",
       "      <td>0.01</td>\n",
       "      <td>0.230847</td>\n",
       "      <td>0.012820</td>\n",
       "      <td>7</td>\n",
       "    </tr>\n",
       "    <tr>\n",
       "      <th>7</th>\n",
       "      <td>log</td>\n",
       "      <td>0.1</td>\n",
       "      <td>0.129139</td>\n",
       "      <td>0.004394</td>\n",
       "      <td>8</td>\n",
       "    </tr>\n",
       "  </tbody>\n",
       "</table>\n",
       "</div>"
      ],
      "text/plain": [
       "  param_loss param_alpha  mean_test_score  std_test_score  rank_test_score\n",
       "1        log      0.0001         0.329132        0.015163                1\n",
       "0      hinge      0.0001         0.326280        0.006928                2\n",
       "4      hinge        0.01         0.321704        0.014478                3\n",
       "2      hinge       0.001         0.320564        0.012633                4\n",
       "3        log       0.001         0.302276        0.013085                5\n",
       "6      hinge         0.1         0.237702        0.015160                6\n",
       "5        log        0.01         0.230847        0.012820                7\n",
       "7        log         0.1         0.129139        0.004394                8"
      ]
     },
     "execution_count": 83,
     "metadata": {},
     "output_type": "execute_result"
    }
   ],
   "source": [
    "df_results = pandas.DataFrame(results)\n",
    "df_results[['param_loss', 'param_alpha', 'mean_test_score', 'std_test_score', 'rank_test_score']].sort_values(by=[\"rank_test_score\"])"
   ]
  },
  {
   "cell_type": "markdown",
   "metadata": {},
   "source": [
    "Realizaremos las predicciones con el modelo mejor rankeado."
   ]
  },
  {
   "cell_type": "code",
   "execution_count": 84,
   "metadata": {},
   "outputs": [],
   "source": [
    "best_model = cv.best_estimator_"
   ]
  },
  {
   "cell_type": "code",
   "execution_count": 85,
   "metadata": {},
   "outputs": [],
   "source": [
    "y_train_pred = best_model.predict(X_train)\n",
    "y_test_pred = best_model.predict(X_test)    "
   ]
  },
  {
   "cell_type": "code",
   "execution_count": 86,
   "metadata": {
    "scrolled": true
   },
   "outputs": [
    {
     "name": "stdout",
     "output_type": "stream",
     "text": [
      "Accuracy:0.32\n"
     ]
    }
   ],
   "source": [
    "accuracy = metrics.accuracy_score(y_test, y_test_pred)\n",
    "print(f'Accuracy:{accuracy:{0.2}}')"
   ]
  },
  {
   "cell_type": "markdown",
   "metadata": {},
   "source": [
    "Observamos una mejora en el Accuracy, 32%, respecto al 21% del modelo anterior, pero sigue siendo bajo. "
   ]
  },
  {
   "cell_type": "markdown",
   "metadata": {},
   "source": [
    "### En función del Organismo al que hace referencia el texto\n",
    "\n",
    "Observemos que tan desvalanceadas están las clases"
   ]
  },
  {
   "cell_type": "code",
   "execution_count": 87,
   "metadata": {},
   "outputs": [
    {
     "data": {
      "text/plain": [
       "MINISTERIO DE ECONOMIA                                     807\n",
       "MINISTERIO DE TRABAJO                                      579\n",
       "Sin clase                                                  353\n",
       "MINISTERIO DE PLANIFICACION FEDERAL                        165\n",
       "MINISTERIO DE SALUD                                        100\n",
       "PRESIDENCIA DE LA NACION                                    82\n",
       "MINISTERIO DE DEFENSA + SEGURIDAD                           78\n",
       "MINISTERIO DE AGRICULTURA, GANADERÍA y PESCA + AMBIENTE     67\n",
       "MINISTERIO DE EDUCACIÓN, CIENCIA y TECNOLOGÍA + CULTURA     57\n",
       "MINISTERIO DEL INTERIOR                                     47\n",
       "MINISTERIO DE JUSTICA                                       47\n",
       "MINISTERIO DE RELACIONES EXTERIORES                         39\n",
       "MINISTERIO DE DESARROLLO SOCIAL                             31\n",
       "ACUERDOS, TRATADOS y CONVENIOS                              28\n",
       "MINISTERIO DE COMUNICACIONES                                20\n",
       "Name: ORGANISMO, dtype: int64"
      ]
     },
     "execution_count": 87,
     "metadata": {},
     "output_type": "execute_result"
    }
   ],
   "source": [
    "df_corpus[\"ORGANISMO\"].value_counts()"
   ]
  },
  {
   "cell_type": "markdown",
   "metadata": {},
   "source": [
    "Se observa que 353 documentos quedaron sin clasificar, a estos los vamos a considerar outliers y los eliminamos del conjunto de entrenamiento y validación.\n",
    "\n",
    "Eliminamos los documentos sin clasificar:"
   ]
  },
  {
   "cell_type": "code",
   "execution_count": 88,
   "metadata": {},
   "outputs": [],
   "source": [
    "df_corpus_2 = df_corpus[df_corpus[\"ORGANISMO\"] != \"Sin clase\"]"
   ]
  },
  {
   "cell_type": "markdown",
   "metadata": {},
   "source": [
    "Vectorizamos el texto"
   ]
  },
  {
   "cell_type": "code",
   "execution_count": 89,
   "metadata": {},
   "outputs": [
    {
     "data": {
      "text/plain": [
       "<2147x37529 sparse matrix of type '<class 'numpy.float64'>'\n",
       "\twith 184616 stored elements in Compressed Sparse Row format>"
      ]
     },
     "execution_count": 89,
     "metadata": {},
     "output_type": "execute_result"
    }
   ],
   "source": [
    "vectorizer = TfidfVectorizer()\n",
    "vectorizer.fit_transform(df_corpus_2['TEXTO_NORM_2'])"
   ]
  },
  {
   "cell_type": "markdown",
   "metadata": {},
   "source": [
    "Dividimos los datos en entrenamiento y validación:"
   ]
  },
  {
   "cell_type": "code",
   "execution_count": 90,
   "metadata": {},
   "outputs": [],
   "source": [
    "# División entre instancias vectorizadas y etiquetas\n",
    "X, y = vectorizer.transform(df_corpus_2[\"TEXTO_NORM_2\"]), df_corpus_2[\"ORGANISMO\"]\n",
    "\n",
    "from sklearn.model_selection import train_test_split, GridSearchCV\n",
    "# división entre entrenamiento y evaluación\n",
    "X_train, X_test, y_train, y_test = train_test_split(X, y, test_size=0.3, random_state=0, shuffle=True)"
   ]
  },
  {
   "cell_type": "markdown",
   "metadata": {},
   "source": [
    "#### a) Modelo de Regresión Logística"
   ]
  },
  {
   "cell_type": "code",
   "execution_count": 91,
   "metadata": {},
   "outputs": [],
   "source": [
    "param_grid = {\n",
    "    'multi_class': ['ovr', 'multinomial'],\n",
    "    'max_iter': [1, 2, 4]\n",
    "}"
   ]
  },
  {
   "cell_type": "code",
   "execution_count": 92,
   "metadata": {},
   "outputs": [],
   "source": [
    "model = LogisticRegression(penalty='l1', solver='saga', random_state=0)"
   ]
  },
  {
   "cell_type": "code",
   "execution_count": 93,
   "metadata": {},
   "outputs": [
    {
     "data": {
      "text/plain": [
       "GridSearchCV(cv=3,\n",
       "             estimator=LogisticRegression(penalty='l1', random_state=0,\n",
       "                                          solver='saga'),\n",
       "             param_grid={'max_iter': [1, 2, 4],\n",
       "                         'multi_class': ['ovr', 'multinomial']},\n",
       "             scoring='accuracy')"
      ]
     },
     "execution_count": 93,
     "metadata": {},
     "output_type": "execute_result"
    }
   ],
   "source": [
    "cv = GridSearchCV(model, param_grid, scoring='accuracy', cv=3)\n",
    "cv.fit(X_train, y_train)"
   ]
  },
  {
   "cell_type": "markdown",
   "metadata": {},
   "source": [
    "Observamos los resultados ordenados por ranking"
   ]
  },
  {
   "cell_type": "code",
   "execution_count": 94,
   "metadata": {},
   "outputs": [],
   "source": [
    "results = cv.cv_results_"
   ]
  },
  {
   "cell_type": "code",
   "execution_count": 95,
   "metadata": {},
   "outputs": [
    {
     "data": {
      "text/html": [
       "<div>\n",
       "<style scoped>\n",
       "    .dataframe tbody tr th:only-of-type {\n",
       "        vertical-align: middle;\n",
       "    }\n",
       "\n",
       "    .dataframe tbody tr th {\n",
       "        vertical-align: top;\n",
       "    }\n",
       "\n",
       "    .dataframe thead th {\n",
       "        text-align: right;\n",
       "    }\n",
       "</style>\n",
       "<table border=\"1\" class=\"dataframe\">\n",
       "  <thead>\n",
       "    <tr style=\"text-align: right;\">\n",
       "      <th></th>\n",
       "      <th>param_multi_class</th>\n",
       "      <th>param_max_iter</th>\n",
       "      <th>mean_test_score</th>\n",
       "      <th>std_test_score</th>\n",
       "      <th>rank_test_score</th>\n",
       "    </tr>\n",
       "  </thead>\n",
       "  <tbody>\n",
       "    <tr>\n",
       "      <th>3</th>\n",
       "      <td>multinomial</td>\n",
       "      <td>2</td>\n",
       "      <td>0.601851</td>\n",
       "      <td>0.016655</td>\n",
       "      <td>1</td>\n",
       "    </tr>\n",
       "    <tr>\n",
       "      <th>5</th>\n",
       "      <td>multinomial</td>\n",
       "      <td>4</td>\n",
       "      <td>0.598552</td>\n",
       "      <td>0.020881</td>\n",
       "      <td>2</td>\n",
       "    </tr>\n",
       "    <tr>\n",
       "      <th>4</th>\n",
       "      <td>ovr</td>\n",
       "      <td>4</td>\n",
       "      <td>0.588560</td>\n",
       "      <td>0.012987</td>\n",
       "      <td>3</td>\n",
       "    </tr>\n",
       "    <tr>\n",
       "      <th>2</th>\n",
       "      <td>ovr</td>\n",
       "      <td>2</td>\n",
       "      <td>0.588526</td>\n",
       "      <td>0.026007</td>\n",
       "      <td>4</td>\n",
       "    </tr>\n",
       "    <tr>\n",
       "      <th>1</th>\n",
       "      <td>multinomial</td>\n",
       "      <td>1</td>\n",
       "      <td>0.541206</td>\n",
       "      <td>0.077739</td>\n",
       "      <td>5</td>\n",
       "    </tr>\n",
       "    <tr>\n",
       "      <th>0</th>\n",
       "      <td>ovr</td>\n",
       "      <td>1</td>\n",
       "      <td>0.529894</td>\n",
       "      <td>0.071425</td>\n",
       "      <td>6</td>\n",
       "    </tr>\n",
       "  </tbody>\n",
       "</table>\n",
       "</div>"
      ],
      "text/plain": [
       "  param_multi_class param_max_iter  mean_test_score  std_test_score  \\\n",
       "3       multinomial              2         0.601851        0.016655   \n",
       "5       multinomial              4         0.598552        0.020881   \n",
       "4               ovr              4         0.588560        0.012987   \n",
       "2               ovr              2         0.588526        0.026007   \n",
       "1       multinomial              1         0.541206        0.077739   \n",
       "0               ovr              1         0.529894        0.071425   \n",
       "\n",
       "   rank_test_score  \n",
       "3                1  \n",
       "5                2  \n",
       "4                3  \n",
       "2                4  \n",
       "1                5  \n",
       "0                6  "
      ]
     },
     "execution_count": 95,
     "metadata": {},
     "output_type": "execute_result"
    }
   ],
   "source": [
    "df_results = pandas.DataFrame(results)\n",
    "df_results[['param_multi_class', 'param_max_iter', 'mean_test_score', 'std_test_score', 'rank_test_score']].sort_values(by=[\"rank_test_score\"])"
   ]
  },
  {
   "cell_type": "markdown",
   "metadata": {},
   "source": [
    "Realizaremos las predicciones con el modelo mejor rankeado."
   ]
  },
  {
   "cell_type": "code",
   "execution_count": 96,
   "metadata": {},
   "outputs": [],
   "source": [
    "best_model = cv.best_estimator_"
   ]
  },
  {
   "cell_type": "code",
   "execution_count": 97,
   "metadata": {},
   "outputs": [],
   "source": [
    "y_train_pred = best_model.predict(X_train)\n",
    "y_test_pred = best_model.predict(X_test)    "
   ]
  },
  {
   "cell_type": "code",
   "execution_count": 98,
   "metadata": {},
   "outputs": [
    {
     "name": "stdout",
     "output_type": "stream",
     "text": [
      "Accuracy:0.61\n"
     ]
    }
   ],
   "source": [
    "accuracy = metrics.accuracy_score(y_test, y_test_pred)\n",
    "print(f'Accuracy:{accuracy:{0.2}}')"
   ]
  },
  {
   "cell_type": "markdown",
   "metadata": {},
   "source": [
    "Según la Acurracy el 61% fue bien clasificado, el resultado es mucho más alto y razonable que en el caso anterior, sin embargo hay un 39% que sigue estando mal clasificado, esto se debe a que no estamos usando el método apropiado para generar la clasificación inicial (fue hecho a mano por personas que no son exertas de dominio), en estos caso que no tenemos definida la clase es necesario usar metodos de aprendizaje no supervisado.\n",
    "\n",
    "#### b) Modelo SGDClassifier"
   ]
  },
  {
   "cell_type": "code",
   "execution_count": 99,
   "metadata": {},
   "outputs": [],
   "source": [
    "param_grid = {\n",
    "    'loss': [\n",
    "        'hinge',        # SVM\n",
    "        'log',          # logistic regression\n",
    "    ],\n",
    "    'alpha': [0.0001, 0.001, 0.01, 0.1]\n",
    "}"
   ]
  },
  {
   "cell_type": "code",
   "execution_count": 100,
   "metadata": {},
   "outputs": [],
   "source": [
    "model = SGDClassifier(random_state=0)"
   ]
  },
  {
   "cell_type": "code",
   "execution_count": 101,
   "metadata": {},
   "outputs": [
    {
     "data": {
      "text/plain": [
       "GridSearchCV(cv=3, estimator=SGDClassifier(random_state=0),\n",
       "             param_grid={'alpha': [0.0001, 0.001, 0.01, 0.1],\n",
       "                         'loss': ['hinge', 'log']},\n",
       "             scoring='accuracy')"
      ]
     },
     "execution_count": 101,
     "metadata": {},
     "output_type": "execute_result"
    }
   ],
   "source": [
    "cv = GridSearchCV(model, param_grid, scoring='accuracy', cv=3)\n",
    "cv.fit(X_train, y_train)"
   ]
  },
  {
   "cell_type": "code",
   "execution_count": 102,
   "metadata": {},
   "outputs": [],
   "source": [
    "results = cv.cv_results_"
   ]
  },
  {
   "cell_type": "code",
   "execution_count": 103,
   "metadata": {},
   "outputs": [
    {
     "data": {
      "text/html": [
       "<div>\n",
       "<style scoped>\n",
       "    .dataframe tbody tr th:only-of-type {\n",
       "        vertical-align: middle;\n",
       "    }\n",
       "\n",
       "    .dataframe tbody tr th {\n",
       "        vertical-align: top;\n",
       "    }\n",
       "\n",
       "    .dataframe thead th {\n",
       "        text-align: right;\n",
       "    }\n",
       "</style>\n",
       "<table border=\"1\" class=\"dataframe\">\n",
       "  <thead>\n",
       "    <tr style=\"text-align: right;\">\n",
       "      <th></th>\n",
       "      <th>param_loss</th>\n",
       "      <th>param_alpha</th>\n",
       "      <th>mean_test_score</th>\n",
       "      <th>std_test_score</th>\n",
       "      <th>rank_test_score</th>\n",
       "    </tr>\n",
       "  </thead>\n",
       "  <tbody>\n",
       "    <tr>\n",
       "      <th>0</th>\n",
       "      <td>hinge</td>\n",
       "      <td>0.0001</td>\n",
       "      <td>0.758322</td>\n",
       "      <td>0.008152</td>\n",
       "      <td>1</td>\n",
       "    </tr>\n",
       "    <tr>\n",
       "      <th>2</th>\n",
       "      <td>hinge</td>\n",
       "      <td>0.001</td>\n",
       "      <td>0.744347</td>\n",
       "      <td>0.007250</td>\n",
       "      <td>2</td>\n",
       "    </tr>\n",
       "    <tr>\n",
       "      <th>1</th>\n",
       "      <td>log</td>\n",
       "      <td>0.0001</td>\n",
       "      <td>0.723707</td>\n",
       "      <td>0.006353</td>\n",
       "      <td>3</td>\n",
       "    </tr>\n",
       "    <tr>\n",
       "      <th>4</th>\n",
       "      <td>hinge</td>\n",
       "      <td>0.01</td>\n",
       "      <td>0.694399</td>\n",
       "      <td>0.008768</td>\n",
       "      <td>4</td>\n",
       "    </tr>\n",
       "    <tr>\n",
       "      <th>3</th>\n",
       "      <td>log</td>\n",
       "      <td>0.001</td>\n",
       "      <td>0.622512</td>\n",
       "      <td>0.009846</td>\n",
       "      <td>5</td>\n",
       "    </tr>\n",
       "    <tr>\n",
       "      <th>5</th>\n",
       "      <td>log</td>\n",
       "      <td>0.01</td>\n",
       "      <td>0.498661</td>\n",
       "      <td>0.011712</td>\n",
       "      <td>6</td>\n",
       "    </tr>\n",
       "    <tr>\n",
       "      <th>7</th>\n",
       "      <td>log</td>\n",
       "      <td>0.1</td>\n",
       "      <td>0.432060</td>\n",
       "      <td>0.033573</td>\n",
       "      <td>7</td>\n",
       "    </tr>\n",
       "    <tr>\n",
       "      <th>6</th>\n",
       "      <td>hinge</td>\n",
       "      <td>0.1</td>\n",
       "      <td>0.406776</td>\n",
       "      <td>0.016289</td>\n",
       "      <td>8</td>\n",
       "    </tr>\n",
       "  </tbody>\n",
       "</table>\n",
       "</div>"
      ],
      "text/plain": [
       "  param_loss param_alpha  mean_test_score  std_test_score  rank_test_score\n",
       "0      hinge      0.0001         0.758322        0.008152                1\n",
       "2      hinge       0.001         0.744347        0.007250                2\n",
       "1        log      0.0001         0.723707        0.006353                3\n",
       "4      hinge        0.01         0.694399        0.008768                4\n",
       "3        log       0.001         0.622512        0.009846                5\n",
       "5        log        0.01         0.498661        0.011712                6\n",
       "7        log         0.1         0.432060        0.033573                7\n",
       "6      hinge         0.1         0.406776        0.016289                8"
      ]
     },
     "execution_count": 103,
     "metadata": {},
     "output_type": "execute_result"
    }
   ],
   "source": [
    "df_results = pandas.DataFrame(results)\n",
    "df_results[['param_loss', 'param_alpha', 'mean_test_score', 'std_test_score', 'rank_test_score']].sort_values(by=[\"rank_test_score\"])"
   ]
  },
  {
   "cell_type": "markdown",
   "metadata": {},
   "source": [
    "Realizaremos las predicciones con el modelo mejor rankeado."
   ]
  },
  {
   "cell_type": "code",
   "execution_count": 104,
   "metadata": {},
   "outputs": [],
   "source": [
    "best_model = cv.best_estimator_"
   ]
  },
  {
   "cell_type": "code",
   "execution_count": 105,
   "metadata": {},
   "outputs": [],
   "source": [
    "y_train_pred = best_model.predict(X_train)\n",
    "y_test_pred = best_model.predict(X_test)    "
   ]
  },
  {
   "cell_type": "code",
   "execution_count": 106,
   "metadata": {},
   "outputs": [
    {
     "name": "stdout",
     "output_type": "stream",
     "text": [
      "Accuracy:0.78\n"
     ]
    }
   ],
   "source": [
    "accuracy = metrics.accuracy_score(y_test, y_test_pred)\n",
    "print(f'Accuracy:{accuracy:{0.2}}')"
   ]
  },
  {
   "cell_type": "markdown",
   "metadata": {},
   "source": [
    "El mejor resultabo obtenido .... "
   ]
  },
  {
   "cell_type": "markdown",
   "metadata": {},
   "source": [
    "# Conclusión"
   ]
  },
  {
   "cell_type": "markdown",
   "metadata": {},
   "source": [
    "No logramos generar una clasificación que nos indique de qué trata cada documento. \n",
    "\n",
    "El modelo SGDClassifier obtuvo los mejores resultados en ambos criterios de clasificación."
   ]
  }
 ],
 "metadata": {
  "colab": {
   "authorship_tag": "ABX9TyP/8T3zAF9l4iiNnF830ZTP",
   "name": "Practico 4  - Jorge.ipynb",
   "provenance": []
  },
  "kernelspec": {
   "display_name": "Python 3",
   "language": "python",
   "name": "python3"
  },
  "language_info": {
   "codemirror_mode": {
    "name": "ipython",
    "version": 3
   },
   "file_extension": ".py",
   "mimetype": "text/x-python",
   "name": "python",
   "nbconvert_exporter": "python",
   "pygments_lexer": "ipython3",
   "version": "3.8.5"
  }
 },
 "nbformat": 4,
 "nbformat_minor": 1
}
