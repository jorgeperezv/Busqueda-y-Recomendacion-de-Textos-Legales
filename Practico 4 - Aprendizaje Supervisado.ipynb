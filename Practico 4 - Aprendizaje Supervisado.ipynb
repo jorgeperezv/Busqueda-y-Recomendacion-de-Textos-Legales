{
 "cells": [
  {
   "cell_type": "markdown",
   "metadata": {
    "colab_type": "text",
    "id": "Db2Zjg3-eqcE"
   },
   "source": [
    "# Aprendizaje Automático\n",
    "\n",
    "\n",
    "El objetivo de este práctico es afianzar los conocimientos adquiridos hasta este momento, haciendo un proceso de re-análisis de los datos para encarar desde distintas perspectivas (selección de features, redefinición de clases y subclases) para conseguir nuevos resultados sobre los modelos ya trabajados, añadiendo ensemble learning al análisis.\n",
    "\n",
    "La idea es aprender a iterar en el proceso de ciencia de datos, no quedandonos con los resultados obtenidos del primer proceso realizado.\n",
    "\n",
    "# Enunciado del práctico\n",
    "\n",
    "Se les da la libertad de hacer los análisis que consideren necesarios en base a lo ya aprendido, encarando el problema desde distintos puntos de vista sobre todo en el proceso de los datos. para generar perspectivas diferentes que amplíen desde la investigación los resultados ya obtenidos.\n",
    "\n",
    "Generar un informe del enfoque que se tomó y cuales son las conclusiones a las que se arribó.\n",
    "\n",
    "Se pide también que sumen aquellos algoritmos en la medida de lo posible (por la cantidad de datos) que se aprendieron en esta materia.\n",
    "\n"
   ]
  },
  {
   "cell_type": "code",
   "execution_count": 1,
   "metadata": {
    "colab": {},
    "colab_type": "code",
    "executionInfo": {
     "elapsed": 1644,
     "status": "ok",
     "timestamp": 1600113131858,
     "user": {
      "displayName": "Jorge Pérez Villella",
      "photoUrl": "",
      "userId": "05752208885034813709"
     },
     "user_tz": 180
    },
    "id": "h96AoaF1eF15"
   },
   "outputs": [],
   "source": [
    "import sys\n",
    "import os\n",
    "import pandas\n",
    "import matplotlib.pyplot as plt\n",
    "import seaborn\n",
    "import string\n",
    "import collections\n",
    "import re\n",
    "import nltk\n",
    "from nltk.tokenize.toktok import ToktokTokenizer\n",
    "from sklearn.feature_extraction.text import CountVectorizer, TfidfTransformer, TfidfVectorizer\n",
    "from wordcloud import WordCloud"
   ]
  },
  {
   "cell_type": "code",
   "execution_count": 2,
   "metadata": {
    "colab": {
     "base_uri": "https://localhost:8080/",
     "height": 33
    },
    "colab_type": "code",
    "executionInfo": {
     "elapsed": 27643,
     "status": "ok",
     "timestamp": 1600113357388,
     "user": {
      "displayName": "Jorge Pérez Villella",
      "photoUrl": "",
      "userId": "05752208885034813709"
     },
     "user_tz": 180
    },
    "id": "hSMCwx6RjirO",
    "outputId": "af6df88b-6567-475f-cfd2-0cb17f6516af"
   },
   "outputs": [],
   "source": [
    "# Se verfica entorno de ejecución\n",
    "in_colab = \"google.colab\" in sys.modules\n",
    "\n",
    "if in_colab:\n",
    "    from google.colab import drive\n",
    "\n",
    "    drive.mount(\"/content/drive\")\n",
    "    BASE_DIR = \"/content/drive/My Drive/Diplo2020 Mentoria/\"\n",
    "else:\n",
    "    BASE_DIR = \"../\""
   ]
  },
  {
   "cell_type": "markdown",
   "metadata": {
    "colab_type": "text",
    "id": "z9JD3Fncj3a5"
   },
   "source": [
    "# Archivos a importar"
   ]
  },
  {
   "cell_type": "code",
   "execution_count": 3,
   "metadata": {},
   "outputs": [],
   "source": [
    "def txt_to_text(path):\n",
    "    filepath = open(path, encoding='utf-8')\n",
    "    text = filepath.read()\n",
    "    filepath.close()\n",
    "    return text"
   ]
  },
  {
   "cell_type": "code",
   "execution_count": 4,
   "metadata": {
    "colab": {},
    "colab_type": "code",
    "executionInfo": {
     "elapsed": 936,
     "status": "ok",
     "timestamp": 1600113477549,
     "user": {
      "displayName": "Jorge Pérez Villella",
      "photoUrl": "",
      "userId": "05752208885034813709"
     },
     "user_tz": 180
    },
    "id": "6ciNajcXkiz8"
   },
   "outputs": [],
   "source": [
    "def getListOfFiles(dirName):\n",
    "    # create a list of file and sub directories \n",
    "    # names in the given directory \n",
    "    listOfFile = os.listdir(dirName)\n",
    "    allFiles = list()\n",
    "    # Iterate over all the entries\n",
    "    for entry in listOfFile:\n",
    "        # Create full path\n",
    "        fullPath = dirName + '/' + entry\n",
    "        # If entry is a directory then get the list of files in this directory \n",
    "        if os.path.isdir(fullPath):\n",
    "            allFiles = allFiles + getListOfFiles(fullPath)\n",
    "        else:\n",
    "            allFiles.append(fullPath)\n",
    "                \n",
    "    return allFiles"
   ]
  },
  {
   "cell_type": "code",
   "execution_count": 5,
   "metadata": {
    "colab": {},
    "colab_type": "code",
    "executionInfo": {
     "elapsed": 936,
     "status": "ok",
     "timestamp": 1600134734440,
     "user": {
      "displayName": "Jorge Pérez Villella",
      "photoUrl": "",
      "userId": "05752208885034813709"
     },
     "user_tz": 180
    },
    "id": "Ei4aE3CojqsN"
   },
   "outputs": [],
   "source": [
    "train_data_dir = BASE_DIR + \"Datos/Infoleg\""
   ]
  },
  {
   "cell_type": "code",
   "execution_count": 6,
   "metadata": {
    "colab": {
     "base_uri": "https://localhost:8080/",
     "height": 33
    },
    "colab_type": "code",
    "executionInfo": {
     "elapsed": 15260,
     "status": "ok",
     "timestamp": 1600113493787,
     "user": {
      "displayName": "Jorge Pérez Villella",
      "photoUrl": "",
      "userId": "05752208885034813709"
     },
     "user_tz": 180
    },
    "id": "peglHP8kj5WU",
    "outputId": "6d369ea4-1c8b-4d5a-e1bb-1d2081d95516"
   },
   "outputs": [
    {
     "name": "stdout",
     "output_type": "stream",
     "text": [
      "Cantidad de archivos a importar: 2500\n"
     ]
    }
   ],
   "source": [
    "listOfFile = getListOfFiles(train_data_dir)\n",
    "print('Cantidad de archivos a importar:', len(listOfFile))    "
   ]
  },
  {
   "cell_type": "code",
   "execution_count": 7,
   "metadata": {},
   "outputs": [],
   "source": [
    "corpus = []\n",
    "i = 0\n",
    "for file in listOfFile:\n",
    "    if file.endswith(\".txt\"):\n",
    "        corpus.append([i, file, txt_to_text(file)])\n",
    "        i = i+1"
   ]
  },
  {
   "cell_type": "code",
   "execution_count": 8,
   "metadata": {},
   "outputs": [
    {
     "data": {
      "text/html": [
       "<div>\n",
       "<style scoped>\n",
       "    .dataframe tbody tr th:only-of-type {\n",
       "        vertical-align: middle;\n",
       "    }\n",
       "\n",
       "    .dataframe tbody tr th {\n",
       "        vertical-align: top;\n",
       "    }\n",
       "\n",
       "    .dataframe thead th {\n",
       "        text-align: right;\n",
       "    }\n",
       "</style>\n",
       "<table border=\"1\" class=\"dataframe\">\n",
       "  <thead>\n",
       "    <tr style=\"text-align: right;\">\n",
       "      <th></th>\n",
       "      <th>ID</th>\n",
       "      <th>FILE</th>\n",
       "      <th>TEXTO</th>\n",
       "    </tr>\n",
       "  </thead>\n",
       "  <tbody>\n",
       "    <tr>\n",
       "      <th>0</th>\n",
       "      <td>0</td>\n",
       "      <td>../Datos/Infoleg/100016.txt</td>\n",
       "      <td>ACUERDOS\\nLey 25.939\\nApruébase el Acuerdo Sob...</td>\n",
       "    </tr>\n",
       "    <tr>\n",
       "      <th>1</th>\n",
       "      <td>1</td>\n",
       "      <td>../Datos/Infoleg/100025.txt</td>\n",
       "      <td>MINISTERIO DE ECONOMIA Y PRODUCCION\\nDecisión ...</td>\n",
       "    </tr>\n",
       "    <tr>\n",
       "      <th>2</th>\n",
       "      <td>2</td>\n",
       "      <td>../Datos/Infoleg/100026.txt</td>\n",
       "      <td>Secretaría de Hacienda\\nPRESUPUESTO\\nResolució...</td>\n",
       "    </tr>\n",
       "    <tr>\n",
       "      <th>3</th>\n",
       "      <td>3</td>\n",
       "      <td>../Datos/Infoleg/100027.txt</td>\n",
       "      <td>Ministerio de Economía y Producción\\nREGIMEN S...</td>\n",
       "    </tr>\n",
       "    <tr>\n",
       "      <th>4</th>\n",
       "      <td>4</td>\n",
       "      <td>../Datos/Infoleg/100028.txt</td>\n",
       "      <td>Secretaría de Empleo\\nPROGRAMA JEFES DE HOGAR\\...</td>\n",
       "    </tr>\n",
       "  </tbody>\n",
       "</table>\n",
       "</div>"
      ],
      "text/plain": [
       "   ID                         FILE  \\\n",
       "0   0  ../Datos/Infoleg/100016.txt   \n",
       "1   1  ../Datos/Infoleg/100025.txt   \n",
       "2   2  ../Datos/Infoleg/100026.txt   \n",
       "3   3  ../Datos/Infoleg/100027.txt   \n",
       "4   4  ../Datos/Infoleg/100028.txt   \n",
       "\n",
       "                                               TEXTO  \n",
       "0  ACUERDOS\\nLey 25.939\\nApruébase el Acuerdo Sob...  \n",
       "1  MINISTERIO DE ECONOMIA Y PRODUCCION\\nDecisión ...  \n",
       "2  Secretaría de Hacienda\\nPRESUPUESTO\\nResolució...  \n",
       "3  Ministerio de Economía y Producción\\nREGIMEN S...  \n",
       "4  Secretaría de Empleo\\nPROGRAMA JEFES DE HOGAR\\...  "
      ]
     },
     "execution_count": 8,
     "metadata": {},
     "output_type": "execute_result"
    }
   ],
   "source": [
    "df_corpus = pandas.DataFrame(corpus,columns=['ID','FILE','TEXTO'])\n",
    "df_corpus.head()"
   ]
  },
  {
   "cell_type": "markdown",
   "metadata": {},
   "source": [
    "# Analizamos una frase de un documento\n",
    "\n",
    "Analizamos el primer documento para simplificar las pruebas en la limpiaza de datos."
   ]
  },
  {
   "cell_type": "code",
   "execution_count": 9,
   "metadata": {},
   "outputs": [
    {
     "name": "stdout",
     "output_type": "stream",
     "text": [
      "../Datos/Infoleg/100016.txt\n",
      "ACUERDOS\n",
      "Ley 25.939\n",
      "Apruébase el Acuerdo Sobre Cooperación Minera suscripto en Caracas el 12 de julio de 2000 con la República Bolivariana de Venezuela. Elaboración de programas de Cooperación Científico-Técnica y de Acción. Solución de controversias.\n",
      "Sancionada: Septiembre 22 de 2004\n",
      "Promulgada de Hecho: Octubre 18 de 2004\n",
      "El Senado y Cámara de Diputados de la Nación Argentina reunidos en Congreso, etc. sancionan con fuerza de Ley:\n",
      "ARTICULO 1º — Apruébase el ACUERDO SOBRE COOPERACION MINERA ENTRE LA REPUBLICA ARGENTINA Y LA REPUBLICA BOLIVARIANA DE VENEZUELA, suscripto en Caracas —REPUBLICA BOLIVARIANA DE VENEZUELA— el 12 de julio de 2000, que consta de TRECE (13) artículos, cuya fotocopia autenticada forma parte de la presente ley.\n",
      "ARTICULO 2º — Comuníquese al Poder Ejecutivo nacional.\n",
      "DADA EN LA SALA DE SESIONES DEL CONGRESO ARGENTINO, EN BUENOS AIRES, A LOS VEINTIDOS DIAS DEL MES DE SEPTIEMBRE DEL AÑO DOS MIL CUATRO.\n",
      "— REGISTRADO BAJO EL Nº 25.939 —\n",
      "EDUARDO O. CAMAÑO. — MARCELO A. GUINLE. — Eduardo D. Rollano. — Juan J. Canals.\n",
      "ACUERDO SOBRE COOPERACION MINERA\n",
      "ENTRE\n",
      "LA REPUBLICA ARGENTINA\n",
      "y\n",
      "LA REPUBLICA BOLIVARIANA DE VENEZUELA\n",
      "La República Argentina y la República Bolivariana de Venezuela denominados en adelante \"las Partes\", con el propósito de consolidar los vínculos entre los dos países y con el fin de apoyar e intensificar la cooperación económica, y\n",
      "Considerando la necesidad de fortalecer el proceso de integración en América Latina, encaminado a promover el desarrollo económico social, armónico y equilibrado de la región,\n",
      "Teniendo presente la coincidencia entre los dos países a favor de la profundización de los mecanismos de colaboración y cooperación en materia económica y la firme convicción de que la integración regional redundará en beneficios para el desarrollo de los pueblos,\n",
      "Reconociendo que un acuerdo en materia minera será de utilidad e interés de ambas Partes permitiendo ampliar las posibilidades de cooperación e intercambio técnico y científico-tecnológico del sector, en un marco de integración regional,\n",
      "Acuerdan lo siguiente:\n",
      "ARTICULO PRIMERO\n",
      "Las Partes convienen en alentar la concreción de programas y proyectos específicos de cooperación en las áreas de minerales metalíferos, no metalíferos, rocas de aplicación y concentrados metalúrgicos tanto en el sector de investigación básica y aplicada, orientada a la promoción de la innovación y al desarrollo de nuevos productos, como para la puesta en marcha de producción y comercialización.\n",
      "Para los efectos de la aplicación del presente Acuerdo se entiende por:\n",
      "1.- Programa, al conjunto de proyectos a través de los cuales se implementa la cooperación e integración minera objeto del presente;\n",
      "2.- Proyecto, al conjunto de actividades interrelacionadas y coordinadas con el fin de alcanzar objetivos específicos.\n",
      "ARTICULO SEGUNDO\n",
      "En ese sentido, las Partes acuerdan poner en marcha un Programa de Cooperación Científico- Técnica, entre la Subsecretaría de Minería de la República Argentina y el Ministerio de Energía y Minas de la República Bolivariana de Venezuela, a fin de impulsar el desarrollo de proyectos relacionados con la actividad minera en ambos países.\n",
      "ARTICULO TERCERO\n",
      "Las Partes se comprometen a establecer un Programa de Acción destinado a materializar y complementar, según sea el caso, lo establecido en los artículos precedentes.\n",
      "ARTICULO CUARTO\n",
      "El Programa de Acción mencionado en el artículo precedente se referirá a los aspectos vinculados con:\n",
      "a) el marco legal de las inversiones del sector,\n",
      "b) el estudio e investigación de los avances legislativos en el derecho comparado,\n",
      "c) el desarrollo de una más eficiente capacidad institucional,\n",
      "d) la implementación de un sistema de protección ambiental-minera,\n",
      "e) el intercambio de información sobre legislación y normas minero-ambientales y de salud y seguridad mineras.\n",
      "f) el intercambio de información sobre los servicios de apoyo, especialmente en materia de infraestructura, de conocimiento geológico, de investigación y tecnología, y,\n",
      "g) la implementación de un adecuado sistema de información.\n",
      "ARTICULO QUINTO\n",
      "Las actividades previstas en el Programa de Acción incluirán las siguientes formas de cooperación:\n",
      "a) asistencia recíproca para la formación y capacitación de personal científico-técnico,\n",
      "b) intercambio de expertos,\n",
      "c) intercambio de profesionales especialistas para cursos y seminarios,\n",
      "d) becas de estudio,\n",
      "e) consultas recíprocas sobre cuestiones legales, científicas y tecnológicas,\n",
      "f) formación de grupos mixtos de trabajo para la realización de estudios y proyectos de investigación legal, científica y desarrollo tecnológico,\n",
      "g) transferencia de tecnología en medio ambiente vinculado a la actividad minera,\n",
      "h) las demás formas de cooperación acordadas por las Partes.\n",
      "ARTICULO SEXTO\n",
      "A fin de complementar la colaboración prevista en el presente Acuerdo, los organismos competentes designados por cada una de las Partes celebrarán convenios de aplicación en los que se establecerán las condiciones y modalidades específicas de la cooperación, incluyendo la realización de reuniones técnicas mixtas para el estudio y evaluación de proyectos.\n",
      "Asimismo, los organismos competentes de cada una de las Partes podrán crear comisiones conjuntas que tengan por objeto la conducción técnica de los proyectos y programas acordados.\n",
      "ARTICULO SEPTIMO\n",
      "Cada una de las Partes otorgará todas las facilidades necesarias para la entrada, permanencia y salida de los participantes que en forma oficial intervengan en los proyectos de cooperación minera objeto del presente. Estos participantes se someterán a las disposiciones nacionales vigentes del país receptor y no podrán dedicarse a ninguna actividad ajena a sus funciones.\n",
      "ARTICULO OCTAVO\n",
      "Los resultados de la cooperación serán compartidos por ambas Partes y se publicarán en forma conjunta con su acuerdo mutuo. Cualquier patente conseguida por la cooperación será compartida por ambas Partes. Si una de las Partes pretendiere publicar o transferir, en forma independiente, los resultados de la cooperación a un tercer país, deberá obtener previamente el consentimiento de la otra arte.\n",
      "ARTICULO NOVENO\n",
      "Las Partes se comprometen a cooperar mutuamente en el desarrollo de los proyectos conjuntos que se realizaren en aplicación del presente Acuerdo, facilitando en todo lo posible, la colaboración de otras instituciones u organismos públicos o privados de los respectivos países.\n",
      "ARTICULO DECIMO\n",
      "Para la ejecución de los proyectos conjuntos, en cada caso, las Partes acordarán el financiamiento, conforme a sus respectivas disponibilidades de recursos y a la posibilidad de obtener financiamiento de organismos internacionales.\n",
      "ARTICULO DECIMOPRIMERO\n",
      "SOLUCION DE CONTROVERSIAS\n",
      "Cualquier modificación al texto del Acuerdo o diferencia derivada de su interpretación o aplicación será resuelta por las Partes de común acuerdo.\n",
      "ARTICULO DECIMOSEGUNDO\n",
      "El presente Acuerdo entrará en vigor en la fecha de la última notificación en que las Partes se comuniquen el cumplimiento de sus requisitos formales internos.\n",
      "ARTICULO DECIMOTERCERO\n",
      "El presente Acuerdo tendrá una duración indefinida. La Parte que deseare desligarse deberá comunicar su denuncia, por la vía diplomática, a la otra Parte, con sesenta (60) días de anticipación, sin perjuicio del cumplimiento de los compromisos asumidos durante la vigencia del mismo.\n",
      "HECHO en Caracas, Venezuela, a los 12 días del mes de julio de dos mil, en dos ejemplares originales en idioma castellano, siendo ambos textos igualmente auténticos.\n",
      "Por la República Argentina,  Por la República Bolivariana de Venezuela,   Adalberto Rodríguez Giavarini Ministro de Relaciones Exteriores, Comercio Internacional y Culto  José Vicente Rangel Vale Ministro de Relaciones Exteriores\n",
      "\n",
      "\n"
     ]
    }
   ],
   "source": [
    "texto = df_corpus[0:1].TEXTO[0]\n",
    "print(df_corpus[0:1].FILE[0])\n",
    "print(texto)"
   ]
  },
  {
   "cell_type": "markdown",
   "metadata": {},
   "source": [
    "Lo primero que tenemos que hacer es dividir el corpus en *tokens*. \n",
    "\n",
    "Si utilizamos la función *split()* no obtendremos una división con sentido lingüístico, ya que por ejemplo, no separa los signos de puntuación: *castellano,* ó *auténtico.*\n",
    "\n",
    "Para evitar este inconveniente utilizamos la librería NLTK. La función por defecto es *nltk.word_tokenize()*, pero nosotros utilizamos *nltk.tokenize.toktok.ToktokTokenizer()*, ya que se obtienen mejores resultados con la lengua española (https://github.com/nltk/nltk/issues/1558)"
   ]
  },
  {
   "cell_type": "markdown",
   "metadata": {},
   "source": [
    "Tomemos como ejemplo una parte del texto:"
   ]
  },
  {
   "cell_type": "code",
   "execution_count": 10,
   "metadata": {
    "scrolled": true
   },
   "outputs": [
    {
     "name": "stdout",
     "output_type": "stream",
     "text": [
      "Caracas —REPUBLICA BOLIVARIANA DE VENEZUELA— el 12 de julio de 2000, — REGISTRADO BAJO EL Nº 25.939 — EDUARDO O. CAMAÑO. — MARCELO A. GUINLE. — Eduardo D. Rollano. — Juan J. Canals.\n"
     ]
    }
   ],
   "source": [
    "texto = \"Caracas —REPUBLICA BOLIVARIANA DE VENEZUELA— el 12 de julio de 2000, — REGISTRADO BAJO EL Nº 25.939 — EDUARDO O. CAMAÑO. — MARCELO A. GUINLE. — Eduardo D. Rollano. — Juan J. Canals.\"\n",
    "print(texto)"
   ]
  },
  {
   "cell_type": "markdown",
   "metadata": {},
   "source": [
    "Utilizando *word_tokenize*"
   ]
  },
  {
   "cell_type": "code",
   "execution_count": 11,
   "metadata": {},
   "outputs": [
    {
     "name": "stdout",
     "output_type": "stream",
     "text": [
      "Cantidad de tokens: 38\n",
      "['Caracas', '—REPUBLICA', 'BOLIVARIANA', 'DE', 'VENEZUELA—', 'el', '12', 'de', 'julio', 'de', '2000', ',', '—', 'REGISTRADO', 'BAJO', 'EL', 'Nº', '25.939', '—', 'EDUARDO', 'O.', 'CAMAÑO', '.', '—', 'MARCELO', 'A.', 'GUINLE', '.', '—', 'Eduardo', 'D.', 'Rollano', '.', '—', 'Juan', 'J.', 'Canals', '.']\n"
     ]
    }
   ],
   "source": [
    "wt_tokens = [word for word in nltk.tokenize.word_tokenize(texto)]\n",
    "print('Cantidad de tokens:', len(wt_tokens))\n",
    "print(wt_tokens)"
   ]
  },
  {
   "cell_type": "markdown",
   "metadata": {},
   "source": [
    "Utilizando *TokTokTokenizer*"
   ]
  },
  {
   "cell_type": "code",
   "execution_count": 12,
   "metadata": {},
   "outputs": [
    {
     "name": "stdout",
     "output_type": "stream",
     "text": [
      "Cantidad de tokens: 37\n",
      "['Caracas', '—', 'REPUBLICA', 'BOLIVARIANA', 'DE', 'VENEZUELA', '—', 'el', '12', 'de', 'julio', 'de', '2000', ',', '—', 'REGISTRADO', 'BAJO', 'EL', 'Nº', '25.939', '—', 'EDUARDO', 'O.', 'CAMAÑO.', '—', 'MARCELO', 'A.', 'GUINLE.', '—', 'Eduardo', 'D.', 'Rollano.', '—', 'Juan', 'J.', 'Canals', '.']\n"
     ]
    }
   ],
   "source": [
    "tt_tokens = ToktokTokenizer().tokenize(texto)\n",
    "print('Cantidad de tokens:', len(tt_tokens))\n",
    "print(tt_tokens)"
   ]
  },
  {
   "cell_type": "markdown",
   "metadata": {},
   "source": [
    "Vemos que separó correctamente el signo *—* de *REPUBLICA* y *VENEZUELA*. Además separó el punto final de la oración, pero no los puntos de las demás palabras, como por ejemplo *GUINLE.*"
   ]
  },
  {
   "cell_type": "code",
   "execution_count": 13,
   "metadata": {},
   "outputs": [
    {
     "name": "stdout",
     "output_type": "stream",
     "text": [
      "Cantidad de tokens: 37\n",
      "['caracas', '—', 'republica', 'bolivariana', 'de', 'venezuela', '—', 'el', '12', 'de', 'julio', 'de', '2000', ',', '—', 'registrado', 'bajo', 'el', 'nº', '25.939', '—', 'eduardo', 'o.', 'camaño.', '—', 'marcelo', 'a.', 'guinle.', '—', 'eduardo', 'd.', 'rollano.', '—', 'juan', 'j.', 'canals', '.']\n"
     ]
    }
   ],
   "source": [
    "tokens = ToktokTokenizer().tokenize(texto.lower())\n",
    "print('Cantidad de tokens:', len(tokens))\n",
    "print(tokens)"
   ]
  },
  {
   "cell_type": "markdown",
   "metadata": {},
   "source": [
    "Para eliminar los signos de puntuación habíamos utilizado la función nltk.tokenize.punkt.PunktToken(token).is_non_punct. De acuerdo a la documentación (https://www.nltk.org/_modules/nltk/tokenize/punkt.html) la propiedad is_non_punct devuelve true si el token es un número o caracter alfanumérico.\n",
    "La función utiliza la siguiente expresión regular: *[^\\W\\d]*\n",
    "\n",
    "Encontramos mejor resultando utilizando *string.punctuation* y agregando el símbolo **—**, para luego seguir aplicando otros filtros."
   ]
  },
  {
   "cell_type": "code",
   "execution_count": 14,
   "metadata": {},
   "outputs": [
    {
     "name": "stdout",
     "output_type": "stream",
     "text": [
      "!\"#$%&'()*+,-./:;<=>?@[\\]^_`{|}~ —\n"
     ]
    }
   ],
   "source": [
    "print(string.punctuation, '—')"
   ]
  },
  {
   "cell_type": "code",
   "execution_count": 15,
   "metadata": {},
   "outputs": [
    {
     "name": "stdout",
     "output_type": "stream",
     "text": [
      "Cantidad de tokens: 28\n",
      "['caracas', 'republica', 'bolivariana', 'de', 'venezuela', 'el', '12', 'de', 'julio', 'de', '2000', 'registrado', 'bajo', 'el', 'nº', '25.939', 'eduardo', 'o.', 'camaño.', 'marcelo', 'a.', 'guinle.', 'eduardo', 'd.', 'rollano.', 'juan', 'j.', 'canals']\n"
     ]
    }
   ],
   "source": [
    "signos_puntuacion = string.punctuation + '—'\n",
    "tokens = list(filter(lambda token: token not in signos_puntuacion, tokens))\n",
    "print('Cantidad de tokens:', len(tokens))\n",
    "print(tokens)"
   ]
  },
  {
   "cell_type": "markdown",
   "metadata": {},
   "source": [
    "Tenemos que eliminar los tokens que:\n",
    "* son signos y los que están incluidos en el token\n",
    "* son solo números"
   ]
  },
  {
   "cell_type": "code",
   "execution_count": 16,
   "metadata": {},
   "outputs": [
    {
     "name": "stdout",
     "output_type": "stream",
     "text": [
      "Cantidad de tokens: 28\n",
      "['caracas', 'republica', 'bolivariana', 'de', 'venezuela', 'el', '12', 'de', 'julio', 'de', '2000', 'registrado', 'bajo', 'el', 'nº', '25939', 'eduardo', 'o', 'camaño', 'marcelo', 'a', 'guinle', 'eduardo', 'd', 'rollano', 'juan', 'j', 'canals']\n"
     ]
    }
   ],
   "source": [
    "# eliminar la puntuación de cada palabra\n",
    "tokens = [re.sub('[%s]' % re.escape(signos_puntuacion), '', token) for token in tokens]\n",
    "print('Cantidad de tokens:', len(tokens))\n",
    "print(tokens)"
   ]
  },
  {
   "cell_type": "code",
   "execution_count": 17,
   "metadata": {},
   "outputs": [
    {
     "name": "stdout",
     "output_type": "stream",
     "text": [
      "Cantidad de tokens: 25\n",
      "['caracas', 'republica', 'bolivariana', 'de', 'venezuela', 'el', 'de', 'julio', 'de', 'registrado', 'bajo', 'el', 'nº', 'eduardo', 'o', 'camaño', 'marcelo', 'a', 'guinle', 'eduardo', 'd', 'rollano', 'juan', 'j', 'canals']\n"
     ]
    }
   ],
   "source": [
    "# eliminar los números\n",
    "tokens = list(filter(lambda token: token.isalpha(), tokens))\n",
    "print('Cantidad de tokens:', len(tokens))\n",
    "print(tokens)"
   ]
  },
  {
   "cell_type": "markdown",
   "metadata": {},
   "source": [
    "Eliminamos los stopwords, usando el de la librería NLTK"
   ]
  },
  {
   "cell_type": "code",
   "execution_count": 18,
   "metadata": {},
   "outputs": [
    {
     "name": "stderr",
     "output_type": "stream",
     "text": [
      "[nltk_data] Downloading package stopwords to\n",
      "[nltk_data]     C:\\Users\\jperezv\\AppData\\Roaming\\nltk_data...\n",
      "[nltk_data]   Package stopwords is already up-to-date!\n"
     ]
    },
    {
     "data": {
      "text/plain": [
       "True"
      ]
     },
     "execution_count": 18,
     "metadata": {},
     "output_type": "execute_result"
    }
   ],
   "source": [
    "nltk.download('stopwords')"
   ]
  },
  {
   "cell_type": "code",
   "execution_count": 19,
   "metadata": {},
   "outputs": [],
   "source": [
    "stop_words = nltk.corpus.stopwords.words('spanish')"
   ]
  },
  {
   "cell_type": "code",
   "execution_count": 20,
   "metadata": {
    "scrolled": true
   },
   "outputs": [
    {
     "name": "stdout",
     "output_type": "stream",
     "text": [
      "Cantidad de tokens: 18\n",
      "['caracas', 'republica', 'bolivariana', 'venezuela', 'julio', 'registrado', 'bajo', 'nº', 'eduardo', 'camaño', 'marcelo', 'guinle', 'eduardo', 'd', 'rollano', 'juan', 'j', 'canals']\n"
     ]
    }
   ],
   "source": [
    "tokens = list(filter(lambda token: token not in stop_words, tokens))\n",
    "print('Cantidad de tokens:', len(tokens))\n",
    "print(tokens)"
   ]
  },
  {
   "cell_type": "markdown",
   "metadata": {},
   "source": [
    "Lemmatizamos"
   ]
  },
  {
   "cell_type": "code",
   "execution_count": 21,
   "metadata": {},
   "outputs": [
    {
     "name": "stderr",
     "output_type": "stream",
     "text": [
      "[nltk_data] Downloading package wordnet to\n",
      "[nltk_data]     C:\\Users\\jperezv\\AppData\\Roaming\\nltk_data...\n",
      "[nltk_data]   Package wordnet is already up-to-date!\n"
     ]
    },
    {
     "data": {
      "text/plain": [
       "True"
      ]
     },
     "execution_count": 21,
     "metadata": {},
     "output_type": "execute_result"
    }
   ],
   "source": [
    "nltk.download('wordnet')"
   ]
  },
  {
   "cell_type": "code",
   "execution_count": 22,
   "metadata": {},
   "outputs": [
    {
     "name": "stdout",
     "output_type": "stream",
     "text": [
      "Cantidad de tokens: 18\n",
      "['caracas', 'republica', 'bolivariana', 'venezuela', 'julio', 'registrado', 'bajo', 'nº', 'eduardo', 'camaño', 'marcelo', 'guinle', 'eduardo', 'd', 'rollano', 'juan', 'j', 'canal']\n"
     ]
    }
   ],
   "source": [
    "lemmatizer = nltk.stem.WordNetLemmatizer()\n",
    "tokens = list(lemmatizer.lemmatize(token) for token in tokens)\n",
    "print('Cantidad de tokens:', len(tokens))\n",
    "print(tokens)"
   ]
  },
  {
   "cell_type": "markdown",
   "metadata": {},
   "source": [
    "Corregimos errores de ortografía: republica (sin acento)\n"
   ]
  },
  {
   "cell_type": "code",
   "execution_count": 23,
   "metadata": {
    "scrolled": false
   },
   "outputs": [
    {
     "name": "stdout",
     "output_type": "stream",
     "text": [
      "Cantidad de tokens: 18\n",
      "['caracas', 'república', 'bolivariana', 'venezuela', 'julio', 'registrado', 'bajo', 'nº', 'eduardo', 'camaño', 'marcelo', 'guinle', 'eduardo', 'd', 'rollano', 'juan', 'j', 'canal']\n"
     ]
    }
   ],
   "source": [
    "dic_Errores = {'republica':'república'}\n",
    "for i in range(len(tokens)):    \n",
    "    for key in dic_Errores:\n",
    "        if tokens[i] == key:\n",
    "            tokens[i] = dic_Errores[key]\n",
    "print('Cantidad de tokens:', len(tokens))\n",
    "print(tokens)"
   ]
  },
  {
   "cell_type": "markdown",
   "metadata": {},
   "source": [
    "Por último eliminamos los tokens que tienen menos de 3 caracteres ya que no representan palabras significativas"
   ]
  },
  {
   "cell_type": "code",
   "execution_count": 24,
   "metadata": {},
   "outputs": [
    {
     "name": "stdout",
     "output_type": "stream",
     "text": [
      "Cantidad de tokens: 15\n",
      "['caracas', 'república', 'bolivariana', 'venezuela', 'julio', 'registrado', 'bajo', 'eduardo', 'camaño', 'marcelo', 'guinle', 'eduardo', 'rollano', 'juan', 'canal']\n"
     ]
    }
   ],
   "source": [
    "# eliminar los tokens de un solo caracter\n",
    "tokens = list(filter(lambda token: len(token) > 3, tokens))\n",
    "print('Cantidad de tokens:', len(tokens))\n",
    "print(tokens)"
   ]
  },
  {
   "cell_type": "markdown",
   "metadata": {},
   "source": [
    "# Función de normalización\n",
    "\n",
    "Unificamos todo en una función"
   ]
  },
  {
   "cell_type": "code",
   "execution_count": 25,
   "metadata": {},
   "outputs": [],
   "source": [
    "def normalize_texto(texto):\n",
    "    # Tokenización\n",
    "    tokens = ToktokTokenizer().tokenize(texto)\n",
    "\n",
    "    # Paso a minúscula\n",
    "    tokens = [word.lower() for word in tokens]\n",
    "\n",
    "    # Eliminamos símbolos de puntuación\n",
    "    signos_puntuacion = string.punctuation + '—'\n",
    "    tokens = list(filter(lambda token: token not in signos_puntuacion, tokens))\n",
    "\n",
    "    # eliminar la puntuación de cada palabra\n",
    "    tokens = [re.sub('[%s]' % re.escape(signos_puntuacion), '', token) for token in tokens]\n",
    "    \n",
    "    # eliminar los números\n",
    "    tokens = list(filter(lambda token: token.isalpha(), tokens))\n",
    "\n",
    "    # Eliminamos stopwords\n",
    "    tokens = list(filter(lambda token: token not in stop_words, tokens)) \n",
    "\n",
    "    # Corregir palabras con errores de ortografía: republica (sin acento)\n",
    "    dic_Errores = {'republica':'república'}\n",
    "    for i in range(len(tokens)):    \n",
    "        for key in dic_Errores:\n",
    "            if tokens[i] == key:\n",
    "                tokens[i] = dic_Errores[key]\n",
    "\n",
    "    # Lemmatización\n",
    "    lemmatizer = nltk.stem.WordNetLemmatizer()\n",
    "    tokens = [lemmatizer.lemmatize(word) for word in tokens]\n",
    "\n",
    "    # eliminar los tokens de menos de 3 caracteres\n",
    "    tokens = list(filter(lambda token: len(token) > 3, tokens))\n",
    "\n",
    "    return ' '.join(tokens)\n"
   ]
  },
  {
   "cell_type": "markdown",
   "metadata": {},
   "source": [
    "Analizando el documento completo"
   ]
  },
  {
   "cell_type": "code",
   "execution_count": 26,
   "metadata": {},
   "outputs": [
    {
     "name": "stdout",
     "output_type": "stream",
     "text": [
      "Cantidad de tokens: 605\n",
      "['acuerdos', 'apruébase', 'acuerdo', 'cooperación', 'minera', 'suscripto', 'caracas', 'julio', 'república', 'bolivariana', 'venezuela', 'elaboración', 'programas', 'cooperación', 'científicotécnica', 'acción', 'solución', 'controversias', 'sancionada', 'septiembre', 'promulgada', 'hecho', 'octubre', 'senado', 'cámara', 'diputados', 'nación', 'argentina', 'reunidos', 'congreso', 'sancionan', 'fuerza', 'articulo', 'apruébase', 'acuerdo', 'cooperacion', 'minera', 'república', 'argentina', 'república', 'bolivariana', 'venezuela', 'suscripto', 'caracas', 'república', 'bolivariana', 'venezuela', 'julio', 'consta', 'trece', 'artículos', 'cuya', 'fotocopia', 'autenticada', 'forma', 'parte', 'presente', 'articulo', 'comuníquese', 'poder', 'ejecutivo', 'nacional', 'dada', 'sala', 'sesiones', 'congreso', 'argentino', 'buenos', 'aire', 'veintidos', 'septiembre', 'cuatro', 'registrado', 'bajo', 'eduardo', 'camaño', 'marcelo', 'guinle', 'eduardo', 'rollano', 'juan', 'canal', 'acuerdo', 'cooperacion', 'minera', 'república', 'argentina', 'república', 'bolivariana', 'venezuela', 'república', 'argentina', 'república', 'bolivariana', 'venezuela', 'denominados', 'adelante', 'partes', 'propósito', 'consolidar', 'vínculos', 'países', 'apoyar', 'intensificar', 'cooperación', 'económica', 'considerando', 'necesidad', 'fortalecer', 'proceso', 'integración', 'américa', 'latina', 'encaminado', 'promover', 'desarrollo', 'económico', 'social', 'armónico', 'equilibrado', 'región', 'presente', 'coincidencia', 'países', 'favor', 'profundización', 'mecanismos', 'colaboración', 'cooperación', 'materia', 'económica', 'firme', 'convicción', 'integración', 'regional', 'redundará', 'beneficios', 'desarrollo', 'pueblo', 'reconociendo', 'acuerdo', 'materia', 'minera', 'utilidad', 'interés', 'ambas', 'partes', 'permitiendo', 'ampliar', 'posibilidades', 'cooperación', 'intercambio', 'técnico', 'científicotecnológico', 'sector', 'marco', 'integración', 'regional', 'acuerdan', 'siguiente', 'articulo', 'primero', 'partes', 'convienen', 'alentar', 'concreción', 'programas', 'proyectos', 'específicos', 'cooperación', 'áreas', 'minerales', 'metalíferos', 'metalíferos', 'rocas', 'aplicación', 'concentrados', 'metalúrgicos', 'sector', 'investigación', 'básica', 'aplicada', 'orientada', 'promoción', 'innovación', 'desarrollo', 'nuevos', 'productos', 'puesta', 'marcha', 'producción', 'comercialización', 'efectos', 'aplicación', 'presente', 'acuerdo', 'entiende', 'programa', 'conjunto', 'proyectos', 'través', 'cuales', 'implementa', 'cooperación', 'integración', 'minera', 'objeto', 'presente', 'proyecto', 'conjunto', 'actividades', 'interrelacionadas', 'coordinadas', 'alcanzar', 'objetivos', 'específicos', 'articulo', 'segundo', 'partes', 'acuerdan', 'poner', 'marcha', 'programa', 'cooperación', 'científico', 'técnica', 'subsecretaría', 'minería', 'república', 'argentina', 'ministerio', 'energía', 'mina', 'república', 'bolivariana', 'venezuela', 'impulsar', 'desarrollo', 'proyectos', 'relacionados', 'actividad', 'minera', 'ambo', 'países', 'articulo', 'tercero', 'partes', 'comprometen', 'establecer', 'programa', 'acción', 'destinado', 'materializar', 'complementar', 'según', 'caso', 'establecido', 'artículos', 'precedentes', 'articulo', 'cuarto', 'programa', 'acción', 'mencionado', 'artículo', 'precedente', 'referirá', 'aspectos', 'vinculados', 'marco', 'legal', 'inversiones', 'sector', 'estudio', 'investigación', 'avances', 'legislativos', 'derecho', 'comparado', 'desarrollo', 'eficiente', 'capacidad', 'institucional', 'implementación', 'sistema', 'protección', 'ambientalminera', 'intercambio', 'información', 'legislación', 'norma', 'mineroambientales', 'salud', 'seguridad', 'mineras', 'intercambio', 'información', 'servicios', 'apoyo', 'especialmente', 'materia', 'infraestructura', 'conocimiento', 'geológico', 'investigación', 'tecnología', 'implementación', 'adecuado', 'sistema', 'información', 'articulo', 'quinto', 'actividades', 'previstas', 'programa', 'acción', 'incluirán', 'siguientes', 'formas', 'cooperación', 'asistencia', 'recíproca', 'formación', 'capacitación', 'personal', 'científicotécnico', 'intercambio', 'expertos', 'intercambio', 'profesionales', 'especialistas', 'cursos', 'seminarios', 'becas', 'estudio', 'consultas', 'recíprocas', 'cuestiones', 'legales', 'científicas', 'tecnológicas', 'formación', 'grupos', 'mixtos', 'trabajo', 'realización', 'estudios', 'proyectos', 'investigación', 'legal', 'científica', 'desarrollo', 'tecnológico', 'transferencia', 'tecnología', 'medio', 'ambiente', 'vinculado', 'actividad', 'minera', 'demás', 'formas', 'cooperación', 'acordadas', 'partes', 'articulo', 'sexto', 'complementar', 'colaboración', 'prevista', 'presente', 'acuerdo', 'organismos', 'competentes', 'designados', 'cada', 'partes', 'celebrarán', 'convenios', 'aplicación', 'establecerán', 'condiciones', 'modalidades', 'específicas', 'cooperación', 'incluyendo', 'realización', 'reuniones', 'técnicas', 'mixtas', 'estudio', 'evaluación', 'proyectos', 'asimismo', 'organismos', 'competentes', 'cada', 'partes', 'podrán', 'crear', 'comisiones', 'conjuntas', 'objeto', 'conducción', 'técnica', 'proyectos', 'programas', 'acordados', 'articulo', 'septimo', 'cada', 'partes', 'otorgará', 'toda', 'facilidades', 'necesarias', 'entrada', 'permanencia', 'salida', 'participantes', 'forma', 'oficial', 'intervengan', 'proyectos', 'cooperación', 'minera', 'objeto', 'presente', 'participantes', 'someterán', 'disposiciones', 'nacionales', 'vigentes', 'país', 'receptor', 'podrán', 'dedicarse', 'ninguna', 'actividad', 'ajena', 'funciones', 'articulo', 'octavo', 'resultados', 'cooperación', 'compartidos', 'ambas', 'partes', 'publicarán', 'forma', 'conjunta', 'acuerdo', 'mutuo', 'cualquier', 'patente', 'conseguida', 'cooperación', 'compartida', 'ambas', 'partes', 'partes', 'pretendiere', 'publicar', 'transferir', 'forma', 'independiente', 'resultados', 'cooperación', 'tercer', 'país', 'deberá', 'obtener', 'previamente', 'consentimiento', 'arte', 'articulo', 'noveno', 'partes', 'comprometen', 'cooperar', 'mutuamente', 'desarrollo', 'proyectos', 'conjuntos', 'realizaren', 'aplicación', 'presente', 'acuerdo', 'facilitando', 'posible', 'colaboración', 'instituciones', 'organismos', 'públicos', 'privados', 'respectivos', 'países', 'articulo', 'decimo', 'ejecución', 'proyectos', 'conjuntos', 'cada', 'caso', 'partes', 'acordarán', 'financiamiento', 'conforme', 'respectivas', 'disponibilidades', 'recursos', 'posibilidad', 'obtener', 'financiamiento', 'organismos', 'internacionales', 'articulo', 'decimoprimero', 'solucion', 'controversias', 'cualquier', 'modificación', 'texto', 'acuerdo', 'diferencia', 'derivada', 'interpretación', 'aplicación', 'resuelta', 'partes', 'común', 'acuerdo', 'articulo', 'decimosegundo', 'presente', 'acuerdo', 'entrará', 'vigor', 'fecha', 'última', 'notificación', 'partes', 'comuniquen', 'cumplimiento', 'requisitos', 'formales', 'internos', 'articulo', 'decimotercero', 'presente', 'acuerdo', 'duración', 'indefinida', 'parte', 'deseare', 'desligarse', 'deberá', 'comunicar', 'denuncia', 'diplomática', 'parte', 'sesenta', 'días', 'anticipación', 'perjuicio', 'cumplimiento', 'compromisos', 'asumidos', 'vigencia', 'mismo', 'hecho', 'caracas', 'venezuela', 'días', 'julio', 'ejemplares', 'originales', 'idioma', 'castellano', 'siendo', 'ambo', 'textos', 'igualmente', 'auténticos', 'república', 'argentina', 'república', 'bolivariana', 'venezuela', 'adalberto', 'rodríguez', 'giavarini', 'ministro', 'relaciones', 'exteriores', 'comercio', 'internacional', 'culto', 'josé', 'vicente', 'rangel', 'vale', 'ministro', 'relaciones', 'exteriores']\n"
     ]
    }
   ],
   "source": [
    "texto = normalize_texto(df_corpus[0:1].TEXTO[0])\n",
    "tokens = texto.split()\n",
    "print('Cantidad de tokens:', len(tokens))\n",
    "print(tokens)"
   ]
  },
  {
   "cell_type": "markdown",
   "metadata": {},
   "source": [
    "Vemos las palabras más frecuentesen el documento"
   ]
  },
  {
   "cell_type": "code",
   "execution_count": 27,
   "metadata": {},
   "outputs": [],
   "source": [
    "dic_tokens = collections.Counter(tokens)\n",
    "df_tokens = pandas.DataFrame(dic_tokens.items(), columns=['Token', 'Frecuencia']).sort_values(by=\"Frecuencia\", ascending=False)"
   ]
  },
  {
   "cell_type": "code",
   "execution_count": 28,
   "metadata": {},
   "outputs": [
    {
     "data": {
      "image/png": "[encoded data removed]",
      "text/plain": [
       "<Figure size 1440x720 with 1 Axes>"
      ]
     },
     "metadata": {
      "needs_background": "light"
     },
     "output_type": "display_data"
    }
   ],
   "source": [
    "plt.figure(figsize=(20,10))\n",
    "seaborn.barplot(y=df_tokens[:50].Token, x=df_tokens[:50].Frecuencia, color='steelblue')\n",
    "plt.title('Frecuencia de ocurrrencia de\\n algunas palabras del corpus')\n",
    "plt.xticks(rotation=90)\n",
    "seaborn.despine()"
   ]
  },
  {
   "cell_type": "markdown",
   "metadata": {},
   "source": [
    "Graficamos lo mismo en una nube de palabras"
   ]
  },
  {
   "cell_type": "code",
   "execution_count": 29,
   "metadata": {},
   "outputs": [],
   "source": [
    "wc = WordCloud(background_color=\"white\", colormap=\"Dark2\", max_font_size=150, random_state=42)"
   ]
  },
  {
   "cell_type": "code",
   "execution_count": 30,
   "metadata": {},
   "outputs": [
    {
     "data": {
      "image/png": "[encoded data removed]",
      "text/plain": [
       "<Figure size 432x288 with 1 Axes>"
      ]
     },
     "metadata": {
      "needs_background": "light"
     },
     "output_type": "display_data"
    }
   ],
   "source": [
    "wc.generate(texto)\n",
    "plt.imshow(wc, interpolation=\"bilinear\")\n",
    "plt.axis(\"off\")\n",
    "plt.show()"
   ]
  },
  {
   "cell_type": "markdown",
   "metadata": {},
   "source": [
    "Las palabra que más se repiten, *parte* y *articulo*, no me dicen nada del documento. Pero hay otras con menor frecuencia, *acuerdo, cooperación, minera* que sí le dan sentido al documento, es un **acuerdo de cooperación minera**.\n",
    "\n",
    "Ampliaremos el listado de stop words calculando la Frecuencia Inversa del Documento (IDF)."
   ]
  },
  {
   "cell_type": "markdown",
   "metadata": {},
   "source": [
    "# Palabras relevantes\n",
    "\n",
    "Calcularemos TF-IDF (Term Frecuency-Inverse Document Frecuency) para obtener las palabras más relevante de cada documento."
   ]
  },
  {
   "cell_type": "markdown",
   "metadata": {},
   "source": [
    "Agregamos una columna al DataFrame con el texto normalizado"
   ]
  },
  {
   "cell_type": "code",
   "execution_count": 31,
   "metadata": {},
   "outputs": [
    {
     "data": {
      "text/html": [
       "<div>\n",
       "<style scoped>\n",
       "    .dataframe tbody tr th:only-of-type {\n",
       "        vertical-align: middle;\n",
       "    }\n",
       "\n",
       "    .dataframe tbody tr th {\n",
       "        vertical-align: top;\n",
       "    }\n",
       "\n",
       "    .dataframe thead th {\n",
       "        text-align: right;\n",
       "    }\n",
       "</style>\n",
       "<table border=\"1\" class=\"dataframe\">\n",
       "  <thead>\n",
       "    <tr style=\"text-align: right;\">\n",
       "      <th></th>\n",
       "      <th>ID</th>\n",
       "      <th>FILE</th>\n",
       "      <th>TEXTO</th>\n",
       "      <th>TEXTO_NORM</th>\n",
       "    </tr>\n",
       "  </thead>\n",
       "  <tbody>\n",
       "    <tr>\n",
       "      <th>0</th>\n",
       "      <td>0</td>\n",
       "      <td>../Datos/Infoleg/100016.txt</td>\n",
       "      <td>ACUERDOS\\nLey 25.939\\nApruébase el Acuerdo Sob...</td>\n",
       "      <td>acuerdos apruébase acuerdo cooperación minera ...</td>\n",
       "    </tr>\n",
       "    <tr>\n",
       "      <th>1</th>\n",
       "      <td>1</td>\n",
       "      <td>../Datos/Infoleg/100025.txt</td>\n",
       "      <td>MINISTERIO DE ECONOMIA Y PRODUCCION\\nDecisión ...</td>\n",
       "      <td>ministerio economia produccion decisión admini...</td>\n",
       "    </tr>\n",
       "    <tr>\n",
       "      <th>2</th>\n",
       "      <td>2</td>\n",
       "      <td>../Datos/Infoleg/100026.txt</td>\n",
       "      <td>Secretaría de Hacienda\\nPRESUPUESTO\\nResolució...</td>\n",
       "      <td>secretaría hacienda presupuesto resolución mod...</td>\n",
       "    </tr>\n",
       "    <tr>\n",
       "      <th>3</th>\n",
       "      <td>3</td>\n",
       "      <td>../Datos/Infoleg/100027.txt</td>\n",
       "      <td>Ministerio de Economía y Producción\\nREGIMEN S...</td>\n",
       "      <td>ministerio economía producción regimen simplif...</td>\n",
       "    </tr>\n",
       "    <tr>\n",
       "      <th>4</th>\n",
       "      <td>4</td>\n",
       "      <td>../Datos/Infoleg/100028.txt</td>\n",
       "      <td>Secretaría de Empleo\\nPROGRAMA JEFES DE HOGAR\\...</td>\n",
       "      <td>secretaría empleo programa jefes hogar resoluc...</td>\n",
       "    </tr>\n",
       "  </tbody>\n",
       "</table>\n",
       "</div>"
      ],
      "text/plain": [
       "   ID                         FILE  \\\n",
       "0   0  ../Datos/Infoleg/100016.txt   \n",
       "1   1  ../Datos/Infoleg/100025.txt   \n",
       "2   2  ../Datos/Infoleg/100026.txt   \n",
       "3   3  ../Datos/Infoleg/100027.txt   \n",
       "4   4  ../Datos/Infoleg/100028.txt   \n",
       "\n",
       "                                               TEXTO  \\\n",
       "0  ACUERDOS\\nLey 25.939\\nApruébase el Acuerdo Sob...   \n",
       "1  MINISTERIO DE ECONOMIA Y PRODUCCION\\nDecisión ...   \n",
       "2  Secretaría de Hacienda\\nPRESUPUESTO\\nResolució...   \n",
       "3  Ministerio de Economía y Producción\\nREGIMEN S...   \n",
       "4  Secretaría de Empleo\\nPROGRAMA JEFES DE HOGAR\\...   \n",
       "\n",
       "                                          TEXTO_NORM  \n",
       "0  acuerdos apruébase acuerdo cooperación minera ...  \n",
       "1  ministerio economia produccion decisión admini...  \n",
       "2  secretaría hacienda presupuesto resolución mod...  \n",
       "3  ministerio economía producción regimen simplif...  \n",
       "4  secretaría empleo programa jefes hogar resoluc...  "
      ]
     },
     "execution_count": 31,
     "metadata": {},
     "output_type": "execute_result"
    }
   ],
   "source": [
    "df_corpus[\"TEXTO_NORM\"] = df_corpus[\"TEXTO\"].apply(lambda x: normalize_texto(x))\n",
    "df_corpus.head()"
   ]
  },
  {
   "cell_type": "markdown",
   "metadata": {},
   "source": [
    "Agregamos una columna con la cantidad de palabras en cada texto normalizado"
   ]
  },
  {
   "cell_type": "code",
   "execution_count": 32,
   "metadata": {
    "scrolled": true
   },
   "outputs": [
    {
     "data": {
      "text/html": [
       "<div>\n",
       "<style scoped>\n",
       "    .dataframe tbody tr th:only-of-type {\n",
       "        vertical-align: middle;\n",
       "    }\n",
       "\n",
       "    .dataframe tbody tr th {\n",
       "        vertical-align: top;\n",
       "    }\n",
       "\n",
       "    .dataframe thead th {\n",
       "        text-align: right;\n",
       "    }\n",
       "</style>\n",
       "<table border=\"1\" class=\"dataframe\">\n",
       "  <thead>\n",
       "    <tr style=\"text-align: right;\">\n",
       "      <th></th>\n",
       "      <th>ID</th>\n",
       "      <th>FILE</th>\n",
       "      <th>TEXTO</th>\n",
       "      <th>TEXTO_NORM</th>\n",
       "      <th>CANT_PALABRAS</th>\n",
       "    </tr>\n",
       "  </thead>\n",
       "  <tbody>\n",
       "    <tr>\n",
       "      <th>0</th>\n",
       "      <td>0</td>\n",
       "      <td>../Datos/Infoleg/100016.txt</td>\n",
       "      <td>ACUERDOS\\nLey 25.939\\nApruébase el Acuerdo Sob...</td>\n",
       "      <td>acuerdos apruébase acuerdo cooperación minera ...</td>\n",
       "      <td>5808</td>\n",
       "    </tr>\n",
       "    <tr>\n",
       "      <th>1</th>\n",
       "      <td>1</td>\n",
       "      <td>../Datos/Infoleg/100025.txt</td>\n",
       "      <td>MINISTERIO DE ECONOMIA Y PRODUCCION\\nDecisión ...</td>\n",
       "      <td>ministerio economia produccion decisión admini...</td>\n",
       "      <td>570</td>\n",
       "    </tr>\n",
       "    <tr>\n",
       "      <th>2</th>\n",
       "      <td>2</td>\n",
       "      <td>../Datos/Infoleg/100026.txt</td>\n",
       "      <td>Secretaría de Hacienda\\nPRESUPUESTO\\nResolució...</td>\n",
       "      <td>secretaría hacienda presupuesto resolución mod...</td>\n",
       "      <td>1769</td>\n",
       "    </tr>\n",
       "    <tr>\n",
       "      <th>3</th>\n",
       "      <td>3</td>\n",
       "      <td>../Datos/Infoleg/100027.txt</td>\n",
       "      <td>Ministerio de Economía y Producción\\nREGIMEN S...</td>\n",
       "      <td>ministerio economía producción regimen simplif...</td>\n",
       "      <td>1335</td>\n",
       "    </tr>\n",
       "    <tr>\n",
       "      <th>4</th>\n",
       "      <td>4</td>\n",
       "      <td>../Datos/Infoleg/100028.txt</td>\n",
       "      <td>Secretaría de Empleo\\nPROGRAMA JEFES DE HOGAR\\...</td>\n",
       "      <td>secretaría empleo programa jefes hogar resoluc...</td>\n",
       "      <td>6141</td>\n",
       "    </tr>\n",
       "  </tbody>\n",
       "</table>\n",
       "</div>"
      ],
      "text/plain": [
       "   ID                         FILE  \\\n",
       "0   0  ../Datos/Infoleg/100016.txt   \n",
       "1   1  ../Datos/Infoleg/100025.txt   \n",
       "2   2  ../Datos/Infoleg/100026.txt   \n",
       "3   3  ../Datos/Infoleg/100027.txt   \n",
       "4   4  ../Datos/Infoleg/100028.txt   \n",
       "\n",
       "                                               TEXTO  \\\n",
       "0  ACUERDOS\\nLey 25.939\\nApruébase el Acuerdo Sob...   \n",
       "1  MINISTERIO DE ECONOMIA Y PRODUCCION\\nDecisión ...   \n",
       "2  Secretaría de Hacienda\\nPRESUPUESTO\\nResolució...   \n",
       "3  Ministerio de Economía y Producción\\nREGIMEN S...   \n",
       "4  Secretaría de Empleo\\nPROGRAMA JEFES DE HOGAR\\...   \n",
       "\n",
       "                                          TEXTO_NORM  CANT_PALABRAS  \n",
       "0  acuerdos apruébase acuerdo cooperación minera ...           5808  \n",
       "1  ministerio economia produccion decisión admini...            570  \n",
       "2  secretaría hacienda presupuesto resolución mod...           1769  \n",
       "3  ministerio economía producción regimen simplif...           1335  \n",
       "4  secretaría empleo programa jefes hogar resoluc...           6141  "
      ]
     },
     "execution_count": 32,
     "metadata": {},
     "output_type": "execute_result"
    }
   ],
   "source": [
    "df_corpus[\"CANT_PALABRAS\"] = df_corpus[\"TEXTO_NORM\"].apply(lambda x: len(x))\n",
    "df_corpus.head()"
   ]
  },
  {
   "cell_type": "code",
   "execution_count": 33,
   "metadata": {},
   "outputs": [
    {
     "name": "stdout",
     "output_type": "stream",
     "text": [
      "Los documentos tienen una media de 6216 palabras.\n"
     ]
    },
    {
     "data": {
      "text/plain": [
       "count      2500.000000\n",
       "mean       6216.518400\n",
       "std       13250.248284\n",
       "min          92.000000\n",
       "25%        1209.250000\n",
       "50%        2963.500000\n",
       "75%        5459.000000\n",
       "max      201717.000000\n",
       "Name: CANT_PALABRAS, dtype: float64"
      ]
     },
     "execution_count": 33,
     "metadata": {},
     "output_type": "execute_result"
    }
   ],
   "source": [
    "print(f'Los documentos tienen una media de {int(df_corpus[\"CANT_PALABRAS\"].mean())} palabras.' )\n",
    "df_corpus['CANT_PALABRAS'].describe()"
   ]
  },
  {
   "cell_type": "markdown",
   "metadata": {},
   "source": [
    "Creamos un vocabulario a partir del texto normalizado"
   ]
  },
  {
   "cell_type": "code",
   "execution_count": 34,
   "metadata": {},
   "outputs": [],
   "source": [
    "cv_vectorizer = CountVectorizer()\n",
    "word_count_vector = cv_vectorizer.fit_transform(df_corpus['TEXTO_NORM'])"
   ]
  },
  {
   "cell_type": "code",
   "execution_count": 35,
   "metadata": {},
   "outputs": [
    {
     "data": {
      "text/plain": [
       "(2500, 42746)"
      ]
     },
     "execution_count": 35,
     "metadata": {},
     "output_type": "execute_result"
    }
   ],
   "source": [
    "word_count_vector.shape"
   ]
  },
  {
   "cell_type": "markdown",
   "metadata": {},
   "source": [
    "Mostramos 10 palabras de nuestro diccionario"
   ]
  },
  {
   "cell_type": "code",
   "execution_count": 36,
   "metadata": {},
   "outputs": [
    {
     "data": {
      "text/plain": [
       "['acuerdos',\n",
       " 'apruébase',\n",
       " 'acuerdo',\n",
       " 'cooperación',\n",
       " 'minera',\n",
       " 'suscripto',\n",
       " 'caracas',\n",
       " 'julio',\n",
       " 'república',\n",
       " 'bolivariana']"
      ]
     },
     "execution_count": 36,
     "metadata": {},
     "output_type": "execute_result"
    }
   ],
   "source": [
    "list(cv_vectorizer.vocabulary_.keys())[:10]"
   ]
  },
  {
   "cell_type": "markdown",
   "metadata": {},
   "source": [
    "Calculamos la Frecuencia Inversa del Documento (IDF) a partir del la matriz de generada anteriormente."
   ]
  },
  {
   "cell_type": "code",
   "execution_count": 37,
   "metadata": {},
   "outputs": [
    {
     "data": {
      "text/plain": [
       "TfidfTransformer()"
      ]
     },
     "execution_count": 37,
     "metadata": {},
     "output_type": "execute_result"
    }
   ],
   "source": [
    "tfidf_transformer = TfidfTransformer()\n",
    "tfidf_transformer.fit(word_count_vector)"
   ]
  },
  {
   "cell_type": "markdown",
   "metadata": {},
   "source": [
    "Mostramos los valores IDF de nuestro diccionario."
   ]
  },
  {
   "cell_type": "code",
   "execution_count": 38,
   "metadata": {},
   "outputs": [
    {
     "data": {
      "text/html": [
       "<div>\n",
       "<style scoped>\n",
       "    .dataframe tbody tr th:only-of-type {\n",
       "        vertical-align: middle;\n",
       "    }\n",
       "\n",
       "    .dataframe tbody tr th {\n",
       "        vertical-align: top;\n",
       "    }\n",
       "\n",
       "    .dataframe thead th {\n",
       "        text-align: right;\n",
       "    }\n",
       "</style>\n",
       "<table border=\"1\" class=\"dataframe\">\n",
       "  <thead>\n",
       "    <tr style=\"text-align: right;\">\n",
       "      <th></th>\n",
       "      <th>idf_weights</th>\n",
       "    </tr>\n",
       "  </thead>\n",
       "  <tbody>\n",
       "    <tr>\n",
       "      <th>nacional</th>\n",
       "      <td>1.176183</td>\n",
       "    </tr>\n",
       "    <tr>\n",
       "      <th>artículo</th>\n",
       "      <td>1.227050</td>\n",
       "    </tr>\n",
       "    <tr>\n",
       "      <th>oficial</th>\n",
       "      <td>1.243746</td>\n",
       "    </tr>\n",
       "    <tr>\n",
       "      <th>registro</th>\n",
       "      <td>1.263845</td>\n",
       "    </tr>\n",
       "    <tr>\n",
       "      <th>archívese</th>\n",
       "      <td>1.284887</td>\n",
       "    </tr>\n",
       "    <tr>\n",
       "      <th>...</th>\n",
       "      <td>...</td>\n",
       "    </tr>\n",
       "    <tr>\n",
       "      <th>hafiz</th>\n",
       "      <td>8.131299</td>\n",
       "    </tr>\n",
       "    <tr>\n",
       "      <th>haedo</th>\n",
       "      <td>8.131299</td>\n",
       "    </tr>\n",
       "    <tr>\n",
       "      <th>hadzijahica</th>\n",
       "      <td>8.131299</td>\n",
       "    </tr>\n",
       "    <tr>\n",
       "      <th>hallara</th>\n",
       "      <td>8.131299</td>\n",
       "    </tr>\n",
       "    <tr>\n",
       "      <th>útilmente</th>\n",
       "      <td>8.131299</td>\n",
       "    </tr>\n",
       "  </tbody>\n",
       "</table>\n",
       "<p>42746 rows × 1 columns</p>\n",
       "</div>"
      ],
      "text/plain": [
       "             idf_weights\n",
       "nacional        1.176183\n",
       "artículo        1.227050\n",
       "oficial         1.243746\n",
       "registro        1.263845\n",
       "archívese       1.284887\n",
       "...                  ...\n",
       "hafiz           8.131299\n",
       "haedo           8.131299\n",
       "hadzijahica     8.131299\n",
       "hallara         8.131299\n",
       "útilmente       8.131299\n",
       "\n",
       "[42746 rows x 1 columns]"
      ]
     },
     "execution_count": 38,
     "metadata": {},
     "output_type": "execute_result"
    }
   ],
   "source": [
    "# print idf values \n",
    "df_idf = pandas.DataFrame(tfidf_transformer.idf_, index=cv_vectorizer.get_feature_names(),columns=[\"idf_weights\"]) \n",
    " \n",
    "# sort ascending \n",
    "df_idf.sort_values(by=['idf_weights'])"
   ]
  },
  {
   "cell_type": "markdown",
   "metadata": {},
   "source": [
    "Observamos que las palabras \"nacional\", \"artículo\", \"oficial\", \"registro\", \"archívese\", tienen los valores de IDF más bajos. Esto lógico, ya que estas palabras aparecen en todos y cada uno de los documentos de nuestra colección. Cuanto menor sea el valor IDF de una palabra, menos exclusiva será para un documento en particular.\n",
    "\n",
    "Mas adelante utilizaremos esta matriz para ampliar el listado de stop words.\n",
    "\n",
    "Ahora calculamos el TF-IDF de cada una de las palabras de nuestro diccionario. "
   ]
  },
  {
   "cell_type": "code",
   "execution_count": 39,
   "metadata": {},
   "outputs": [],
   "source": [
    "tf_idf_vector = tfidf_transformer.transform(word_count_vector)"
   ]
  },
  {
   "cell_type": "markdown",
   "metadata": {},
   "source": [
    "Mostramos los valores TF-IDF del primer documento."
   ]
  },
  {
   "cell_type": "code",
   "execution_count": 40,
   "metadata": {
    "scrolled": true
   },
   "outputs": [
    {
     "data": {
      "text/html": [
       "<div>\n",
       "<style scoped>\n",
       "    .dataframe tbody tr th:only-of-type {\n",
       "        vertical-align: middle;\n",
       "    }\n",
       "\n",
       "    .dataframe tbody tr th {\n",
       "        vertical-align: top;\n",
       "    }\n",
       "\n",
       "    .dataframe thead th {\n",
       "        text-align: right;\n",
       "    }\n",
       "</style>\n",
       "<table border=\"1\" class=\"dataframe\">\n",
       "  <thead>\n",
       "    <tr style=\"text-align: right;\">\n",
       "      <th></th>\n",
       "      <th>tfidf</th>\n",
       "    </tr>\n",
       "  </thead>\n",
       "  <tbody>\n",
       "    <tr>\n",
       "      <th>cooperación</th>\n",
       "      <td>0.368470</td>\n",
       "    </tr>\n",
       "    <tr>\n",
       "      <th>venezuela</th>\n",
       "      <td>0.304201</td>\n",
       "    </tr>\n",
       "    <tr>\n",
       "      <th>minera</th>\n",
       "      <td>0.280890</td>\n",
       "    </tr>\n",
       "    <tr>\n",
       "      <th>bolivariana</th>\n",
       "      <td>0.279366</td>\n",
       "    </tr>\n",
       "    <tr>\n",
       "      <th>partes</th>\n",
       "      <td>0.221655</td>\n",
       "    </tr>\n",
       "    <tr>\n",
       "      <th>proyectos</th>\n",
       "      <td>0.197696</td>\n",
       "    </tr>\n",
       "    <tr>\n",
       "      <th>articulo</th>\n",
       "      <td>0.180855</td>\n",
       "    </tr>\n",
       "    <tr>\n",
       "      <th>república</th>\n",
       "      <td>0.151580</td>\n",
       "    </tr>\n",
       "    <tr>\n",
       "      <th>caracas</th>\n",
       "      <td>0.132032</td>\n",
       "    </tr>\n",
       "    <tr>\n",
       "      <th>intercambio</th>\n",
       "      <td>0.131059</td>\n",
       "    </tr>\n",
       "  </tbody>\n",
       "</table>\n",
       "</div>"
      ],
      "text/plain": [
       "                tfidf\n",
       "cooperación  0.368470\n",
       "venezuela    0.304201\n",
       "minera       0.280890\n",
       "bolivariana  0.279366\n",
       "partes       0.221655\n",
       "proyectos    0.197696\n",
       "articulo     0.180855\n",
       "república    0.151580\n",
       "caracas      0.132032\n",
       "intercambio  0.131059"
      ]
     },
     "execution_count": 40,
     "metadata": {},
     "output_type": "execute_result"
    }
   ],
   "source": [
    "feature_names = cv_vectorizer.get_feature_names() \n",
    " \n",
    "#get tfidf vector for first document \n",
    "first_document_vector=tf_idf_vector[0] \n",
    " \n",
    "#print the scores \n",
    "df = pandas.DataFrame(first_document_vector.T.todense(), index=feature_names, columns=[\"tfidf\"]) \n",
    "df.sort_values(by=[\"tfidf\"],ascending=False).head(10)"
   ]
  },
  {
   "cell_type": "markdown",
   "metadata": {},
   "source": [
    "Observamos que las palabras *cooperación*, *venezuela* y *minera* son las más relevantes, lo cual es lo que esperábamos, ya que el documento trata de un *acuerdo de cooperación minera con Venezuela*."
   ]
  },
  {
   "cell_type": "markdown",
   "metadata": {},
   "source": [
    "Generamos una función que nos retorne las 10 palabras mas relevantes de un documento, para luego agregar agregar una columna al data frame."
   ]
  },
  {
   "cell_type": "code",
   "execution_count": 41,
   "metadata": {},
   "outputs": [],
   "source": [
    "def sort_coo(coo_matrix):\n",
    "    tuples = zip(coo_matrix.col, coo_matrix.data)\n",
    "    return sorted(tuples, key=lambda x: (x[1], x[0]), reverse=True)"
   ]
  },
  {
   "cell_type": "code",
   "execution_count": 42,
   "metadata": {},
   "outputs": [],
   "source": [
    "def extract_topn_from_vector(feature_names, sorted_items, topn=10):\n",
    "    \"\"\"get the feature names and tf-idf score of top n items\"\"\"\n",
    "    \n",
    "    #use only topn items from vector\n",
    "    sorted_items = sorted_items[:topn]\n",
    "\n",
    "    score_vals = []\n",
    "    feature_vals = []\n",
    "    \n",
    "    # word index and corresponding tf-idf score\n",
    "    for idx, score in sorted_items:\n",
    "        \n",
    "        #keep track of feature name and its corresponding score\n",
    "        score_vals.append(round(score, 6))\n",
    "        feature_vals.append(feature_names[idx])\n",
    "\n",
    "    #create a tuples of feature,score\n",
    "    #results = zip(feature_vals,score_vals)\n",
    "    results= {}\n",
    "    for idx in range(len(feature_vals)):\n",
    "        results[feature_vals[idx]]=score_vals[idx]\n",
    "    \n",
    "    return results"
   ]
  },
  {
   "cell_type": "code",
   "execution_count": 43,
   "metadata": {},
   "outputs": [],
   "source": [
    "def get_top10(texto_id):\n",
    "    document_vector = tf_idf_vector[texto_id]\n",
    "    \n",
    "    #sort the tf-idf vectors by descending order of scores\n",
    "    sorted_items=sort_coo(document_vector.tocoo())\n",
    "\n",
    "    #extract only the top n; n here is 10\n",
    "    keywords=extract_topn_from_vector(feature_names,sorted_items,10)\n",
    "    \n",
    "    return keywords"
   ]
  },
  {
   "cell_type": "markdown",
   "metadata": {},
   "source": [
    "Probamos la función con el primer documento."
   ]
  },
  {
   "cell_type": "code",
   "execution_count": 44,
   "metadata": {},
   "outputs": [
    {
     "name": "stdout",
     "output_type": "stream",
     "text": [
      "dict_keys(['cooperación', 'venezuela', 'minera', 'bolivariana', 'partes', 'proyectos', 'articulo', 'república', 'caracas', 'intercambio'])\n"
     ]
    }
   ],
   "source": [
    "print(get_top10(0).keys())"
   ]
  },
  {
   "cell_type": "markdown",
   "metadata": {},
   "source": [
    "# Listado de stop words\n",
    "\n",
    "La frecuencia inversa de documentos (IDF) es un peso que indica la frecuencia con la que se usa una palabra. Cuanto más frecuente sea su uso en documentos, menor será su puntuación. Cuanto menor sea la puntuación, menos importante se vuelve la palabra.\n",
    "\n",
    "Ampliaremos el listado de stop words con palabras que tengan peso menor a 5."
   ]
  },
  {
   "cell_type": "code",
   "execution_count": 45,
   "metadata": {},
   "outputs": [
    {
     "data": {
      "text/plain": [
       "Index(['nacional', 'artículo', 'oficial', 'registro', 'archívese', 'visto',\n",
       "       'comuníquese', 'presente', 'dése', 'publíquese',\n",
       "       ...\n",
       "       'instrúyese', 'inscripciones', 'conteniendo', 'alojamiento',\n",
       "       'rendimiento', 'depositar', 'publicaciones', 'geográfica', 'informando',\n",
       "       'bruto'],\n",
       "      dtype='object', length=3074)"
      ]
     },
     "execution_count": 45,
     "metadata": {},
     "output_type": "execute_result"
    }
   ],
   "source": [
    "df_idf_sort = df_idf.sort_values(by=['idf_weights'])\n",
    "df_idf_sort.index[df_idf_sort.idf_weights < 5]"
   ]
  },
  {
   "cell_type": "code",
   "execution_count": 46,
   "metadata": {},
   "outputs": [
    {
     "name": "stdout",
     "output_type": "stream",
     "text": [
      "3387\n"
     ]
    }
   ],
   "source": [
    "# Agregamos stopwords\n",
    "stop_words = nltk.corpus.stopwords.words('spanish')\n",
    "for word in df_idf_sort.index[df_idf_sort.idf_weights < 5]:\n",
    "    stop_words.append(word)\n",
    "print(len(stop_words))"
   ]
  },
  {
   "cell_type": "markdown",
   "metadata": {},
   "source": [
    "Volvemos a normalizar el texto del primer documento."
   ]
  },
  {
   "cell_type": "code",
   "execution_count": 47,
   "metadata": {},
   "outputs": [
    {
     "name": "stdout",
     "output_type": "stream",
     "text": [
      "Cantidad de tokens: 144\n"
     ]
    }
   ],
   "source": [
    "texto = normalize_texto(df_corpus[0:1].TEXTO[0])\n",
    "print('Cantidad de tokens:', len(texto.split()))"
   ]
  },
  {
   "cell_type": "code",
   "execution_count": 48,
   "metadata": {},
   "outputs": [
    {
     "data": {
      "image/png": "[encoded data removed]",
      "text/plain": [
       "<Figure size 432x288 with 1 Axes>"
      ]
     },
     "metadata": {
      "needs_background": "light"
     },
     "output_type": "display_data"
    }
   ],
   "source": [
    "wc.generate(texto)\n",
    "plt.imshow(wc, interpolation=\"bilinear\")\n",
    "plt.axis(\"off\")\n",
    "plt.show()"
   ]
  },
  {
   "cell_type": "markdown",
   "metadata": {},
   "source": [
    "Ahora si vemos palabras más relevantes."
   ]
  },
  {
   "cell_type": "markdown",
   "metadata": {},
   "source": [
    "# Unificamos\n",
    "\n",
    "Normalizamos de nuevo todos los documentos, para que aplique el nuevo listado de stop words."
   ]
  },
  {
   "cell_type": "code",
   "execution_count": 49,
   "metadata": {},
   "outputs": [],
   "source": [
    "df_corpus[\"TEXTO_NORM\"] = df_corpus[\"TEXTO\"].apply(lambda x: normalize_texto(x))"
   ]
  },
  {
   "cell_type": "code",
   "execution_count": 50,
   "metadata": {},
   "outputs": [
    {
     "data": {
      "text/html": [
       "<div>\n",
       "<style scoped>\n",
       "    .dataframe tbody tr th:only-of-type {\n",
       "        vertical-align: middle;\n",
       "    }\n",
       "\n",
       "    .dataframe tbody tr th {\n",
       "        vertical-align: top;\n",
       "    }\n",
       "\n",
       "    .dataframe thead th {\n",
       "        text-align: right;\n",
       "    }\n",
       "</style>\n",
       "<table border=\"1\" class=\"dataframe\">\n",
       "  <thead>\n",
       "    <tr style=\"text-align: right;\">\n",
       "      <th></th>\n",
       "      <th>ID</th>\n",
       "      <th>FILE</th>\n",
       "      <th>TEXTO</th>\n",
       "      <th>TEXTO_NORM</th>\n",
       "      <th>CANT_PALABRAS</th>\n",
       "    </tr>\n",
       "  </thead>\n",
       "  <tbody>\n",
       "    <tr>\n",
       "      <th>0</th>\n",
       "      <td>0</td>\n",
       "      <td>../Datos/Infoleg/100016.txt</td>\n",
       "      <td>ACUERDOS\\nLey 25.939\\nApruébase el Acuerdo Sob...</td>\n",
       "      <td>minera caracas bolivariana venezuela científic...</td>\n",
       "      <td>1471</td>\n",
       "    </tr>\n",
       "    <tr>\n",
       "      <th>1</th>\n",
       "      <td>1</td>\n",
       "      <td>../Datos/Infoleg/100025.txt</td>\n",
       "      <td>MINISTERIO DE ECONOMIA Y PRODUCCION\\nDecisión ...</td>\n",
       "      <td>suprema generan expropiación lavalle aire aire</td>\n",
       "      <td>46</td>\n",
       "    </tr>\n",
       "    <tr>\n",
       "      <th>2</th>\n",
       "      <td>2</td>\n",
       "      <td>../Datos/Infoleg/100026.txt</td>\n",
       "      <td>Secretaría de Hacienda\\nPRESUPUESTO\\nResolució...</td>\n",
       "      <td>tesorería remanentes remanentes tesoreria rema...</td>\n",
       "      <td>146</td>\n",
       "    </tr>\n",
       "    <tr>\n",
       "      <th>3</th>\n",
       "      <td>3</td>\n",
       "      <td>../Datos/Infoleg/100027.txt</td>\n",
       "      <td>Ministerio de Economía y Producción\\nREGIMEN S...</td>\n",
       "      <td>simplificado pequeños reintegros restitución r...</td>\n",
       "      <td>239</td>\n",
       "    </tr>\n",
       "    <tr>\n",
       "      <th>4</th>\n",
       "      <td>4</td>\n",
       "      <td>../Datos/Infoleg/100028.txt</td>\n",
       "      <td>Secretaría de Empleo\\nPROGRAMA JEFES DE HOGAR\\...</td>\n",
       "      <td>hogar circuito componente interinstitucional r...</td>\n",
       "      <td>1213</td>\n",
       "    </tr>\n",
       "  </tbody>\n",
       "</table>\n",
       "</div>"
      ],
      "text/plain": [
       "   ID                         FILE  \\\n",
       "0   0  ../Datos/Infoleg/100016.txt   \n",
       "1   1  ../Datos/Infoleg/100025.txt   \n",
       "2   2  ../Datos/Infoleg/100026.txt   \n",
       "3   3  ../Datos/Infoleg/100027.txt   \n",
       "4   4  ../Datos/Infoleg/100028.txt   \n",
       "\n",
       "                                               TEXTO  \\\n",
       "0  ACUERDOS\\nLey 25.939\\nApruébase el Acuerdo Sob...   \n",
       "1  MINISTERIO DE ECONOMIA Y PRODUCCION\\nDecisión ...   \n",
       "2  Secretaría de Hacienda\\nPRESUPUESTO\\nResolució...   \n",
       "3  Ministerio de Economía y Producción\\nREGIMEN S...   \n",
       "4  Secretaría de Empleo\\nPROGRAMA JEFES DE HOGAR\\...   \n",
       "\n",
       "                                          TEXTO_NORM  CANT_PALABRAS  \n",
       "0  minera caracas bolivariana venezuela científic...           1471  \n",
       "1     suprema generan expropiación lavalle aire aire             46  \n",
       "2  tesorería remanentes remanentes tesoreria rema...            146  \n",
       "3  simplificado pequeños reintegros restitución r...            239  \n",
       "4  hogar circuito componente interinstitucional r...           1213  "
      ]
     },
     "execution_count": 50,
     "metadata": {},
     "output_type": "execute_result"
    }
   ],
   "source": [
    "df_corpus[\"CANT_PALABRAS\"] = df_corpus[\"TEXTO_NORM\"].apply(lambda x: len(x))\n",
    "df_corpus.head()"
   ]
  },
  {
   "cell_type": "code",
   "execution_count": 65,
   "metadata": {},
   "outputs": [],
   "source": [
    "df_corpus[\"TOP_10\"] = df_corpus[\"ID\"].apply(lambda x: ' '.join(list(get_top10(x).keys())))"
   ]
  },
  {
   "cell_type": "code",
   "execution_count": 66,
   "metadata": {},
   "outputs": [
    {
     "name": "stdout",
     "output_type": "stream",
     "text": [
      "Los documentos tienen una media de 1420 palabras.\n"
     ]
    },
    {
     "data": {
      "text/plain": [
       "count     2500.000000\n",
       "mean      1420.120800\n",
       "std       3803.981806\n",
       "min          0.000000\n",
       "25%        116.750000\n",
       "50%        443.000000\n",
       "75%       1124.000000\n",
       "max      67079.000000\n",
       "Name: CANT_PALABRAS, dtype: float64"
      ]
     },
     "execution_count": 66,
     "metadata": {},
     "output_type": "execute_result"
    }
   ],
   "source": [
    "print(f'Los documentos tienen una media de {int(df_corpus[\"CANT_PALABRAS\"].mean())} palabras.' )\n",
    "df_corpus['CANT_PALABRAS'].describe()"
   ]
  },
  {
   "cell_type": "code",
   "execution_count": 67,
   "metadata": {},
   "outputs": [
    {
     "data": {
      "text/html": [
       "<div>\n",
       "<style scoped>\n",
       "    .dataframe tbody tr th:only-of-type {\n",
       "        vertical-align: middle;\n",
       "    }\n",
       "\n",
       "    .dataframe tbody tr th {\n",
       "        vertical-align: top;\n",
       "    }\n",
       "\n",
       "    .dataframe thead th {\n",
       "        text-align: right;\n",
       "    }\n",
       "</style>\n",
       "<table border=\"1\" class=\"dataframe\">\n",
       "  <thead>\n",
       "    <tr style=\"text-align: right;\">\n",
       "      <th></th>\n",
       "      <th>ID</th>\n",
       "      <th>FILE</th>\n",
       "      <th>TEXTO</th>\n",
       "      <th>TEXTO_NORM</th>\n",
       "      <th>CANT_PALABRAS</th>\n",
       "      <th>TOP_10</th>\n",
       "    </tr>\n",
       "  </thead>\n",
       "  <tbody>\n",
       "    <tr>\n",
       "      <th>0</th>\n",
       "      <td>0</td>\n",
       "      <td>../Datos/Infoleg/100016.txt</td>\n",
       "      <td>ACUERDOS\\nLey 25.939\\nApruébase el Acuerdo Sob...</td>\n",
       "      <td>minera caracas bolivariana venezuela científic...</td>\n",
       "      <td>1471</td>\n",
       "      <td>cooperación venezuela minera bolivariana parte...</td>\n",
       "    </tr>\n",
       "    <tr>\n",
       "      <th>1</th>\n",
       "      <td>1</td>\n",
       "      <td>../Datos/Infoleg/100025.txt</td>\n",
       "      <td>MINISTERIO DE ECONOMIA Y PRODUCCION\\nDecisión ...</td>\n",
       "      <td>suprema generan expropiación lavalle aire aire</td>\n",
       "      <td>46</td>\n",
       "      <td>anexas planillas judicial lavalle expropiación...</td>\n",
       "    </tr>\n",
       "    <tr>\n",
       "      <th>2</th>\n",
       "      <td>2</td>\n",
       "      <td>../Datos/Infoleg/100026.txt</td>\n",
       "      <td>Secretaría de Hacienda\\nPRESUPUESTO\\nResolució...</td>\n",
       "      <td>tesorería remanentes remanentes tesoreria rema...</td>\n",
       "      <td>146</td>\n",
       "      <td>remanentes presupuesto hacienda ejercicio deci...</td>\n",
       "    </tr>\n",
       "    <tr>\n",
       "      <th>3</th>\n",
       "      <td>3</td>\n",
       "      <td>../Datos/Infoleg/100027.txt</td>\n",
       "      <td>Ministerio de Economía y Producción\\nREGIMEN S...</td>\n",
       "      <td>simplificado pequeños reintegros restitución r...</td>\n",
       "      <td>239</td>\n",
       "      <td>reintegros restitución magnética parciales pro...</td>\n",
       "    </tr>\n",
       "    <tr>\n",
       "      <th>4</th>\n",
       "      <td>4</td>\n",
       "      <td>../Datos/Infoleg/100028.txt</td>\n",
       "      <td>Secretaría de Empleo\\nPROGRAMA JEFES DE HOGAR\\...</td>\n",
       "      <td>hogar circuito componente interinstitucional r...</td>\n",
       "      <td>1213</td>\n",
       "      <td>curso beneficiarios componente hogar empleo uo...</td>\n",
       "    </tr>\n",
       "  </tbody>\n",
       "</table>\n",
       "</div>"
      ],
      "text/plain": [
       "   ID                         FILE  \\\n",
       "0   0  ../Datos/Infoleg/100016.txt   \n",
       "1   1  ../Datos/Infoleg/100025.txt   \n",
       "2   2  ../Datos/Infoleg/100026.txt   \n",
       "3   3  ../Datos/Infoleg/100027.txt   \n",
       "4   4  ../Datos/Infoleg/100028.txt   \n",
       "\n",
       "                                               TEXTO  \\\n",
       "0  ACUERDOS\\nLey 25.939\\nApruébase el Acuerdo Sob...   \n",
       "1  MINISTERIO DE ECONOMIA Y PRODUCCION\\nDecisión ...   \n",
       "2  Secretaría de Hacienda\\nPRESUPUESTO\\nResolució...   \n",
       "3  Ministerio de Economía y Producción\\nREGIMEN S...   \n",
       "4  Secretaría de Empleo\\nPROGRAMA JEFES DE HOGAR\\...   \n",
       "\n",
       "                                          TEXTO_NORM  CANT_PALABRAS  \\\n",
       "0  minera caracas bolivariana venezuela científic...           1471   \n",
       "1     suprema generan expropiación lavalle aire aire             46   \n",
       "2  tesorería remanentes remanentes tesoreria rema...            146   \n",
       "3  simplificado pequeños reintegros restitución r...            239   \n",
       "4  hogar circuito componente interinstitucional r...           1213   \n",
       "\n",
       "                                              TOP_10  \n",
       "0  cooperación venezuela minera bolivariana parte...  \n",
       "1  anexas planillas judicial lavalle expropiación...  \n",
       "2  remanentes presupuesto hacienda ejercicio deci...  \n",
       "3  reintegros restitución magnética parciales pro...  \n",
       "4  curso beneficiarios componente hogar empleo uo...  "
      ]
     },
     "execution_count": 67,
     "metadata": {},
     "output_type": "execute_result"
    }
   ],
   "source": [
    "df_corpus.head()"
   ]
  },
  {
   "cell_type": "markdown",
   "metadata": {},
   "source": [
    "Genero una nube de palabras con las incluidas en la columna TOP_10"
   ]
  },
  {
   "cell_type": "code",
   "execution_count": 70,
   "metadata": {},
   "outputs": [
    {
     "data": {
      "image/png": "[encoded data removed]",
      "text/plain": [
       "<Figure size 432x288 with 1 Axes>"
      ]
     },
     "metadata": {
      "needs_background": "light"
     },
     "output_type": "display_data"
    }
   ],
   "source": [
    "wc.generate(' '.join(df_corpus['TOP_10']))\n",
    "plt.imshow(wc, interpolation=\"bilinear\")\n",
    "plt.axis(\"off\")\n",
    "plt.show()"
   ]
  },
  {
   "cell_type": "markdown",
   "metadata": {},
   "source": [
    "Observamos palabras como *trabajo*, *empresa*, *salud*, *tope indemnizatorio*"
   ]
  },
  {
   "cell_type": "code",
   "execution_count": 83,
   "metadata": {},
   "outputs": [
    {
     "data": {
      "text/plain": [
       "471"
      ]
     },
     "execution_count": 83,
     "metadata": {},
     "output_type": "execute_result"
    }
   ],
   "source": [
    "df_corpus.query('TOP_10.str.contains(\"trabajo\")')['TOP_10'].count()"
   ]
  },
  {
   "cell_type": "code",
   "execution_count": 84,
   "metadata": {},
   "outputs": [
    {
     "data": {
      "text/plain": [
       "9"
      ]
     },
     "execution_count": 84,
     "metadata": {},
     "output_type": "execute_result"
    }
   ],
   "source": [
    "df_corpus.query('TOP_10.str.contains(\"minera\")')['TOP_10'].count()"
   ]
  },
  {
   "cell_type": "code",
   "execution_count": 85,
   "metadata": {},
   "outputs": [
    {
     "data": {
      "text/plain": [
       "78"
      ]
     },
     "execution_count": 85,
     "metadata": {},
     "output_type": "execute_result"
    }
   ],
   "source": [
    "df_corpus.query('TOP_10.str.contains(\"salud\")')['TOP_10'].count()"
   ]
  },
  {
   "cell_type": "code",
   "execution_count": 82,
   "metadata": {},
   "outputs": [
    {
     "data": {
      "text/plain": [
       "142"
      ]
     },
     "execution_count": 82,
     "metadata": {},
     "output_type": "execute_result"
    }
   ],
   "source": [
    "df_corpus.query('TOP_10.str.contains(\"indemnizatorio\")')['TOP_10'].count()"
   ]
  },
  {
   "cell_type": "code",
   "execution_count": null,
   "metadata": {},
   "outputs": [],
   "source": []
  }
 ],
 "metadata": {
  "colab": {
   "authorship_tag": "ABX9TyP/8T3zAF9l4iiNnF830ZTP",
   "name": "Practico 4  - Jorge.ipynb",
   "provenance": []
  },
  "kernelspec": {
   "display_name": "Python 3",
   "language": "python",
   "name": "python3"
  },
  "language_info": {
   "codemirror_mode": {
    "name": "ipython",
    "version": 3
   },
   "file_extension": ".py",
   "mimetype": "text/x-python",
   "name": "python",
   "nbconvert_exporter": "python",
   "pygments_lexer": "ipython3",
   "version": "3.8.5"
  }
 },
 "nbformat": 4,
 "nbformat_minor": 1
}
