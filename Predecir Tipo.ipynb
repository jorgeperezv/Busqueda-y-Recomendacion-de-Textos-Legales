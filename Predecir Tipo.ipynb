{
 "cells": [
  {
   "cell_type": "code",
   "execution_count": 24,
   "metadata": {
    "colab": {},
    "colab_type": "code",
    "executionInfo": {
     "elapsed": 1698,
     "status": "ok",
     "timestamp": 1597867157536,
     "user": {
      "displayName": "Jorge Pérez Villella",
      "photoUrl": "",
      "userId": "05752208885034813709"
     },
     "user_tz": 180
    },
    "id": "8hPn-6TvS1Zi"
   },
   "outputs": [],
   "source": [
    "import sys\n",
    "import numpy\n",
    "import pandas\n",
    "import matplotlib.pyplot as plt\n",
    "\n",
    "from sklearn.feature_extraction.text import TfidfVectorizer\n",
    "from sklearn.model_selection import train_test_split\n",
    "from sklearn import ensemble\n",
    "from sklearn.metrics import classification_report, confusion_matrix, plot_confusion_matrix, precision_score, recall_score, accuracy_score, f1_score"
   ]
  },
  {
   "cell_type": "code",
   "execution_count": 2,
   "metadata": {
    "colab": {
     "base_uri": "https://localhost:8080/",
     "height": 120
    },
    "colab_type": "code",
    "executionInfo": {
     "elapsed": 39000,
     "status": "ok",
     "timestamp": 1597867196907,
     "user": {
      "displayName": "Jorge Pérez Villella",
      "photoUrl": "",
      "userId": "05752208885034813709"
     },
     "user_tz": 180
    },
    "id": "CDXZWcI1Tb5K",
    "outputId": "38459559-ff6f-40e0-c766-aece8134451b"
   },
   "outputs": [],
   "source": [
    "# Se verfica entorno de ejecución\n",
    "in_colab = \"google.colab\" in sys.modules\n",
    "\n",
    "if in_colab:\n",
    "    from google.colab import drive\n",
    "\n",
    "    drive.mount(\"/content/drive\")\n",
    "    BASE_DIR = \"/content/drive/My Drive/Diplo2020 Mentoria/\"\n",
    "else:\n",
    "    BASE_DIR = \"../\""
   ]
  },
  {
   "cell_type": "markdown",
   "metadata": {},
   "source": [
    "# Leo el corpus"
   ]
  },
  {
   "cell_type": "code",
   "execution_count": 3,
   "metadata": {
    "colab": {
     "base_uri": "https://localhost:8080/",
     "height": 197
    },
    "colab_type": "code",
    "executionInfo": {
     "elapsed": 1540,
     "status": "ok",
     "timestamp": 1597867209690,
     "user": {
      "displayName": "Jorge Pérez Villella",
      "photoUrl": "",
      "userId": "05752208885034813709"
     },
     "user_tz": 180
    },
    "id": "3_NteCfeTelO",
    "outputId": "5ed96b20-ac02-462a-fc8b-c867590c490b"
   },
   "outputs": [
    {
     "data": {
      "text/html": [
       "<div>\n",
       "<style scoped>\n",
       "    .dataframe tbody tr th:only-of-type {\n",
       "        vertical-align: middle;\n",
       "    }\n",
       "\n",
       "    .dataframe tbody tr th {\n",
       "        vertical-align: top;\n",
       "    }\n",
       "\n",
       "    .dataframe thead th {\n",
       "        text-align: right;\n",
       "    }\n",
       "</style>\n",
       "<table border=\"1\" class=\"dataframe\">\n",
       "  <thead>\n",
       "    <tr style=\"text-align: right;\">\n",
       "      <th></th>\n",
       "      <th>Unnamed: 0</th>\n",
       "      <th>TEXTO</th>\n",
       "      <th>DOCUMENTO</th>\n",
       "      <th>TIPO</th>\n",
       "    </tr>\n",
       "  </thead>\n",
       "  <tbody>\n",
       "    <tr>\n",
       "      <th>0</th>\n",
       "      <td>0</td>\n",
       "      <td>sala electoral comp.originaria tribunal superi...</td>\n",
       "      <td>../Datos/Electoral//A 001-2018 COOPI C MUN CAR...</td>\n",
       "      <td>AUTO</td>\n",
       "    </tr>\n",
       "    <tr>\n",
       "      <th>1</th>\n",
       "      <td>1</td>\n",
       "      <td>sala electoral comp.originaria tribunal superi...</td>\n",
       "      <td>../Datos/Electoral//A 002-2018 Denuncia R R RA...</td>\n",
       "      <td>AUTO</td>\n",
       "    </tr>\n",
       "    <tr>\n",
       "      <th>2</th>\n",
       "      <td>2</td>\n",
       "      <td>sala electoral comp.originaria tribunal superi...</td>\n",
       "      <td>../Datos/Electoral//A 003-2018 VEDIA FLORES Cr...</td>\n",
       "      <td>AUTO</td>\n",
       "    </tr>\n",
       "    <tr>\n",
       "      <th>3</th>\n",
       "      <td>3</td>\n",
       "      <td>sala electoral comp.originaria tribunal superi...</td>\n",
       "      <td>../Datos/Electoral//A 004-2018 FERNANDEZ Favio...</td>\n",
       "      <td>AUTO</td>\n",
       "    </tr>\n",
       "    <tr>\n",
       "      <th>4</th>\n",
       "      <td>4</td>\n",
       "      <td>sala electoral comp.originaria tribunal superi...</td>\n",
       "      <td>../Datos/Electoral//A 005-2018 ATANOR ADI ref.pdf</td>\n",
       "      <td>AUTO</td>\n",
       "    </tr>\n",
       "  </tbody>\n",
       "</table>\n",
       "</div>"
      ],
      "text/plain": [
       "   Unnamed: 0                                              TEXTO  \\\n",
       "0           0  sala electoral comp.originaria tribunal superi...   \n",
       "1           1  sala electoral comp.originaria tribunal superi...   \n",
       "2           2  sala electoral comp.originaria tribunal superi...   \n",
       "3           3  sala electoral comp.originaria tribunal superi...   \n",
       "4           4  sala electoral comp.originaria tribunal superi...   \n",
       "\n",
       "                                           DOCUMENTO  TIPO  \n",
       "0  ../Datos/Electoral//A 001-2018 COOPI C MUN CAR...  AUTO  \n",
       "1  ../Datos/Electoral//A 002-2018 Denuncia R R RA...  AUTO  \n",
       "2  ../Datos/Electoral//A 003-2018 VEDIA FLORES Cr...  AUTO  \n",
       "3  ../Datos/Electoral//A 004-2018 FERNANDEZ Favio...  AUTO  \n",
       "4  ../Datos/Electoral//A 005-2018 ATANOR ADI ref.pdf  AUTO  "
      ]
     },
     "execution_count": 3,
     "metadata": {},
     "output_type": "execute_result"
    }
   ],
   "source": [
    "train_data = BASE_DIR + \"corpus3.csv\"\n",
    "dataset = pandas.read_csv(train_data)\n",
    "dataset.head()"
   ]
  },
  {
   "cell_type": "code",
   "execution_count": 4,
   "metadata": {
    "colab": {
     "base_uri": "https://localhost:8080/",
     "height": 67
    },
    "colab_type": "code",
    "executionInfo": {
     "elapsed": 1115,
     "status": "ok",
     "timestamp": 1597867224709,
     "user": {
      "displayName": "Jorge Pérez Villella",
      "photoUrl": "",
      "userId": "05752208885034813709"
     },
     "user_tz": 180
    },
    "id": "2vdJZTDlTq1k",
    "outputId": "78fc6b97-028f-4568-d374-bd787c7e285c"
   },
   "outputs": [
    {
     "data": {
      "text/plain": [
       "AUTO         125\n",
       "SENTENCIA     25\n",
       "Name: TIPO, dtype: int64"
      ]
     },
     "execution_count": 4,
     "metadata": {},
     "output_type": "execute_result"
    }
   ],
   "source": [
    "dataset['TIPO'].value_counts()"
   ]
  },
  {
   "cell_type": "code",
   "execution_count": 5,
   "metadata": {},
   "outputs": [],
   "source": [
    "documentos = dataset['TEXTO']"
   ]
  },
  {
   "cell_type": "markdown",
   "metadata": {},
   "source": [
    "# Entrenamiento"
   ]
  },
  {
   "cell_type": "markdown",
   "metadata": {
    "colab_type": "text",
    "id": "N3ZRJbYKT2jp"
   },
   "source": [
    "Vectorizamos los textos"
   ]
  },
  {
   "cell_type": "code",
   "execution_count": 6,
   "metadata": {
    "colab": {
     "base_uri": "https://localhost:8080/",
     "height": 50
    },
    "colab_type": "code",
    "executionInfo": {
     "elapsed": 1266,
     "status": "ok",
     "timestamp": 1597867280370,
     "user": {
      "displayName": "Jorge Pérez Villella",
      "photoUrl": "",
      "userId": "05752208885034813709"
     },
     "user_tz": 180
    },
    "id": "ZxZH4yFETunP",
    "outputId": "cb85b6d4-b7d9-41e0-e015-dc987afee87b"
   },
   "outputs": [
    {
     "data": {
      "text/plain": [
       "<150x19220 sparse matrix of type '<class 'numpy.float64'>'\n",
       "\twith 204569 stored elements in Compressed Sparse Row format>"
      ]
     },
     "execution_count": 6,
     "metadata": {},
     "output_type": "execute_result"
    }
   ],
   "source": [
    "vectorizer = TfidfVectorizer()\n",
    "vectorizer.fit_transform(dataset['TEXTO'])"
   ]
  },
  {
   "cell_type": "code",
   "execution_count": 7,
   "metadata": {
    "colab": {},
    "colab_type": "code",
    "executionInfo": {
     "elapsed": 1193,
     "status": "ok",
     "timestamp": 1597867305934,
     "user": {
      "displayName": "Jorge Pérez Villella",
      "photoUrl": "",
      "userId": "05752208885034813709"
     },
     "user_tz": 180
    },
    "id": "pVI2croIT8K2"
   },
   "outputs": [],
   "source": [
    "# División entre instancias vectorizadas y etiquetas\n",
    "X, y = vectorizer.transform(dataset[\"TEXTO\"]), dataset[\"TIPO\"]"
   ]
  },
  {
   "cell_type": "code",
   "execution_count": 8,
   "metadata": {
    "colab": {},
    "colab_type": "code",
    "executionInfo": {
     "elapsed": 1543,
     "status": "ok",
     "timestamp": 1597867321112,
     "user": {
      "displayName": "Jorge Pérez Villella",
      "photoUrl": "",
      "userId": "05752208885034813709"
     },
     "user_tz": 180
    },
    "id": "ckD9XVoCUCbG"
   },
   "outputs": [],
   "source": [
    "# división entre entrenamiento y evaluación\n",
    "X_train, X_test, y_train, y_test = train_test_split(X, y, test_size=0.3, random_state=0, shuffle=True)"
   ]
  },
  {
   "cell_type": "markdown",
   "metadata": {
    "colab_type": "text",
    "id": "vbacJO5PUUc2"
   },
   "source": [
    "Entrenamos con el modelo Random Forest"
   ]
  },
  {
   "cell_type": "code",
   "execution_count": 9,
   "metadata": {
    "colab": {
     "base_uri": "https://localhost:8080/",
     "height": 150
    },
    "colab_type": "code",
    "executionInfo": {
     "elapsed": 1031,
     "status": "ok",
     "timestamp": 1597867414160,
     "user": {
      "displayName": "Jorge Pérez Villella",
      "photoUrl": "",
      "userId": "05752208885034813709"
     },
     "user_tz": 180
    },
    "id": "lNq2FaVFUGC3",
    "outputId": "c6f07165-7be5-4b25-9db9-5c3e193b6d16"
   },
   "outputs": [
    {
     "data": {
      "text/plain": [
       "RandomForestClassifier(random_state=0)"
      ]
     },
     "execution_count": 9,
     "metadata": {},
     "output_type": "execute_result"
    }
   ],
   "source": [
    "  model = ensemble.RandomForestClassifier(random_state=0)\n",
    "  model.fit(X_train, y_train)"
   ]
  },
  {
   "cell_type": "code",
   "execution_count": 10,
   "metadata": {
    "colab": {},
    "colab_type": "code",
    "executionInfo": {
     "elapsed": 972,
     "status": "ok",
     "timestamp": 1597867498591,
     "user": {
      "displayName": "Jorge Pérez Villella",
      "photoUrl": "",
      "userId": "05752208885034813709"
     },
     "user_tz": 180
    },
    "id": "TeyE3x_rUc4Y"
   },
   "outputs": [],
   "source": [
    "y_train_pred = model.predict(X_train)"
   ]
  },
  {
   "cell_type": "code",
   "execution_count": 11,
   "metadata": {
    "colab": {
     "base_uri": "https://localhost:8080/",
     "height": 167
    },
    "colab_type": "code",
    "executionInfo": {
     "elapsed": 1030,
     "status": "ok",
     "timestamp": 1597867504063,
     "user": {
      "displayName": "Jorge Pérez Villella",
      "photoUrl": "",
      "userId": "05752208885034813709"
     },
     "user_tz": 180
    },
    "id": "iAZCCbWUUxf2",
    "outputId": "aded8073-81df-41ca-a894-ac5c6e8e9ab5"
   },
   "outputs": [
    {
     "name": "stdout",
     "output_type": "stream",
     "text": [
      "              precision    recall  f1-score   support\n",
      "\n",
      "        AUTO       1.00      1.00      1.00        86\n",
      "   SENTENCIA       1.00      1.00      1.00        19\n",
      "\n",
      "    accuracy                           1.00       105\n",
      "   macro avg       1.00      1.00      1.00       105\n",
      "weighted avg       1.00      1.00      1.00       105\n",
      "\n"
     ]
    }
   ],
   "source": [
    "print(classification_report(y_train, y_train_pred))"
   ]
  },
  {
   "cell_type": "code",
   "execution_count": 12,
   "metadata": {
    "colab": {
     "base_uri": "https://localhost:8080/",
     "height": 67
    },
    "colab_type": "code",
    "executionInfo": {
     "elapsed": 1164,
     "status": "ok",
     "timestamp": 1597867542868,
     "user": {
      "displayName": "Jorge Pérez Villella",
      "photoUrl": "",
      "userId": "05752208885034813709"
     },
     "user_tz": 180
    },
    "id": "Vf34xKOYUy1D",
    "outputId": "b31cf2e1-19ad-4ad8-d9d3-bdb77c92d8c3"
   },
   "outputs": [
    {
     "name": "stdout",
     "output_type": "stream",
     "text": [
      "Accuracy:1.0\n",
      "Precision:1.0\n",
      "Recall:1.0\n",
      "F1 score:1.0\n",
      "\n",
      "Matriz de Confusión \n",
      "\tTP: 19 \tFP:  0 \n",
      "\tFN:  0 \tTN: 86\n"
     ]
    }
   ],
   "source": [
    "print(f'Accuracy:{accuracy_score(y_train, y_train_pred):{0.2}}')\n",
    "print(f'Precision:{precision_score(y_train, y_train_pred, average=\"macro\"):{0.2}}')\n",
    "print(f'Recall:{recall_score(y_train, y_train_pred, average=\"macro\"):{0.2}}')\n",
    "print(f'F1 score:{f1_score(y_train, y_train_pred, average=\"macro\"):{0.2}}')\n",
    "\n",
    "tn, fp, fn, tp = confusion_matrix(y_train, y_train_pred).ravel()\n",
    "print(f'\\nMatriz de Confusión \\n\\tTP:{tp:{3}} \\tFP:{fp:{3}} \\n\\tFN:{fn:{3}} \\tTN:{tn:{3}}')"
   ]
  },
  {
   "cell_type": "markdown",
   "metadata": {
    "colab_type": "text",
    "id": "wyW3brDPVLHn"
   },
   "source": [
    "# Validación del modelo"
   ]
  },
  {
   "cell_type": "code",
   "execution_count": 13,
   "metadata": {
    "colab": {},
    "colab_type": "code",
    "executionInfo": {
     "elapsed": 996,
     "status": "ok",
     "timestamp": 1597867636856,
     "user": {
      "displayName": "Jorge Pérez Villella",
      "photoUrl": "",
      "userId": "05752208885034813709"
     },
     "user_tz": 180
    },
    "id": "rEQq9RMaU8SE"
   },
   "outputs": [],
   "source": [
    "y_test_pred = model.predict(X_test)"
   ]
  },
  {
   "cell_type": "code",
   "execution_count": 14,
   "metadata": {
    "colab": {
     "base_uri": "https://localhost:8080/",
     "height": 167
    },
    "colab_type": "code",
    "executionInfo": {
     "elapsed": 1159,
     "status": "ok",
     "timestamp": 1597867668042,
     "user": {
      "displayName": "Jorge Pérez Villella",
      "photoUrl": "",
      "userId": "05752208885034813709"
     },
     "user_tz": 180
    },
    "id": "A2mx2-UZVTQ_",
    "outputId": "297d1d15-cf35-4c8e-b8f8-0bae07078024"
   },
   "outputs": [
    {
     "name": "stdout",
     "output_type": "stream",
     "text": [
      "\n",
      "Reporte de Clasificiación:\n",
      "               precision    recall  f1-score   support\n",
      "\n",
      "        AUTO       0.95      1.00      0.97        39\n",
      "   SENTENCIA       1.00      0.67      0.80         6\n",
      "\n",
      "    accuracy                           0.96        45\n",
      "   macro avg       0.98      0.83      0.89        45\n",
      "weighted avg       0.96      0.96      0.95        45\n",
      "\n"
     ]
    }
   ],
   "source": [
    "print('\\nReporte de Clasificiación:\\n', classification_report(y_test, y_test_pred))"
   ]
  },
  {
   "cell_type": "code",
   "execution_count": 26,
   "metadata": {},
   "outputs": [
    {
     "name": "stdout",
     "output_type": "stream",
     "text": [
      "Accuracy:0.96\n",
      "Precision:0.98\n",
      "Recall:0.83\n",
      "F1 score:0.89\n",
      "\n",
      "Matriz de Confusión \n",
      "\tTP:  4 \tFP:  0 \n",
      "\tFN:  2 \tTN: 39\n"
     ]
    },
    {
     "data": {
      "text/plain": [
       "<sklearn.metrics._plot.confusion_matrix.ConfusionMatrixDisplay at 0x16970d8f340>"
      ]
     },
     "execution_count": 26,
     "metadata": {},
     "output_type": "execute_result"
    },
    {
     "data": {
      "image/png": "[encoded data removed]",
      "text/plain": [
       "<Figure size 432x288 with 2 Axes>"
      ]
     },
     "metadata": {
      "needs_background": "light"
     },
     "output_type": "display_data"
    }
   ],
   "source": [
    "print(f'Accuracy:{accuracy_score(y_test, y_test_pred):{0.2}}')\n",
    "print(f'Precision:{precision_score(y_test, y_test_pred, average=\"macro\"):{0.2}}')\n",
    "print(f'Recall:{recall_score(y_test, y_test_pred, average=\"macro\"):{0.2}}')\n",
    "print(f'F1 score:{f1_score(y_test, y_test_pred, average=\"macro\"):{0.2}}')\n",
    "\n",
    "tn, fp, fn, tp = confusion_matrix(y_test, y_test_pred).ravel()\n",
    "print(f'\\nMatriz de Confusión \\n\\tTP:{tp:{3}} \\tFP:{fp:{3}} \\n\\tFN:{fn:{3}} \\tTN:{tn:{3}}')    \n",
    "\n",
    "plot_confusion_matrix(model, X_test, y_test, cmap=plt.cm.Blues)"
   ]
  },
  {
   "cell_type": "markdown",
   "metadata": {},
   "source": [
    "# Predicciones"
   ]
  },
  {
   "cell_type": "markdown",
   "metadata": {
    "colab_type": "text",
    "id": "dE05CKlBVqjO"
   },
   "source": [
    "Ahora quiero predecir un documento nuevo... por ejemplo tomo el primer documento "
   ]
  },
  {
   "cell_type": "code",
   "execution_count": 16,
   "metadata": {
    "colab": {
     "base_uri": "https://localhost:8080/",
     "height": 83
    },
    "colab_type": "code",
    "executionInfo": {
     "elapsed": 1256,
     "status": "ok",
     "timestamp": 1597867791311,
     "user": {
      "displayName": "Jorge Pérez Villella",
      "photoUrl": "",
      "userId": "05752208885034813709"
     },
     "user_tz": 180
    },
    "id": "Fs0k3HkrVhiL",
    "outputId": "513a7c1c-5f66-4d88-d0b9-45f1546132c3"
   },
   "outputs": [
    {
     "data": {
      "text/plain": [
       "(0    AUTO\n",
       " Name: TIPO, dtype: object,\n",
       " 0    sala electoral comp.originaria tribunal superi...\n",
       " Name: TEXTO, dtype: object)"
      ]
     },
     "execution_count": 16,
     "metadata": {},
     "output_type": "execute_result"
    }
   ],
   "source": [
    "dataset[0:1].TIPO, documentos[0:1]"
   ]
  },
  {
   "cell_type": "markdown",
   "metadata": {
    "colab_type": "text",
    "id": "cioiL2nWWNdf"
   },
   "source": [
    "El texto ya vectorizado anteriormente es el siguiente:"
   ]
  },
  {
   "cell_type": "code",
   "execution_count": 17,
   "metadata": {
    "colab": {
     "base_uri": "https://localhost:8080/",
     "height": 50
    },
    "colab_type": "code",
    "executionInfo": {
     "elapsed": 1234,
     "status": "ok",
     "timestamp": 1597867921333,
     "user": {
      "displayName": "Jorge Pérez Villella",
      "photoUrl": "",
      "userId": "05752208885034813709"
     },
     "user_tz": 180
    },
    "id": "1KKXj4pYWVOI",
    "outputId": "2cf2af33-c792-4d44-f4c0-72b85ab651cf"
   },
   "outputs": [
    {
     "data": {
      "text/plain": [
       "<1x19220 sparse matrix of type '<class 'numpy.float64'>'\n",
       "\twith 1029 stored elements in Compressed Sparse Row format>"
      ]
     },
     "execution_count": 17,
     "metadata": {},
     "output_type": "execute_result"
    }
   ],
   "source": [
    "X_train[0:1]"
   ]
  },
  {
   "cell_type": "markdown",
   "metadata": {
    "colab_type": "text",
    "id": "UtRDKBnQWbE9"
   },
   "source": [
    "Si predigo ese documento:"
   ]
  },
  {
   "cell_type": "code",
   "execution_count": 18,
   "metadata": {
    "colab": {
     "base_uri": "https://localhost:8080/",
     "height": 33
    },
    "colab_type": "code",
    "executionInfo": {
     "elapsed": 1103,
     "status": "ok",
     "timestamp": 1597867894523,
     "user": {
      "displayName": "Jorge Pérez Villella",
      "photoUrl": "",
      "userId": "05752208885034813709"
     },
     "user_tz": 180
    },
    "id": "MTRW0kU7V45_",
    "outputId": "9375236e-34e9-4a58-9e78-557ec991dfef"
   },
   "outputs": [
    {
     "data": {
      "text/plain": [
       "array(['AUTO'], dtype=object)"
      ]
     },
     "execution_count": 18,
     "metadata": {},
     "output_type": "execute_result"
    }
   ],
   "source": [
    "model.predict(X_train[0:1])"
   ]
  },
  {
   "cell_type": "markdown",
   "metadata": {
    "colab_type": "text",
    "id": "_DU8Bia0Wf5a"
   },
   "source": [
    "Predice correctamente.\n",
    "\n",
    "Ahora bien, que pasa si quiero predecir un documento que no está en los ya vectorizados. Tengo que primero vectorizarlo para poder aplicarle el modelo de clasificación."
   ]
  },
  {
   "cell_type": "code",
   "execution_count": 19,
   "metadata": {
    "colab": {
     "base_uri": "https://localhost:8080/",
     "height": 50
    },
    "colab_type": "code",
    "executionInfo": {
     "elapsed": 1217,
     "status": "ok",
     "timestamp": 1597868077395,
     "user": {
      "displayName": "Jorge Pérez Villella",
      "photoUrl": "",
      "userId": "05752208885034813709"
     },
     "user_tz": 180
    },
    "id": "ZrXz7u_PWKqJ",
    "outputId": "16d55534-9de3-4e52-bdf7-4807c98c471e"
   },
   "outputs": [
    {
     "data": {
      "text/plain": [
       "<1x19220 sparse matrix of type '<class 'numpy.float64'>'\n",
       "\twith 767 stored elements in Compressed Sparse Row format>"
      ]
     },
     "execution_count": 19,
     "metadata": {},
     "output_type": "execute_result"
    }
   ],
   "source": [
    "vectorizer.transform(documentos[0:1])"
   ]
  },
  {
   "cell_type": "code",
   "execution_count": 20,
   "metadata": {
    "colab": {
     "base_uri": "https://localhost:8080/",
     "height": 33
    },
    "colab_type": "code",
    "executionInfo": {
     "elapsed": 1208,
     "status": "ok",
     "timestamp": 1597868193827,
     "user": {
      "displayName": "Jorge Pérez Villella",
      "photoUrl": "",
      "userId": "05752208885034813709"
     },
     "user_tz": 180
    },
    "id": "fRpuRq3ZW-wl",
    "outputId": "2fd3603c-0183-472b-afbc-c8aaac59c044"
   },
   "outputs": [
    {
     "data": {
      "text/plain": [
       "array(['AUTO'], dtype=object)"
      ]
     },
     "execution_count": 20,
     "metadata": {},
     "output_type": "execute_result"
    }
   ],
   "source": [
    "model.predict(vectorizer.transform(documentos[0:1]))"
   ]
  },
  {
   "cell_type": "markdown",
   "metadata": {},
   "source": [
    "Veo cuales son los documentos que no predice correctamente:"
   ]
  },
  {
   "cell_type": "code",
   "execution_count": 21,
   "metadata": {
    "colab": {},
    "colab_type": "code",
    "id": "iCbZctroXbML"
   },
   "outputs": [
    {
     "name": "stdout",
     "output_type": "stream",
     "text": [
      "126 SENTENCIA AUTO\n",
      "141 SENTENCIA AUTO\n"
     ]
    }
   ],
   "source": [
    "for i in numpy.arange(150):\n",
    "    tipo = dataset[i:i+1]['TIPO'][i]\n",
    "    texto = documentos[i:i+1]\n",
    "    tipo_pred = model.predict(vectorizer.transform(texto))[0]\n",
    "    \n",
    "    if tipo != tipo_pred:\n",
    "        print(i, tipo, model.predict(vectorizer.transform(texto))[0])\n"
   ]
  },
  {
   "cell_type": "code",
   "execution_count": null,
   "metadata": {},
   "outputs": [],
   "source": []
  }
 ],
 "metadata": {
  "colab": {
   "authorship_tag": "ABX9TyMIIakfoLmc0IvvYbsme8TL",
   "name": "Predecir Tipo.ipynb",
   "provenance": []
  },
  "kernelspec": {
   "display_name": "Python [conda env:mentoria] *",
   "language": "python",
   "name": "conda-env-mentoria-py"
  },
  "language_info": {
   "codemirror_mode": {
    "name": "ipython",
    "version": 3
   },
   "file_extension": ".py",
   "mimetype": "text/x-python",
   "name": "python",
   "nbconvert_exporter": "python",
   "pygments_lexer": "ipython3",
   "version": "3.8.5"
  }
 },
 "nbformat": 4,
 "nbformat_minor": 4
}
