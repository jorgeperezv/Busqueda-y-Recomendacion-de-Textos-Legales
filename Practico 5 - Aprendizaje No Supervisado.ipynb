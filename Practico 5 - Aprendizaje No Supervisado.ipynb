{
 "cells": [
  {
   "cell_type": "markdown",
   "metadata": {},
   "source": [
    "### Universidad Nacional de Córdoba - Facultad de Matemática, Astronomía, Física y Computación\n",
    "\n",
    "#### Diplomatura en Ciencia de Datos, Aprendizaje Automático y sus Aplicaciones 2020\n",
    "\n",
    "Búsqueda y Recomendación de Textos Legales - Análisis y Curación de Datos\n",
    "\n",
    "Mentor: Claudio Sarate"
   ]
  },
  {
   "cell_type": "markdown",
   "metadata": {
    "colab_type": "text",
    "id": "6tndFHvOJWOn"
   },
   "source": [
    "Integrantes:\n",
    "\n",
    "* Ezequiel Juarez\n",
    "* Jorge Pérez \n",
    "* Clara Quintana\n",
    "* David Veisaga"
   ]
  },
  {
   "cell_type": "markdown",
   "metadata": {},
   "source": [
    "## Aprendizaje No Supervisado"
   ]
  },
  {
   "cell_type": "markdown",
   "metadata": {},
   "source": [
    "* El objetivo de este práctico es utilizar todo lo logrado y analizado a nivel de corpus para generar clases con distintas herramientas que permitan relacionar los documentos con mayor similitud."
   ]
  },
  {
   "cell_type": "markdown",
   "metadata": {},
   "source": [
    "### Enunciado del práctico"
   ]
  },
  {
   "cell_type": "markdown",
   "metadata": {},
   "source": [
    " ----------------------------------------------------------------------------------------------------------"
   ]
  },
  {
   "cell_type": "markdown",
   "metadata": {},
   "source": [
    "* Se pide realizar Topic Modeling utilizando LDA (Latent Dirichlet Allocation) y (NMF) Non-negative Matrix Factorization sobre el corpus.\n",
    "\n",
    "***NOTA: no confundir con LDA (Linear Discriminant Analysis)***\n",
    "\n",
    "* Realizar el proceso utilizando Gensim-Doc2Vec"
   ]
  },
  {
   "cell_type": "markdown",
   "metadata": {},
   "source": [
    " ----------------------------------------------------------------------------------------------------------"
   ]
  },
  {
   "cell_type": "markdown",
   "metadata": {},
   "source": [
    "Leemos el corpus de Infoleg"
   ]
  },
  {
   "cell_type": "code",
   "execution_count": 1,
   "metadata": {},
   "outputs": [],
   "source": [
    "import sys\n",
    "import os\n",
    "import time\n",
    "import pandas"
   ]
  },
  {
   "cell_type": "code",
   "execution_count": 2,
   "metadata": {},
   "outputs": [],
   "source": [
    "# Se verfica entorno de ejecución\n",
    "in_colab = \"google.colab\" in sys.modules\n",
    "\n",
    "if in_colab:\n",
    "    from google.colab import drive\n",
    "\n",
    "    drive.mount(\"/content/drive\")\n",
    "    BASE_DIR = \"/content/drive/My Drive/Diplo2020 Mentoria/\"\n",
    "else:\n",
    "    BASE_DIR = \"../\""
   ]
  },
  {
   "cell_type": "code",
   "execution_count": 3,
   "metadata": {},
   "outputs": [
    {
     "data": {
      "text/html": [
       "<div>\n",
       "<style scoped>\n",
       "    .dataframe tbody tr th:only-of-type {\n",
       "        vertical-align: middle;\n",
       "    }\n",
       "\n",
       "    .dataframe tbody tr th {\n",
       "        vertical-align: top;\n",
       "    }\n",
       "\n",
       "    .dataframe thead th {\n",
       "        text-align: right;\n",
       "    }\n",
       "</style>\n",
       "<table border=\"1\" class=\"dataframe\">\n",
       "  <thead>\n",
       "    <tr style=\"text-align: right;\">\n",
       "      <th></th>\n",
       "      <th>ID</th>\n",
       "      <th>TEXTO</th>\n",
       "    </tr>\n",
       "  </thead>\n",
       "  <tbody>\n",
       "    <tr>\n",
       "      <th>0</th>\n",
       "      <td>0</td>\n",
       "      <td>ministerio de trabajo, empleo y seguridad soci...</td>\n",
       "    </tr>\n",
       "    <tr>\n",
       "      <th>1</th>\n",
       "      <td>1</td>\n",
       "      <td>administracion federal de ingresos publicos di...</td>\n",
       "    </tr>\n",
       "    <tr>\n",
       "      <th>2</th>\n",
       "      <td>2</td>\n",
       "      <td>administración federal de ingresos públicos ob...</td>\n",
       "    </tr>\n",
       "    <tr>\n",
       "      <th>3</th>\n",
       "      <td>3</td>\n",
       "      <td>(nota infoleg: norma abrogada por art. 2° de l...</td>\n",
       "    </tr>\n",
       "    <tr>\n",
       "      <th>4</th>\n",
       "      <td>4</td>\n",
       "      <td>secretaria de ciencia, tecnologia e innovacion...</td>\n",
       "    </tr>\n",
       "  </tbody>\n",
       "</table>\n",
       "</div>"
      ],
      "text/plain": [
       "   ID                                              TEXTO\n",
       "0   0  ministerio de trabajo, empleo y seguridad soci...\n",
       "1   1  administracion federal de ingresos publicos di...\n",
       "2   2  administración federal de ingresos públicos ob...\n",
       "3   3  (nota infoleg: norma abrogada por art. 2° de l...\n",
       "4   4  secretaria de ciencia, tecnologia e innovacion..."
      ]
     },
     "execution_count": 3,
     "metadata": {},
     "output_type": "execute_result"
    }
   ],
   "source": [
    "file = BASE_DIR + \"Datos/Infoleg.cor\"\n",
    "df_corpus = pandas.read_csv(file, sep=\" \", names=[\"ID\", \"TEXTO\"], header=0)\n",
    "df_corpus.head()"
   ]
  },
  {
   "cell_type": "markdown",
   "metadata": {},
   "source": [
    "Función de normalización"
   ]
  },
  {
   "cell_type": "code",
   "execution_count": 4,
   "metadata": {},
   "outputs": [],
   "source": [
    "import string\n",
    "import re\n",
    "import nltk\n",
    "from nltk.tokenize.toktok import ToktokTokenizer"
   ]
  },
  {
   "cell_type": "code",
   "execution_count": 5,
   "metadata": {},
   "outputs": [
    {
     "name": "stderr",
     "output_type": "stream",
     "text": [
      "[nltk_data] Downloading package stopwords to\n",
      "[nltk_data]     C:\\Users\\jperezv\\AppData\\Roaming\\nltk_data...\n",
      "[nltk_data]   Package stopwords is already up-to-date!\n"
     ]
    }
   ],
   "source": [
    "nltk.download('stopwords')\n",
    "stop_words = nltk.corpus.stopwords.words('spanish')"
   ]
  },
  {
   "cell_type": "code",
   "execution_count": 6,
   "metadata": {
    "scrolled": true
   },
   "outputs": [
    {
     "name": "stderr",
     "output_type": "stream",
     "text": [
      "[nltk_data] Downloading package wordnet to\n",
      "[nltk_data]     C:\\Users\\jperezv\\AppData\\Roaming\\nltk_data...\n",
      "[nltk_data]   Package wordnet is already up-to-date!\n"
     ]
    },
    {
     "data": {
      "text/plain": [
       "True"
      ]
     },
     "execution_count": 6,
     "metadata": {},
     "output_type": "execute_result"
    }
   ],
   "source": [
    "nltk.download('wordnet')"
   ]
  },
  {
   "cell_type": "code",
   "execution_count": 7,
   "metadata": {},
   "outputs": [],
   "source": [
    "def normalize_texto(texto, stop_words):\n",
    "    # Tokenización\n",
    "    tokens = ToktokTokenizer().tokenize(texto)\n",
    "\n",
    "    # Paso a minúscula\n",
    "    tokens = [word.lower() for word in tokens]\n",
    "\n",
    "    # Eliminamos símbolos de puntuación\n",
    "    signos_puntuacion = string.punctuation + '—'\n",
    "    tokens = list(filter(lambda token: token not in signos_puntuacion, tokens))\n",
    "\n",
    "    # Eliminar acentos y reemplazar abreviaturas\n",
    "    dic_Errores = {'nro':'numero', 'nro.':'numero', 'n°':'numero', 'n.°':'numero', 'nº':'numero', 'n.º':'numero', 'art.':'articulo'}\n",
    "    for i in range(len(tokens)):  \n",
    "        for a, b in ((\"á\", \"a\"), (\"é\", \"e\"), (\"í\", \"i\"), (\"ó\", \"o\"), (\"ú\", \"u\"),):\n",
    "            tokens[i] = tokens[i].replace(a, b)       \n",
    "        for key in dic_Errores:\n",
    "            if tokens[i] == key:\n",
    "                tokens[i] = dic_Errores[key]\n",
    "\n",
    "    # eliminar la puntuación de cada palabra\n",
    "    tokens = [re.sub('[%s]' % re.escape(signos_puntuacion), '', token) for token in tokens]\n",
    "    \n",
    "    # eliminar los números\n",
    "    tokens = list(filter(lambda token: token.isalpha(), tokens))\n",
    "\n",
    "    # Eliminamos stopwords\n",
    "    tokens = list(filter(lambda token: token not in stop_words, tokens)) \n",
    "\n",
    "    # Lemmatización\n",
    "    lemmatizer = nltk.stem.WordNetLemmatizer()\n",
    "    tokens = [lemmatizer.lemmatize(word) for word in tokens]\n",
    "\n",
    "    # eliminar los tokens de menos de 3 caracteres\n",
    "    tokens = list(filter(lambda token: len(token) > 3, tokens))\n",
    "\n",
    "    return ' '.join(tokens)\n"
   ]
  },
  {
   "cell_type": "markdown",
   "metadata": {},
   "source": [
    "Agregamos una columna con el texto normalizado"
   ]
  },
  {
   "cell_type": "code",
   "execution_count": 8,
   "metadata": {},
   "outputs": [
    {
     "data": {
      "text/html": [
       "<div>\n",
       "<style scoped>\n",
       "    .dataframe tbody tr th:only-of-type {\n",
       "        vertical-align: middle;\n",
       "    }\n",
       "\n",
       "    .dataframe tbody tr th {\n",
       "        vertical-align: top;\n",
       "    }\n",
       "\n",
       "    .dataframe thead th {\n",
       "        text-align: right;\n",
       "    }\n",
       "</style>\n",
       "<table border=\"1\" class=\"dataframe\">\n",
       "  <thead>\n",
       "    <tr style=\"text-align: right;\">\n",
       "      <th></th>\n",
       "      <th>ID</th>\n",
       "      <th>TEXTO</th>\n",
       "      <th>TEXTO_NORM</th>\n",
       "    </tr>\n",
       "  </thead>\n",
       "  <tbody>\n",
       "    <tr>\n",
       "      <th>0</th>\n",
       "      <td>0</td>\n",
       "      <td>ministerio de trabajo, empleo y seguridad soci...</td>\n",
       "      <td>ministerio trabajo empleo seguridad social sup...</td>\n",
       "    </tr>\n",
       "    <tr>\n",
       "      <th>1</th>\n",
       "      <td>1</td>\n",
       "      <td>administracion federal de ingresos publicos di...</td>\n",
       "      <td>administracion federal ingresos publicos direc...</td>\n",
       "    </tr>\n",
       "    <tr>\n",
       "      <th>2</th>\n",
       "      <td>2</td>\n",
       "      <td>administración federal de ingresos públicos ob...</td>\n",
       "      <td>administracion federal ingresos publicos oblig...</td>\n",
       "    </tr>\n",
       "    <tr>\n",
       "      <th>3</th>\n",
       "      <td>3</td>\n",
       "      <td>(nota infoleg: norma abrogada por art. 2° de l...</td>\n",
       "      <td>nota infoleg norma abrogada articulo resolucio...</td>\n",
       "    </tr>\n",
       "    <tr>\n",
       "      <th>4</th>\n",
       "      <td>4</td>\n",
       "      <td>secretaria de ciencia, tecnologia e innovacion...</td>\n",
       "      <td>secretaria ciencia tecnologia innovacion produ...</td>\n",
       "    </tr>\n",
       "  </tbody>\n",
       "</table>\n",
       "</div>"
      ],
      "text/plain": [
       "   ID                                              TEXTO  \\\n",
       "0   0  ministerio de trabajo, empleo y seguridad soci...   \n",
       "1   1  administracion federal de ingresos publicos di...   \n",
       "2   2  administración federal de ingresos públicos ob...   \n",
       "3   3  (nota infoleg: norma abrogada por art. 2° de l...   \n",
       "4   4  secretaria de ciencia, tecnologia e innovacion...   \n",
       "\n",
       "                                          TEXTO_NORM  \n",
       "0  ministerio trabajo empleo seguridad social sup...  \n",
       "1  administracion federal ingresos publicos direc...  \n",
       "2  administracion federal ingresos publicos oblig...  \n",
       "3  nota infoleg norma abrogada articulo resolucio...  \n",
       "4  secretaria ciencia tecnologia innovacion produ...  "
      ]
     },
     "execution_count": 8,
     "metadata": {},
     "output_type": "execute_result"
    }
   ],
   "source": [
    "df_corpus[\"TEXTO_NORM\"] = df_corpus[\"TEXTO\"].apply(lambda x: normalize_texto(x, stop_words))\n",
    "df_corpus.head()"
   ]
  },
  {
   "cell_type": "markdown",
   "metadata": {},
   "source": [
    "#### Preproceso\n",
    "\n",
    "* De acuerdo a los procesos ya realizados previamente elegir que realizar para tener una matriz de términos de los documentos, podría ser mediante Scikit-Learn realizando una vectorización TF-IDF para crear una matriz de términos de documentos (si se utiliza este proceso explorar los parámetros max_df y min_df para entender su significado.)"
   ]
  },
  {
   "cell_type": "markdown",
   "metadata": {},
   "source": [
    "En el práctico anterior ampliamos el listado de stop words obteniendo el peso IDF (Frecuencia Inversa de Documentos).\n",
    "\n",
    "En este caso utilizaremos los parámetros max_df (términos más frecuentes) y min_df (términos menos frecuentes).\n",
    "\n",
    "Utilizaremos TfidVectorizer con los siguientes parámetros:\n",
    "* use_idf: habilitar la ponderación frecuencia inversa de documentos\n",
    "* ngram_range: inluiremos bi-gramas\n",
    "* min_df: ignoraremos los términos que aparecen en menos del 1% de lo documentos.\n",
    "* max_df: ignoraremos los términos que aparecen en más del 90 % de los documentos."
   ]
  },
  {
   "cell_type": "code",
   "execution_count": 9,
   "metadata": {},
   "outputs": [],
   "source": [
    "from sklearn.feature_extraction.text import TfidfVectorizer"
   ]
  },
  {
   "cell_type": "code",
   "execution_count": 10,
   "metadata": {},
   "outputs": [],
   "source": [
    "tfidf_vectorizer=TfidfVectorizer(use_idf=True, ngram_range=(1,2), min_df=.01, max_df=.90) \n",
    "tfidf_vectorizer_vectors=tfidf_vectorizer.fit_transform(df_corpus['TEXTO_NORM'])"
   ]
  },
  {
   "cell_type": "code",
   "execution_count": 11,
   "metadata": {},
   "outputs": [
    {
     "name": "stdout",
     "output_type": "stream",
     "text": [
      "Cantidad de palabras en nuestro vocabulario: 7773\n"
     ]
    }
   ],
   "source": [
    "print(f'Cantidad de palabras en nuestro vocabulario: {len(tfidf_vectorizer.vocabulary_)}')"
   ]
  },
  {
   "cell_type": "markdown",
   "metadata": {},
   "source": [
    "Observamos los valores de TF-IDF del primer documento"
   ]
  },
  {
   "cell_type": "code",
   "execution_count": 12,
   "metadata": {},
   "outputs": [
    {
     "data": {
      "text/html": [
       "<div>\n",
       "<style scoped>\n",
       "    .dataframe tbody tr th:only-of-type {\n",
       "        vertical-align: middle;\n",
       "    }\n",
       "\n",
       "    .dataframe tbody tr th {\n",
       "        vertical-align: top;\n",
       "    }\n",
       "\n",
       "    .dataframe thead th {\n",
       "        text-align: right;\n",
       "    }\n",
       "</style>\n",
       "<table border=\"1\" class=\"dataframe\">\n",
       "  <thead>\n",
       "    <tr style=\"text-align: right;\">\n",
       "      <th></th>\n",
       "      <th>tfidf</th>\n",
       "    </tr>\n",
       "  </thead>\n",
       "  <tbody>\n",
       "    <tr>\n",
       "      <th>riesgos trabajo</th>\n",
       "      <td>0.313567</td>\n",
       "    </tr>\n",
       "    <tr>\n",
       "      <th>trabajo</th>\n",
       "      <td>0.301579</td>\n",
       "    </tr>\n",
       "    <tr>\n",
       "      <th>riesgos</th>\n",
       "      <td>0.292361</td>\n",
       "    </tr>\n",
       "    <tr>\n",
       "      <th>superintendencia</th>\n",
       "      <td>0.234595</td>\n",
       "    </tr>\n",
       "    <tr>\n",
       "      <th>acciones</th>\n",
       "      <td>0.216306</td>\n",
       "    </tr>\n",
       "    <tr>\n",
       "      <th>salud</th>\n",
       "      <td>0.173989</td>\n",
       "    </tr>\n",
       "    <tr>\n",
       "      <th>seguridad trabajo</th>\n",
       "      <td>0.166319</td>\n",
       "    </tr>\n",
       "    <tr>\n",
       "      <th>sistema</th>\n",
       "      <td>0.139781</td>\n",
       "    </tr>\n",
       "    <tr>\n",
       "      <th>organismo</th>\n",
       "      <td>0.137922</td>\n",
       "    </tr>\n",
       "    <tr>\n",
       "      <th>subgerencia</th>\n",
       "      <td>0.128747</td>\n",
       "    </tr>\n",
       "  </tbody>\n",
       "</table>\n",
       "</div>"
      ],
      "text/plain": [
       "                      tfidf\n",
       "riesgos trabajo    0.313567\n",
       "trabajo            0.301579\n",
       "riesgos            0.292361\n",
       "superintendencia   0.234595\n",
       "acciones           0.216306\n",
       "salud              0.173989\n",
       "seguridad trabajo  0.166319\n",
       "sistema            0.139781\n",
       "organismo          0.137922\n",
       "subgerencia        0.128747"
      ]
     },
     "execution_count": 12,
     "metadata": {},
     "output_type": "execute_result"
    }
   ],
   "source": [
    "first_vector_tfidfvectorizer=tfidf_vectorizer_vectors[0]\n",
    "\n",
    "df = pandas.DataFrame(first_vector_tfidfvectorizer.T.todense(), index=tfidf_vectorizer.get_feature_names(), columns=[\"tfidf\"]) \n",
    "df.sort_values(by=[\"tfidf\"],ascending=False).head(10)"
   ]
  },
  {
   "cell_type": "markdown",
   "metadata": {},
   "source": [
    " ----------------------------------------------------------------------------------------------------------"
   ]
  },
  {
   "cell_type": "markdown",
   "metadata": {},
   "source": [
    "#### LDA (Latent Dirichlet Allocation)\n",
    "\n",
    "* Utilizando Scikit-Learn crear una instancia de LDA con la cantidad de componentes (clases) que consideren apropiada de acuerdo al conocimiento que ya tienen del dominio (usar random_state=42)"
   ]
  },
  {
   "cell_type": "code",
   "execution_count": 13,
   "metadata": {},
   "outputs": [],
   "source": [
    "from sklearn.decomposition import LatentDirichletAllocation"
   ]
  },
  {
   "cell_type": "markdown",
   "metadata": {},
   "source": [
    "Consideraremos 10 clases"
   ]
  },
  {
   "cell_type": "code",
   "execution_count": 14,
   "metadata": {},
   "outputs": [],
   "source": [
    "lda_model = LatentDirichletAllocation(n_components=10, random_state=42)"
   ]
  },
  {
   "cell_type": "code",
   "execution_count": 15,
   "metadata": {
    "scrolled": true
   },
   "outputs": [],
   "source": [
    "begin_time = time.time()\n",
    "lda_model.fit(tfidf_vectorizer_vectors)\n",
    "# grabamos el tiempo de ejecución\n",
    "lda_time = time.time() - begin_time"
   ]
  },
  {
   "cell_type": "markdown",
   "metadata": {},
   "source": [
    "* Mostrar las 15 palabras mas comunes para cada uno de los tópicos que hayan decido que buscan."
   ]
  },
  {
   "cell_type": "code",
   "execution_count": 16,
   "metadata": {},
   "outputs": [
    {
     "name": "stdout",
     "output_type": "stream",
     "text": [
      "\n",
      "15 Palabras más comunes del Tópico 0\n",
      "['anexo', 'registro', 'servicios', 'secretaria', 'direccion', 'acuerdo', 'decreto', 'fecha', 'trabajo', 'ministerio', 'presente', 'resolucion', 'nacional', 'numero', 'articulo']\n",
      "\n",
      "15 Palabras más comunes del Tópico 1\n",
      "['administracion federal', 'subdireccion', 'mercaderias', 'control aduanero', 'subdireccion general', 'general', 'externa numero', 'direccion general', 'aduana', 'aduanera', 'externa', 'nota externa', 'aduanero', 'general aduanas', 'aduanas']\n",
      "\n",
      "15 Palabras más comunes del Tópico 2\n",
      "['autarquica ambito', 'produccion resuelve', 'obrante planillas', 'grupo mercado', 'exministerio', 'sinapa', 'detalle obrante', 'cuenta conformidad', 'resolucion fijanse', 'hacienda ministerio', 'distribucion presupuesto', 'mineria dependiente', 'toda designacion', 'articulo prorrogase', 'compete secretaria']\n",
      "\n",
      "15 Palabras más comunes del Tópico 3\n",
      "['subsecretaria politica', 'compete secretaria', 'articulo gastos', 'gastos demande', 'partidas especificas', 'atendidos', 'internacional', 'comercio', 'comercio internacional', 'ministerio relaciones', 'exteriores', 'internacional culto', 'exteriores comercio', 'relaciones exteriores', 'culto']\n",
      "\n",
      "15 Palabras más comunes del Tópico 4\n",
      "['fernandez', 'decreto designase', 'archivese kirchner', 'kirchner', 'articulo designase', 'decreto tengase', 'trabajo agrario', 'agrario', 'nacional trabajo', 'tengase', 'tengase nacion', 'cumplase comuniquese', 'cumplase', 'nacion', 'designase']\n",
      "\n",
      "15 Palabras más comunes del Tópico 5\n",
      "['citada', 'bcra', 'entidad', 'enlace', 'autorizado entidad', 'enlace autorizado', 'republica argentina', 'republica', 'citada comunicacion', 'entidad citada', 'comunicacion', 'central', 'banco', 'central republica', 'banco central']\n",
      "\n",
      "15 Palabras más comunes del Tópico 6\n",
      "['sala sesiones', 'sesiones congreso', 'congreso argentino', 'ejecutivo nacional', 'diputados', 'sesiones', 'diputados nacion', 'camara diputados', 'poder', 'comuniquese poder', 'senado', 'ejecutivo', 'validez decreto', 'poder ejecutivo', 'congreso']\n",
      "\n",
      "15 Palabras más comunes del Tópico 7\n",
      "['transporte automotor', 'impedimento', 'casos ausencia', 'nacional regulacion', 'regulacion transporte', 'pasajeros', 'ausencia impedimento', 'ferroviario', 'transporte ministerio', 'regimen reemplazos', 'reemplazos', 'regional', 'direccion regional', 'secretaria transporte', 'transporte']\n",
      "\n",
      "15 Palabras más comunes del Tópico 8\n",
      "['social', 'fojas', 'importe promedio', 'seguridad social', 'empleo', 'indemnizatorio', 'tope indemnizatorio', 'empleo seguridad', 'trabajo empleo', 'ministerio trabajo', 'secretaria trabajo', 'promedio', 'tope', 'numero', 'trabajo']\n",
      "\n",
      "15 Palabras más comunes del Tópico 9\n",
      "['mercaderia', 'posicion arancelaria', 'arancelaria', 'ubicar', 'ubicar posicion', 'siguiente mercaderia', 'arancelaria siguiente', 'secretaria agricultura', 'pesca alimentos', 'agricultura', 'ganaderia pesca', 'alimentos', 'agricultura ganaderia', 'ganaderia', 'pesca']\n"
     ]
    }
   ],
   "source": [
    "for index in range(10):\n",
    "    topico = lda_model.components_[index]\n",
    "    print(f'\\n15 Palabras más comunes del Tópico {index}')\n",
    "    print([tfidf_vectorizer.get_feature_names()[index] for index in topico.argsort()[-15:]])"
   ]
  },
  {
   "cell_type": "markdown",
   "metadata": {},
   "source": [
    "* Hacer un análisis si entre las palabras mas comunes se detecta algún tópico que pudiera definirse como clase"
   ]
  },
  {
   "cell_type": "markdown",
   "metadata": {},
   "source": [
    " ----------------------------------------------------------------------------------------------------------"
   ]
  },
  {
   "cell_type": "markdown",
   "metadata": {},
   "source": [
    "#### NMF (Non-negative Matrix Factorization)\n",
    "\n",
    "* Utilizando Scikit-Learn crear una instancia de NMF con la cantidad de componentes (clases) que consideren apropiada de acuerdo al conocimiento que ya tienen del dominio (usar random_state=42)"
   ]
  },
  {
   "cell_type": "code",
   "execution_count": 17,
   "metadata": {},
   "outputs": [],
   "source": [
    "from sklearn.decomposition import NMF"
   ]
  },
  {
   "cell_type": "markdown",
   "metadata": {},
   "source": [
    "Consideraremos 10 clases"
   ]
  },
  {
   "cell_type": "code",
   "execution_count": 18,
   "metadata": {},
   "outputs": [],
   "source": [
    "nmf_model = NMF(n_components=10,random_state=42)"
   ]
  },
  {
   "cell_type": "code",
   "execution_count": 19,
   "metadata": {},
   "outputs": [],
   "source": [
    "begin_time = time.time()\n",
    "nmf_model.fit(tfidf_vectorizer_vectors)\n",
    "# grabamos el tiempo de ejecución\n",
    "mnf_time = time.time() - begin_time"
   ]
  },
  {
   "cell_type": "markdown",
   "metadata": {},
   "source": [
    "* Mostrar las 15 palabras mas comunes para cada uno de los tópicos que hayan decido que buscan."
   ]
  },
  {
   "cell_type": "code",
   "execution_count": 20,
   "metadata": {},
   "outputs": [
    {
     "name": "stdout",
     "output_type": "stream",
     "text": [
      "\n",
      "15 Palabras más comunes del Tópico 0\n",
      "['empleo', 'ministerio trabajo', 'empleo seguridad', 'trabajo empleo', 'remuneraciones tope', 'importe', 'promedio mensual', 'secretaria trabajo', 'indemnizatorio', 'tope indemnizatorio', 'importe promedio', 'tope', 'promedio', 'numero', 'trabajo']\n",
      "\n",
      "15 Palabras más comunes del Tópico 1\n",
      "['republica argentina', 'central', 'banco', 'central republica', 'argentina bcra', 'banco central', 'citada comunicacion', 'entidad citada', 'bcra', 'bcra enlace', 'comunicacion', 'autorizado', 'enlace', 'autorizado entidad', 'enlace autorizado']\n",
      "\n",
      "15 Palabras más comunes del Tópico 2\n",
      "['inversion publica', 'planificacion federal', 'publica servicios', 'federal inversion', 'nacion', 'inversion', 'presupuesto', 'transporte', 'servicios', 'publica', 'decreto', 'ministerio', 'articulo', 'nacional', 'numero']\n",
      "\n",
      "15 Palabras más comunes del Tópico 3\n",
      "['social', 'seguridad social', 'empleo', 'empleo seguridad', 'trabajo empleo', 'nacional relaciones', 'relaciones trabajo', 'ministerio trabajo', 'fojas', 'relaciones', 'expediente', 'partes', 'acuerdo', 'numero', 'trabajo']\n",
      "\n",
      "15 Palabras más comunes del Tópico 4\n",
      "['diputados nacion', 'camara diputados', 'diputados', 'comuniquese poder', 'decreto poder', 'senado', 'validez', 'nacion', 'articulo', 'ejecutivo nacional', 'validez decreto', 'poder', 'ejecutivo', 'poder ejecutivo', 'congreso']\n",
      "\n",
      "15 Palabras más comunes del Tópico 5\n",
      "['peso ajustables', 'estabilizacion referencia', 'coeficiente estabilizacion', 'banco', 'letras', 'peso peso', 'publicos nacionales', 'titulos publicos', 'licitacion letras', 'nacionales licitacion', 'circular titulos', 'banco central', 'central republica', 'argentina peso', 'peso']\n",
      "\n",
      "15 Palabras más comunes del Tópico 6\n",
      "['partes', 'presente', 'caso', 'presente convenio', 'comision', 'trabajadores', 'cada', 'debera', 'tareas', 'convenio', 'empresa', 'personal', 'trabajador', 'trabajo', 'articulo']\n",
      "\n",
      "15 Palabras más comunes del Tópico 7\n",
      "['articulo', 'pesca alimentos', 'fecha', 'ganaderia pesca', 'agricultura', 'agricultura ganaderia', 'ganaderia', 'alimentos', 'numero', 'resolucion', 'economia produccion', 'ministerio economia', 'produccion', 'pesca', 'economia']\n",
      "\n",
      "15 Palabras más comunes del Tópico 8\n",
      "['general aduanas', 'administracion', 'direccion', 'ingresos', 'federal ingresos', 'federal', 'ingresos publicos', 'general numero', 'aduanas', 'articulo', 'resolucion', 'administracion federal', 'general', 'numero', 'resolucion general']\n",
      "\n",
      "15 Palabras más comunes del Tópico 9\n",
      "['entidad', 'republica', 'republica argentina', 'central', 'banco', 'central republica', 'comunicacion', 'citada comunicacion', 'entidad citada', 'banco central', 'autorizados', 'argentina enlaces', 'enlaces', 'autorizados entidad', 'enlaces autorizados']\n"
     ]
    }
   ],
   "source": [
    "for index in range(10):\n",
    "    topico = nmf_model.components_[index]\n",
    "    print(f'\\n15 Palabras más comunes del Tópico {index}')\n",
    "    print([tfidf_vectorizer.get_feature_names()[index] for index in topico.argsort()[-15:]])"
   ]
  },
  {
   "cell_type": "markdown",
   "metadata": {},
   "source": [
    "* Hacer un análisis si entre las palabras mas comunes se detecta algún tópico que pudiera definirse como clase"
   ]
  },
  {
   "cell_type": "markdown",
   "metadata": {},
   "source": [
    " ----------------------------------------------------------------------------------------------------------"
   ]
  },
  {
   "cell_type": "markdown",
   "metadata": {},
   "source": [
    "* Evaluar velocidad de proceso para saber cual de los dos es mas rápido y cual tiene la agrupación de tópicos mas cercana a lo que podrían ser clases válidas para la agrupación de documentos."
   ]
  },
  {
   "cell_type": "code",
   "execution_count": 21,
   "metadata": {},
   "outputs": [
    {
     "name": "stdout",
     "output_type": "stream",
     "text": [
      "LDA demoró 10.9812 segundos\n",
      "MNF demoró 1.8971 segundos\n"
     ]
    }
   ],
   "source": [
    "print(f'LDA demoró {lda_time:.4f} segundos')\n",
    "print(f'MNF demoró {mnf_time:.4f} segundos')"
   ]
  },
  {
   "cell_type": "markdown",
   "metadata": {},
   "source": [
    "MNF fue mucho más rápido que LDA."
   ]
  },
  {
   "cell_type": "markdown",
   "metadata": {},
   "source": [
    "* Agregar una columna al dataframe del corpus con el tópico (clase) que le corresponde a cada documento."
   ]
  },
  {
   "cell_type": "markdown",
   "metadata": {},
   "source": [
    "Procesamos los documentos con LDA y agregamos la columna"
   ]
  },
  {
   "cell_type": "code",
   "execution_count": 22,
   "metadata": {},
   "outputs": [],
   "source": [
    "topic_results = lda_model.transform(tfidf_vectorizer_vectors)"
   ]
  },
  {
   "cell_type": "code",
   "execution_count": 23,
   "metadata": {},
   "outputs": [
    {
     "name": "stdout",
     "output_type": "stream",
     "text": [
      "Al primer documento le asignó la clase  0\n"
     ]
    }
   ],
   "source": [
    "print('Al primer documento le asignó la clase ', topic_results[0].argmax())"
   ]
  },
  {
   "cell_type": "code",
   "execution_count": 24,
   "metadata": {},
   "outputs": [],
   "source": [
    "df_corpus[\"LDA_CLASE\"] = df_corpus[\"ID\"].apply(lambda x: topic_results[x].argmax())"
   ]
  },
  {
   "cell_type": "markdown",
   "metadata": {},
   "source": [
    "Procesamos los documentos con NMF y agregamos la columna"
   ]
  },
  {
   "cell_type": "code",
   "execution_count": 25,
   "metadata": {},
   "outputs": [],
   "source": [
    "topic_results = nmf_model.transform(tfidf_vectorizer_vectors)"
   ]
  },
  {
   "cell_type": "code",
   "execution_count": 26,
   "metadata": {},
   "outputs": [
    {
     "name": "stdout",
     "output_type": "stream",
     "text": [
      "Al primer documento le asignó la clase  6\n"
     ]
    }
   ],
   "source": [
    "print('Al primer documento le asignó la clase ', topic_results[0].argmax())"
   ]
  },
  {
   "cell_type": "code",
   "execution_count": 27,
   "metadata": {},
   "outputs": [],
   "source": [
    "df_corpus[\"NMF_CLASE\"] = df_corpus[\"ID\"].apply(lambda x: topic_results[x].argmax())"
   ]
  },
  {
   "cell_type": "markdown",
   "metadata": {},
   "source": [
    "Observamos las primeras filas para comparar"
   ]
  },
  {
   "cell_type": "code",
   "execution_count": 28,
   "metadata": {},
   "outputs": [
    {
     "data": {
      "text/html": [
       "<div>\n",
       "<style scoped>\n",
       "    .dataframe tbody tr th:only-of-type {\n",
       "        vertical-align: middle;\n",
       "    }\n",
       "\n",
       "    .dataframe tbody tr th {\n",
       "        vertical-align: top;\n",
       "    }\n",
       "\n",
       "    .dataframe thead th {\n",
       "        text-align: right;\n",
       "    }\n",
       "</style>\n",
       "<table border=\"1\" class=\"dataframe\">\n",
       "  <thead>\n",
       "    <tr style=\"text-align: right;\">\n",
       "      <th></th>\n",
       "      <th>ID</th>\n",
       "      <th>TEXTO</th>\n",
       "      <th>TEXTO_NORM</th>\n",
       "      <th>LDA_CLASE</th>\n",
       "      <th>NMF_CLASE</th>\n",
       "    </tr>\n",
       "  </thead>\n",
       "  <tbody>\n",
       "    <tr>\n",
       "      <th>0</th>\n",
       "      <td>0</td>\n",
       "      <td>ministerio de trabajo, empleo y seguridad soci...</td>\n",
       "      <td>ministerio trabajo empleo seguridad social sup...</td>\n",
       "      <td>0</td>\n",
       "      <td>6</td>\n",
       "    </tr>\n",
       "    <tr>\n",
       "      <th>1</th>\n",
       "      <td>1</td>\n",
       "      <td>administracion federal de ingresos publicos di...</td>\n",
       "      <td>administracion federal ingresos publicos direc...</td>\n",
       "      <td>1</td>\n",
       "      <td>8</td>\n",
       "    </tr>\n",
       "    <tr>\n",
       "      <th>2</th>\n",
       "      <td>2</td>\n",
       "      <td>administración federal de ingresos públicos ob...</td>\n",
       "      <td>administracion federal ingresos publicos oblig...</td>\n",
       "      <td>0</td>\n",
       "      <td>8</td>\n",
       "    </tr>\n",
       "    <tr>\n",
       "      <th>3</th>\n",
       "      <td>3</td>\n",
       "      <td>(nota infoleg: norma abrogada por art. 2° de l...</td>\n",
       "      <td>nota infoleg norma abrogada articulo resolucio...</td>\n",
       "      <td>0</td>\n",
       "      <td>2</td>\n",
       "    </tr>\n",
       "    <tr>\n",
       "      <th>4</th>\n",
       "      <td>4</td>\n",
       "      <td>secretaria de ciencia, tecnologia e innovacion...</td>\n",
       "      <td>secretaria ciencia tecnologia innovacion produ...</td>\n",
       "      <td>0</td>\n",
       "      <td>6</td>\n",
       "    </tr>\n",
       "    <tr>\n",
       "      <th>5</th>\n",
       "      <td>5</td>\n",
       "      <td>ministerio de defensa decreto 524/2007 desígna...</td>\n",
       "      <td>ministerio defensa decreto designase directora...</td>\n",
       "      <td>0</td>\n",
       "      <td>2</td>\n",
       "    </tr>\n",
       "    <tr>\n",
       "      <th>6</th>\n",
       "      <td>6</td>\n",
       "      <td>banco central de la republica argentina ( b.c....</td>\n",
       "      <td>banco central republica argentina bcra enlaces...</td>\n",
       "      <td>5</td>\n",
       "      <td>9</td>\n",
       "    </tr>\n",
       "    <tr>\n",
       "      <th>7</th>\n",
       "      <td>7</td>\n",
       "      <td>ministerio de trabajo, empleo y seguridad soci...</td>\n",
       "      <td>ministerio trabajo empleo seguridad social sec...</td>\n",
       "      <td>8</td>\n",
       "      <td>0</td>\n",
       "    </tr>\n",
       "    <tr>\n",
       "      <th>8</th>\n",
       "      <td>8</td>\n",
       "      <td>banco central de la republica argentina (b.c.r...</td>\n",
       "      <td>banco central republica argentina bcra enlace ...</td>\n",
       "      <td>5</td>\n",
       "      <td>5</td>\n",
       "    </tr>\n",
       "    <tr>\n",
       "      <th>9</th>\n",
       "      <td>9</td>\n",
       "      <td>consejo federal de la juventud ley 26.227 créa...</td>\n",
       "      <td>consejo federal juventud crease ambito ministe...</td>\n",
       "      <td>0</td>\n",
       "      <td>4</td>\n",
       "    </tr>\n",
       "  </tbody>\n",
       "</table>\n",
       "</div>"
      ],
      "text/plain": [
       "   ID                                              TEXTO  \\\n",
       "0   0  ministerio de trabajo, empleo y seguridad soci...   \n",
       "1   1  administracion federal de ingresos publicos di...   \n",
       "2   2  administración federal de ingresos públicos ob...   \n",
       "3   3  (nota infoleg: norma abrogada por art. 2° de l...   \n",
       "4   4  secretaria de ciencia, tecnologia e innovacion...   \n",
       "5   5  ministerio de defensa decreto 524/2007 desígna...   \n",
       "6   6  banco central de la republica argentina ( b.c....   \n",
       "7   7  ministerio de trabajo, empleo y seguridad soci...   \n",
       "8   8  banco central de la republica argentina (b.c.r...   \n",
       "9   9  consejo federal de la juventud ley 26.227 créa...   \n",
       "\n",
       "                                          TEXTO_NORM  LDA_CLASE  NMF_CLASE  \n",
       "0  ministerio trabajo empleo seguridad social sup...          0          6  \n",
       "1  administracion federal ingresos publicos direc...          1          8  \n",
       "2  administracion federal ingresos publicos oblig...          0          8  \n",
       "3  nota infoleg norma abrogada articulo resolucio...          0          2  \n",
       "4  secretaria ciencia tecnologia innovacion produ...          0          6  \n",
       "5  ministerio defensa decreto designase directora...          0          2  \n",
       "6  banco central republica argentina bcra enlaces...          5          9  \n",
       "7  ministerio trabajo empleo seguridad social sec...          8          0  \n",
       "8  banco central republica argentina bcra enlace ...          5          5  \n",
       "9  consejo federal juventud crease ambito ministe...          0          4  "
      ]
     },
     "execution_count": 28,
     "metadata": {},
     "output_type": "execute_result"
    }
   ],
   "source": [
    "df_corpus.head(10)"
   ]
  },
  {
   "cell_type": "markdown",
   "metadata": {},
   "source": [
    "Comparamos las distribución en la asignación de ambas clases."
   ]
  },
  {
   "cell_type": "code",
   "execution_count": 28,
   "metadata": {},
   "outputs": [
    {
     "data": {
      "text/plain": [
       "<AxesSubplot:>"
      ]
     },
     "execution_count": 28,
     "metadata": {},
     "output_type": "execute_result"
    },
    {
     "data": {
      "image/png": "[encoded data removed]",
      "text/plain": [
       "<Figure size 432x288 with 1 Axes>"
      ]
     },
     "metadata": {
      "needs_background": "light"
     },
     "output_type": "display_data"
    }
   ],
   "source": [
    "df_corpus['LDA_CLASE'].hist(bins = 10)"
   ]
  },
  {
   "cell_type": "markdown",
   "metadata": {},
   "source": [
    "Observamos que LDA prácticamente no tuvo una buena generación de tópicos ya de que la mayoría de los documentos los clasificó en el grupo 0."
   ]
  },
  {
   "cell_type": "code",
   "execution_count": 29,
   "metadata": {
    "scrolled": true
   },
   "outputs": [
    {
     "data": {
      "text/plain": [
       "<AxesSubplot:>"
      ]
     },
     "execution_count": 29,
     "metadata": {},
     "output_type": "execute_result"
    },
    {
     "data": {
      "image/png": "[encoded data removed]",
      "text/plain": [
       "<Figure size 432x288 with 1 Axes>"
      ]
     },
     "metadata": {
      "needs_background": "light"
     },
     "output_type": "display_data"
    }
   ],
   "source": [
    "df_corpus['NMF_CLASE'].hist(bins = 10)"
   ]
  },
  {
   "cell_type": "markdown",
   "metadata": {},
   "source": [
    "En el caso de MNF, generó una mejor agrupación, ya que la clasificación de los documentos estuvo un poco más homogenea, aunque hay muchos clasificados en la clase 2"
   ]
  },
  {
   "cell_type": "markdown",
   "metadata": {},
   "source": [
    "* Opcional: Entrenar con algún modelo de acuerdo a las experiencias previas para poder después aplicar busquedas de terminos que nos traigan los documentos similares."
   ]
  },
  {
   "cell_type": "markdown",
   "metadata": {},
   "source": [
    " ----------------------------------------------------------------------------------------------------------"
   ]
  },
  {
   "cell_type": "markdown",
   "metadata": {},
   "source": [
    "* Realizar todo el proceso utilizando Gensim-Doc2Vec "
   ]
  },
  {
   "cell_type": "code",
   "execution_count": 30,
   "metadata": {},
   "outputs": [],
   "source": [
    "import multiprocessing\n",
    "import gensim\n",
    "from gensim.models.doc2vec import Doc2Vec, TaggedDocument\n",
    "from sklearn.model_selection import train_test_split"
   ]
  },
  {
   "cell_type": "markdown",
   "metadata": {},
   "source": [
    "Dividimos los datos en entrenamiento y validación con un procentaje de 70% para entrenamiento y 30% para validación con shuffle, seleccionar las features X e Y"
   ]
  },
  {
   "cell_type": "code",
   "execution_count": 76,
   "metadata": {},
   "outputs": [],
   "source": [
    "# tenemos que convertir TEXTO_NORM en una lista y generar una lista de todas estas listas\n",
    "# para que podemos dividir los datos\n",
    "X = list(df_corpus[\"TEXTO_NORM\"].apply(lambda x: gensim.utils.simple_preprocess(x)))"
   ]
  },
  {
   "cell_type": "code",
   "execution_count": 81,
   "metadata": {},
   "outputs": [],
   "source": [
    "# división entre entrenamiento y evaluación\n",
    "X_train, X_test = train_test_split(X, test_size=0.3, random_state=0, shuffle=True)"
   ]
  },
  {
   "cell_type": "code",
   "execution_count": 85,
   "metadata": {},
   "outputs": [
    {
     "data": {
      "text/plain": [
       "([['ministerio',\n",
       "   'trabajo',\n",
       "   'empleo',\n",
       "   'seguridad',\n",
       "   'social',\n",
       "   'secretaria',\n",
       "   'trabajo',\n",
       "   'resolucion',\n",
       "   'numero',\n",
       "   'registro',\n",
       "   'numero',\n",
       "   'visto',\n",
       "   'expediente',\n",
       "   'numero',\n",
       "   'registro',\n",
       "   'ministerio',\n",
       "   'trabajo',\n",
       "   'empleo',\n",
       "   'seguridad',\n",
       "   'social',\n",
       "   'numero',\n",
       "   'numero',\n",
       "   'modificatorias',\n",
       "   'resolucion',\n",
       "   'secretaria',\n",
       "   'trabajo',\n",
       "   'numero',\n",
       "   'fecha',\n",
       "   'diciembre',\n",
       "   'considerando',\n",
       "   'fojas',\n",
       "   'expediente',\n",
       "   'numero',\n",
       "   'obra',\n",
       "   'escala',\n",
       "   'salarial',\n",
       "   'pactada',\n",
       "   'union',\n",
       "   'personal',\n",
       "   'jerarquico',\n",
       "   'empresas',\n",
       "   'upjet',\n",
       "   'federacion',\n",
       "   'cooperativas',\n",
       "   'republica',\n",
       "   'argentina',\n",
       "   'marco',\n",
       "   'convenio',\n",
       "   'colectivo',\n",
       "   'trabajo',\n",
       "   'numero',\n",
       "   'conforme',\n",
       "   'dispuesto',\n",
       "   'negociacion',\n",
       "   'colectiva',\n",
       "   'numero',\n",
       "   'escalas',\n",
       "   'precitadas',\n",
       "   'forman',\n",
       "   'parte',\n",
       "   'acuerdo',\n",
       "   'homologado',\n",
       "   'resolucion',\n",
       "   'numero',\n",
       "   'registrados',\n",
       "   'bajo',\n",
       "   'numero',\n",
       "   'conforme',\n",
       "   'surge',\n",
       "   'fojas',\n",
       "   'vuelta',\n",
       "   'respectivamente',\n",
       "   'parte',\n",
       "   'fojas',\n",
       "   'obra',\n",
       "   'informe',\n",
       "   'tecnico',\n",
       "   'elaborado',\n",
       "   'direccion',\n",
       "   'regulaciones',\n",
       "   'trabajo',\n",
       "   'dependiente',\n",
       "   'secretaria',\n",
       "   'trabajo',\n",
       "   'cuentas',\n",
       "   'calculo',\n",
       "   'base',\n",
       "   'promedio',\n",
       "   'mensual',\n",
       "   'tope',\n",
       "   'indemnizatorio',\n",
       "   'correspondiente',\n",
       "   'segundo',\n",
       "   'parrafo',\n",
       "   'articulo',\n",
       "   'numero',\n",
       "   'modificatorias',\n",
       "   'imponen',\n",
       "   'ministerio',\n",
       "   'trabajo',\n",
       "   'empleo',\n",
       "   'seguridad',\n",
       "   'social',\n",
       "   'obligacion',\n",
       "   'fijar',\n",
       "   'publicar',\n",
       "   'promedios',\n",
       "   'remuneraciones',\n",
       "   'tope',\n",
       "   'indemnizatorios',\n",
       "   'aplicables',\n",
       "   'calculo',\n",
       "   'indemnizacion',\n",
       "   'corresponde',\n",
       "   'trabajadores',\n",
       "   'casos',\n",
       "   'extincion',\n",
       "   'injustificada',\n",
       "   'contrato',\n",
       "   'trabajo',\n",
       "   'dable',\n",
       "   'destacar',\n",
       "   'ministerio',\n",
       "   'trabajo',\n",
       "   'empleo',\n",
       "   'seguridad',\n",
       "   'social',\n",
       "   'calcula',\n",
       "   'unico',\n",
       "   'importe',\n",
       "   'promedio',\n",
       "   'mensual',\n",
       "   'convenio',\n",
       "   'excepto',\n",
       "   'homologuen',\n",
       "   'acuerdos',\n",
       "   'rama',\n",
       "   'empresas',\n",
       "   'separado',\n",
       "   'cuyo',\n",
       "   'caso',\n",
       "   'calcula',\n",
       "   'promedio',\n",
       "   'mensual',\n",
       "   'especifico',\n",
       "   'rama',\n",
       "   'empresa',\n",
       "   'quedando',\n",
       "   'restantes',\n",
       "   'actividades',\n",
       "   'valor',\n",
       "   'promedio',\n",
       "   'conjunto',\n",
       "   'desagregacion',\n",
       "   'bajo',\n",
       "   'denominacion',\n",
       "   'general',\n",
       "   'tope',\n",
       "   'indemnizatorio',\n",
       "   'determina',\n",
       "   'multiplicando',\n",
       "   'tres',\n",
       "   'importe',\n",
       "   'promedio',\n",
       "   'mensual',\n",
       "   'resultante',\n",
       "   'calculo',\n",
       "   'descripto',\n",
       "   'utsupra',\n",
       "   'presente',\n",
       "   'medida',\n",
       "   'dictum',\n",
       "   'atribuciones',\n",
       "   'conferidas',\n",
       "   'articulo',\n",
       "   'numero',\n",
       "   'modificatorias',\n",
       "   'decreto',\n",
       "   'numero',\n",
       "   'ello',\n",
       "   'secretaria',\n",
       "   'trabajo',\n",
       "   'resuelve',\n",
       "   'articulo',\n",
       "   'fijase',\n",
       "   'importe',\n",
       "   'promedio',\n",
       "   'remuneraciones',\n",
       "   'tope',\n",
       "   'indemnizatorio',\n",
       "   'correspondiente',\n",
       "   'acuerdo',\n",
       "   'salarial',\n",
       "   'homologado',\n",
       "   'resolucion',\n",
       "   'secretaria',\n",
       "   'trabajo',\n",
       "   'numero',\n",
       "   'registrado',\n",
       "   'bajo',\n",
       "   'numero',\n",
       "   'suscripto',\n",
       "   'union',\n",
       "   'personal',\n",
       "   'jerarquico',\n",
       "   'empresas',\n",
       "   'upjet',\n",
       "   'federacion',\n",
       "   'cooperativas',\n",
       "   'republica',\n",
       "   'argentina',\n",
       "   'conforme',\n",
       "   'detalle',\n",
       "   'anexo',\n",
       "   'forma',\n",
       "   'parte',\n",
       "   'integrante',\n",
       "   'presente',\n",
       "   'articulo',\n",
       "   'registrese',\n",
       "   'presente',\n",
       "   'resolucion',\n",
       "   'departamento',\n",
       "   'despacho',\n",
       "   'direccion',\n",
       "   'despacho',\n",
       "   'mesa',\n",
       "   'entradas',\n",
       "   'archivo',\n",
       "   'dependiente',\n",
       "   'subsecretaria',\n",
       "   'coordinacion',\n",
       "   'cumplido',\n",
       "   'ello',\n",
       "   'pase',\n",
       "   'direccion',\n",
       "   'nacional',\n",
       "   'relaciones',\n",
       "   'trabajo',\n",
       "   'division',\n",
       "   'norma',\n",
       "   'laborales',\n",
       "   'registro',\n",
       "   'general',\n",
       "   'convenciones',\n",
       "   'colectivas',\n",
       "   'laudo',\n",
       "   'registre',\n",
       "   'importe',\n",
       "   'promedio',\n",
       "   'remuneraciones',\n",
       "   'tope',\n",
       "   'indemnizatorio',\n",
       "   'fijado',\n",
       "   'bajo',\n",
       "   'presente',\n",
       "   'resolucion',\n",
       "   'articulo',\n",
       "   'remitase',\n",
       "   'copia',\n",
       "   'debidamente',\n",
       "   'autenticada',\n",
       "   'departamento',\n",
       "   'biblioteca',\n",
       "   'difusion',\n",
       "   'articulo',\n",
       "   'girese',\n",
       "   'departamento',\n",
       "   'control',\n",
       "   'gestion',\n",
       "   'notificacion',\n",
       "   'partes',\n",
       "   'signatarias',\n",
       "   'posteriormente',\n",
       "   'procedase',\n",
       "   'guarda',\n",
       "   'presente',\n",
       "   'legajo',\n",
       "   'articulo',\n",
       "   'hagase',\n",
       "   'saber',\n",
       "   'supuesto',\n",
       "   'ministerio',\n",
       "   'trabajo',\n",
       "   'empleo',\n",
       "   'seguridad',\n",
       "   'social',\n",
       "   'efectue',\n",
       "   'publicacion',\n",
       "   'caracter',\n",
       "   'gratuita',\n",
       "   'importe',\n",
       "   'promedio',\n",
       "   'remuneraciones',\n",
       "   'tope',\n",
       "   'indemnizatorio',\n",
       "   'fijado',\n",
       "   'presente',\n",
       "   'partes',\n",
       "   'deberan',\n",
       "   'proceder',\n",
       "   'acuerdo',\n",
       "   'establecido',\n",
       "   'articulo',\n",
       "   'numero',\n",
       "   'articulo',\n",
       "   'comuniquese',\n",
       "   'publiquese',\n",
       "   'dese',\n",
       "   'direccion',\n",
       "   'nacional',\n",
       "   'registro',\n",
       "   'oficial',\n",
       "   'archivese',\n",
       "   'noemi',\n",
       "   'rial',\n",
       "   'secretaria',\n",
       "   'trabajo',\n",
       "   'expediente',\n",
       "   'numero',\n",
       "   'buenos',\n",
       "   'aire',\n",
       "   'mayo',\n",
       "   'conformidad',\n",
       "   'ordenado',\n",
       "   'resolucion',\n",
       "   'numero',\n",
       "   'tomado',\n",
       "   'razon',\n",
       "   'tope',\n",
       "   'indemnizatorio',\n",
       "   'calculado',\n",
       "   'expediente',\n",
       "   'referencia',\n",
       "   'quedando',\n",
       "   'registrado',\n",
       "   'numero',\n",
       "   'valeria',\n",
       "   'valetti',\n",
       "   'registro',\n",
       "   'convenios',\n",
       "   'colectivos',\n",
       "   'trabajo',\n",
       "   'coordinacion',\n",
       "   'dnrt']],\n",
       " [['banco',\n",
       "   'central',\n",
       "   'republica',\n",
       "   'argentina',\n",
       "   'enlace',\n",
       "   'autorizado',\n",
       "   'citada',\n",
       "   'entidad',\n",
       "   'comunicacion',\n",
       "   'circular',\n",
       "   'camex',\n",
       "   'mercado',\n",
       "   'unico',\n",
       "   'libre',\n",
       "   'cambios',\n",
       "   'horarios',\n",
       "   'atencion',\n",
       "   'clientes']])"
      ]
     },
     "execution_count": 85,
     "metadata": {},
     "output_type": "execute_result"
    }
   ],
   "source": [
    "X_train[:1], X_test[:1]"
   ]
  },
  {
   "cell_type": "markdown",
   "metadata": {},
   "source": [
    "Para entrenar el modelo necesitamos taguear los documentos:\n",
    "\n",
    "https://www.tutorialspoint.com/gensim/gensim_doc2vec_model.htm"
   ]
  },
  {
   "cell_type": "code",
   "execution_count": 86,
   "metadata": {},
   "outputs": [],
   "source": [
    "def tagged_document(texto):\n",
    "    for i, list_of_words in enumerate(texto):\n",
    "        yield gensim.models.doc2vec.TaggedDocument(list_of_words, [i])        "
   ]
  },
  {
   "cell_type": "code",
   "execution_count": 87,
   "metadata": {},
   "outputs": [],
   "source": [
    "data_for_training = list(tagged_document(X_train))"
   ]
  },
  {
   "cell_type": "markdown",
   "metadata": {},
   "source": [
    "Imprimimos el primer documento tagueado"
   ]
  },
  {
   "cell_type": "code",
   "execution_count": 88,
   "metadata": {},
   "outputs": [
    {
     "name": "stdout",
     "output_type": "stream",
     "text": [
      "[TaggedDocument(words=['ministerio', 'trabajo', 'empleo', 'seguridad', 'social', 'secretaria', 'trabajo', 'resolucion', 'numero', 'registro', 'numero', 'visto', 'expediente', 'numero', 'registro', 'ministerio', 'trabajo', 'empleo', 'seguridad', 'social', 'numero', 'numero', 'modificatorias', 'resolucion', 'secretaria', 'trabajo', 'numero', 'fecha', 'diciembre', 'considerando', 'fojas', 'expediente', 'numero', 'obra', 'escala', 'salarial', 'pactada', 'union', 'personal', 'jerarquico', 'empresas', 'upjet', 'federacion', 'cooperativas', 'republica', 'argentina', 'marco', 'convenio', 'colectivo', 'trabajo', 'numero', 'conforme', 'dispuesto', 'negociacion', 'colectiva', 'numero', 'escalas', 'precitadas', 'forman', 'parte', 'acuerdo', 'homologado', 'resolucion', 'numero', 'registrados', 'bajo', 'numero', 'conforme', 'surge', 'fojas', 'vuelta', 'respectivamente', 'parte', 'fojas', 'obra', 'informe', 'tecnico', 'elaborado', 'direccion', 'regulaciones', 'trabajo', 'dependiente', 'secretaria', 'trabajo', 'cuentas', 'calculo', 'base', 'promedio', 'mensual', 'tope', 'indemnizatorio', 'correspondiente', 'segundo', 'parrafo', 'articulo', 'numero', 'modificatorias', 'imponen', 'ministerio', 'trabajo', 'empleo', 'seguridad', 'social', 'obligacion', 'fijar', 'publicar', 'promedios', 'remuneraciones', 'tope', 'indemnizatorios', 'aplicables', 'calculo', 'indemnizacion', 'corresponde', 'trabajadores', 'casos', 'extincion', 'injustificada', 'contrato', 'trabajo', 'dable', 'destacar', 'ministerio', 'trabajo', 'empleo', 'seguridad', 'social', 'calcula', 'unico', 'importe', 'promedio', 'mensual', 'convenio', 'excepto', 'homologuen', 'acuerdos', 'rama', 'empresas', 'separado', 'cuyo', 'caso', 'calcula', 'promedio', 'mensual', 'especifico', 'rama', 'empresa', 'quedando', 'restantes', 'actividades', 'valor', 'promedio', 'conjunto', 'desagregacion', 'bajo', 'denominacion', 'general', 'tope', 'indemnizatorio', 'determina', 'multiplicando', 'tres', 'importe', 'promedio', 'mensual', 'resultante', 'calculo', 'descripto', 'utsupra', 'presente', 'medida', 'dictum', 'atribuciones', 'conferidas', 'articulo', 'numero', 'modificatorias', 'decreto', 'numero', 'ello', 'secretaria', 'trabajo', 'resuelve', 'articulo', 'fijase', 'importe', 'promedio', 'remuneraciones', 'tope', 'indemnizatorio', 'correspondiente', 'acuerdo', 'salarial', 'homologado', 'resolucion', 'secretaria', 'trabajo', 'numero', 'registrado', 'bajo', 'numero', 'suscripto', 'union', 'personal', 'jerarquico', 'empresas', 'upjet', 'federacion', 'cooperativas', 'republica', 'argentina', 'conforme', 'detalle', 'anexo', 'forma', 'parte', 'integrante', 'presente', 'articulo', 'registrese', 'presente', 'resolucion', 'departamento', 'despacho', 'direccion', 'despacho', 'mesa', 'entradas', 'archivo', 'dependiente', 'subsecretaria', 'coordinacion', 'cumplido', 'ello', 'pase', 'direccion', 'nacional', 'relaciones', 'trabajo', 'division', 'norma', 'laborales', 'registro', 'general', 'convenciones', 'colectivas', 'laudo', 'registre', 'importe', 'promedio', 'remuneraciones', 'tope', 'indemnizatorio', 'fijado', 'bajo', 'presente', 'resolucion', 'articulo', 'remitase', 'copia', 'debidamente', 'autenticada', 'departamento', 'biblioteca', 'difusion', 'articulo', 'girese', 'departamento', 'control', 'gestion', 'notificacion', 'partes', 'signatarias', 'posteriormente', 'procedase', 'guarda', 'presente', 'legajo', 'articulo', 'hagase', 'saber', 'supuesto', 'ministerio', 'trabajo', 'empleo', 'seguridad', 'social', 'efectue', 'publicacion', 'caracter', 'gratuita', 'importe', 'promedio', 'remuneraciones', 'tope', 'indemnizatorio', 'fijado', 'presente', 'partes', 'deberan', 'proceder', 'acuerdo', 'establecido', 'articulo', 'numero', 'articulo', 'comuniquese', 'publiquese', 'dese', 'direccion', 'nacional', 'registro', 'oficial', 'archivese', 'noemi', 'rial', 'secretaria', 'trabajo', 'expediente', 'numero', 'buenos', 'aire', 'mayo', 'conformidad', 'ordenado', 'resolucion', 'numero', 'tomado', 'razon', 'tope', 'indemnizatorio', 'calculado', 'expediente', 'referencia', 'quedando', 'registrado', 'numero', 'valeria', 'valetti', 'registro', 'convenios', 'colectivos', 'trabajo', 'coordinacion', 'dnrt'], tags=[0])]\n"
     ]
    }
   ],
   "source": [
    "print(data_for_training [:1])"
   ]
  },
  {
   "cell_type": "markdown",
   "metadata": {},
   "source": [
    "Instanciamos el objeto Doc2Vec"
   ]
  },
  {
   "cell_type": "code",
   "execution_count": 89,
   "metadata": {},
   "outputs": [],
   "source": [
    "model = Doc2Vec(vector_size=128, min_count=2, epochs=40)"
   ]
  },
  {
   "cell_type": "markdown",
   "metadata": {},
   "source": [
    "Construimos el vocabulario"
   ]
  },
  {
   "cell_type": "code",
   "execution_count": 95,
   "metadata": {},
   "outputs": [],
   "source": [
    "model.build_vocab(data_for_training)"
   ]
  },
  {
   "cell_type": "markdown",
   "metadata": {},
   "source": [
    "Entrenamos el modelo"
   ]
  },
  {
   "cell_type": "code",
   "execution_count": 96,
   "metadata": {},
   "outputs": [],
   "source": [
    "model.train(data_for_training, total_examples=model.corpus_count, epochs=model.epochs)"
   ]
  },
  {
   "cell_type": "markdown",
   "metadata": {},
   "source": [
    "Analizamos la salida"
   ]
  },
  {
   "cell_type": "code",
   "execution_count": 97,
   "metadata": {},
   "outputs": [
    {
     "name": "stdout",
     "output_type": "stream",
     "text": [
      "[ 0.04394462 -0.3955987  -0.14838472 -0.05140094 -0.22884893  0.14849281\n",
      " -0.17922258  0.274947    0.13094112 -0.26941866  0.26888105 -0.23607446\n",
      " -0.1801753   0.1976121   0.10489368 -0.45547566  0.02073151  0.55618596\n",
      " -0.09825908  0.12606527 -0.05261368  0.16880606 -0.24351762  0.1218977\n",
      "  0.09953613  0.26639047 -0.02857234 -0.13449734  0.06396485 -0.26326132\n",
      "  0.11366133  0.27631536  0.0804935   0.09382699  0.486612   -0.1932248\n",
      " -0.11555691  0.3579801   0.3026079  -0.13445094  0.6606501   0.46234718\n",
      " -0.07372579  0.1422692   0.13455504 -0.5131121  -0.25297463  0.1439361\n",
      "  0.07294521 -0.1890048  -0.02907759  0.02216348  0.10815773 -0.2911723\n",
      " -0.0033252  -0.04146575 -0.00611809 -0.21493243  0.39837652  0.03449692\n",
      "  0.47220728  0.10049681 -0.09149883  0.21708806  0.4227879   0.44076264\n",
      " -0.2711627  -0.2842149  -0.2077696  -0.03896232 -0.11511797 -0.00526219\n",
      "  0.37698442  0.1808778  -0.00306953 -0.42619273  0.37444168  0.10584287\n",
      " -0.13126147 -0.06537648 -0.00979114 -0.3102684  -0.5975567   0.18999504\n",
      " -0.24957421 -0.12940782  0.31112126 -0.09753422  0.14575261  0.21703173\n",
      " -0.15554735 -0.14153889 -0.10981631 -0.15245453 -0.0973786   0.35344023\n",
      " -0.07373983 -0.25647664 -0.06513499 -0.02515466  0.1502301  -0.35048667\n",
      " -0.08950208  0.5077379  -0.08060057  0.09330278 -0.13114254 -0.3346375\n",
      " -0.15722497 -0.02162931  0.0799892  -0.05452509 -0.17316817 -0.17016585\n",
      " -0.02705869  0.12051076 -0.4608307  -0.06156797  0.06185587  0.10111433\n",
      "  0.27288315  0.29964626 -0.02349673  0.22640884  0.05214456  0.0117326\n",
      " -0.17407386 -0.24277566]\n"
     ]
    }
   ],
   "source": [
    "print(model.infer_vector(['Reconociendo', 'que', 'un', 'acuerdo', 'en', 'materia', 'minera', 'será', 'de', 'utilidad']))"
   ]
  },
  {
   "cell_type": "markdown",
   "metadata": {},
   "source": [
    "* Opcional: Generar un input texto y traer los tres documentos con mayor similitud semántica al texto ingresado"
   ]
  },
  {
   "cell_type": "markdown",
   "metadata": {},
   "source": [
    " ----------------------------------------------------------------------------------------------------------"
   ]
  },
  {
   "cell_type": "markdown",
   "metadata": {
    "colab_type": "text",
    "id": "i-uk_AAf5MSL"
   },
   "source": [
    "## Conclusiones"
   ]
  },
  {
   "cell_type": "markdown",
   "metadata": {},
   "source": [
    " ----------------------------------------------------------------------------------------------------------"
   ]
  },
  {
   "cell_type": "markdown",
   "metadata": {},
   "source": [
    "### Entrega"
   ]
  },
  {
   "cell_type": "markdown",
   "metadata": {},
   "source": [
    "Formato de entrega: Deberán utilizar esta notebook con los códigos con los que hicieron el análisis y los anaálisis y conclusiones despues de cada proceso. \n",
    "\n",
    "Fecha de entrega: 27/9"
   ]
  },
  {
   "cell_type": "markdown",
   "metadata": {},
   "source": [
    " ----------------------------------------------------------------------------------------------------------"
   ]
  },
  {
   "cell_type": "markdown",
   "metadata": {
    "colab_type": "text",
    "id": "i-uk_AAf5MSL"
   },
   "source": [
    "### Referencias"
   ]
  },
  {
   "cell_type": "markdown",
   "metadata": {},
   "source": [
    "* https://www.machinelearningplus.com/nlp/gensim-tutorial/"
   ]
  },
  {
   "cell_type": "markdown",
   "metadata": {},
   "source": [
    "* https://www.machinelearningplus.com/nlp/topic-modeling-gensim-python/#4whatdoesldado "
   ]
  },
  {
   "cell_type": "markdown",
   "metadata": {},
   "source": [
    "* https://radimrehurek.com/gensim/models/doc2vec.html"
   ]
  },
  {
   "cell_type": "code",
   "execution_count": null,
   "metadata": {},
   "outputs": [],
   "source": []
  }
 ],
 "metadata": {
  "kernelspec": {
   "display_name": "Python 3",
   "language": "python",
   "name": "python3"
  },
  "language_info": {
   "codemirror_mode": {
    "name": "ipython",
    "version": 3
   },
   "file_extension": ".py",
   "mimetype": "text/x-python",
   "name": "python",
   "nbconvert_exporter": "python",
   "pygments_lexer": "ipython3",
   "version": "3.8.5"
  },
  "output_auto_scroll": true,
  "widgets": {
   "application/vnd.jupyter.widget-state+json": {
    "state": {},
    "version_major": 2,
    "version_minor": 0
   }
  }
 },
 "nbformat": 4,
 "nbformat_minor": 4
}
