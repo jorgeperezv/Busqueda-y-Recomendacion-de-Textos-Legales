{
 "cells": [
  {
   "cell_type": "markdown",
   "metadata": {},
   "source": [
    "### Universidad Nacional de Córdoba - Facultad de Matemática, Astronomía, Física y Computación\n",
    "\n",
    "#### Diplomatura en Ciencia de Datos, Aprendizaje Automático y sus Aplicaciones 2020\n",
    "\n",
    "Búsqueda y Recomendación de Textos Legales - Análisis y Curación de Datos\n",
    "\n",
    "Mentor: Claudio Sarate"
   ]
  },
  {
   "cell_type": "markdown",
   "metadata": {
    "colab_type": "text",
    "id": "6tndFHvOJWOn"
   },
   "source": [
    "Integrantes:\n",
    "\n",
    "* Ezequiel Juarez\n",
    "* Jorge Pérez \n",
    "* Clara Quintana\n",
    "* David Veisaga"
   ]
  },
  {
   "cell_type": "markdown",
   "metadata": {},
   "source": [
    "## Aprendizaje No Supervisado"
   ]
  },
  {
   "cell_type": "markdown",
   "metadata": {},
   "source": [
    "* El objetivo de este práctico es utilizar todo lo logrado y analizado a nivel de corpus para generar clases con distintas herramientas que permitan relacionar los documentos con mayor similitud."
   ]
  },
  {
   "cell_type": "markdown",
   "metadata": {},
   "source": [
    "### Enunciado del práctico"
   ]
  },
  {
   "cell_type": "markdown",
   "metadata": {},
   "source": [
    " ----------------------------------------------------------------------------------------------------------"
   ]
  },
  {
   "cell_type": "markdown",
   "metadata": {},
   "source": [
    "* Se pide realizar Topic Modeling utilizando LDA (Latent Dirichlet Allocation) y (NMF) Non-negative Matrix Factorization sobre el corpus.\n",
    "\n",
    "***NOTA: no confundir con LDA (Linear Discriminant Analysis)***\n",
    "\n",
    "* Realizar el proceso utilizando Gensim-Doc2Vec"
   ]
  },
  {
   "cell_type": "markdown",
   "metadata": {},
   "source": [
    " ----------------------------------------------------------------------------------------------------------"
   ]
  },
  {
   "cell_type": "markdown",
   "metadata": {},
   "source": [
    "Leemos el corpus de Infoleg"
   ]
  },
  {
   "cell_type": "code",
   "execution_count": 1,
   "metadata": {},
   "outputs": [],
   "source": [
    "import sys\n",
    "import os\n",
    "import time\n",
    "import pandas"
   ]
  },
  {
   "cell_type": "code",
   "execution_count": 2,
   "metadata": {},
   "outputs": [],
   "source": [
    "# Se verfica entorno de ejecución\n",
    "in_colab = \"google.colab\" in sys.modules\n",
    "\n",
    "if in_colab:\n",
    "    from google.colab import drive\n",
    "\n",
    "    drive.mount(\"/content/drive\")\n",
    "    BASE_DIR = \"/content/drive/My Drive/Diplo2020 Mentoria/\"\n",
    "else:\n",
    "    BASE_DIR = \"./\""
   ]
  },
  {
   "cell_type": "code",
   "execution_count": 3,
   "metadata": {},
   "outputs": [],
   "source": [
    "FILES_DIR= BASE_DIR + 'Datos/Infoleg/'\n",
    "corpus_file = BASE_DIR + \"Datos/Infoleg.cor\""
   ]
  },
  {
   "cell_type": "code",
   "execution_count": 4,
   "metadata": {},
   "outputs": [],
   "source": [
    "corpus = []\n",
    "listOfFile = os.listdir(FILES_DIR)\n",
    "i=0\n",
    "for file in listOfFile:\n",
    "    archivo = FILES_DIR + file\n",
    "    texto = open(archivo, 'r', encoding='utf-8')\n",
    "    corpus.append([i, archivo, texto.read()])\n",
    "    i += 1"
   ]
  },
  {
   "cell_type": "code",
   "execution_count": 5,
   "metadata": {},
   "outputs": [
    {
     "data": {
      "text/html": [
       "<div>\n",
       "<style scoped>\n",
       "    .dataframe tbody tr th:only-of-type {\n",
       "        vertical-align: middle;\n",
       "    }\n",
       "\n",
       "    .dataframe tbody tr th {\n",
       "        vertical-align: top;\n",
       "    }\n",
       "\n",
       "    .dataframe thead th {\n",
       "        text-align: right;\n",
       "    }\n",
       "</style>\n",
       "<table border=\"1\" class=\"dataframe\">\n",
       "  <thead>\n",
       "    <tr style=\"text-align: right;\">\n",
       "      <th></th>\n",
       "      <th>ID</th>\n",
       "      <th>ARCHIVO</th>\n",
       "      <th>TEXTO</th>\n",
       "    </tr>\n",
       "  </thead>\n",
       "  <tbody>\n",
       "    <tr>\n",
       "      <th>0</th>\n",
       "      <td>0</td>\n",
       "      <td>./Datos/Infoleg/100016.txt</td>\n",
       "      <td>ACUERDOS\\nLey 25.939\\nApruébase el Acuerdo Sob...</td>\n",
       "    </tr>\n",
       "    <tr>\n",
       "      <th>1</th>\n",
       "      <td>1</td>\n",
       "      <td>./Datos/Infoleg/100025.txt</td>\n",
       "      <td>MINISTERIO DE ECONOMIA Y PRODUCCION\\nDecisión ...</td>\n",
       "    </tr>\n",
       "    <tr>\n",
       "      <th>2</th>\n",
       "      <td>2</td>\n",
       "      <td>./Datos/Infoleg/100026.txt</td>\n",
       "      <td>Secretaría de Hacienda\\nPRESUPUESTO\\nResolució...</td>\n",
       "    </tr>\n",
       "    <tr>\n",
       "      <th>3</th>\n",
       "      <td>3</td>\n",
       "      <td>./Datos/Infoleg/100027.txt</td>\n",
       "      <td>Ministerio de Economía y Producción\\nREGIMEN S...</td>\n",
       "    </tr>\n",
       "    <tr>\n",
       "      <th>4</th>\n",
       "      <td>4</td>\n",
       "      <td>./Datos/Infoleg/100028.txt</td>\n",
       "      <td>Secretaría de Empleo\\nPROGRAMA JEFES DE HOGAR\\...</td>\n",
       "    </tr>\n",
       "  </tbody>\n",
       "</table>\n",
       "</div>"
      ],
      "text/plain": [
       "   ID                     ARCHIVO  \\\n",
       "0   0  ./Datos/Infoleg/100016.txt   \n",
       "1   1  ./Datos/Infoleg/100025.txt   \n",
       "2   2  ./Datos/Infoleg/100026.txt   \n",
       "3   3  ./Datos/Infoleg/100027.txt   \n",
       "4   4  ./Datos/Infoleg/100028.txt   \n",
       "\n",
       "                                               TEXTO  \n",
       "0  ACUERDOS\\nLey 25.939\\nApruébase el Acuerdo Sob...  \n",
       "1  MINISTERIO DE ECONOMIA Y PRODUCCION\\nDecisión ...  \n",
       "2  Secretaría de Hacienda\\nPRESUPUESTO\\nResolució...  \n",
       "3  Ministerio de Economía y Producción\\nREGIMEN S...  \n",
       "4  Secretaría de Empleo\\nPROGRAMA JEFES DE HOGAR\\...  "
      ]
     },
     "execution_count": 5,
     "metadata": {},
     "output_type": "execute_result"
    }
   ],
   "source": [
    "df_corpus = pandas.DataFrame(corpus, columns=['ID','ARCHIVO','TEXTO'])\n",
    "df_corpus.head()"
   ]
  },
  {
   "cell_type": "markdown",
   "metadata": {},
   "source": [
    "Función de normalización"
   ]
  },
  {
   "cell_type": "code",
   "execution_count": 7,
   "metadata": {},
   "outputs": [],
   "source": [
    "import string\n",
    "import re\n",
    "import nltk\n",
    "from nltk.tokenize.toktok import ToktokTokenizer"
   ]
  },
  {
   "cell_type": "code",
   "execution_count": 8,
   "metadata": {},
   "outputs": [
    {
     "name": "stderr",
     "output_type": "stream",
     "text": [
      "[nltk_data] Downloading package stopwords to\n",
      "[nltk_data]     C:\\Users\\jperezv\\AppData\\Roaming\\nltk_data...\n",
      "[nltk_data]   Package stopwords is already up-to-date!\n"
     ]
    }
   ],
   "source": [
    "nltk.download('stopwords')\n",
    "stop_words = nltk.corpus.stopwords.words('spanish')"
   ]
  },
  {
   "cell_type": "code",
   "execution_count": 9,
   "metadata": {
    "scrolled": true
   },
   "outputs": [
    {
     "name": "stderr",
     "output_type": "stream",
     "text": [
      "[nltk_data] Downloading package wordnet to\n",
      "[nltk_data]     C:\\Users\\jperezv\\AppData\\Roaming\\nltk_data...\n",
      "[nltk_data]   Package wordnet is already up-to-date!\n"
     ]
    },
    {
     "data": {
      "text/plain": [
       "True"
      ]
     },
     "execution_count": 9,
     "metadata": {},
     "output_type": "execute_result"
    }
   ],
   "source": [
    "nltk.download('wordnet')"
   ]
  },
  {
   "cell_type": "code",
   "execution_count": 10,
   "metadata": {},
   "outputs": [],
   "source": [
    "def normalize_texto(texto, stop_words):\n",
    "    # Tokenización\n",
    "    tokens = ToktokTokenizer().tokenize(texto)\n",
    "\n",
    "    # Paso a minúscula\n",
    "    tokens = [word.lower() for word in tokens]\n",
    "\n",
    "    # Eliminamos símbolos de puntuación\n",
    "    signos_puntuacion = string.punctuation + '—'\n",
    "    tokens = list(filter(lambda token: token not in signos_puntuacion, tokens))\n",
    "\n",
    "    # Eliminar acentos y reemplazar abreviaturas\n",
    "    dic_Errores = {'nro':'numero', 'nro.':'numero', 'n°':'numero', 'n.°':'numero', 'nº':'numero', 'n.º':'numero', 'art.':'articulo'}\n",
    "    for i in range(len(tokens)):  \n",
    "        for a, b in ((\"á\", \"a\"), (\"é\", \"e\"), (\"í\", \"i\"), (\"ó\", \"o\"), (\"ú\", \"u\"),):\n",
    "            tokens[i] = tokens[i].replace(a, b)       \n",
    "        for key in dic_Errores:\n",
    "            if tokens[i] == key:\n",
    "                tokens[i] = dic_Errores[key]\n",
    "\n",
    "    # eliminar la puntuación de cada palabra\n",
    "    tokens = [re.sub('[%s]' % re.escape(signos_puntuacion), '', token) for token in tokens]\n",
    "    \n",
    "    # eliminar los números\n",
    "    tokens = list(filter(lambda token: token.isalpha(), tokens))\n",
    "\n",
    "    # Eliminamos stopwords\n",
    "    tokens = list(filter(lambda token: token not in stop_words, tokens)) \n",
    "\n",
    "    # Lemmatización\n",
    "    lemmatizer = nltk.stem.WordNetLemmatizer()\n",
    "    tokens = [lemmatizer.lemmatize(word) for word in tokens]\n",
    "\n",
    "    # eliminar los tokens de menos de 3 caracteres\n",
    "    tokens = list(filter(lambda token: len(token) > 3, tokens))\n",
    "\n",
    "    return ' '.join(tokens)\n"
   ]
  },
  {
   "cell_type": "markdown",
   "metadata": {},
   "source": [
    "Agregamos una columna con el texto normalizado"
   ]
  },
  {
   "cell_type": "code",
   "execution_count": 11,
   "metadata": {},
   "outputs": [
    {
     "data": {
      "text/html": [
       "<div>\n",
       "<style scoped>\n",
       "    .dataframe tbody tr th:only-of-type {\n",
       "        vertical-align: middle;\n",
       "    }\n",
       "\n",
       "    .dataframe tbody tr th {\n",
       "        vertical-align: top;\n",
       "    }\n",
       "\n",
       "    .dataframe thead th {\n",
       "        text-align: right;\n",
       "    }\n",
       "</style>\n",
       "<table border=\"1\" class=\"dataframe\">\n",
       "  <thead>\n",
       "    <tr style=\"text-align: right;\">\n",
       "      <th></th>\n",
       "      <th>ID</th>\n",
       "      <th>ARCHIVO</th>\n",
       "      <th>TEXTO</th>\n",
       "      <th>TEXTO_NORM</th>\n",
       "    </tr>\n",
       "  </thead>\n",
       "  <tbody>\n",
       "    <tr>\n",
       "      <th>0</th>\n",
       "      <td>0</td>\n",
       "      <td>../Datos/Infoleg/100016.txt</td>\n",
       "      <td>ACUERDOS\\nLey 25.939\\nApruébase el Acuerdo Sob...</td>\n",
       "      <td>acuerdos apruebase acuerdo cooperacion minera ...</td>\n",
       "    </tr>\n",
       "    <tr>\n",
       "      <th>1</th>\n",
       "      <td>1</td>\n",
       "      <td>../Datos/Infoleg/100025.txt</td>\n",
       "      <td>MINISTERIO DE ECONOMIA Y PRODUCCION\\nDecisión ...</td>\n",
       "      <td>ministerio economia produccion decision admini...</td>\n",
       "    </tr>\n",
       "    <tr>\n",
       "      <th>2</th>\n",
       "      <td>2</td>\n",
       "      <td>../Datos/Infoleg/100026.txt</td>\n",
       "      <td>Secretaría de Hacienda\\nPRESUPUESTO\\nResolució...</td>\n",
       "      <td>secretaria hacienda presupuesto resolucion mod...</td>\n",
       "    </tr>\n",
       "    <tr>\n",
       "      <th>3</th>\n",
       "      <td>3</td>\n",
       "      <td>../Datos/Infoleg/100027.txt</td>\n",
       "      <td>Ministerio de Economía y Producción\\nREGIMEN S...</td>\n",
       "      <td>ministerio economia produccion regimen simplif...</td>\n",
       "    </tr>\n",
       "    <tr>\n",
       "      <th>4</th>\n",
       "      <td>4</td>\n",
       "      <td>../Datos/Infoleg/100028.txt</td>\n",
       "      <td>Secretaría de Empleo\\nPROGRAMA JEFES DE HOGAR\\...</td>\n",
       "      <td>secretaria empleo programa jefes hogar resoluc...</td>\n",
       "    </tr>\n",
       "  </tbody>\n",
       "</table>\n",
       "</div>"
      ],
      "text/plain": [
       "   ID                      ARCHIVO  \\\n",
       "0   0  ../Datos/Infoleg/100016.txt   \n",
       "1   1  ../Datos/Infoleg/100025.txt   \n",
       "2   2  ../Datos/Infoleg/100026.txt   \n",
       "3   3  ../Datos/Infoleg/100027.txt   \n",
       "4   4  ../Datos/Infoleg/100028.txt   \n",
       "\n",
       "                                               TEXTO  \\\n",
       "0  ACUERDOS\\nLey 25.939\\nApruébase el Acuerdo Sob...   \n",
       "1  MINISTERIO DE ECONOMIA Y PRODUCCION\\nDecisión ...   \n",
       "2  Secretaría de Hacienda\\nPRESUPUESTO\\nResolució...   \n",
       "3  Ministerio de Economía y Producción\\nREGIMEN S...   \n",
       "4  Secretaría de Empleo\\nPROGRAMA JEFES DE HOGAR\\...   \n",
       "\n",
       "                                          TEXTO_NORM  \n",
       "0  acuerdos apruebase acuerdo cooperacion minera ...  \n",
       "1  ministerio economia produccion decision admini...  \n",
       "2  secretaria hacienda presupuesto resolucion mod...  \n",
       "3  ministerio economia produccion regimen simplif...  \n",
       "4  secretaria empleo programa jefes hogar resoluc...  "
      ]
     },
     "execution_count": 11,
     "metadata": {},
     "output_type": "execute_result"
    }
   ],
   "source": [
    "df_corpus[\"TEXTO_NORM\"] = df_corpus[\"TEXTO\"].apply(lambda x: normalize_texto(x, stop_words))\n",
    "df_corpus.head()"
   ]
  },
  {
   "cell_type": "markdown",
   "metadata": {},
   "source": [
    "#### Preproceso\n",
    "\n",
    "* De acuerdo a los procesos ya realizados previamente elegir que realizar para tener una matriz de términos de los documentos, podría ser mediante Scikit-Learn realizando una vectorización TF-IDF para crear una matriz de términos de documentos (si se utiliza este proceso explorar los parámetros max_df y min_df para entender su significado.)"
   ]
  },
  {
   "cell_type": "markdown",
   "metadata": {},
   "source": [
    "En el práctico anterior ampliamos el listado de stop words obteniendo el peso IDF (Frecuencia Inversa de Documentos).\n",
    "\n",
    "En este caso utilizaremos los parámetros max_df (términos más frecuentes) y min_df (términos menos frecuentes).\n",
    "\n",
    "Utilizaremos TfidVectorizer con los siguientes parámetros:\n",
    "* use_idf: habilitar la ponderación frecuencia inversa de documentos\n",
    "* ngram_range: inluiremos bi-gramas\n",
    "* min_df: ignoraremos los términos que aparecen en menos del 1% de lo documentos.\n",
    "* max_df: ignoraremos los términos que aparecen en más del 90 % de los documentos."
   ]
  },
  {
   "cell_type": "code",
   "execution_count": 12,
   "metadata": {},
   "outputs": [],
   "source": [
    "from sklearn.feature_extraction.text import TfidfVectorizer"
   ]
  },
  {
   "cell_type": "code",
   "execution_count": 13,
   "metadata": {},
   "outputs": [],
   "source": [
    "tfidf_vectorizer=TfidfVectorizer(use_idf=True, ngram_range=(1,2), min_df=.01, max_df=.90) \n",
    "tfidf_vectorizer_vectors=tfidf_vectorizer.fit_transform(df_corpus['TEXTO_NORM'])"
   ]
  },
  {
   "cell_type": "code",
   "execution_count": 14,
   "metadata": {},
   "outputs": [
    {
     "name": "stdout",
     "output_type": "stream",
     "text": [
      "Cantidad de palabras en nuestro vocabulario: 7773\n"
     ]
    }
   ],
   "source": [
    "print(f'Cantidad de palabras en nuestro vocabulario: {len(tfidf_vectorizer.vocabulary_)}')"
   ]
  },
  {
   "cell_type": "markdown",
   "metadata": {},
   "source": [
    "Observamos los valores de TF-IDF del primer documento"
   ]
  },
  {
   "cell_type": "code",
   "execution_count": 15,
   "metadata": {},
   "outputs": [
    {
     "data": {
      "text/html": [
       "<div>\n",
       "<style scoped>\n",
       "    .dataframe tbody tr th:only-of-type {\n",
       "        vertical-align: middle;\n",
       "    }\n",
       "\n",
       "    .dataframe tbody tr th {\n",
       "        vertical-align: top;\n",
       "    }\n",
       "\n",
       "    .dataframe thead th {\n",
       "        text-align: right;\n",
       "    }\n",
       "</style>\n",
       "<table border=\"1\" class=\"dataframe\">\n",
       "  <thead>\n",
       "    <tr style=\"text-align: right;\">\n",
       "      <th></th>\n",
       "      <th>tfidf</th>\n",
       "    </tr>\n",
       "  </thead>\n",
       "  <tbody>\n",
       "    <tr>\n",
       "      <th>cooperacion</th>\n",
       "      <td>0.478017</td>\n",
       "    </tr>\n",
       "    <tr>\n",
       "      <th>partes</th>\n",
       "      <td>0.258208</td>\n",
       "    </tr>\n",
       "    <tr>\n",
       "      <th>proyectos</th>\n",
       "      <td>0.230298</td>\n",
       "    </tr>\n",
       "    <tr>\n",
       "      <th>republica</th>\n",
       "      <td>0.176577</td>\n",
       "    </tr>\n",
       "    <tr>\n",
       "      <th>intercambio</th>\n",
       "      <td>0.152672</td>\n",
       "    </tr>\n",
       "    <tr>\n",
       "      <th>argentina republica</th>\n",
       "      <td>0.151424</td>\n",
       "    </tr>\n",
       "    <tr>\n",
       "      <th>acuerdo</th>\n",
       "      <td>0.144493</td>\n",
       "    </tr>\n",
       "    <tr>\n",
       "      <th>articulo</th>\n",
       "      <td>0.131890</td>\n",
       "    </tr>\n",
       "    <tr>\n",
       "      <th>desarrollo</th>\n",
       "      <td>0.131112</td>\n",
       "    </tr>\n",
       "    <tr>\n",
       "      <th>presente acuerdo</th>\n",
       "      <td>0.112613</td>\n",
       "    </tr>\n",
       "  </tbody>\n",
       "</table>\n",
       "</div>"
      ],
      "text/plain": [
       "                        tfidf\n",
       "cooperacion          0.478017\n",
       "partes               0.258208\n",
       "proyectos            0.230298\n",
       "republica            0.176577\n",
       "intercambio          0.152672\n",
       "argentina republica  0.151424\n",
       "acuerdo              0.144493\n",
       "articulo             0.131890\n",
       "desarrollo           0.131112\n",
       "presente acuerdo     0.112613"
      ]
     },
     "execution_count": 15,
     "metadata": {},
     "output_type": "execute_result"
    }
   ],
   "source": [
    "first_vector_tfidfvectorizer=tfidf_vectorizer_vectors[0]\n",
    "\n",
    "df = pandas.DataFrame(first_vector_tfidfvectorizer.T.todense(), index=tfidf_vectorizer.get_feature_names(), columns=[\"tfidf\"]) \n",
    "df.sort_values(by=[\"tfidf\"],ascending=False).head(10)"
   ]
  },
  {
   "cell_type": "markdown",
   "metadata": {},
   "source": [
    " ----------------------------------------------------------------------------------------------------------"
   ]
  },
  {
   "cell_type": "markdown",
   "metadata": {},
   "source": [
    "#### LDA (Latent Dirichlet Allocation)\n",
    "\n",
    "* Utilizando Scikit-Learn crear una instancia de LDA con la cantidad de componentes (clases) que consideren apropiada de acuerdo al conocimiento que ya tienen del dominio (usar random_state=42)"
   ]
  },
  {
   "cell_type": "code",
   "execution_count": 16,
   "metadata": {},
   "outputs": [],
   "source": [
    "from sklearn.decomposition import LatentDirichletAllocation"
   ]
  },
  {
   "cell_type": "markdown",
   "metadata": {},
   "source": [
    "Consideraremos 10 clases"
   ]
  },
  {
   "cell_type": "code",
   "execution_count": 17,
   "metadata": {},
   "outputs": [],
   "source": [
    "lda_model = LatentDirichletAllocation(n_components=10, random_state=42)"
   ]
  },
  {
   "cell_type": "code",
   "execution_count": 18,
   "metadata": {
    "scrolled": true
   },
   "outputs": [],
   "source": [
    "begin_time = time.time()\n",
    "lda_model.fit(tfidf_vectorizer_vectors)\n",
    "# grabamos el tiempo de ejecución\n",
    "lda_time = time.time() - begin_time"
   ]
  },
  {
   "cell_type": "markdown",
   "metadata": {},
   "source": [
    "* Mostrar las 15 palabras mas comunes para cada uno de los tópicos que hayan decido que buscan."
   ]
  },
  {
   "cell_type": "code",
   "execution_count": 19,
   "metadata": {},
   "outputs": [
    {
     "name": "stdout",
     "output_type": "stream",
     "text": [
      "\n",
      "15 Palabras más comunes del Tópico 0\n",
      "['partes', 'seguridad', 'personal', 'registro', 'decreto', 'fecha', 'direccion', 'ministerio', 'acuerdo', 'trabajo', 'presente', 'resolucion', 'nacional', 'numero', 'articulo']\n",
      "\n",
      "15 Palabras más comunes del Tópico 1\n",
      "['integrado jubilaciones', 'publicos numero', 'ministerios texto', 'creditos presupuestarios', 'nacional regulacion', 'competencia actua', 'articulo instruyese', 'politicas regulacion', 'juridicos direccion', 'instruyese', 'resolucion dictum', 'legal tecnica', 'centralizada descentralizada', 'anexa articulo', 'noviembre decreto']\n",
      "\n",
      "15 Palabras más comunes del Tópico 2\n",
      "['calidad agroalimentaria', 'sanidad', 'sanidad calidad', 'agroalimentaria', 'nacional sanidad', 'administrativa', 'servicio nacional', 'administrativa modificase', 'modificase', 'decision', 'presupuesto administracion', 'nacional ejercicio', 'administracion nacional', 'presupuesto', 'decision administrativa']\n",
      "\n",
      "15 Palabras más comunes del Tópico 3\n",
      "['promedio mensual', 'fojas', 'seguridad social', 'importe promedio', 'empleo', 'trabajo empleo', 'empleo seguridad', 'ministerio trabajo', 'indemnizatorio', 'tope indemnizatorio', 'secretaria trabajo', 'promedio', 'tope', 'numero', 'trabajo']\n",
      "\n",
      "15 Palabras más comunes del Tópico 4\n",
      "['visto articulo', 'nacion argentina', 'decreto designase', 'nacion numero', 'fernandez', 'archivese kirchner', 'kirchner', 'decreto tengase', 'articulo designase', 'tengase', 'tengase nacion', 'cumplase comuniquese', 'cumplase', 'nacion', 'designase']\n",
      "\n",
      "15 Palabras más comunes del Tópico 5\n",
      "['enlace', 'autorizado entidad', 'citada', 'entidad', 'enlace autorizado', 'argentina', 'entidad citada', 'citada comunicacion', 'republica argentina', 'comunicacion', 'republica', 'central', 'banco', 'central republica', 'banco central']\n",
      "\n",
      "15 Palabras más comunes del Tópico 6\n",
      "['sala sesiones', 'dada sala', 'sesiones congreso', 'congreso argentino', 'diputados', 'diputados nacion', 'camara diputados', 'ejecutivo nacional', 'poder', 'comuniquese poder', 'senado', 'validez decreto', 'ejecutivo', 'poder ejecutivo', 'congreso']\n",
      "\n",
      "15 Palabras más comunes del Tópico 7\n",
      "['direccion', 'federal ingresos', 'aduanero', 'general', 'nota externa', 'direccion general', 'ingresos publicos', 'trabajo agrario', 'agrario', 'nacional trabajo', 'administracion federal', 'direccion regional', 'regional', 'general aduanas', 'aduanas']\n",
      "\n",
      "15 Palabras más comunes del Tópico 8\n",
      "['integrado jubilaciones', 'publicos numero', 'ministerios texto', 'creditos presupuestarios', 'nacional regulacion', 'competencia actua', 'articulo instruyese', 'politicas regulacion', 'juridicos direccion', 'instruyese', 'resolucion dictum', 'legal tecnica', 'centralizada descentralizada', 'anexa articulo', 'noviembre decreto']\n",
      "\n",
      "15 Palabras más comunes del Tópico 9\n",
      "['agropecuaria', 'economia', 'pesquero', 'ministerio economia', 'economia produccion', 'agropecuario', 'alimentos ministerio', 'secretaria agricultura', 'pesca alimentos', 'ganaderia pesca', 'agricultura', 'agricultura ganaderia', 'ganaderia', 'alimentos', 'pesca']\n"
     ]
    }
   ],
   "source": [
    "for index in range(10):\n",
    "    topico = lda_model.components_[index]\n",
    "    print(f'\\n15 Palabras más comunes del Tópico {index}')\n",
    "    print([tfidf_vectorizer.get_feature_names()[index] for index in topico.argsort()[-15:]])"
   ]
  },
  {
   "cell_type": "markdown",
   "metadata": {},
   "source": [
    "* Hacer un análisis si entre las palabras mas comunes se detecta algún tópico que pudiera definirse como clase"
   ]
  },
  {
   "cell_type": "markdown",
   "metadata": {},
   "source": [
    "Cada una de estós tópicos no nos está indicando una clase en particular. "
   ]
  },
  {
   "cell_type": "markdown",
   "metadata": {},
   "source": [
    " ----------------------------------------------------------------------------------------------------------"
   ]
  },
  {
   "cell_type": "markdown",
   "metadata": {},
   "source": [
    "#### NMF (Non-negative Matrix Factorization)\n",
    "\n",
    "* Utilizando Scikit-Learn crear una instancia de NMF con la cantidad de componentes (clases) que consideren apropiada de acuerdo al conocimiento que ya tienen del dominio (usar random_state=42)"
   ]
  },
  {
   "cell_type": "code",
   "execution_count": 20,
   "metadata": {},
   "outputs": [],
   "source": [
    "from sklearn.decomposition import NMF"
   ]
  },
  {
   "cell_type": "markdown",
   "metadata": {},
   "source": [
    "Consideraremos 10 clases"
   ]
  },
  {
   "cell_type": "code",
   "execution_count": 21,
   "metadata": {},
   "outputs": [],
   "source": [
    "nmf_model = NMF(n_components=10,random_state=42)"
   ]
  },
  {
   "cell_type": "code",
   "execution_count": 22,
   "metadata": {},
   "outputs": [],
   "source": [
    "begin_time = time.time()\n",
    "nmf_model.fit(tfidf_vectorizer_vectors)\n",
    "# grabamos el tiempo de ejecución\n",
    "mnf_time = time.time() - begin_time"
   ]
  },
  {
   "cell_type": "markdown",
   "metadata": {},
   "source": [
    "* Mostrar las 15 palabras mas comunes para cada uno de los tópicos que hayan decido que buscan."
   ]
  },
  {
   "cell_type": "code",
   "execution_count": 23,
   "metadata": {},
   "outputs": [
    {
     "name": "stdout",
     "output_type": "stream",
     "text": [
      "\n",
      "15 Palabras más comunes del Tópico 0\n",
      "['empleo', 'ministerio trabajo', 'empleo seguridad', 'trabajo empleo', 'remuneraciones tope', 'importe', 'promedio mensual', 'secretaria trabajo', 'indemnizatorio', 'tope indemnizatorio', 'importe promedio', 'tope', 'promedio', 'numero', 'trabajo']\n",
      "\n",
      "15 Palabras más comunes del Tópico 1\n",
      "['republica argentina', 'central', 'banco', 'central republica', 'argentina bcra', 'banco central', 'citada comunicacion', 'entidad citada', 'bcra', 'bcra enlace', 'comunicacion', 'autorizado', 'enlace', 'autorizado entidad', 'enlace autorizado']\n",
      "\n",
      "15 Palabras más comunes del Tópico 2\n",
      "['inversion publica', 'planificacion federal', 'publica servicios', 'federal inversion', 'nacion', 'inversion', 'presupuesto', 'transporte', 'servicios', 'publica', 'decreto', 'ministerio', 'articulo', 'nacional', 'numero']\n",
      "\n",
      "15 Palabras más comunes del Tópico 3\n",
      "['social', 'seguridad social', 'empleo', 'empleo seguridad', 'trabajo empleo', 'nacional relaciones', 'relaciones trabajo', 'ministerio trabajo', 'fojas', 'relaciones', 'expediente', 'partes', 'acuerdo', 'numero', 'trabajo']\n",
      "\n",
      "15 Palabras más comunes del Tópico 4\n",
      "['diputados nacion', 'camara diputados', 'diputados', 'comuniquese poder', 'decreto poder', 'senado', 'validez', 'nacion', 'articulo', 'ejecutivo nacional', 'validez decreto', 'poder', 'ejecutivo', 'poder ejecutivo', 'congreso']\n",
      "\n",
      "15 Palabras más comunes del Tópico 5\n",
      "['peso ajustables', 'estabilizacion referencia', 'coeficiente estabilizacion', 'banco', 'letras', 'peso peso', 'publicos nacionales', 'titulos publicos', 'licitacion letras', 'nacionales licitacion', 'circular titulos', 'banco central', 'central republica', 'argentina peso', 'peso']\n",
      "\n",
      "15 Palabras más comunes del Tópico 6\n",
      "['partes', 'presente', 'caso', 'presente convenio', 'comision', 'trabajadores', 'cada', 'debera', 'tareas', 'convenio', 'empresa', 'personal', 'trabajador', 'trabajo', 'articulo']\n",
      "\n",
      "15 Palabras más comunes del Tópico 7\n",
      "['articulo', 'pesca alimentos', 'fecha', 'ganaderia pesca', 'agricultura', 'agricultura ganaderia', 'ganaderia', 'alimentos', 'numero', 'resolucion', 'economia produccion', 'ministerio economia', 'produccion', 'pesca', 'economia']\n",
      "\n",
      "15 Palabras más comunes del Tópico 8\n",
      "['general aduanas', 'administracion', 'direccion', 'ingresos', 'federal ingresos', 'federal', 'ingresos publicos', 'general numero', 'aduanas', 'articulo', 'resolucion', 'administracion federal', 'general', 'numero', 'resolucion general']\n",
      "\n",
      "15 Palabras más comunes del Tópico 9\n",
      "['entidad', 'republica', 'republica argentina', 'central', 'banco', 'central republica', 'comunicacion', 'citada comunicacion', 'entidad citada', 'banco central', 'autorizados', 'argentina enlaces', 'enlaces', 'autorizados entidad', 'enlaces autorizados']\n"
     ]
    }
   ],
   "source": [
    "for index in range(10):\n",
    "    topico = nmf_model.components_[index]\n",
    "    print(f'\\n15 Palabras más comunes del Tópico {index}')\n",
    "    print([tfidf_vectorizer.get_feature_names()[index] for index in topico.argsort()[-15:]])"
   ]
  },
  {
   "cell_type": "markdown",
   "metadata": {},
   "source": [
    "* Hacer un análisis si entre las palabras mas comunes se detecta algún tópico que pudiera definirse como clase"
   ]
  },
  {
   "cell_type": "markdown",
   "metadata": {},
   "source": [
    "Cada una de estós tópicos no nos está indicando una clase en particular. Entendemos que no estamos buscando armar clusters, sino similitudes en el contenido de documentos."
   ]
  },
  {
   "cell_type": "markdown",
   "metadata": {},
   "source": [
    " ----------------------------------------------------------------------------------------------------------"
   ]
  },
  {
   "cell_type": "markdown",
   "metadata": {},
   "source": [
    "* Evaluar velocidad de proceso para saber cual de los dos es mas rápido y cual tiene la agrupación de tópicos mas cercana a lo que podrían ser clases válidas para la agrupación de documentos."
   ]
  },
  {
   "cell_type": "code",
   "execution_count": 24,
   "metadata": {},
   "outputs": [
    {
     "name": "stdout",
     "output_type": "stream",
     "text": [
      "LDA demoró 11.9790 segundos\n",
      "MNF demoró 1.9420 segundos\n"
     ]
    }
   ],
   "source": [
    "print(f'LDA demoró {lda_time:.4f} segundos')\n",
    "print(f'MNF demoró {mnf_time:.4f} segundos')"
   ]
  },
  {
   "cell_type": "markdown",
   "metadata": {},
   "source": [
    "MNF fue mucho más rápido que LDA\n",
    "\n",
    "Ninguna de las dós nos parecieron válidas para agrupar documentos."
   ]
  },
  {
   "cell_type": "markdown",
   "metadata": {},
   "source": [
    "* Agregar una columna al dataframe del corpus con el tópico (clase) que le corresponde a cada documento."
   ]
  },
  {
   "cell_type": "markdown",
   "metadata": {},
   "source": [
    "Procesamos los documentos con LDA y agregamos la columna"
   ]
  },
  {
   "cell_type": "code",
   "execution_count": 25,
   "metadata": {},
   "outputs": [],
   "source": [
    "topic_results = lda_model.transform(tfidf_vectorizer_vectors)"
   ]
  },
  {
   "cell_type": "code",
   "execution_count": 26,
   "metadata": {},
   "outputs": [
    {
     "name": "stdout",
     "output_type": "stream",
     "text": [
      "Al primer documento le asignó la clase  0\n"
     ]
    }
   ],
   "source": [
    "print('Al primer documento le asignó la clase ', topic_results[0].argmax())"
   ]
  },
  {
   "cell_type": "code",
   "execution_count": 27,
   "metadata": {},
   "outputs": [],
   "source": [
    "df_corpus[\"LDA_CLASE\"] = df_corpus[\"ID\"].apply(lambda x: topic_results[x].argmax())"
   ]
  },
  {
   "cell_type": "markdown",
   "metadata": {},
   "source": [
    "Procesamos los documentos con NMF y agregamos la columna"
   ]
  },
  {
   "cell_type": "code",
   "execution_count": 28,
   "metadata": {},
   "outputs": [],
   "source": [
    "topic_results = nmf_model.transform(tfidf_vectorizer_vectors)"
   ]
  },
  {
   "cell_type": "code",
   "execution_count": 29,
   "metadata": {},
   "outputs": [
    {
     "name": "stdout",
     "output_type": "stream",
     "text": [
      "Al primer documento le asignó la clase  6\n"
     ]
    }
   ],
   "source": [
    "print('Al primer documento le asignó la clase ', topic_results[0].argmax())"
   ]
  },
  {
   "cell_type": "code",
   "execution_count": 30,
   "metadata": {},
   "outputs": [],
   "source": [
    "df_corpus[\"NMF_CLASE\"] = df_corpus[\"ID\"].apply(lambda x: topic_results[x].argmax())"
   ]
  },
  {
   "cell_type": "markdown",
   "metadata": {},
   "source": [
    "Observamos las primeras filas para comparar"
   ]
  },
  {
   "cell_type": "code",
   "execution_count": 31,
   "metadata": {},
   "outputs": [
    {
     "data": {
      "text/html": [
       "<div>\n",
       "<style scoped>\n",
       "    .dataframe tbody tr th:only-of-type {\n",
       "        vertical-align: middle;\n",
       "    }\n",
       "\n",
       "    .dataframe tbody tr th {\n",
       "        vertical-align: top;\n",
       "    }\n",
       "\n",
       "    .dataframe thead th {\n",
       "        text-align: right;\n",
       "    }\n",
       "</style>\n",
       "<table border=\"1\" class=\"dataframe\">\n",
       "  <thead>\n",
       "    <tr style=\"text-align: right;\">\n",
       "      <th></th>\n",
       "      <th>ID</th>\n",
       "      <th>ARCHIVO</th>\n",
       "      <th>TEXTO</th>\n",
       "      <th>TEXTO_NORM</th>\n",
       "      <th>LDA_CLASE</th>\n",
       "      <th>NMF_CLASE</th>\n",
       "    </tr>\n",
       "  </thead>\n",
       "  <tbody>\n",
       "    <tr>\n",
       "      <th>0</th>\n",
       "      <td>0</td>\n",
       "      <td>../Datos/Infoleg/100016.txt</td>\n",
       "      <td>ACUERDOS\\nLey 25.939\\nApruébase el Acuerdo Sob...</td>\n",
       "      <td>acuerdos apruebase acuerdo cooperacion minera ...</td>\n",
       "      <td>0</td>\n",
       "      <td>6</td>\n",
       "    </tr>\n",
       "    <tr>\n",
       "      <th>1</th>\n",
       "      <td>1</td>\n",
       "      <td>../Datos/Infoleg/100025.txt</td>\n",
       "      <td>MINISTERIO DE ECONOMIA Y PRODUCCION\\nDecisión ...</td>\n",
       "      <td>ministerio economia produccion decision admini...</td>\n",
       "      <td>2</td>\n",
       "      <td>2</td>\n",
       "    </tr>\n",
       "    <tr>\n",
       "      <th>2</th>\n",
       "      <td>2</td>\n",
       "      <td>../Datos/Infoleg/100026.txt</td>\n",
       "      <td>Secretaría de Hacienda\\nPRESUPUESTO\\nResolució...</td>\n",
       "      <td>secretaria hacienda presupuesto resolucion mod...</td>\n",
       "      <td>2</td>\n",
       "      <td>2</td>\n",
       "    </tr>\n",
       "    <tr>\n",
       "      <th>3</th>\n",
       "      <td>3</td>\n",
       "      <td>../Datos/Infoleg/100027.txt</td>\n",
       "      <td>Ministerio de Economía y Producción\\nREGIMEN S...</td>\n",
       "      <td>ministerio economia produccion regimen simplif...</td>\n",
       "      <td>0</td>\n",
       "      <td>7</td>\n",
       "    </tr>\n",
       "    <tr>\n",
       "      <th>4</th>\n",
       "      <td>4</td>\n",
       "      <td>../Datos/Infoleg/100028.txt</td>\n",
       "      <td>Secretaría de Empleo\\nPROGRAMA JEFES DE HOGAR\\...</td>\n",
       "      <td>secretaria empleo programa jefes hogar resoluc...</td>\n",
       "      <td>0</td>\n",
       "      <td>6</td>\n",
       "    </tr>\n",
       "    <tr>\n",
       "      <th>5</th>\n",
       "      <td>5</td>\n",
       "      <td>../Datos/Infoleg/100029.txt</td>\n",
       "      <td>Ministerio de Economía y Producción\\nCOMERCIO ...</td>\n",
       "      <td>ministerio economia produccion comercio exteri...</td>\n",
       "      <td>0</td>\n",
       "      <td>7</td>\n",
       "    </tr>\n",
       "    <tr>\n",
       "      <th>6</th>\n",
       "      <td>6</td>\n",
       "      <td>../Datos/Infoleg/100035.txt</td>\n",
       "      <td>Subsecretaría de la Pequeña y Mediana Empresa ...</td>\n",
       "      <td>subsecretaria pequeña mediana empresa desarrol...</td>\n",
       "      <td>0</td>\n",
       "      <td>7</td>\n",
       "    </tr>\n",
       "    <tr>\n",
       "      <th>7</th>\n",
       "      <td>7</td>\n",
       "      <td>../Datos/Infoleg/100037.txt</td>\n",
       "      <td>MINISTERIO DEL INTERIOR\\nREGISTRO NACIONAL DE ...</td>\n",
       "      <td>ministerio interior registro nacional persona ...</td>\n",
       "      <td>0</td>\n",
       "      <td>8</td>\n",
       "    </tr>\n",
       "    <tr>\n",
       "      <th>8</th>\n",
       "      <td>8</td>\n",
       "      <td>../Datos/Infoleg/100038.txt</td>\n",
       "      <td>MINISTERIO DEL INTERIOR\\nREGISTRO NACIONAL DE ...</td>\n",
       "      <td>ministerio interior registro nacional persona ...</td>\n",
       "      <td>0</td>\n",
       "      <td>6</td>\n",
       "    </tr>\n",
       "    <tr>\n",
       "      <th>9</th>\n",
       "      <td>9</td>\n",
       "      <td>../Datos/Infoleg/100041.txt</td>\n",
       "      <td>BANCO CENTRAL DE LA REPUBLICA ARGENTINA\\n(ENLE...</td>\n",
       "      <td>banco central republica argentina enleces auto...</td>\n",
       "      <td>5</td>\n",
       "      <td>9</td>\n",
       "    </tr>\n",
       "  </tbody>\n",
       "</table>\n",
       "</div>"
      ],
      "text/plain": [
       "   ID                      ARCHIVO  \\\n",
       "0   0  ../Datos/Infoleg/100016.txt   \n",
       "1   1  ../Datos/Infoleg/100025.txt   \n",
       "2   2  ../Datos/Infoleg/100026.txt   \n",
       "3   3  ../Datos/Infoleg/100027.txt   \n",
       "4   4  ../Datos/Infoleg/100028.txt   \n",
       "5   5  ../Datos/Infoleg/100029.txt   \n",
       "6   6  ../Datos/Infoleg/100035.txt   \n",
       "7   7  ../Datos/Infoleg/100037.txt   \n",
       "8   8  ../Datos/Infoleg/100038.txt   \n",
       "9   9  ../Datos/Infoleg/100041.txt   \n",
       "\n",
       "                                               TEXTO  \\\n",
       "0  ACUERDOS\\nLey 25.939\\nApruébase el Acuerdo Sob...   \n",
       "1  MINISTERIO DE ECONOMIA Y PRODUCCION\\nDecisión ...   \n",
       "2  Secretaría de Hacienda\\nPRESUPUESTO\\nResolució...   \n",
       "3  Ministerio de Economía y Producción\\nREGIMEN S...   \n",
       "4  Secretaría de Empleo\\nPROGRAMA JEFES DE HOGAR\\...   \n",
       "5  Ministerio de Economía y Producción\\nCOMERCIO ...   \n",
       "6  Subsecretaría de la Pequeña y Mediana Empresa ...   \n",
       "7  MINISTERIO DEL INTERIOR\\nREGISTRO NACIONAL DE ...   \n",
       "8  MINISTERIO DEL INTERIOR\\nREGISTRO NACIONAL DE ...   \n",
       "9  BANCO CENTRAL DE LA REPUBLICA ARGENTINA\\n(ENLE...   \n",
       "\n",
       "                                          TEXTO_NORM  LDA_CLASE  NMF_CLASE  \n",
       "0  acuerdos apruebase acuerdo cooperacion minera ...          0          6  \n",
       "1  ministerio economia produccion decision admini...          2          2  \n",
       "2  secretaria hacienda presupuesto resolucion mod...          2          2  \n",
       "3  ministerio economia produccion regimen simplif...          0          7  \n",
       "4  secretaria empleo programa jefes hogar resoluc...          0          6  \n",
       "5  ministerio economia produccion comercio exteri...          0          7  \n",
       "6  subsecretaria pequeña mediana empresa desarrol...          0          7  \n",
       "7  ministerio interior registro nacional persona ...          0          8  \n",
       "8  ministerio interior registro nacional persona ...          0          6  \n",
       "9  banco central republica argentina enleces auto...          5          9  "
      ]
     },
     "execution_count": 31,
     "metadata": {},
     "output_type": "execute_result"
    }
   ],
   "source": [
    "df_corpus.head(10)"
   ]
  },
  {
   "cell_type": "markdown",
   "metadata": {},
   "source": [
    "Comparamos las distribución en la asignación de ambas clases."
   ]
  },
  {
   "cell_type": "code",
   "execution_count": 32,
   "metadata": {},
   "outputs": [
    {
     "data": {
      "text/plain": [
       "<AxesSubplot:>"
      ]
     },
     "execution_count": 32,
     "metadata": {},
     "output_type": "execute_result"
    },
    {
     "data": {
      "image/png": "[encoded data removed]",
      "text/plain": [
       "<Figure size 432x288 with 1 Axes>"
      ]
     },
     "metadata": {
      "needs_background": "light"
     },
     "output_type": "display_data"
    }
   ],
   "source": [
    "df_corpus['LDA_CLASE'].hist(bins = 10)"
   ]
  },
  {
   "cell_type": "markdown",
   "metadata": {},
   "source": [
    "Observamos que LDA prácticamente no tuvo una buena generación de tópicos ya de que la mayoría de los documentos los clasificó en el grupo 0."
   ]
  },
  {
   "cell_type": "code",
   "execution_count": 33,
   "metadata": {
    "scrolled": true
   },
   "outputs": [
    {
     "data": {
      "text/plain": [
       "<AxesSubplot:>"
      ]
     },
     "execution_count": 33,
     "metadata": {},
     "output_type": "execute_result"
    },
    {
     "data": {
      "image/png": "[encoded data removed]",
      "text/plain": [
       "<Figure size 432x288 with 1 Axes>"
      ]
     },
     "metadata": {
      "needs_background": "light"
     },
     "output_type": "display_data"
    }
   ],
   "source": [
    "df_corpus['NMF_CLASE'].hist(bins = 10)"
   ]
  },
  {
   "cell_type": "markdown",
   "metadata": {},
   "source": [
    "En el caso de MNF, generó una mejor agrupación, ya que la clasificación de los documentos estuvo un poco más homogenea, aunque hay muchos clasificados en la clase 2"
   ]
  },
  {
   "cell_type": "markdown",
   "metadata": {},
   "source": [
    "* Opcional: Entrenar con algún modelo de acuerdo a las experiencias previas para poder después aplicar busquedas de terminos que nos traigan los documentos similares."
   ]
  },
  {
   "cell_type": "markdown",
   "metadata": {},
   "source": [
    " ----------------------------------------------------------------------------------------------------------"
   ]
  },
  {
   "cell_type": "markdown",
   "metadata": {},
   "source": [
    "* Realizar todo el proceso utilizando Gensim-Doc2Vec "
   ]
  },
  {
   "cell_type": "code",
   "execution_count": 34,
   "metadata": {},
   "outputs": [],
   "source": [
    "import multiprocessing\n",
    "import gensim\n",
    "from gensim.models.doc2vec import Doc2Vec, TaggedDocument\n",
    "from sklearn.model_selection import train_test_split"
   ]
  },
  {
   "cell_type": "markdown",
   "metadata": {},
   "source": [
    "Dividimos los datos en entrenamiento y validación con un procentaje de 70% para entrenamiento y 30% para validación con shuffle, seleccionar las features X e Y"
   ]
  },
  {
   "cell_type": "code",
   "execution_count": 35,
   "metadata": {},
   "outputs": [],
   "source": [
    "# tenemos que convertir TEXTO_NORM en una lista y generar una lista de todas estas listas\n",
    "# para que podemos dividir los datos\n",
    "X = list(df_corpus[\"TEXTO_NORM\"].apply(lambda x: gensim.utils.simple_preprocess(x)))"
   ]
  },
  {
   "cell_type": "code",
   "execution_count": 36,
   "metadata": {},
   "outputs": [],
   "source": [
    "# división entre entrenamiento y evaluación\n",
    "X_train, X_test = train_test_split(X, test_size=0.3, random_state=0, shuffle=True)"
   ]
  },
  {
   "cell_type": "code",
   "execution_count": 37,
   "metadata": {},
   "outputs": [
    {
     "data": {
      "text/plain": [
       "([['ministerio',\n",
       "   'planificacion',\n",
       "   'federal',\n",
       "   'inversion',\n",
       "   'publica',\n",
       "   'servicios',\n",
       "   'secretaria',\n",
       "   'transporte',\n",
       "   'resolucion',\n",
       "   'visto',\n",
       "   'expediente',\n",
       "   'registro',\n",
       "   'ministerio',\n",
       "   'planificacion',\n",
       "   'federal',\n",
       "   'inversion',\n",
       "   'publica',\n",
       "   'servicios',\n",
       "   'considerando',\n",
       "   'mediante',\n",
       "   'resolucion',\n",
       "   'fecha',\n",
       "   'noviembre',\n",
       "   'secretaria',\n",
       "   'transporte',\n",
       "   'ministerio',\n",
       "   'produccion',\n",
       "   'aprobo',\n",
       "   'pliego',\n",
       "   'base',\n",
       "   'condiciones',\n",
       "   'generales',\n",
       "   'llamado',\n",
       "   'licitacion',\n",
       "   'publica',\n",
       "   'establecimiento',\n",
       "   'servicios',\n",
       "   'publicos',\n",
       "   'transporte',\n",
       "   'automotor',\n",
       "   'pasajeros',\n",
       "   'carretera',\n",
       "   'caracter',\n",
       "   'contexto',\n",
       "   'resolucion',\n",
       "   'fecha',\n",
       "   'diciembre',\n",
       "   'secretaria',\n",
       "   'transporte',\n",
       "   'ministerio',\n",
       "   'produccion',\n",
       "   'dispuso',\n",
       "   'llamado',\n",
       "   'licitacion',\n",
       "   'publica',\n",
       "   'propuestas',\n",
       "   'establecimiento',\n",
       "   'servicios',\n",
       "   'publicos',\n",
       "   'transporte',\n",
       "   'automotor',\n",
       "   'pasajeros',\n",
       "   'carretera',\n",
       "   'caracter',\n",
       "   'conforme',\n",
       "   'anexo',\n",
       "   'aprobado',\n",
       "   'resolucion',\n",
       "   'secretaria',\n",
       "   'transporte',\n",
       "   'ministerio',\n",
       "   'produccion',\n",
       "   'cupos',\n",
       "   'frecuencias',\n",
       "   'lineas',\n",
       "   'grupos',\n",
       "   'lineas',\n",
       "   'misma',\n",
       "   'detallan',\n",
       "   'parte',\n",
       "   'mediante',\n",
       "   'resolucion',\n",
       "   'fecha',\n",
       "   'febrero',\n",
       "   'secretaria',\n",
       "   'transporte',\n",
       "   'ministerio',\n",
       "   'produccion',\n",
       "   'dispuso',\n",
       "   'llamado',\n",
       "   'licitacion',\n",
       "   'publica',\n",
       "   'propuestas',\n",
       "   'establecimiento',\n",
       "   'servicios',\n",
       "   'publicos',\n",
       "   'transporte',\n",
       "   'automotor',\n",
       "   'pasajeros',\n",
       "   'carretera',\n",
       "   'caracter',\n",
       "   'cupos',\n",
       "   'frecuencias',\n",
       "   'lineas',\n",
       "   'grupos',\n",
       "   'lineas',\n",
       "   'misma',\n",
       "   'detallan',\n",
       "   'asimismo',\n",
       "   'resolucion',\n",
       "   'secretaria',\n",
       "   'transporte',\n",
       "   'ministerio',\n",
       "   'produccion',\n",
       "   'resolucion',\n",
       "   'secretaria',\n",
       "   'transporte',\n",
       "   'ministerio',\n",
       "   'produccion',\n",
       "   'establecieron',\n",
       "   'conformacion',\n",
       "   'comision',\n",
       "   'evaluacion',\n",
       "   'ofertas',\n",
       "   'licitaciones',\n",
       "   'publicas',\n",
       "   'servicios',\n",
       "   'publicos',\n",
       "   'transporte',\n",
       "   'automotor',\n",
       "   'pasajeros',\n",
       "   'carretera',\n",
       "   'caracter',\n",
       "   'prevista',\n",
       "   'pliego',\n",
       "   'base',\n",
       "   'condiciones',\n",
       "   'generales',\n",
       "   'aprobado',\n",
       "   'resolucion',\n",
       "   'secretaria',\n",
       "   'transporte',\n",
       "   'ministerio',\n",
       "   'produccion',\n",
       "   'llamados',\n",
       "   'referidos',\n",
       "   'considerando',\n",
       "   'cambio',\n",
       "   'autoridades',\n",
       "   'acaecido',\n",
       "   'resulta',\n",
       "   'oportuno',\n",
       "   'conveniente',\n",
       "   'modificar',\n",
       "   'integracion',\n",
       "   'comision',\n",
       "   'evaluacion',\n",
       "   'ofertas',\n",
       "   'licitaciones',\n",
       "   'publicas',\n",
       "   'servicios',\n",
       "   'publicos',\n",
       "   'transporte',\n",
       "   'automotor',\n",
       "   'pasajeros',\n",
       "   'carretera',\n",
       "   'caracter',\n",
       "   'direccion',\n",
       "   'general',\n",
       "   'asuntos',\n",
       "   'juridicos',\n",
       "   'ministerio',\n",
       "   'economia',\n",
       "   'produccion',\n",
       "   'tomado',\n",
       "   'intervencion',\n",
       "   'compete',\n",
       "   'conforme',\n",
       "   'establecido',\n",
       "   'articulo',\n",
       "   'decreto',\n",
       "   'fecha',\n",
       "   'mayo',\n",
       "   'presente',\n",
       "   'medida',\n",
       "   'dictum',\n",
       "   'virtud',\n",
       "   'atribuciones',\n",
       "   'conferidas',\n",
       "   'decreto',\n",
       "   'fecha',\n",
       "   'junio',\n",
       "   'modificado',\n",
       "   'similar',\n",
       "   'fecha',\n",
       "   'noviembre',\n",
       "   'ello',\n",
       "   'secretario',\n",
       "   'transporte',\n",
       "   'resuelve',\n",
       "   'articulo',\n",
       "   'sustituyese',\n",
       "   'articulo',\n",
       "   'resolucion',\n",
       "   'fecha',\n",
       "   'febrero',\n",
       "   'secretaria',\n",
       "   'transporte',\n",
       "   'ministerio',\n",
       "   'produccion',\n",
       "   'quedara',\n",
       "   'redactado',\n",
       "   'siguiente',\n",
       "   'forma',\n",
       "   'articulo',\n",
       "   'comision',\n",
       "   'evaluacion',\n",
       "   'ofertas',\n",
       "   'licitaciones',\n",
       "   'publicas',\n",
       "   'servicios',\n",
       "   'publicos',\n",
       "   'transporte',\n",
       "   'automotor',\n",
       "   'pasajeros',\n",
       "   'carretera',\n",
       "   'caracter',\n",
       "   'prevista',\n",
       "   'pliego',\n",
       "   'base',\n",
       "   'condiciones',\n",
       "   'generales',\n",
       "   'aprobado',\n",
       "   'resolucion',\n",
       "   'fecha',\n",
       "   'noviembre',\n",
       "   'secretaria',\n",
       "   'transporte',\n",
       "   'referido',\n",
       "   'llamado',\n",
       "   'estara',\n",
       "   'integrada',\n",
       "   'siguiente',\n",
       "   'forma',\n",
       "   'señor',\n",
       "   'interventor',\n",
       "   'comision',\n",
       "   'nacional',\n",
       "   'regulacion',\n",
       "   'transporte',\n",
       "   'organismo',\n",
       "   'descentralizado',\n",
       "   'ambito',\n",
       "   'secretaria',\n",
       "   'transporte',\n",
       "   'ministerio',\n",
       "   'planificacion',\n",
       "   'federal',\n",
       "   'inversion',\n",
       "   'publica',\n",
       "   'servicios',\n",
       "   'contador',\n",
       "   'roque',\n",
       "   'guillermo',\n",
       "   'lapadula',\n",
       "   'señor',\n",
       "   'subsecretario',\n",
       "   'transporte',\n",
       "   'automotor',\n",
       "   'jorge',\n",
       "   'gonzalez',\n",
       "   'doctor',\n",
       "   'adrian',\n",
       "   'javier',\n",
       "   'gaveglio',\n",
       "   'articulo',\n",
       "   'sustituyese',\n",
       "   'articulo',\n",
       "   'resolucion',\n",
       "   'fecha',\n",
       "   'diciembre',\n",
       "   'secretaria',\n",
       "   'transporte',\n",
       "   'ministerio',\n",
       "   'produccion',\n",
       "   'quedara',\n",
       "   'redactado',\n",
       "   'siguiente',\n",
       "   'manera',\n",
       "   'articulo',\n",
       "   'comision',\n",
       "   'evaluacion',\n",
       "   'ofertas',\n",
       "   'licitaciones',\n",
       "   'publicas',\n",
       "   'servicios',\n",
       "   'publicos',\n",
       "   'transporte',\n",
       "   'automotor',\n",
       "   'pasajeros',\n",
       "   'carretera',\n",
       "   'caracter',\n",
       "   'prevista',\n",
       "   'pliego',\n",
       "   'base',\n",
       "   'condiciones',\n",
       "   'generales',\n",
       "   'aprobado',\n",
       "   'resolucion',\n",
       "   'fecha',\n",
       "   'noviembre',\n",
       "   'secretaria',\n",
       "   'transporte',\n",
       "   'referido',\n",
       "   'llamado',\n",
       "   'estara',\n",
       "   'integrada',\n",
       "   'siguiente',\n",
       "   'forma',\n",
       "   'señor',\n",
       "   'interventor',\n",
       "   'comision',\n",
       "   'nacional',\n",
       "   'regulacion',\n",
       "   'transporte',\n",
       "   'contador',\n",
       "   'guillermo',\n",
       "   'roque',\n",
       "   'lapadula',\n",
       "   'señor',\n",
       "   'subsecretario',\n",
       "   'transporte',\n",
       "   'automotor',\n",
       "   'jorge',\n",
       "   'gonzalez',\n",
       "   'doctor',\n",
       "   'adrian',\n",
       "   'javier',\n",
       "   'gaveglio',\n",
       "   'articulo',\n",
       "   'presente',\n",
       "   'resolucion',\n",
       "   'entrara',\n",
       "   'vigencia',\n",
       "   'partir',\n",
       "   'publicacion',\n",
       "   'boletin',\n",
       "   'oficial',\n",
       "   'republica',\n",
       "   'argentina',\n",
       "   'articulo',\n",
       "   'comuniquese',\n",
       "   'entidades',\n",
       "   'representativas',\n",
       "   'transporte',\n",
       "   'automotor',\n",
       "   'pasajeros',\n",
       "   'comision',\n",
       "   'nacional',\n",
       "   'regulacion',\n",
       "   'transporte',\n",
       "   'organismo',\n",
       "   'descentralizado',\n",
       "   'ambito',\n",
       "   'secretaria',\n",
       "   'transporte',\n",
       "   'ministerio',\n",
       "   'planificacion',\n",
       "   'federal',\n",
       "   'inversion',\n",
       "   'publica',\n",
       "   'servicios',\n",
       "   'cumplido',\n",
       "   'remitanse',\n",
       "   'presentes',\n",
       "   'actuaciones',\n",
       "   'comision',\n",
       "   'evaluacion',\n",
       "   'ofertas',\n",
       "   'licitaciones',\n",
       "   'publicas',\n",
       "   'servicios',\n",
       "   'publicos',\n",
       "   'transporte',\n",
       "   'automotor',\n",
       "   'pasajeros',\n",
       "   'carretera',\n",
       "   'caracter',\n",
       "   'efectos',\n",
       "   'articulo',\n",
       "   'comuniquese',\n",
       "   'publiquese',\n",
       "   'dese',\n",
       "   'direccion',\n",
       "   'nacional',\n",
       "   'registro',\n",
       "   'oficial',\n",
       "   'archivese',\n",
       "   'ricardo',\n",
       "   'raul',\n",
       "   'jaime',\n",
       "   'secretario',\n",
       "   'transporte']],\n",
       " [['policia',\n",
       "   'federal',\n",
       "   'argentina',\n",
       "   'decreto',\n",
       "   'establecese',\n",
       "   'ministerio',\n",
       "   'interior',\n",
       "   'tendra',\n",
       "   'cargo',\n",
       "   'gasto',\n",
       "   'demande',\n",
       "   'ejecucion',\n",
       "   'prueba',\n",
       "   'tramites',\n",
       "   'judiciales',\n",
       "   'debata',\n",
       "   'filiacion',\n",
       "   'hijo',\n",
       "   'miembro',\n",
       "   'policia',\n",
       "   'federal',\n",
       "   'argentina',\n",
       "   'caido',\n",
       "   'acto',\n",
       "   'servicio',\n",
       "   'visto',\n",
       "   'decreto',\n",
       "   'numero',\n",
       "   'julio',\n",
       "   'aprobatorio',\n",
       "   'reglamentacion',\n",
       "   'numero',\n",
       "   'organica',\n",
       "   'personal',\n",
       "   'policia',\n",
       "   'federal',\n",
       "   'argentina',\n",
       "   'expediente',\n",
       "   'cupad',\n",
       "   'numero',\n",
       "   'registro',\n",
       "   'ministerio',\n",
       "   'interior',\n",
       "   'considerando',\n",
       "   'decreto',\n",
       "   'citado',\n",
       "   'visto',\n",
       "   'regula',\n",
       "   'titulo',\n",
       "   'capitulo',\n",
       "   'fine',\n",
       "   'objetivos',\n",
       "   'corresponden',\n",
       "   'administracion',\n",
       "   'bienestar',\n",
       "   'indicando',\n",
       "   'mision',\n",
       "   'dicho',\n",
       "   'organismo',\n",
       "   'propender',\n",
       "   'bienestar',\n",
       "   'moral',\n",
       "   'material',\n",
       "   'integrantes',\n",
       "   'institucion',\n",
       "   'policial',\n",
       "   'familiares',\n",
       "   'mediante',\n",
       "   'prestacion',\n",
       "   'servicios',\n",
       "   'sociales',\n",
       "   'asistenciales',\n",
       "   'articulo',\n",
       "   'mismo',\n",
       "   'cuerpo',\n",
       "   'normativo',\n",
       "   'señala',\n",
       "   'fine',\n",
       "   'esenciales',\n",
       "   'administracion',\n",
       "   'bienestar',\n",
       "   'asistencia',\n",
       "   'hijos',\n",
       "   'huerfanos',\n",
       "   'afiliados',\n",
       "   'casos',\n",
       "   'efectivo',\n",
       "   'policial',\n",
       "   'fallece',\n",
       "   'acto',\n",
       "   'servicio',\n",
       "   'encontrandose',\n",
       "   'conviviente',\n",
       "   'embarazada',\n",
       "   'finalidad',\n",
       "   'asistencia',\n",
       "   'huerfano',\n",
       "   'afiliado',\n",
       "   'concreta',\n",
       "   'resuelva',\n",
       "   'sede',\n",
       "   'judicial',\n",
       "   'filiacion',\n",
       "   'niño',\n",
       "   'procesos',\n",
       "   'filiatorios',\n",
       "   'examen',\n",
       "   'menor',\n",
       "   'constituye',\n",
       "   'medio',\n",
       "   'prueba',\n",
       "   'esencial',\n",
       "   'produccion',\n",
       "   'dicha',\n",
       "   'prueba',\n",
       "   'costo',\n",
       "   'elevado',\n",
       "   'mayoria',\n",
       "   'casos',\n",
       "   'familia',\n",
       "   'policia',\n",
       "   'caido',\n",
       "   'puede',\n",
       "   'afrontar',\n",
       "   'produce',\n",
       "   'demora',\n",
       "   'importante',\n",
       "   'tramite',\n",
       "   'judicial',\n",
       "   'posterga',\n",
       "   'oportunidad',\n",
       "   'afiliacion',\n",
       "   'menor',\n",
       "   'funcion',\n",
       "   'expuesto',\n",
       "   'resulta',\n",
       "   'oportuno',\n",
       "   'disponer',\n",
       "   'ministerio',\n",
       "   'interior',\n",
       "   'tome',\n",
       "   'cargo',\n",
       "   'gasto',\n",
       "   'demande',\n",
       "   'realizacion',\n",
       "   'prueba',\n",
       "   'debata',\n",
       "   'filiacion',\n",
       "   'hijo',\n",
       "   'miembro',\n",
       "   'fuerza',\n",
       "   'policial',\n",
       "   'caido',\n",
       "   'acto',\n",
       "   'servicio',\n",
       "   'dilatar',\n",
       "   'ejercicio',\n",
       "   'derecho',\n",
       "   'reconocido',\n",
       "   'favor',\n",
       "   'huerfano',\n",
       "   'recibir',\n",
       "   'correspondiente',\n",
       "   'asistencia',\n",
       "   'intermedio',\n",
       "   'administracion',\n",
       "   'bienestar',\n",
       "   'tomado',\n",
       "   'intervencion',\n",
       "   'competencia',\n",
       "   'direccion',\n",
       "   'general',\n",
       "   'asuntos',\n",
       "   'juridicos',\n",
       "   'ministerio',\n",
       "   'interior',\n",
       "   'presente',\n",
       "   'dictum',\n",
       "   'facultades',\n",
       "   'conferidas',\n",
       "   'articulo',\n",
       "   'inciso',\n",
       "   'constitucion',\n",
       "   'nacional',\n",
       "   'ello',\n",
       "   'presidente',\n",
       "   'nacion',\n",
       "   'argentina',\n",
       "   'decreta',\n",
       "   'articulo',\n",
       "   'ministerio',\n",
       "   'interior',\n",
       "   'tendra',\n",
       "   'cargo',\n",
       "   'gasto',\n",
       "   'demande',\n",
       "   'ejecucion',\n",
       "   'prueba',\n",
       "   'aquellos',\n",
       "   'tramites',\n",
       "   'judiciales',\n",
       "   'debata',\n",
       "   'filiacion',\n",
       "   'hijo',\n",
       "   'miembro',\n",
       "   'policia',\n",
       "   'federal',\n",
       "   'argentina',\n",
       "   'caido',\n",
       "   'acto',\n",
       "   'servicio',\n",
       "   'fuere',\n",
       "   'solicitado',\n",
       "   'parte',\n",
       "   'interesada',\n",
       "   'articulo',\n",
       "   'comuniquese',\n",
       "   'publiquese',\n",
       "   'dese',\n",
       "   'direccion',\n",
       "   'nacional',\n",
       "   'registro',\n",
       "   'oficial',\n",
       "   'archivese',\n",
       "   'kirchner',\n",
       "   'anibal',\n",
       "   'fernandez']])"
      ]
     },
     "execution_count": 37,
     "metadata": {},
     "output_type": "execute_result"
    }
   ],
   "source": [
    "X_train[:1], X_test[:1]"
   ]
  },
  {
   "cell_type": "markdown",
   "metadata": {},
   "source": [
    "Para entrenar el modelo necesitamos taguear los documentos:"
   ]
  },
  {
   "cell_type": "code",
   "execution_count": 38,
   "metadata": {},
   "outputs": [],
   "source": [
    "def tagged_document(texto):\n",
    "    for i, list_of_words in enumerate(texto):\n",
    "        yield gensim.models.doc2vec.TaggedDocument(list_of_words, [i])        "
   ]
  },
  {
   "cell_type": "code",
   "execution_count": 39,
   "metadata": {},
   "outputs": [],
   "source": [
    "data_for_training = list(tagged_document(X_train))"
   ]
  },
  {
   "cell_type": "code",
   "execution_count": 40,
   "metadata": {},
   "outputs": [],
   "source": [
    "data_for_testing = list(tagged_document(X_test))"
   ]
  },
  {
   "cell_type": "markdown",
   "metadata": {},
   "source": [
    "Imprimimos el primer documento tagueado"
   ]
  },
  {
   "cell_type": "code",
   "execution_count": 41,
   "metadata": {},
   "outputs": [
    {
     "name": "stdout",
     "output_type": "stream",
     "text": [
      "[TaggedDocument(words=['ministerio', 'planificacion', 'federal', 'inversion', 'publica', 'servicios', 'secretaria', 'transporte', 'resolucion', 'visto', 'expediente', 'registro', 'ministerio', 'planificacion', 'federal', 'inversion', 'publica', 'servicios', 'considerando', 'mediante', 'resolucion', 'fecha', 'noviembre', 'secretaria', 'transporte', 'ministerio', 'produccion', 'aprobo', 'pliego', 'base', 'condiciones', 'generales', 'llamado', 'licitacion', 'publica', 'establecimiento', 'servicios', 'publicos', 'transporte', 'automotor', 'pasajeros', 'carretera', 'caracter', 'contexto', 'resolucion', 'fecha', 'diciembre', 'secretaria', 'transporte', 'ministerio', 'produccion', 'dispuso', 'llamado', 'licitacion', 'publica', 'propuestas', 'establecimiento', 'servicios', 'publicos', 'transporte', 'automotor', 'pasajeros', 'carretera', 'caracter', 'conforme', 'anexo', 'aprobado', 'resolucion', 'secretaria', 'transporte', 'ministerio', 'produccion', 'cupos', 'frecuencias', 'lineas', 'grupos', 'lineas', 'misma', 'detallan', 'parte', 'mediante', 'resolucion', 'fecha', 'febrero', 'secretaria', 'transporte', 'ministerio', 'produccion', 'dispuso', 'llamado', 'licitacion', 'publica', 'propuestas', 'establecimiento', 'servicios', 'publicos', 'transporte', 'automotor', 'pasajeros', 'carretera', 'caracter', 'cupos', 'frecuencias', 'lineas', 'grupos', 'lineas', 'misma', 'detallan', 'asimismo', 'resolucion', 'secretaria', 'transporte', 'ministerio', 'produccion', 'resolucion', 'secretaria', 'transporte', 'ministerio', 'produccion', 'establecieron', 'conformacion', 'comision', 'evaluacion', 'ofertas', 'licitaciones', 'publicas', 'servicios', 'publicos', 'transporte', 'automotor', 'pasajeros', 'carretera', 'caracter', 'prevista', 'pliego', 'base', 'condiciones', 'generales', 'aprobado', 'resolucion', 'secretaria', 'transporte', 'ministerio', 'produccion', 'llamados', 'referidos', 'considerando', 'cambio', 'autoridades', 'acaecido', 'resulta', 'oportuno', 'conveniente', 'modificar', 'integracion', 'comision', 'evaluacion', 'ofertas', 'licitaciones', 'publicas', 'servicios', 'publicos', 'transporte', 'automotor', 'pasajeros', 'carretera', 'caracter', 'direccion', 'general', 'asuntos', 'juridicos', 'ministerio', 'economia', 'produccion', 'tomado', 'intervencion', 'compete', 'conforme', 'establecido', 'articulo', 'decreto', 'fecha', 'mayo', 'presente', 'medida', 'dictum', 'virtud', 'atribuciones', 'conferidas', 'decreto', 'fecha', 'junio', 'modificado', 'similar', 'fecha', 'noviembre', 'ello', 'secretario', 'transporte', 'resuelve', 'articulo', 'sustituyese', 'articulo', 'resolucion', 'fecha', 'febrero', 'secretaria', 'transporte', 'ministerio', 'produccion', 'quedara', 'redactado', 'siguiente', 'forma', 'articulo', 'comision', 'evaluacion', 'ofertas', 'licitaciones', 'publicas', 'servicios', 'publicos', 'transporte', 'automotor', 'pasajeros', 'carretera', 'caracter', 'prevista', 'pliego', 'base', 'condiciones', 'generales', 'aprobado', 'resolucion', 'fecha', 'noviembre', 'secretaria', 'transporte', 'referido', 'llamado', 'estara', 'integrada', 'siguiente', 'forma', 'señor', 'interventor', 'comision', 'nacional', 'regulacion', 'transporte', 'organismo', 'descentralizado', 'ambito', 'secretaria', 'transporte', 'ministerio', 'planificacion', 'federal', 'inversion', 'publica', 'servicios', 'contador', 'roque', 'guillermo', 'lapadula', 'señor', 'subsecretario', 'transporte', 'automotor', 'jorge', 'gonzalez', 'doctor', 'adrian', 'javier', 'gaveglio', 'articulo', 'sustituyese', 'articulo', 'resolucion', 'fecha', 'diciembre', 'secretaria', 'transporte', 'ministerio', 'produccion', 'quedara', 'redactado', 'siguiente', 'manera', 'articulo', 'comision', 'evaluacion', 'ofertas', 'licitaciones', 'publicas', 'servicios', 'publicos', 'transporte', 'automotor', 'pasajeros', 'carretera', 'caracter', 'prevista', 'pliego', 'base', 'condiciones', 'generales', 'aprobado', 'resolucion', 'fecha', 'noviembre', 'secretaria', 'transporte', 'referido', 'llamado', 'estara', 'integrada', 'siguiente', 'forma', 'señor', 'interventor', 'comision', 'nacional', 'regulacion', 'transporte', 'contador', 'guillermo', 'roque', 'lapadula', 'señor', 'subsecretario', 'transporte', 'automotor', 'jorge', 'gonzalez', 'doctor', 'adrian', 'javier', 'gaveglio', 'articulo', 'presente', 'resolucion', 'entrara', 'vigencia', 'partir', 'publicacion', 'boletin', 'oficial', 'republica', 'argentina', 'articulo', 'comuniquese', 'entidades', 'representativas', 'transporte', 'automotor', 'pasajeros', 'comision', 'nacional', 'regulacion', 'transporte', 'organismo', 'descentralizado', 'ambito', 'secretaria', 'transporte', 'ministerio', 'planificacion', 'federal', 'inversion', 'publica', 'servicios', 'cumplido', 'remitanse', 'presentes', 'actuaciones', 'comision', 'evaluacion', 'ofertas', 'licitaciones', 'publicas', 'servicios', 'publicos', 'transporte', 'automotor', 'pasajeros', 'carretera', 'caracter', 'efectos', 'articulo', 'comuniquese', 'publiquese', 'dese', 'direccion', 'nacional', 'registro', 'oficial', 'archivese', 'ricardo', 'raul', 'jaime', 'secretario', 'transporte'], tags=[0])]\n"
     ]
    }
   ],
   "source": [
    "print(data_for_training [:1])"
   ]
  },
  {
   "cell_type": "markdown",
   "metadata": {},
   "source": [
    "Instanciamos el objeto Doc2Vec"
   ]
  },
  {
   "cell_type": "code",
   "execution_count": 42,
   "metadata": {},
   "outputs": [],
   "source": [
    "model = Doc2Vec(vector_size=128, min_count=2, epochs=40)"
   ]
  },
  {
   "cell_type": "markdown",
   "metadata": {},
   "source": [
    "Construimos el vocabulario a partir de los documentos de entrenamiento"
   ]
  },
  {
   "cell_type": "code",
   "execution_count": 43,
   "metadata": {},
   "outputs": [],
   "source": [
    "model.build_vocab(data_for_training)"
   ]
  },
  {
   "cell_type": "markdown",
   "metadata": {},
   "source": [
    "Entrenamos el modelo"
   ]
  },
  {
   "cell_type": "code",
   "execution_count": 44,
   "metadata": {},
   "outputs": [],
   "source": [
    "model.train(data_for_training, total_examples=model.corpus_count, epochs=model.epochs)"
   ]
  },
  {
   "cell_type": "markdown",
   "metadata": {},
   "source": [
    "Observamos la salida del siguiente texto: \n",
    "*Reconociendo que un acuerdo en materia minera será de utilidad*"
   ]
  },
  {
   "cell_type": "code",
   "execution_count": 45,
   "metadata": {
    "scrolled": false
   },
   "outputs": [
    {
     "name": "stdout",
     "output_type": "stream",
     "text": [
      "[-0.21659963 -0.07642958 -0.20790969 -0.03939478 -0.18342781 -0.19000085\n",
      " -0.04484613  0.17716905  0.3457288   0.05498647  0.04029323 -0.11432568\n",
      "  0.00861126  0.18497552 -0.11374927 -0.14707287  0.18039559  0.41205582\n",
      "  0.25602528  0.08036044  0.09596331  0.21580723  0.08428099 -0.06577171\n",
      " -0.3162199  -0.06531249  0.13339026  0.40049738  0.20757425  0.11693468\n",
      "  0.10229634 -0.18771467  0.1280545   0.10641842  0.17308185 -0.47714487\n",
      "  0.16943872  0.2277392  -0.08801627  0.3514817  -0.18683435 -0.12188754\n",
      "  0.31466302  0.11865058 -0.19472878  0.20430543 -0.4085668  -0.14972712\n",
      " -0.21400258 -0.25562423 -0.09961306  0.25060153  0.16194867 -0.3258921\n",
      "  0.39447084  0.26273084  0.17566428  0.07300977  0.14692852  0.11308976\n",
      "  0.32922468  0.11592584 -0.08462547 -0.09683921 -0.06074858 -0.06860464\n",
      " -0.03833458 -0.07348806  0.20242351  0.35654557  0.06263016  0.03077875\n",
      "  0.07962699  0.02970803  0.00331385 -0.02985463  0.10801841  0.03351852\n",
      "  0.01576949 -0.10513331 -0.06511739  0.00276172  0.47133788  0.05618558\n",
      "  0.31722578  0.39247346 -0.22194377  0.13086073  0.2604188  -0.04993683\n",
      "  0.21000491  0.06270459  0.14722376 -0.11632697  0.01831391  0.412319\n",
      "  0.42098308  0.11618056  0.04003972  0.3164578   0.2294855  -0.06903466\n",
      "  0.03194736  0.07213584 -0.12389105  0.2095968  -0.34572297 -0.02420354\n",
      " -0.21549025 -0.09514128  0.10970493 -0.17491269  0.0617078  -0.01478619\n",
      " -0.18901089 -0.131381    0.3505864  -0.24097706  0.14305285  0.07865945\n",
      "  0.00418404 -0.4688038   0.22545221  0.06846965  0.10111281  0.12754203\n",
      " -0.2254618  -0.10873956]\n"
     ]
    }
   ],
   "source": [
    "print(model.infer_vector(['Reconociendo', 'que', 'un', 'acuerdo', 'en', 'materia', 'minera', 'será', 'de', 'utilidad']))"
   ]
  },
  {
   "cell_type": "markdown",
   "metadata": {},
   "source": [
    "Buscamos los 5 documentos más similares del primer documento de entrenamiento:"
   ]
  },
  {
   "cell_type": "code",
   "execution_count": 46,
   "metadata": {},
   "outputs": [
    {
     "data": {
      "text/plain": [
       "TaggedDocument(words=['ministerio', 'planificacion', 'federal', 'inversion', 'publica', 'servicios', 'secretaria', 'transporte', 'resolucion', 'visto', 'expediente', 'registro', 'ministerio', 'planificacion', 'federal', 'inversion', 'publica', 'servicios', 'considerando', 'mediante', 'resolucion', 'fecha', 'noviembre', 'secretaria', 'transporte', 'ministerio', 'produccion', 'aprobo', 'pliego', 'base', 'condiciones', 'generales', 'llamado', 'licitacion', 'publica', 'establecimiento', 'servicios', 'publicos', 'transporte', 'automotor', 'pasajeros', 'carretera', 'caracter', 'contexto', 'resolucion', 'fecha', 'diciembre', 'secretaria', 'transporte', 'ministerio', 'produccion', 'dispuso', 'llamado', 'licitacion', 'publica', 'propuestas', 'establecimiento', 'servicios', 'publicos', 'transporte', 'automotor', 'pasajeros', 'carretera', 'caracter', 'conforme', 'anexo', 'aprobado', 'resolucion', 'secretaria', 'transporte', 'ministerio', 'produccion', 'cupos', 'frecuencias', 'lineas', 'grupos', 'lineas', 'misma', 'detallan', 'parte', 'mediante', 'resolucion', 'fecha', 'febrero', 'secretaria', 'transporte', 'ministerio', 'produccion', 'dispuso', 'llamado', 'licitacion', 'publica', 'propuestas', 'establecimiento', 'servicios', 'publicos', 'transporte', 'automotor', 'pasajeros', 'carretera', 'caracter', 'cupos', 'frecuencias', 'lineas', 'grupos', 'lineas', 'misma', 'detallan', 'asimismo', 'resolucion', 'secretaria', 'transporte', 'ministerio', 'produccion', 'resolucion', 'secretaria', 'transporte', 'ministerio', 'produccion', 'establecieron', 'conformacion', 'comision', 'evaluacion', 'ofertas', 'licitaciones', 'publicas', 'servicios', 'publicos', 'transporte', 'automotor', 'pasajeros', 'carretera', 'caracter', 'prevista', 'pliego', 'base', 'condiciones', 'generales', 'aprobado', 'resolucion', 'secretaria', 'transporte', 'ministerio', 'produccion', 'llamados', 'referidos', 'considerando', 'cambio', 'autoridades', 'acaecido', 'resulta', 'oportuno', 'conveniente', 'modificar', 'integracion', 'comision', 'evaluacion', 'ofertas', 'licitaciones', 'publicas', 'servicios', 'publicos', 'transporte', 'automotor', 'pasajeros', 'carretera', 'caracter', 'direccion', 'general', 'asuntos', 'juridicos', 'ministerio', 'economia', 'produccion', 'tomado', 'intervencion', 'compete', 'conforme', 'establecido', 'articulo', 'decreto', 'fecha', 'mayo', 'presente', 'medida', 'dictum', 'virtud', 'atribuciones', 'conferidas', 'decreto', 'fecha', 'junio', 'modificado', 'similar', 'fecha', 'noviembre', 'ello', 'secretario', 'transporte', 'resuelve', 'articulo', 'sustituyese', 'articulo', 'resolucion', 'fecha', 'febrero', 'secretaria', 'transporte', 'ministerio', 'produccion', 'quedara', 'redactado', 'siguiente', 'forma', 'articulo', 'comision', 'evaluacion', 'ofertas', 'licitaciones', 'publicas', 'servicios', 'publicos', 'transporte', 'automotor', 'pasajeros', 'carretera', 'caracter', 'prevista', 'pliego', 'base', 'condiciones', 'generales', 'aprobado', 'resolucion', 'fecha', 'noviembre', 'secretaria', 'transporte', 'referido', 'llamado', 'estara', 'integrada', 'siguiente', 'forma', 'señor', 'interventor', 'comision', 'nacional', 'regulacion', 'transporte', 'organismo', 'descentralizado', 'ambito', 'secretaria', 'transporte', 'ministerio', 'planificacion', 'federal', 'inversion', 'publica', 'servicios', 'contador', 'roque', 'guillermo', 'lapadula', 'señor', 'subsecretario', 'transporte', 'automotor', 'jorge', 'gonzalez', 'doctor', 'adrian', 'javier', 'gaveglio', 'articulo', 'sustituyese', 'articulo', 'resolucion', 'fecha', 'diciembre', 'secretaria', 'transporte', 'ministerio', 'produccion', 'quedara', 'redactado', 'siguiente', 'manera', 'articulo', 'comision', 'evaluacion', 'ofertas', 'licitaciones', 'publicas', 'servicios', 'publicos', 'transporte', 'automotor', 'pasajeros', 'carretera', 'caracter', 'prevista', 'pliego', 'base', 'condiciones', 'generales', 'aprobado', 'resolucion', 'fecha', 'noviembre', 'secretaria', 'transporte', 'referido', 'llamado', 'estara', 'integrada', 'siguiente', 'forma', 'señor', 'interventor', 'comision', 'nacional', 'regulacion', 'transporte', 'contador', 'guillermo', 'roque', 'lapadula', 'señor', 'subsecretario', 'transporte', 'automotor', 'jorge', 'gonzalez', 'doctor', 'adrian', 'javier', 'gaveglio', 'articulo', 'presente', 'resolucion', 'entrara', 'vigencia', 'partir', 'publicacion', 'boletin', 'oficial', 'republica', 'argentina', 'articulo', 'comuniquese', 'entidades', 'representativas', 'transporte', 'automotor', 'pasajeros', 'comision', 'nacional', 'regulacion', 'transporte', 'organismo', 'descentralizado', 'ambito', 'secretaria', 'transporte', 'ministerio', 'planificacion', 'federal', 'inversion', 'publica', 'servicios', 'cumplido', 'remitanse', 'presentes', 'actuaciones', 'comision', 'evaluacion', 'ofertas', 'licitaciones', 'publicas', 'servicios', 'publicos', 'transporte', 'automotor', 'pasajeros', 'carretera', 'caracter', 'efectos', 'articulo', 'comuniquese', 'publiquese', 'dese', 'direccion', 'nacional', 'registro', 'oficial', 'archivese', 'ricardo', 'raul', 'jaime', 'secretario', 'transporte'], tags=[0])"
      ]
     },
     "execution_count": 46,
     "metadata": {},
     "output_type": "execute_result"
    }
   ],
   "source": [
    "data_for_training[0]"
   ]
  },
  {
   "cell_type": "code",
   "execution_count": 47,
   "metadata": {
    "scrolled": true
   },
   "outputs": [
    {
     "name": "stdout",
     "output_type": "stream",
     "text": [
      "Rank #1 \t similitud: 95.82 % \t Documento: ../Datos/Infoleg/100016.txt\n",
      "Rank #2 \t similitud: 85.60 % \t Documento: ../Datos/Infoleg/128318.txt\n",
      "Rank #3 \t similitud: 67.50 % \t Documento: ../Datos/Infoleg/129780.txt\n",
      "Rank #4 \t similitud: 67.33 % \t Documento: ../Datos/Infoleg/129690.txt\n",
      "Rank #5 \t similitud: 67.12 % \t Documento: ../Datos/Infoleg/89649.txt\n"
     ]
    }
   ],
   "source": [
    "doc_id = 0\n",
    "inferred_vector = model.infer_vector(data_for_training[doc_id].words)\n",
    "sims = model.docvecs.most_similar([inferred_vector], topn=5)\n",
    "\n",
    "i=0\n",
    "for doc_id, sim in sims:\n",
    "    i+=1\n",
    "    file = df_corpus.iloc[doc_id]['ARCHIVO']\n",
    "    print(f'Rank #{i} \\t similitud: {sim*100:.2f} % \\t Documento: {file}')"
   ]
  },
  {
   "cell_type": "markdown",
   "metadata": {},
   "source": [
    "Observamos que el mejor rankeado es el mismo documento, con una similitud del 95.82 % (casi 100%) y el resto tienen una similitud superior al 67 %.\n",
    "\n",
    "Ahora haremos la prueba con el primer documento de test."
   ]
  },
  {
   "cell_type": "code",
   "execution_count": 48,
   "metadata": {},
   "outputs": [
    {
     "data": {
      "text/plain": [
       "TaggedDocument(words=['policia', 'federal', 'argentina', 'decreto', 'establecese', 'ministerio', 'interior', 'tendra', 'cargo', 'gasto', 'demande', 'ejecucion', 'prueba', 'tramites', 'judiciales', 'debata', 'filiacion', 'hijo', 'miembro', 'policia', 'federal', 'argentina', 'caido', 'acto', 'servicio', 'visto', 'decreto', 'numero', 'julio', 'aprobatorio', 'reglamentacion', 'numero', 'organica', 'personal', 'policia', 'federal', 'argentina', 'expediente', 'cupad', 'numero', 'registro', 'ministerio', 'interior', 'considerando', 'decreto', 'citado', 'visto', 'regula', 'titulo', 'capitulo', 'fine', 'objetivos', 'corresponden', 'administracion', 'bienestar', 'indicando', 'mision', 'dicho', 'organismo', 'propender', 'bienestar', 'moral', 'material', 'integrantes', 'institucion', 'policial', 'familiares', 'mediante', 'prestacion', 'servicios', 'sociales', 'asistenciales', 'articulo', 'mismo', 'cuerpo', 'normativo', 'señala', 'fine', 'esenciales', 'administracion', 'bienestar', 'asistencia', 'hijos', 'huerfanos', 'afiliados', 'casos', 'efectivo', 'policial', 'fallece', 'acto', 'servicio', 'encontrandose', 'conviviente', 'embarazada', 'finalidad', 'asistencia', 'huerfano', 'afiliado', 'concreta', 'resuelva', 'sede', 'judicial', 'filiacion', 'niño', 'procesos', 'filiatorios', 'examen', 'menor', 'constituye', 'medio', 'prueba', 'esencial', 'produccion', 'dicha', 'prueba', 'costo', 'elevado', 'mayoria', 'casos', 'familia', 'policia', 'caido', 'puede', 'afrontar', 'produce', 'demora', 'importante', 'tramite', 'judicial', 'posterga', 'oportunidad', 'afiliacion', 'menor', 'funcion', 'expuesto', 'resulta', 'oportuno', 'disponer', 'ministerio', 'interior', 'tome', 'cargo', 'gasto', 'demande', 'realizacion', 'prueba', 'debata', 'filiacion', 'hijo', 'miembro', 'fuerza', 'policial', 'caido', 'acto', 'servicio', 'dilatar', 'ejercicio', 'derecho', 'reconocido', 'favor', 'huerfano', 'recibir', 'correspondiente', 'asistencia', 'intermedio', 'administracion', 'bienestar', 'tomado', 'intervencion', 'competencia', 'direccion', 'general', 'asuntos', 'juridicos', 'ministerio', 'interior', 'presente', 'dictum', 'facultades', 'conferidas', 'articulo', 'inciso', 'constitucion', 'nacional', 'ello', 'presidente', 'nacion', 'argentina', 'decreta', 'articulo', 'ministerio', 'interior', 'tendra', 'cargo', 'gasto', 'demande', 'ejecucion', 'prueba', 'aquellos', 'tramites', 'judiciales', 'debata', 'filiacion', 'hijo', 'miembro', 'policia', 'federal', 'argentina', 'caido', 'acto', 'servicio', 'fuere', 'solicitado', 'parte', 'interesada', 'articulo', 'comuniquese', 'publiquese', 'dese', 'direccion', 'nacional', 'registro', 'oficial', 'archivese', 'kirchner', 'anibal', 'fernandez'], tags=[0])"
      ]
     },
     "execution_count": 48,
     "metadata": {},
     "output_type": "execute_result"
    }
   ],
   "source": [
    "data_for_testing[0]"
   ]
  },
  {
   "cell_type": "code",
   "execution_count": 49,
   "metadata": {},
   "outputs": [
    {
     "name": "stdout",
     "output_type": "stream",
     "text": [
      "Rank #1 \t similitud: 46.96 % \t Documento:../Datos/Infoleg/127644.txt\n",
      "Rank #2 \t similitud: 41.54 % \t Documento:../Datos/Infoleg/128969.txt\n",
      "Rank #3 \t similitud: 41.19 % \t Documento:../Datos/Infoleg/129213.txt\n",
      "Rank #4 \t similitud: 40.88 % \t Documento:../Datos/Infoleg/128072.txt\n",
      "Rank #5 \t similitud: 39.99 % \t Documento:../Datos/Infoleg/128974.txt\n"
     ]
    }
   ],
   "source": [
    "doc_id = 0\n",
    "inferred_vector = model.infer_vector(data_for_testing[doc_id].words)\n",
    "sims = model.docvecs.most_similar([inferred_vector], topn=5)\n",
    "\n",
    "i=0\n",
    "for doc_id, sim in sims:\n",
    "    i+=1\n",
    "    file = df_corpus.iloc[doc_id]['ARCHIVO']\n",
    "    print(f'Rank #{i} \\t similitud: {sim*100:.2f} % \\t Documento:{file}')"
   ]
  },
  {
   "cell_type": "markdown",
   "metadata": {},
   "source": [
    "Observamos que el propio documento no está dentro del ranking. Esto es correcto ya que, a diferencia de los documentos de entrenamiento, no éste no fue entrenado. El caso del documento de entrenamiento se lo puede pensar como un \"over fitting\"."
   ]
  },
  {
   "cell_type": "markdown",
   "metadata": {},
   "source": [
    "* Opcional: Generar un input texto y traer los tres documentos con mayor similitud semántica al texto ingresado"
   ]
  },
  {
   "cell_type": "code",
   "execution_count": 56,
   "metadata": {},
   "outputs": [
    {
     "name": "stdout",
     "output_type": "stream",
     "text": [
      "acuerdos de cooperación minera con venezuela\n",
      "Rank #1 \t similitud: 64.34 % \t Documento: ../Datos/Infoleg/129059.txt\n",
      "Rank #2 \t similitud: 64.26 % \t Documento: ../Datos/Infoleg/61496.txt\n",
      "Rank #3 \t similitud: 63.66 % \t Documento: ../Datos/Infoleg/129114.txt\n"
     ]
    }
   ],
   "source": [
    "texto = input()\n",
    "\n",
    "vector = ToktokTokenizer().tokenize(texto)\n",
    "inferred_vector = model.infer_vector(vector)\n",
    "\n",
    "sims = model.docvecs.most_similar([inferred_vector], topn=3)\n",
    "\n",
    "i=0\n",
    "for doc_id, sim in sims:\n",
    "    i+=1\n",
    "    file = df_corpus.iloc[doc_id]['ARCHIVO']\n",
    "    print(f'Rank #{i} \\t similitud: {sim*100:.2f} % \\t Documento: {file}')"
   ]
  },
  {
   "cell_type": "markdown",
   "metadata": {},
   "source": [
    "Al ingresar este texto esperábamos que nos recomendara el documento 100016.txt. Dicho documento es un ACUERDO Ley 25.939:\n",
    "Apruébase el Acuerdo Sobre Cooperación Minera suscripto en Caracas el 12 de julio de 2000 con la República Bolivariana de Venezuela. \n",
    "\n",
    "No remendó otros documentos que tratan de otros temas."
   ]
  },
  {
   "cell_type": "markdown",
   "metadata": {},
   "source": [
    "Buscamos similitudes con un documento del fuero electoral"
   ]
  },
  {
   "cell_type": "code",
   "execution_count": 70,
   "metadata": {},
   "outputs": [],
   "source": [
    "ELECTORAL_DIR = BASE_DIR + 'Datos/Electoral/'"
   ]
  },
  {
   "cell_type": "code",
   "execution_count": 57,
   "metadata": {},
   "outputs": [],
   "source": [
    "from pdfminer.pdfinterp import PDFResourceManager, PDFPageInterpreter\n",
    "from pdfminer.converter import TextConverter\n",
    "from pdfminer.layout import LAParams\n",
    "from pdfminer.pdfpage import PDFPage\n",
    "from io import StringIO"
   ]
  },
  {
   "cell_type": "code",
   "execution_count": 58,
   "metadata": {},
   "outputs": [],
   "source": [
    "def pdf_to_text(path):\n",
    "    rsrcmgr = PDFResourceManager()\n",
    "    retstr = StringIO()\n",
    "    layout = LAParams() \n",
    "    device = TextConverter(rsrcmgr, retstr, laparams=layout)    \n",
    "    filepath = open(path, 'rb')\n",
    "    interpreter = PDFPageInterpreter(rsrcmgr, device)\n",
    "    password = ''\n",
    "    maxpages = 0\n",
    "    caching = True\n",
    "    pagenos=set()\n",
    "    \n",
    "    for page in PDFPage.get_pages(filepath, pagenos, maxpages=maxpages, password=password, caching=caching, check_extractable=True):\n",
    "        interpreter.process_page(page)\n",
    "\n",
    "    text = retstr.getvalue()\n",
    "\n",
    "    filepath.close()\n",
    "    device.close()\n",
    "    retstr.close()\n",
    "    return text"
   ]
  },
  {
   "cell_type": "code",
   "execution_count": 71,
   "metadata": {},
   "outputs": [
    {
     "name": "stdout",
     "output_type": "stream",
     "text": [
      "Rank #1 \t similitud: 48.09 % \t Documento: ../Datos/Infoleg/127596.txt\n",
      "Rank #2 \t similitud: 44.21 % \t Documento: ../Datos/Infoleg/130963.txt\n",
      "Rank #3 \t similitud: 43.16 % \t Documento: ../Datos/Infoleg/130975.txt\n"
     ]
    }
   ],
   "source": [
    "pdf_file = ELECTORAL_DIR + 'A 001-2018 COOPI C MUN CARLOS PAZ GAS.pdf'\n",
    "texto = pdf_to_text(pdf_file)\n",
    "\n",
    "vector = ToktokTokenizer().tokenize(texto)\n",
    "inferred_vector = model.infer_vector(vector)\n",
    "\n",
    "sims = model.docvecs.most_similar([inferred_vector], topn=3)\n",
    "\n",
    "i=0\n",
    "for doc_id, sim in sims:\n",
    "    i+=1\n",
    "    file = df_corpus.iloc[doc_id]['ARCHIVO']\n",
    "    print(f'Rank #{i} \\t similitud: {sim*100:.2f} % \\t Documento: {file}')"
   ]
  },
  {
   "cell_type": "markdown",
   "metadata": {},
   "source": [
    " ----------------------------------------------------------------------------------------------------------"
   ]
  },
  {
   "cell_type": "markdown",
   "metadata": {
    "colab_type": "text",
    "id": "i-uk_AAf5MSL"
   },
   "source": [
    "## Conclusiones\n",
    "\n",
    "No encontramos los resultados esperados. Esto puede ser debido a que entrenamos el modelo con pocos documentos, o porque utilizamos solamente los hiperparámetros que vienen vienen por defecto."
   ]
  },
  {
   "cell_type": "markdown",
   "metadata": {},
   "source": [
    " ----------------------------------------------------------------------------------------------------------"
   ]
  },
  {
   "cell_type": "markdown",
   "metadata": {},
   "source": [
    "### Entrega"
   ]
  },
  {
   "cell_type": "markdown",
   "metadata": {},
   "source": [
    "Formato de entrega: Deberán utilizar esta notebook con los códigos con los que hicieron el análisis y los anaálisis y conclusiones despues de cada proceso. \n",
    "\n",
    "Fecha de entrega: 27/9"
   ]
  },
  {
   "cell_type": "markdown",
   "metadata": {},
   "source": [
    " ----------------------------------------------------------------------------------------------------------"
   ]
  },
  {
   "cell_type": "markdown",
   "metadata": {
    "colab_type": "text",
    "id": "i-uk_AAf5MSL"
   },
   "source": [
    "### Referencias"
   ]
  },
  {
   "cell_type": "markdown",
   "metadata": {},
   "source": [
    "* https://www.machinelearningplus.com/nlp/gensim-tutorial/"
   ]
  },
  {
   "cell_type": "markdown",
   "metadata": {},
   "source": [
    "* https://www.machinelearningplus.com/nlp/topic-modeling-gensim-python/#4whatdoesldado "
   ]
  },
  {
   "cell_type": "markdown",
   "metadata": {},
   "source": [
    "* https://radimrehurek.com/gensim/models/doc2vec.html"
   ]
  },
  {
   "cell_type": "code",
   "execution_count": null,
   "metadata": {},
   "outputs": [],
   "source": []
  }
 ],
 "metadata": {
  "kernelspec": {
   "display_name": "Python 3",
   "language": "python",
   "name": "python3"
  },
  "language_info": {
   "codemirror_mode": {
    "name": "ipython",
    "version": 3
   },
   "file_extension": ".py",
   "mimetype": "text/x-python",
   "name": "python",
   "nbconvert_exporter": "python",
   "pygments_lexer": "ipython3",
   "version": "3.8.5"
  },
  "output_auto_scroll": true,
  "widgets": {
   "application/vnd.jupyter.widget-state+json": {
    "state": {},
    "version_major": 2,
    "version_minor": 0
   }
  }
 },
 "nbformat": 4,
 "nbformat_minor": 4
}
