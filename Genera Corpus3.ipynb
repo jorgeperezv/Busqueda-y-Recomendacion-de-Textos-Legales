{
 "cells": [
  {
   "cell_type": "code",
   "execution_count": 1,
   "metadata": {
    "colab": {},
    "colab_type": "code",
    "id": "mGwfyxCGCukC"
   },
   "outputs": [],
   "source": [
    "import sys\n",
    "import os\n",
    "import pandas"
   ]
  },
  {
   "cell_type": "code",
   "execution_count": 2,
   "metadata": {
    "colab": {
     "base_uri": "https://localhost:8080/",
     "height": 120
    },
    "colab_type": "code",
    "executionInfo": {
     "elapsed": 24599,
     "status": "ok",
     "timestamp": 1597154981909,
     "user": {
      "displayName": "Jorge Pérez Villella",
      "photoUrl": "",
      "userId": "05752208885034813709"
     },
     "user_tz": 180
    },
    "id": "uR9omwMkD5oB",
    "outputId": "c2886714-6799-48da-84e4-eb31bf6e5876"
   },
   "outputs": [],
   "source": [
    "# Se verfica entorno de ejecución\n",
    "in_colab = \"google.colab\" in sys.modules\n",
    "\n",
    "if in_colab:\n",
    "    from google.colab import drive\n",
    "\n",
    "    drive.mount(\"/content/drive\")\n",
    "    BASE_DIR = \"/content/drive/My Drive/Diplo2020 Mentoria/\"\n",
    "    \n",
    "    # Instala pdfminer \n",
    "    !pip install pdfminer\n",
    "else:\n",
    "    BASE_DIR = \"../\""
   ]
  },
  {
   "cell_type": "code",
   "execution_count": 3,
   "metadata": {
    "colab": {},
    "colab_type": "code",
    "id": "beB3iJkhD9O8"
   },
   "outputs": [],
   "source": [
    "train_data_dir = BASE_DIR + \"Datos/Electoral/\"\n",
    "train_data = BASE_DIR + \"Corpus3.cor\""
   ]
  },
  {
   "cell_type": "markdown",
   "metadata": {
    "colab_type": "text",
    "id": "ovAqiXMzFTTF"
   },
   "source": [
    "# Función para obtener las lista de documentos de jurisprudencia para procesar"
   ]
  },
  {
   "cell_type": "code",
   "execution_count": 4,
   "metadata": {
    "colab": {},
    "colab_type": "code",
    "id": "YmVlHU7n6PH7"
   },
   "outputs": [],
   "source": [
    "def getListOfFilesJurisprudencia(dirName):\n",
    "    # create a list of file and sub directories \n",
    "    # names in the given directory \n",
    "    listOfFile = os.listdir(dirName)\n",
    "    allFiles = list()\n",
    "    # Iterate over all the entries\n",
    "    for entry in listOfFile:\n",
    "        # Create full path\n",
    "        fullPath = dirName + '/' + entry\n",
    "        tipo = 'SENTENCIA'\n",
    "        if entry[0] == 'A':\n",
    "          tipo = 'AUTO'\n",
    "        # If entry is a directory then get the list of files in this directory \n",
    "        if os.path.isdir(fullPath):\n",
    "            allFiles = allFiles + getListOfFilesJurisprudencia(fullPath)\n",
    "        else:\n",
    "            allFiles.append([fullPath, tipo])\n",
    "                \n",
    "    return allFiles"
   ]
  },
  {
   "cell_type": "markdown",
   "metadata": {
    "colab_type": "text",
    "id": "o8BYu0ZC6Zwk"
   },
   "source": [
    "# Función para leer PDF"
   ]
  },
  {
   "cell_type": "code",
   "execution_count": 5,
   "metadata": {
    "colab": {
     "base_uri": "https://localhost:8080/",
     "height": 233
    },
    "colab_type": "code",
    "executionInfo": {
     "elapsed": 33678,
     "status": "ok",
     "timestamp": 1597155091697,
     "user": {
      "displayName": "Jorge Pérez Villella",
      "photoUrl": "",
      "userId": "05752208885034813709"
     },
     "user_tz": 180
    },
    "id": "WQwl9x1PEOHj",
    "outputId": "88f4c1c7-9f81-494f-ebe4-8f38f3d5667c"
   },
   "outputs": [],
   "source": [
    "from pdfminer.pdfinterp import PDFResourceManager, PDFPageInterpreter\n",
    "from pdfminer.converter import TextConverter\n",
    "from pdfminer.layout import LAParams\n",
    "from pdfminer.pdfpage import PDFPage\n",
    "from io import StringIO"
   ]
  },
  {
   "cell_type": "code",
   "execution_count": 6,
   "metadata": {
    "colab": {},
    "colab_type": "code",
    "id": "UkxQtc4hFdxx"
   },
   "outputs": [],
   "source": [
    "def pdf_to_text(path):\n",
    "    rsrcmgr = PDFResourceManager()\n",
    "    retstr = StringIO()\n",
    "    layout = LAParams() \n",
    "    device = TextConverter(rsrcmgr, retstr, laparams=layout)    \n",
    "    filepath = open(path, 'rb')\n",
    "    interpreter = PDFPageInterpreter(rsrcmgr, device)\n",
    "    password = ''\n",
    "    maxpages = 0\n",
    "    caching = True\n",
    "    pagenos=set()\n",
    "    \n",
    "    for page in PDFPage.get_pages(filepath, pagenos, maxpages=maxpages, password=password, caching=caching, check_extractable=True):\n",
    "        interpreter.process_page(page)\n",
    "\n",
    "    text = retstr.getvalue()\n",
    "\n",
    "    filepath.close()\n",
    "    device.close()\n",
    "    retstr.close()\n",
    "    return text"
   ]
  },
  {
   "cell_type": "markdown",
   "metadata": {
    "colab_type": "text",
    "id": "eQh8JgdE6Ca9"
   },
   "source": [
    "# Función de normalización"
   ]
  },
  {
   "cell_type": "code",
   "execution_count": 7,
   "metadata": {
    "colab": {
     "base_uri": "https://localhost:8080/",
     "height": 83
    },
    "colab_type": "code",
    "executionInfo": {
     "elapsed": 2528,
     "status": "ok",
     "timestamp": 1597156679986,
     "user": {
      "displayName": "Jorge Pérez Villella",
      "photoUrl": "",
      "userId": "05752208885034813709"
     },
     "user_tz": 180
    },
    "id": "mcapY0oS5_dN",
    "outputId": "32cdab0d-30c4-460c-b413-b0e27575b825"
   },
   "outputs": [
    {
     "name": "stderr",
     "output_type": "stream",
     "text": [
      "[nltk_data] Downloading package stopwords to\n",
      "[nltk_data]     C:\\Users\\jperezv\\AppData\\Roaming\\nltk_data...\n",
      "[nltk_data]   Package stopwords is already up-to-date!\n",
      "[nltk_data] Downloading package wordnet to\n",
      "[nltk_data]     C:\\Users\\jperezv\\AppData\\Roaming\\nltk_data...\n",
      "[nltk_data]   Package wordnet is already up-to-date!\n"
     ]
    }
   ],
   "source": [
    "import nltk\n",
    "nltk.download('stopwords')\n",
    "from nltk.corpus import stopwords\n",
    "from nltk.tokenize import word_tokenize\n",
    "from nltk.tokenize.toktok import ToktokTokenizer\n",
    "nltk.download('wordnet')\n",
    "from nltk.stem import WordNetLemmatizer"
   ]
  },
  {
   "cell_type": "code",
   "execution_count": 8,
   "metadata": {
    "colab": {},
    "colab_type": "code",
    "id": "xGBL-esC5RSJ"
   },
   "outputs": [],
   "source": [
    "def normalize_text(text):\n",
    "  # Tokenización\n",
    "  tokenizador = ToktokTokenizer()\n",
    "  tokens = tokenizador.tokenize(text)\n",
    "\n",
    "  # Paso a minúscula\n",
    "  tokens = [word.lower() for word in tokens]\n",
    "\n",
    "  # Eliminamos símbolos de puntuación\n",
    "  tokens = list(filter(lambda token: nltk.tokenize.punkt.PunktToken(token).is_non_punct, tokens)) \n",
    "\n",
    "  # Eliminamos stopwords\n",
    "  tokens = list(filter(lambda token: token not in stopwords.words('spanish'), tokens)) \n",
    "\n",
    "  # Sustituir palabras con demasiada variabilidad (p.ej. números)\n",
    "  dic_Igualdades = {'nro.':'nro', 'n°':'nro', 'n.°':'nro', 'nº':'nro', 'n.º':'nro', 'n.':'nro', 'art.':'artículo', 'articulo':'artículo'}\n",
    "  for i in range(len(tokens)):    \n",
    "      for key in dic_Igualdades:\n",
    "          if tokens[i] == key:\n",
    "              tokens[i] = dic_Igualdades[key]\n",
    "\n",
    "  # Lemmatización\n",
    "  lemmatizer = WordNetLemmatizer()\n",
    "  tokens = [lemmatizer.lemmatize(word) for word in tokens]\n",
    "\n",
    "  return ' '.join(tokens)"
   ]
  },
  {
   "cell_type": "markdown",
   "metadata": {
    "colab_type": "text",
    "id": "S99DgfYs_S-5"
   },
   "source": [
    "# Genero el corpus"
   ]
  },
  {
   "cell_type": "code",
   "execution_count": 11,
   "metadata": {
    "colab": {
     "base_uri": "https://localhost:8080/",
     "height": 33
    },
    "colab_type": "code",
    "executionInfo": {
     "elapsed": 3031,
     "status": "ok",
     "timestamp": 1597157250037,
     "user": {
      "displayName": "Jorge Pérez Villella",
      "photoUrl": "",
      "userId": "05752208885034813709"
     },
     "user_tz": 180
    },
    "id": "dvsJzEOAFuS4",
    "outputId": "2e43a453-837f-48fe-9931-879b1e268a4b"
   },
   "outputs": [
    {
     "name": "stdout",
     "output_type": "stream",
     "text": [
      "Cantidad de archivos a importar: 151\n"
     ]
    }
   ],
   "source": [
    "listOfFileJurisprudencia = getListOfFilesJurisprudencia(train_data_dir)\n",
    "print('Cantidad de archivos a importar:', len(listOfFileJurisprudencia))    "
   ]
  },
  {
   "cell_type": "code",
   "execution_count": 12,
   "metadata": {
    "colab": {},
    "colab_type": "code",
    "id": "03Uqp7fUFo4B"
   },
   "outputs": [],
   "source": [
    "doc = listOfFileJurisprudencia[1:2]"
   ]
  },
  {
   "cell_type": "code",
   "execution_count": 13,
   "metadata": {
    "colab": {
     "base_uri": "https://localhost:8080/",
     "height": 35
    },
    "colab_type": "code",
    "executionInfo": {
     "elapsed": 1920,
     "status": "ok",
     "timestamp": 1597159801847,
     "user": {
      "displayName": "Jorge Pérez Villella",
      "photoUrl": "",
      "userId": "05752208885034813709"
     },
     "user_tz": 180
    },
    "id": "JFFvXnZRH6Kk",
    "outputId": "1bf4fb7b-ae57-4aae-c7ea-44e86dfe1fc1"
   },
   "outputs": [
    {
     "data": {
      "text/plain": [
       "'AUTO'"
      ]
     },
     "execution_count": 13,
     "metadata": {},
     "output_type": "execute_result"
    }
   ],
   "source": [
    "texto = pdf_to_text(doc[0][0])\n",
    "tipo = doc[0][1]\n",
    "tipo"
   ]
  },
  {
   "cell_type": "code",
   "execution_count": 14,
   "metadata": {
    "colab": {
     "base_uri": "https://localhost:8080/",
     "height": 53
    },
    "colab_type": "code",
    "executionInfo": {
     "elapsed": 2223,
     "status": "ok",
     "timestamp": 1597159701639,
     "user": {
      "displayName": "Jorge Pérez Villella",
      "photoUrl": "",
      "userId": "05752208885034813709"
     },
     "user_tz": 180
    },
    "id": "z29opu6rIZ7i",
    "outputId": "dc919e7b-d963-45db-9120-181695c1cf88"
   },
   "outputs": [
    {
     "name": "stdout",
     "output_type": "stream",
     "text": [
      "sala electoral comp.originaria tribunal superior protocolo auto nro resolución 2 año 2018 tomo 1 folio 6-8 expediente 3412648 denuncia formulada roberto roque ramirez cuestion competencia denuncia formulada auto numero 2. cordoba vistos auto caratulados denuncia formulada roberto roque ramirez cuestion competencia expte. n 3412648 traídos despacho fine resolver presunto conflicto competencia surgido juzgado control niñez juventud faltas secretaría control faltas río tercero juzgado electoral provincia 1 ciudadano comuna general fotheringham dn. roberto roque ramírez formuló denuncia presidente comunal señor daniel aurelio stobbia alegando último viviría pueblo llevaría ejerciendo cuarto mandato tal conducta criterio denunciante encuadraría artículo 248 código penal cfr. fs. vta. 2 señora fiscal instrucción primer turno segunda nominación ciudad río tercero mediante proveído fecha 7 octubre 2016 fundándose características supuesto hecho delictivo entiende corresponde régimen electoral alegando criterio distribución competencia razón materia considera correspondería justicia electoral provincial investigación hechos motivantes presentes actuaciones conformidad artículo 42 concordantes código procesal penal cpp tal razón requiere juez control sede judicial cfr. fs. 16/16vta. 5/5vta. respectivamente declare incompetencia material dicha fiscalía instrucción remita causa justicia electoral código electoral ley nro 9571 arts. 41 cc. cpp mencionado magistrado tras analizar pedido formulado fiscal instrucción entiende mismo ajusta derecho resuelve hacerle lugar tratarse cuestión índole electoral declarando expediente nro 3412648 1 6 incompetencia material fiscalía instrucción primer turno segunda nominación río tercero razón materia cfr. ai nro 124 fecha fs. 17/17vta. 3 remitido juzgado electoral f. 21 éste resuelve avocamiento entender términos escritos denunciante obrantes fs. vta. surgiría ab initio hechos denunciados penalmente tipificados artículo 248 código penal encuadraren competencia asignada ley nro 8643 creación juzgado electoral determinada taxativamente artículo 4. consecuencia resuelve devolver causa juez remitente cfr. fs. 4 receptadas actuaciones juzgado control niñez juventud penal juvenil f. 23vta. titular ratifica oportunamente resuelto mediante auto interlocutorio nro 124 fs. 17/17vta. decidiendo remitir presentes actuaciones tribunal superior f. 24 dejando planteada así cuestión competencia. 5 vez recibidas presentes actuados sede f. 21 presunto conflicto negativo competencia corrió traslado señor fiscal general provincia evacua mediante dictamen nro 119 fecha pronunciándose corresponde remisión presentes auto representante ministerio público fiscal involucrado contienda negativa competencia fs. 26/28vta. 6 posteriormente dictum decreto auto f. 29 deja causa ser resuelta. considerando i. competencia tribunal superior justicia artículo 165 constitución provincial inciso primero apartado b -segundo supuesto- habilita máximo órgano jurisdiccional local conocer resolver originaria exclusivamente pleno cuestiones competencia susciten tribunales inferiores salvo éstos superior común. auto plantea conflicto negativo competencia juzgado control niñez juventud faltas río tercero -a requerimiento fiscalía instrucción misma ciudad- expediente nro 3412648 2 6 juzgado electoral provincial relación determinación organismo jurisdiccional deberá intervenir denuncia formulada ciudadano roberto roque ramírez. consecuencia ello toda vez tribunales involucrados carecen superior común corresponde cuerpo dirimir contienda suscitada. ii. intervención ministerio público fiscal previo adentrarnos análisis cuestión competencia traída consideración corresponde advertir oportunidad declarar incompetencia juzgado electoral interviniente omitido requerir opinión ministerio público carácter custodio jurisdicción competencia tribunales provinciales debía expedirse respecto artículo 172 inc. 2 cp artículo 9 inc. 2 ley nro 7826 obstante falencia señalada evitar dispendio procesal pueda derivar demora desarrollo actividad judicial atento naturaleza cuestión debatida intervención ministerio público verificado mediante vista evacuada señor fiscal adjunto provincia dictamen nro 119 fs. 26/28vta. estima conveniente tribunal superior pronuncie dilación respecto controversia suscitada relación determinación órgano jurisdiccional debe abocarse conocimiento presentes obrados. iii. doctrina tribunal superior justicia resolución misma requiere primer lugar inexorablemente revisar competencia juzgado electoral provincial intervenir procedimiento aplicable presunta comisión delitos electorales artículo 4 inc. 2 ley nro 8643 modif. labor exegética desarrollada gran parte tribunal causa “abrego 1 dicho fallo sostuvo juzgado electoral provincial resulta incompetente intervenir etapa investigación penal preparatoria -aun mismo sustancie presunta comisión supuesto delito electoral- cuanto competencia funcional corresponde tribunal sentencia juicio correccional artículo 414 cpp remisión artículo 7 ley nro 8643 creación juzgado electoral provincial concordancia dispuesto artículo 4 inc. 2 expediente nro 3412648 3 6 última efecto código electoral provincial -ley nro 9571 modif.- dispone artículo 160 “los delitos faltas electorales sustancian conforme procedimiento regulado código procesal penal siendo recurribles casos vías previstas dicho cuerpo legal integración exegética tale disposiciones permite concluir legislador querido sustraer juzgamiento delitos índole electoral conocimiento cámaras crimen estableciendo tal situaciones excepción previstas artículo 34 cpp refiere “los delitos cuyo conocimiento atribuya tribunal puesto sido asignados tribunal especial conformado juez electoral provincial conclusión ésta ve fortalecida expresión utilizada redacción inciso segundo artículo cuatro ley nro 8643 legislador dispone “el juez electoral resolverá 2. delitos faltas electorales razonado precedentemente deriva juzgado electoral resulta incompetente intervenir etapa proceso consta auto llevado adelante investigación penal preparatoria pertinente dé base acusación alguna fundamento delitos tipificados capítulo ii título vi código electoral nacional conforme dispuesto artículo 158 código electoral provincial ley nro 9571 modif. debiendo consecuentemente remitir causa fiscalía instrucción primer turno segunda nominación ciudad río tercero efectos sustancie denuncia cuestión llevando adelante investigación penal preparatoria marco constitucional garantías vigentes. juzgado electoral -reiteramos- sólo asume competencia materia fine juicio ma investigación penal preliminar. corresponde fiscal instrucción realice investigación penal preparatoria ser pertinente formule elevación causa juicio acuerdo pautas código procedimiento local. tal aludido artículo160 código electoral local ley nro 9571 modif. meridiana claridad señala “los delitos faltas electorales sustancian conforme procedimiento regulado código procesal penal expediente nro 3412648 4 6 iv. hecho denunciado posible encuadramiento penal allá mencionada doctrina tribunal materia delitos faltas electorales cabe destacar caso auto hecho cuya investigación requiere denunciante radica hipotética violación artículo 13 constitución provincial mismo entiende tal conducta podría comprendida varias tipificadas abuso autoridad violación deberes funcionario público código penal libro segundo título xi delitos administración pública artículo 248 claridad conceptos vertidos denuncia -y aquí brevemente reseñados- eximen llevar adelante mayor argumentación resultar innecesaria correspondiendo concluir representante ministerio público fiscal deberá abocarse sustanciar investigación penal preparatoria fine verificar pertinencia ello acuerdo dictaminado señor fiscal adjunto provincia denuncia cuestión. dictamen nro 119 resuelve i. declarar presente causa debe entender fiscal instrucción primer turno segunda nominación ciudad río tercero cuyo fin deberán remitírsele obrados. ii. notificar juzgado control niñez juventud penal juvenil faltas secretaría control faltas río tercero juzgado electoral provincia fiscalía general provincia. protocolícese hágase saber dese copia bajen. 1 cfr. secretaría electoral competencia originaria sentencia nro 4 expediente nro 3412648 5 6 tarditti aida lucia teresa vocal tribunal superior justicia sesin domingo juan rubio luis enrique vocal tribunal superior justicia vocal tribunal superior justicia blanc gerzicich arabel maria mercedes caceres bollati maría marta vocal tribunal superior justicia vocal tribunal superior justicia lopez peña sebastián cruz vocal tribunal superior justicia ferrer vieyra daniel ernesto vocal camara expediente nro 3412648 6 6\n"
     ]
    }
   ],
   "source": [
    "texto_norm = normalize_text(texto)\n",
    "print(texto_norm)"
   ]
  },
  {
   "cell_type": "code",
   "execution_count": 15,
   "metadata": {
    "colab": {},
    "colab_type": "code",
    "id": "l-_fP6miGFlR"
   },
   "outputs": [],
   "source": [
    "corpus3 = []\n",
    "for file in listOfFileJurisprudencia:\n",
    "  if file[0].endswith(\".pdf\"):\n",
    "    texto = normalize_text(pdf_to_text(file[0]))\n",
    "    corpus3.append([texto, file[0], file[1]])\n"
   ]
  },
  {
   "cell_type": "code",
   "execution_count": 16,
   "metadata": {
    "colab": {},
    "colab_type": "code",
    "id": "MWKVglrBHs7T"
   },
   "outputs": [],
   "source": [
    "df_corpus3 = pandas.DataFrame(corpus3,columns=['TEXTO','DOCUMENTO','TIPO'])"
   ]
  },
  {
   "cell_type": "code",
   "execution_count": 17,
   "metadata": {
    "colab": {
     "base_uri": "https://localhost:8080/",
     "height": 197
    },
    "colab_type": "code",
    "executionInfo": {
     "elapsed": 611,
     "status": "ok",
     "timestamp": 1597161134297,
     "user": {
      "displayName": "Jorge Pérez Villella",
      "photoUrl": "",
      "userId": "05752208885034813709"
     },
     "user_tz": 180
    },
    "id": "XhR6HWHYOEQ7",
    "outputId": "90144bde-9982-4b8b-f731-c0134f98c3f6"
   },
   "outputs": [
    {
     "data": {
      "text/html": [
       "<div>\n",
       "<style scoped>\n",
       "    .dataframe tbody tr th:only-of-type {\n",
       "        vertical-align: middle;\n",
       "    }\n",
       "\n",
       "    .dataframe tbody tr th {\n",
       "        vertical-align: top;\n",
       "    }\n",
       "\n",
       "    .dataframe thead th {\n",
       "        text-align: right;\n",
       "    }\n",
       "</style>\n",
       "<table border=\"1\" class=\"dataframe\">\n",
       "  <thead>\n",
       "    <tr style=\"text-align: right;\">\n",
       "      <th></th>\n",
       "      <th>TEXTO</th>\n",
       "      <th>DOCUMENTO</th>\n",
       "      <th>TIPO</th>\n",
       "    </tr>\n",
       "  </thead>\n",
       "  <tbody>\n",
       "    <tr>\n",
       "      <th>0</th>\n",
       "      <td>sala electoral comp.originaria tribunal superi...</td>\n",
       "      <td>../Datos/Electoral//A 001-2018 COOPI C MUN CAR...</td>\n",
       "      <td>AUTO</td>\n",
       "    </tr>\n",
       "    <tr>\n",
       "      <th>1</th>\n",
       "      <td>sala electoral comp.originaria tribunal superi...</td>\n",
       "      <td>../Datos/Electoral//A 002-2018 Denuncia R R RA...</td>\n",
       "      <td>AUTO</td>\n",
       "    </tr>\n",
       "    <tr>\n",
       "      <th>2</th>\n",
       "      <td>sala electoral comp.originaria tribunal superi...</td>\n",
       "      <td>../Datos/Electoral//A 003-2018 VEDIA FLORES Cr...</td>\n",
       "      <td>AUTO</td>\n",
       "    </tr>\n",
       "    <tr>\n",
       "      <th>3</th>\n",
       "      <td>sala electoral comp.originaria tribunal superi...</td>\n",
       "      <td>../Datos/Electoral//A 004-2018 FERNANDEZ Favio...</td>\n",
       "      <td>AUTO</td>\n",
       "    </tr>\n",
       "    <tr>\n",
       "      <th>4</th>\n",
       "      <td>sala electoral comp.originaria tribunal superi...</td>\n",
       "      <td>../Datos/Electoral//A 005-2018 ATANOR ADI ref.pdf</td>\n",
       "      <td>AUTO</td>\n",
       "    </tr>\n",
       "  </tbody>\n",
       "</table>\n",
       "</div>"
      ],
      "text/plain": [
       "                                               TEXTO  \\\n",
       "0  sala electoral comp.originaria tribunal superi...   \n",
       "1  sala electoral comp.originaria tribunal superi...   \n",
       "2  sala electoral comp.originaria tribunal superi...   \n",
       "3  sala electoral comp.originaria tribunal superi...   \n",
       "4  sala electoral comp.originaria tribunal superi...   \n",
       "\n",
       "                                           DOCUMENTO  TIPO  \n",
       "0  ../Datos/Electoral//A 001-2018 COOPI C MUN CAR...  AUTO  \n",
       "1  ../Datos/Electoral//A 002-2018 Denuncia R R RA...  AUTO  \n",
       "2  ../Datos/Electoral//A 003-2018 VEDIA FLORES Cr...  AUTO  \n",
       "3  ../Datos/Electoral//A 004-2018 FERNANDEZ Favio...  AUTO  \n",
       "4  ../Datos/Electoral//A 005-2018 ATANOR ADI ref.pdf  AUTO  "
      ]
     },
     "execution_count": 17,
     "metadata": {},
     "output_type": "execute_result"
    }
   ],
   "source": [
    "df_corpus3.head()"
   ]
  },
  {
   "cell_type": "code",
   "execution_count": 18,
   "metadata": {
    "colab": {},
    "colab_type": "code",
    "id": "GlKpAX5eW5W-"
   },
   "outputs": [],
   "source": [
    "df_corpus3.to_csv(BASE_DIR + \"corpus3.csv\")"
   ]
  },
  {
   "cell_type": "code",
   "execution_count": null,
   "metadata": {
    "colab": {},
    "colab_type": "code",
    "id": "8kbEjEMJONYy"
   },
   "outputs": [],
   "source": []
  }
 ],
 "metadata": {
  "colab": {
   "authorship_tag": "ABX9TyMRcxn3WOeIP71IhNYrJF62",
   "collapsed_sections": [],
   "name": "Genera Corpus3.ipynb",
   "provenance": []
  },
  "kernelspec": {
   "display_name": "Python [conda env:mentoria] *",
   "language": "python",
   "name": "conda-env-mentoria-py"
  },
  "language_info": {
   "codemirror_mode": {
    "name": "ipython",
    "version": 3
   },
   "file_extension": ".py",
   "mimetype": "text/x-python",
   "name": "python",
   "nbconvert_exporter": "python",
   "pygments_lexer": "ipython3",
   "version": "3.8.5"
  }
 },
 "nbformat": 4,
 "nbformat_minor": 4
}
